{
  "nbformat": 4,
  "nbformat_minor": 0,
  "metadata": {
    "colab": {
      "provenance": [],
      "collapsed_sections": []
    },
    "kernelspec": {
      "name": "python3",
      "display_name": "Python 3"
    },
    "language_info": {
      "name": "python"
    }
  },
  "cells": [
    {
      "cell_type": "markdown",
      "source": [
        "# BA870 Individual Project\n",
        "## Name: Yesol Lee\n",
        "## Email: yesollee@bu.edu"
      ],
      "metadata": {
        "id": "SOEb4EO81orY"
      }
    },
    {
      "cell_type": "markdown",
      "source": [
        "The goal of this project is to use data analytics in finance domain. In this project, I will use and manipulate various data collected from WRDS to analyze companies's performance in the beginning of 2022."
      ],
      "metadata": {
        "id": "hYNBloRF7fMi"
      }
    },
    {
      "cell_type": "code",
      "execution_count": null,
      "metadata": {
        "id": "x18M4o-NKexo",
        "colab": {
          "base_uri": "https://localhost:8080/"
        },
        "outputId": "e29cd9aa-3c2d-42c5-9d32-2e11f4bb0ed4"
      },
      "outputs": [
        {
          "output_type": "stream",
          "name": "stderr",
          "text": [
            "/usr/local/lib/python3.7/dist-packages/statsmodels/tools/_testing.py:19: FutureWarning: pandas.util.testing is deprecated. Use the functions in the public API at pandas.testing instead.\n",
            "  import pandas.util.testing as tm\n"
          ]
        }
      ],
      "source": [
        "import pandas as pd\n",
        "import numpy as np\n",
        "import matplotlib.pyplot as plt\n",
        "import seaborn as sns\n",
        "\n",
        "# machine learning packages used in imputation stage\n",
        "from sklearn.model_selection import train_test_split\n",
        "from sklearn.metrics import r2_score\n",
        "from sklearn.linear_model import LinearRegression\n",
        "from sklearn.ensemble import RandomForestRegressor\n",
        "\n",
        "# regression for financial analysis\n",
        "import statsmodels.api as sm\n",
        "\n",
        "# winsorize to handle outliers in financial ratios\n",
        "from scipy.stats.mstats import winsorize\n",
        "\n",
        "# ignore warnings\n",
        "import warnings\n",
        "warnings.filterwarnings(\"ignore\")"
      ]
    },
    {
      "cell_type": "code",
      "source": [
        "# load necessary datasets\n",
        "\n",
        "# ProjectTickers data which has our target variable, RetYTD\n",
        "target = pd.read_csv(\"/content/ProjectTickers.csv\")\n",
        "\n",
        "# 5 years monthly Fama French Risk Factors (2017-2021)\n",
        "ff_factors = pd.read_csv(\"/content/Project-2017-21-FF Risk Factors.csv\")\n",
        "\n",
        "# 5 years of monthly stock return (2017-2021)\n",
        "returns = pd.read_csv(\"/content/Project-2017-21-Returns.csv\")\n",
        "\n",
        "# financial statmenet data (2021)\n",
        "financials = pd.read_csv(\"/content/Project-2021-Financials.csv\")\n",
        "\n",
        "# GICS industry group data (2021)\n",
        "industry = pd.read_csv(\"/content/Project-2021-Sector.csv\")"
      ],
      "metadata": {
        "id": "GgYbah9ZKp1H"
      },
      "execution_count": null,
      "outputs": []
    },
    {
      "cell_type": "markdown",
      "source": [
        "# Data Overview"
      ],
      "metadata": {
        "id": "SGJUIzwSUVM4"
      }
    },
    {
      "cell_type": "markdown",
      "source": [
        "## Target\n",
        "* Ticker: ticker name\n",
        "* Name: Company name\n",
        "* RetYTD: Return between January 1st 2022 to April 14th 2022"
      ],
      "metadata": {
        "id": "f-dzKJDYeu1B"
      }
    },
    {
      "cell_type": "code",
      "source": [
        "# check data information\n",
        "target.info()"
      ],
      "metadata": {
        "colab": {
          "base_uri": "https://localhost:8080/"
        },
        "id": "56VCKmk4dLYj",
        "outputId": "55fd6351-35a9-4efa-ddd8-7de168fb0506"
      },
      "execution_count": null,
      "outputs": [
        {
          "output_type": "stream",
          "name": "stdout",
          "text": [
            "<class 'pandas.core.frame.DataFrame'>\n",
            "RangeIndex: 1886 entries, 0 to 1885\n",
            "Data columns (total 3 columns):\n",
            " #   Column  Non-Null Count  Dtype  \n",
            "---  ------  --------------  -----  \n",
            " 0   Ticker  1886 non-null   object \n",
            " 1   Name    1886 non-null   object \n",
            " 2   RetYTD  1886 non-null   float64\n",
            "dtypes: float64(1), object(2)\n",
            "memory usage: 44.3+ KB\n"
          ]
        }
      ]
    },
    {
      "cell_type": "code",
      "source": [
        "# check missing values\n",
        "target.isna().sum()"
      ],
      "metadata": {
        "colab": {
          "base_uri": "https://localhost:8080/"
        },
        "id": "ibU1VJqodRuY",
        "outputId": "1e9f0bf6-7405-4ca4-87ec-e064d5460577"
      },
      "execution_count": null,
      "outputs": [
        {
          "output_type": "execute_result",
          "data": {
            "text/plain": [
              "Ticker    0\n",
              "Name      0\n",
              "RetYTD    0\n",
              "dtype: int64"
            ]
          },
          "metadata": {},
          "execution_count": 4
        }
      ]
    },
    {
      "cell_type": "code",
      "source": [
        "# check the number of unique ticker\n",
        "target.Ticker.nunique()"
      ],
      "metadata": {
        "colab": {
          "base_uri": "https://localhost:8080/"
        },
        "id": "h_45IuGZ-919",
        "outputId": "f1689dd2-1e25-48d8-d344-6087f290505e"
      },
      "execution_count": null,
      "outputs": [
        {
          "output_type": "execute_result",
          "data": {
            "text/plain": [
              "1886"
            ]
          },
          "metadata": {},
          "execution_count": 5
        }
      ]
    },
    {
      "cell_type": "markdown",
      "source": [
        "The goal of this project is to predict stock return of 1886 companies in 2022. 01. 01 ~ 2022. 04. 15. The target variable is RetYTD."
      ],
      "metadata": {
        "id": "vO3u3Fkd858b"
      }
    },
    {
      "cell_type": "markdown",
      "source": [
        "## Fama French Factors\n",
        "* dateff: date\n",
        "* mktrf: market return\n",
        "* smb: size risk factor\n",
        "* hml: value risk factor\n",
        "* rf: risk free return"
      ],
      "metadata": {
        "id": "Fj7JoXNsUcqv"
      }
    },
    {
      "cell_type": "code",
      "source": [
        "# check the data information\n",
        "# monthly FF factor data for 5 years\n",
        "ff_factors.info()"
      ],
      "metadata": {
        "colab": {
          "base_uri": "https://localhost:8080/"
        },
        "id": "IaCH43pbK18o",
        "outputId": "4dc08396-dca1-44cf-b5a8-a612cee9d558"
      },
      "execution_count": null,
      "outputs": [
        {
          "output_type": "stream",
          "name": "stdout",
          "text": [
            "<class 'pandas.core.frame.DataFrame'>\n",
            "RangeIndex: 60 entries, 0 to 59\n",
            "Data columns (total 5 columns):\n",
            " #   Column  Non-Null Count  Dtype  \n",
            "---  ------  --------------  -----  \n",
            " 0   dateff  60 non-null     int64  \n",
            " 1   mktrf   60 non-null     float64\n",
            " 2   smb     60 non-null     float64\n",
            " 3   hml     60 non-null     float64\n",
            " 4   rf      60 non-null     float64\n",
            "dtypes: float64(4), int64(1)\n",
            "memory usage: 2.5 KB\n"
          ]
        }
      ]
    },
    {
      "cell_type": "code",
      "source": [
        "# check the missing values\n",
        "ff_factors.isna().sum()"
      ],
      "metadata": {
        "colab": {
          "base_uri": "https://localhost:8080/"
        },
        "id": "9JucIOwmLFAX",
        "outputId": "75f99a50-bcdc-4c39-c412-ff76046b5061"
      },
      "execution_count": null,
      "outputs": [
        {
          "output_type": "execute_result",
          "data": {
            "text/plain": [
              "dateff    0\n",
              "mktrf     0\n",
              "smb       0\n",
              "hml       0\n",
              "rf        0\n",
              "dtype: int64"
            ]
          },
          "metadata": {},
          "execution_count": 7
        }
      ]
    },
    {
      "cell_type": "markdown",
      "source": [
        "## Returns\n",
        "* PERMNO: unique identifier of companies\n",
        "* date: measured date\n",
        "* TICKER: ticker name of companies\n",
        "* RET: Monthly return of the stock"
      ],
      "metadata": {
        "id": "HZL3aiLbVFgz"
      }
    },
    {
      "cell_type": "code",
      "source": [
        "# check the data information\n",
        "returns.info()"
      ],
      "metadata": {
        "colab": {
          "base_uri": "https://localhost:8080/"
        },
        "id": "6PfLqVICK6EZ",
        "outputId": "5b1bd708-078f-409b-bd09-e3abcbb1f510"
      },
      "execution_count": null,
      "outputs": [
        {
          "output_type": "stream",
          "name": "stdout",
          "text": [
            "<class 'pandas.core.frame.DataFrame'>\n",
            "RangeIndex: 114715 entries, 0 to 114714\n",
            "Data columns (total 4 columns):\n",
            " #   Column  Non-Null Count   Dtype \n",
            "---  ------  --------------   ----- \n",
            " 0   PERMNO  114715 non-null  int64 \n",
            " 1   date    114715 non-null  int64 \n",
            " 2   TICKER  114653 non-null  object\n",
            " 3   RET     114700 non-null  object\n",
            "dtypes: int64(2), object(2)\n",
            "memory usage: 3.5+ MB\n"
          ]
        }
      ]
    },
    {
      "cell_type": "markdown",
      "source": [
        "We can see that RET column is Object data type. Return of stocks is usually recorded in numeric form. So there is possibility that there are some datapoints has inappropriate records. I will investigate this column and do necessary data cleaning in the next step."
      ],
      "metadata": {
        "id": "2j9oME_7cO2F"
      }
    },
    {
      "cell_type": "code",
      "source": [
        "# check the number of unique ticker\n",
        "returns.TICKER.nunique()"
      ],
      "metadata": {
        "colab": {
          "base_uri": "https://localhost:8080/"
        },
        "id": "Xp3F_OAD9-KA",
        "outputId": "2d481807-f3c8-499f-c78c-969c238f4320"
      },
      "execution_count": null,
      "outputs": [
        {
          "output_type": "execute_result",
          "data": {
            "text/plain": [
              "1924"
            ]
          },
          "metadata": {},
          "execution_count": 9
        }
      ]
    },
    {
      "cell_type": "markdown",
      "source": [
        "The returns data has 1924 unique tickers. There might be some companies chaged ticker symbol due to their business decision such as M&A and so on."
      ],
      "metadata": {
        "id": "E9QmkV_63T7B"
      }
    },
    {
      "cell_type": "code",
      "source": [
        "# checking missing values\n",
        "returns.isna().sum()"
      ],
      "metadata": {
        "colab": {
          "base_uri": "https://localhost:8080/"
        },
        "id": "wjtY4-XPLHSf",
        "outputId": "e0b991e1-c0ff-481c-e086-476e14166a73"
      },
      "execution_count": null,
      "outputs": [
        {
          "output_type": "execute_result",
          "data": {
            "text/plain": [
              "PERMNO     0\n",
              "date       0\n",
              "TICKER    62\n",
              "RET       15\n",
              "dtype: int64"
            ]
          },
          "metadata": {},
          "execution_count": 10
        }
      ]
    },
    {
      "cell_type": "markdown",
      "source": [
        "We can see that there are 62 missing values in TICKER column and 15 in RET column."
      ],
      "metadata": {
        "id": "TwRSpz0i4Jn6"
      }
    },
    {
      "cell_type": "markdown",
      "source": [
        "## Financials\n",
        "* tic: ticker\n",
        "* act: Current Asset - Total\n",
        "* at: Assets - Total\n",
        "* ceq: Common/Ordinary Equity - Total\n",
        "* cogs: Cost of Goods Sold\n",
        "* csho: Common Share Outstanding\n",
        "* invt: Inventories - Total\n",
        "* lct: Current Liability - Total\n",
        "* lt: Liabilities - Total\n",
        "* ni: Net Income\n",
        "* re: retained earning\n",
        "* revt: Revenue - Total\n",
        "* prcc_c: Price Close\n"
      ],
      "metadata": {
        "id": "vEAqwODqVV6z"
      }
    },
    {
      "cell_type": "code",
      "source": [
        "# check data information\n",
        "financials.info()"
      ],
      "metadata": {
        "colab": {
          "base_uri": "https://localhost:8080/"
        },
        "id": "NszkS0p2K71-",
        "outputId": "b8e5bc42-3b07-4c55-92c1-24077dbb47f4"
      },
      "execution_count": null,
      "outputs": [
        {
          "output_type": "stream",
          "name": "stdout",
          "text": [
            "<class 'pandas.core.frame.DataFrame'>\n",
            "RangeIndex: 1886 entries, 0 to 1885\n",
            "Data columns (total 22 columns):\n",
            " #   Column    Non-Null Count  Dtype  \n",
            "---  ------    --------------  -----  \n",
            " 0   gvkey     1886 non-null   int64  \n",
            " 1   datadate  1886 non-null   int64  \n",
            " 2   fyear     1886 non-null   int64  \n",
            " 3   indfmt    1886 non-null   object \n",
            " 4   consol    1886 non-null   object \n",
            " 5   popsrc    1886 non-null   object \n",
            " 6   datafmt   1886 non-null   object \n",
            " 7   tic       1886 non-null   object \n",
            " 8   curcd     1886 non-null   object \n",
            " 9   act       1431 non-null   float64\n",
            " 10  at        1886 non-null   float64\n",
            " 11  ceq       1886 non-null   float64\n",
            " 12  cogs      1886 non-null   float64\n",
            " 13  csho      1886 non-null   float64\n",
            " 14  invt      1852 non-null   float64\n",
            " 15  lct       1431 non-null   float64\n",
            " 16  lt        1881 non-null   float64\n",
            " 17  ni        1886 non-null   float64\n",
            " 18  re        1883 non-null   float64\n",
            " 19  revt      1886 non-null   float64\n",
            " 20  costat    1886 non-null   object \n",
            " 21  prcc_c    1886 non-null   float64\n",
            "dtypes: float64(12), int64(3), object(7)\n",
            "memory usage: 324.3+ KB\n"
          ]
        }
      ]
    },
    {
      "cell_type": "code",
      "source": [
        "# check the number of unique ticker symbol\n",
        "financials.tic.nunique()"
      ],
      "metadata": {
        "colab": {
          "base_uri": "https://localhost:8080/"
        },
        "id": "cLFQ8Jk0-TZ5",
        "outputId": "7b6e0c96-f2cd-4fc4-b7e2-262ae3605e65"
      },
      "execution_count": null,
      "outputs": [
        {
          "output_type": "execute_result",
          "data": {
            "text/plain": [
              "1886"
            ]
          },
          "metadata": {},
          "execution_count": 12
        }
      ]
    },
    {
      "cell_type": "markdown",
      "source": [
        "The financials data match the number of ticker symbols in the target data."
      ],
      "metadata": {
        "id": "j1OuxUK74pNX"
      }
    },
    {
      "cell_type": "code",
      "source": [
        "# check missing values\n",
        "financials.isna().sum()"
      ],
      "metadata": {
        "colab": {
          "base_uri": "https://localhost:8080/"
        },
        "id": "F9kIplLDLBDN",
        "outputId": "8470b21e-d5cd-4f43-d076-01fa8f0f327e"
      },
      "execution_count": null,
      "outputs": [
        {
          "output_type": "execute_result",
          "data": {
            "text/plain": [
              "gvkey         0\n",
              "datadate      0\n",
              "fyear         0\n",
              "indfmt        0\n",
              "consol        0\n",
              "popsrc        0\n",
              "datafmt       0\n",
              "tic           0\n",
              "curcd         0\n",
              "act         455\n",
              "at            0\n",
              "ceq           0\n",
              "cogs          0\n",
              "csho          0\n",
              "invt         34\n",
              "lct         455\n",
              "lt            5\n",
              "ni            0\n",
              "re            3\n",
              "revt          0\n",
              "costat        0\n",
              "prcc_c        0\n",
              "dtype: int64"
            ]
          },
          "metadata": {},
          "execution_count": 13
        }
      ]
    },
    {
      "cell_type": "markdown",
      "source": [
        "There are 455 missing values in current assets and current liabilities columns. Invt, lt, and re columns have considerably few missing values. I will impute these missing values by using accounting rule and machine learning method later on."
      ],
      "metadata": {
        "id": "4QAOhyfp4xwR"
      }
    },
    {
      "cell_type": "markdown",
      "source": [
        "## Industry\n",
        "* tic: ticker name\n",
        "* ggroup: GICS Industry Group"
      ],
      "metadata": {
        "id": "MEZ4svZQem2W"
      }
    },
    {
      "cell_type": "code",
      "source": [
        "# check the data information\n",
        "industry.info()"
      ],
      "metadata": {
        "id": "hBp2bDUKLMY1",
        "colab": {
          "base_uri": "https://localhost:8080/"
        },
        "outputId": "7be00e3a-e8ea-452c-f872-66417fe523bc"
      },
      "execution_count": null,
      "outputs": [
        {
          "output_type": "stream",
          "name": "stdout",
          "text": [
            "<class 'pandas.core.frame.DataFrame'>\n",
            "RangeIndex: 1886 entries, 0 to 1885\n",
            "Data columns (total 11 columns):\n",
            " #   Column    Non-Null Count  Dtype \n",
            "---  ------    --------------  ----- \n",
            " 0   gvkey     1886 non-null   int64 \n",
            " 1   datadate  1886 non-null   int64 \n",
            " 2   fyear     1886 non-null   int64 \n",
            " 3   indfmt    1886 non-null   object\n",
            " 4   consol    1886 non-null   object\n",
            " 5   popsrc    1886 non-null   object\n",
            " 6   datafmt   1886 non-null   object\n",
            " 7   tic       1886 non-null   object\n",
            " 8   curcd     1886 non-null   object\n",
            " 9   costat    1886 non-null   object\n",
            " 10  ggroup    1886 non-null   int64 \n",
            "dtypes: int64(4), object(7)\n",
            "memory usage: 162.2+ KB\n"
          ]
        }
      ]
    },
    {
      "cell_type": "code",
      "source": [
        "# check the number of unique ticker in the data\n",
        "industry.tic.nunique()"
      ],
      "metadata": {
        "colab": {
          "base_uri": "https://localhost:8080/"
        },
        "id": "gzmENdoM-3tz",
        "outputId": "f47e71d7-5c2e-4a72-d65c-f5ae991a274c"
      },
      "execution_count": null,
      "outputs": [
        {
          "output_type": "execute_result",
          "data": {
            "text/plain": [
              "1886"
            ]
          },
          "metadata": {},
          "execution_count": 15
        }
      ]
    },
    {
      "cell_type": "code",
      "source": [
        "# check the missing value\n",
        "industry.isna().sum()"
      ],
      "metadata": {
        "colab": {
          "base_uri": "https://localhost:8080/"
        },
        "id": "tDZnW07WdJhx",
        "outputId": "935b5fac-2c85-4a35-cf66-5b99b3f00981"
      },
      "execution_count": null,
      "outputs": [
        {
          "output_type": "execute_result",
          "data": {
            "text/plain": [
              "gvkey       0\n",
              "datadate    0\n",
              "fyear       0\n",
              "indfmt      0\n",
              "consol      0\n",
              "popsrc      0\n",
              "datafmt     0\n",
              "tic         0\n",
              "curcd       0\n",
              "costat      0\n",
              "ggroup      0\n",
              "dtype: int64"
            ]
          },
          "metadata": {},
          "execution_count": 16
        }
      ]
    },
    {
      "cell_type": "markdown",
      "source": [
        "# Data Cleaning"
      ],
      "metadata": {
        "id": "78gNYnQ8gCL7"
      }
    },
    {
      "cell_type": "markdown",
      "source": [
        "Before I start analysis, I firstly cleaned the data. This is done by cleaning **column names - Subsetting only necessary columns - Changing data type into proper format.**\n",
        "\n"
      ],
      "metadata": {
        "id": "lIFy5Vpx-eEU"
      }
    },
    {
      "cell_type": "markdown",
      "source": [
        "## Cleaning Column Names\n",
        "I will firstly clean column names of each data set. The purpose of this is to make dataset more convenient."
      ],
      "metadata": {
        "id": "MFqVjhxegKwn"
      }
    },
    {
      "cell_type": "code",
      "source": [
        "# lower column names\n",
        "# I will lower the column names of industry and target dataframes to standardize case as other data frames\n",
        "\n",
        "industry.columns = industry.columns.str.lower()\n",
        "target.columns = target.columns.str.lower()\n",
        "returns.columns = returns.columns.str.lower()"
      ],
      "metadata": {
        "id": "xMiqqxeZdTld"
      },
      "execution_count": null,
      "outputs": []
    },
    {
      "cell_type": "code",
      "source": [
        "# standardize column name for ticker in all datasets for merge\n",
        "# I have ticker columns in industry, financials, return and target dataframes.\n",
        "# But some of dataframe have different name for that column.\n",
        "# I will change column name into \"tic\" so all dataframe can have the same column name.\n",
        "\n",
        "returns.rename(columns={\"ticker\":\"tic\"}, inplace=True)\n",
        "target.rename(columns={\"ticker\":\"tic\"}, inplace=True)"
      ],
      "metadata": {
        "id": "uDUoSQMBhMIq"
      },
      "execution_count": null,
      "outputs": []
    },
    {
      "cell_type": "code",
      "source": [
        "# dateff into date to match column name with returns data frame\n",
        "ff_factors.rename(columns={'dateff':'date'}, inplace=True)"
      ],
      "metadata": {
        "id": "LeWx5sG_lpjF"
      },
      "execution_count": null,
      "outputs": []
    },
    {
      "cell_type": "code",
      "source": [
        "# confirm column names are cleaned well\n",
        "print(target.columns)\n",
        "print(ff_factors.columns)\n",
        "print(returns.columns)\n",
        "print(financials.columns)\n",
        "print(industry.columns)"
      ],
      "metadata": {
        "colab": {
          "base_uri": "https://localhost:8080/"
        },
        "id": "WtvI-uIniBwR",
        "outputId": "b576cc82-5662-4e88-eb71-b9c051e1aad1"
      },
      "execution_count": null,
      "outputs": [
        {
          "output_type": "stream",
          "name": "stdout",
          "text": [
            "Index(['tic', 'name ', 'retytd'], dtype='object')\n",
            "Index(['date', 'mktrf', 'smb', 'hml', 'rf'], dtype='object')\n",
            "Index(['permno', 'date', 'tic', 'ret'], dtype='object')\n",
            "Index(['gvkey', 'datadate', 'fyear', 'indfmt', 'consol', 'popsrc', 'datafmt',\n",
            "       'tic', 'curcd', 'act', 'at', 'ceq', 'cogs', 'csho', 'invt', 'lct', 'lt',\n",
            "       'ni', 're', 'revt', 'costat', 'prcc_c'],\n",
            "      dtype='object')\n",
            "Index(['gvkey', 'datadate', 'fyear', 'indfmt', 'consol', 'popsrc', 'datafmt',\n",
            "       'tic', 'curcd', 'costat', 'ggroup'],\n",
            "      dtype='object')\n"
          ]
        }
      ]
    },
    {
      "cell_type": "code",
      "source": [
        "# rename \"name \" in target dataset to \"name\"\n",
        "target.rename(columns={\"name \":\"name\"}, inplace=True)"
      ],
      "metadata": {
        "id": "Tsju99f3ZeXS"
      },
      "execution_count": null,
      "outputs": []
    },
    {
      "cell_type": "markdown",
      "source": [
        "## Subsetting only necessary columns\n",
        "Data collected from WRDS includes additional columns like currency and so on. In this part I will subset columns that I will use only."
      ],
      "metadata": {
        "id": "FJNh_1Jyiofr"
      }
    },
    {
      "cell_type": "code",
      "source": [
        "financials = financials[[\"tic\", \"act\", \"at\", \"ceq\", \"cogs\", \"csho\", \"invt\", \"lct\", \"lt\", \"ni\", \"re\", \"revt\", \"prcc_c\"]]\n",
        "industry = industry[[\"tic\", \"ggroup\"]]"
      ],
      "metadata": {
        "id": "S5YtOAZLiNz6"
      },
      "execution_count": null,
      "outputs": []
    },
    {
      "cell_type": "markdown",
      "source": [
        "## Data type"
      ],
      "metadata": {
        "id": "-dPGjTjXpIVt"
      }
    },
    {
      "cell_type": "markdown",
      "source": [
        "In the previous step, Data Overview, I found that ret column in the returns data which indicates the return of stock has object data type. Before changing data type, I will remove NaN value in return column, because those data points are not usuable in regression model."
      ],
      "metadata": {
        "id": "cDoJ5NbTpTYP"
      }
    },
    {
      "cell_type": "code",
      "source": [
        "returns.dropna(subset=[\"ret\"], inplace=True)"
      ],
      "metadata": {
        "id": "jcWp8voQxSCc"
      },
      "execution_count": null,
      "outputs": []
    },
    {
      "cell_type": "markdown",
      "source": [
        "Now, I will investigate if there are any alphabetic records in the ret column before changing the datatype."
      ],
      "metadata": {
        "id": "RP5NnqWpx1qW"
      }
    },
    {
      "cell_type": "code",
      "source": [
        "returns[returns.ret.str.isalpha() == True]"
      ],
      "metadata": {
        "colab": {
          "base_uri": "https://localhost:8080/",
          "height": 423
        },
        "id": "02TMwsx_pJwz",
        "outputId": "57be4274-bb44-4d28-9a4d-8f29026834f9"
      },
      "execution_count": null,
      "outputs": [
        {
          "output_type": "execute_result",
          "data": {
            "text/plain": [
              "        permno      date   tic ret\n",
              "33195    16497  20170131  CNDT   C\n",
              "33255    16498  20170131   HGV   C\n",
              "33315    16499  20170131    PK   C\n",
              "33555    16543  20170131  VREX   C\n",
              "33675    16554  20170131  JELD   C\n",
              "...        ...       ...   ...  ..\n",
              "111409   92683  20210730   NaN   B\n",
              "111410   92683  20210831   NaN   B\n",
              "111411   92683  20210930   NaN   B\n",
              "111412   92683  20211029   NaN   B\n",
              "111413   92683  20211130   EVO   C\n",
              "\n",
              "[71 rows x 4 columns]"
            ],
            "text/html": [
              "\n",
              "  <div id=\"df-417eb67a-a66e-447a-9a9a-589b7a91c231\">\n",
              "    <div class=\"colab-df-container\">\n",
              "      <div>\n",
              "<style scoped>\n",
              "    .dataframe tbody tr th:only-of-type {\n",
              "        vertical-align: middle;\n",
              "    }\n",
              "\n",
              "    .dataframe tbody tr th {\n",
              "        vertical-align: top;\n",
              "    }\n",
              "\n",
              "    .dataframe thead th {\n",
              "        text-align: right;\n",
              "    }\n",
              "</style>\n",
              "<table border=\"1\" class=\"dataframe\">\n",
              "  <thead>\n",
              "    <tr style=\"text-align: right;\">\n",
              "      <th></th>\n",
              "      <th>permno</th>\n",
              "      <th>date</th>\n",
              "      <th>tic</th>\n",
              "      <th>ret</th>\n",
              "    </tr>\n",
              "  </thead>\n",
              "  <tbody>\n",
              "    <tr>\n",
              "      <th>33195</th>\n",
              "      <td>16497</td>\n",
              "      <td>20170131</td>\n",
              "      <td>CNDT</td>\n",
              "      <td>C</td>\n",
              "    </tr>\n",
              "    <tr>\n",
              "      <th>33255</th>\n",
              "      <td>16498</td>\n",
              "      <td>20170131</td>\n",
              "      <td>HGV</td>\n",
              "      <td>C</td>\n",
              "    </tr>\n",
              "    <tr>\n",
              "      <th>33315</th>\n",
              "      <td>16499</td>\n",
              "      <td>20170131</td>\n",
              "      <td>PK</td>\n",
              "      <td>C</td>\n",
              "    </tr>\n",
              "    <tr>\n",
              "      <th>33555</th>\n",
              "      <td>16543</td>\n",
              "      <td>20170131</td>\n",
              "      <td>VREX</td>\n",
              "      <td>C</td>\n",
              "    </tr>\n",
              "    <tr>\n",
              "      <th>33675</th>\n",
              "      <td>16554</td>\n",
              "      <td>20170131</td>\n",
              "      <td>JELD</td>\n",
              "      <td>C</td>\n",
              "    </tr>\n",
              "    <tr>\n",
              "      <th>...</th>\n",
              "      <td>...</td>\n",
              "      <td>...</td>\n",
              "      <td>...</td>\n",
              "      <td>...</td>\n",
              "    </tr>\n",
              "    <tr>\n",
              "      <th>111409</th>\n",
              "      <td>92683</td>\n",
              "      <td>20210730</td>\n",
              "      <td>NaN</td>\n",
              "      <td>B</td>\n",
              "    </tr>\n",
              "    <tr>\n",
              "      <th>111410</th>\n",
              "      <td>92683</td>\n",
              "      <td>20210831</td>\n",
              "      <td>NaN</td>\n",
              "      <td>B</td>\n",
              "    </tr>\n",
              "    <tr>\n",
              "      <th>111411</th>\n",
              "      <td>92683</td>\n",
              "      <td>20210930</td>\n",
              "      <td>NaN</td>\n",
              "      <td>B</td>\n",
              "    </tr>\n",
              "    <tr>\n",
              "      <th>111412</th>\n",
              "      <td>92683</td>\n",
              "      <td>20211029</td>\n",
              "      <td>NaN</td>\n",
              "      <td>B</td>\n",
              "    </tr>\n",
              "    <tr>\n",
              "      <th>111413</th>\n",
              "      <td>92683</td>\n",
              "      <td>20211130</td>\n",
              "      <td>EVO</td>\n",
              "      <td>C</td>\n",
              "    </tr>\n",
              "  </tbody>\n",
              "</table>\n",
              "<p>71 rows × 4 columns</p>\n",
              "</div>\n",
              "      <button class=\"colab-df-convert\" onclick=\"convertToInteractive('df-417eb67a-a66e-447a-9a9a-589b7a91c231')\"\n",
              "              title=\"Convert this dataframe to an interactive table.\"\n",
              "              style=\"display:none;\">\n",
              "        \n",
              "  <svg xmlns=\"http://www.w3.org/2000/svg\" height=\"24px\"viewBox=\"0 0 24 24\"\n",
              "       width=\"24px\">\n",
              "    <path d=\"M0 0h24v24H0V0z\" fill=\"none\"/>\n",
              "    <path d=\"M18.56 5.44l.94 2.06.94-2.06 2.06-.94-2.06-.94-.94-2.06-.94 2.06-2.06.94zm-11 1L8.5 8.5l.94-2.06 2.06-.94-2.06-.94L8.5 2.5l-.94 2.06-2.06.94zm10 10l.94 2.06.94-2.06 2.06-.94-2.06-.94-.94-2.06-.94 2.06-2.06.94z\"/><path d=\"M17.41 7.96l-1.37-1.37c-.4-.4-.92-.59-1.43-.59-.52 0-1.04.2-1.43.59L10.3 9.45l-7.72 7.72c-.78.78-.78 2.05 0 2.83L4 21.41c.39.39.9.59 1.41.59.51 0 1.02-.2 1.41-.59l7.78-7.78 2.81-2.81c.8-.78.8-2.07 0-2.86zM5.41 20L4 18.59l7.72-7.72 1.47 1.35L5.41 20z\"/>\n",
              "  </svg>\n",
              "      </button>\n",
              "      \n",
              "  <style>\n",
              "    .colab-df-container {\n",
              "      display:flex;\n",
              "      flex-wrap:wrap;\n",
              "      gap: 12px;\n",
              "    }\n",
              "\n",
              "    .colab-df-convert {\n",
              "      background-color: #E8F0FE;\n",
              "      border: none;\n",
              "      border-radius: 50%;\n",
              "      cursor: pointer;\n",
              "      display: none;\n",
              "      fill: #1967D2;\n",
              "      height: 32px;\n",
              "      padding: 0 0 0 0;\n",
              "      width: 32px;\n",
              "    }\n",
              "\n",
              "    .colab-df-convert:hover {\n",
              "      background-color: #E2EBFA;\n",
              "      box-shadow: 0px 1px 2px rgba(60, 64, 67, 0.3), 0px 1px 3px 1px rgba(60, 64, 67, 0.15);\n",
              "      fill: #174EA6;\n",
              "    }\n",
              "\n",
              "    [theme=dark] .colab-df-convert {\n",
              "      background-color: #3B4455;\n",
              "      fill: #D2E3FC;\n",
              "    }\n",
              "\n",
              "    [theme=dark] .colab-df-convert:hover {\n",
              "      background-color: #434B5C;\n",
              "      box-shadow: 0px 1px 3px 1px rgba(0, 0, 0, 0.15);\n",
              "      filter: drop-shadow(0px 1px 2px rgba(0, 0, 0, 0.3));\n",
              "      fill: #FFFFFF;\n",
              "    }\n",
              "  </style>\n",
              "\n",
              "      <script>\n",
              "        const buttonEl =\n",
              "          document.querySelector('#df-417eb67a-a66e-447a-9a9a-589b7a91c231 button.colab-df-convert');\n",
              "        buttonEl.style.display =\n",
              "          google.colab.kernel.accessAllowed ? 'block' : 'none';\n",
              "\n",
              "        async function convertToInteractive(key) {\n",
              "          const element = document.querySelector('#df-417eb67a-a66e-447a-9a9a-589b7a91c231');\n",
              "          const dataTable =\n",
              "            await google.colab.kernel.invokeFunction('convertToInteractive',\n",
              "                                                     [key], {});\n",
              "          if (!dataTable) return;\n",
              "\n",
              "          const docLinkHtml = 'Like what you see? Visit the ' +\n",
              "            '<a target=\"_blank\" href=https://colab.research.google.com/notebooks/data_table.ipynb>data table notebook</a>'\n",
              "            + ' to learn more about interactive tables.';\n",
              "          element.innerHTML = '';\n",
              "          dataTable['output_type'] = 'display_data';\n",
              "          await google.colab.output.renderOutput(dataTable, element);\n",
              "          const docLink = document.createElement('div');\n",
              "          docLink.innerHTML = docLinkHtml;\n",
              "          element.appendChild(docLink);\n",
              "        }\n",
              "      </script>\n",
              "    </div>\n",
              "  </div>\n",
              "  "
            ]
          },
          "metadata": {},
          "execution_count": 24
        }
      ]
    },
    {
      "cell_type": "code",
      "source": [
        "returns.ret.str.isalpha().value_counts()"
      ],
      "metadata": {
        "id": "R2t8DRClpsoA",
        "colab": {
          "base_uri": "https://localhost:8080/"
        },
        "outputId": "0d0afe94-fd45-4305-8ef3-032a179f5fb7"
      },
      "execution_count": null,
      "outputs": [
        {
          "output_type": "execute_result",
          "data": {
            "text/plain": [
              "False    114629\n",
              "True         71\n",
              "Name: ret, dtype: int64"
            ]
          },
          "metadata": {},
          "execution_count": 25
        }
      ]
    },
    {
      "cell_type": "markdown",
      "source": [
        "We can see that there are 71 data points that has letter B, or C for return. These data are not usuable in regression model. So I will drop these columns."
      ],
      "metadata": {
        "id": "hbQmvn2UuQou"
      }
    },
    {
      "cell_type": "code",
      "source": [
        "# remove alphabetical data\n",
        "returns = returns[returns.ret.str.isalpha() == False]\n",
        "\n",
        "# change data type into float\n",
        "returns.loc[:, \"ret\"] = returns.ret.astype(float)"
      ],
      "metadata": {
        "id": "Ecszs2RMsAru"
      },
      "execution_count": null,
      "outputs": []
    },
    {
      "cell_type": "code",
      "source": [
        "# confirm the change\n",
        "returns.info()"
      ],
      "metadata": {
        "colab": {
          "base_uri": "https://localhost:8080/"
        },
        "id": "miTCGRFzsIL1",
        "outputId": "fb54a7c0-8f82-45be-807d-4ba51167871d"
      },
      "execution_count": null,
      "outputs": [
        {
          "output_type": "stream",
          "name": "stdout",
          "text": [
            "<class 'pandas.core.frame.DataFrame'>\n",
            "Int64Index: 114629 entries, 0 to 114714\n",
            "Data columns (total 4 columns):\n",
            " #   Column  Non-Null Count   Dtype  \n",
            "---  ------  --------------   -----  \n",
            " 0   permno  114629 non-null  int64  \n",
            " 1   date    114629 non-null  int64  \n",
            " 2   tic     114629 non-null  object \n",
            " 3   ret     114629 non-null  float64\n",
            "dtypes: float64(1), int64(2), object(1)\n",
            "memory usage: 4.4+ MB\n"
          ]
        }
      ]
    },
    {
      "cell_type": "code",
      "source": [
        "returns.isna().sum()"
      ],
      "metadata": {
        "colab": {
          "base_uri": "https://localhost:8080/"
        },
        "id": "dTe9UOseEL2r",
        "outputId": "e7287e80-bfed-405d-8adc-bf35c4e45762"
      },
      "execution_count": null,
      "outputs": [
        {
          "output_type": "execute_result",
          "data": {
            "text/plain": [
              "permno    0\n",
              "date      0\n",
              "tic       0\n",
              "ret       0\n",
              "dtype: int64"
            ]
          },
          "metadata": {},
          "execution_count": 28
        }
      ]
    },
    {
      "cell_type": "markdown",
      "source": [
        "After dropping NaN value and changing the column type, the final shape of Return dataframe is 114629 * 4. This process also removed missing values in tic column."
      ],
      "metadata": {
        "id": "3Xf264e6ysvU"
      }
    },
    {
      "cell_type": "markdown",
      "source": [
        "# Imputation"
      ],
      "metadata": {
        "id": "W7xQdwqPy3ZF"
      }
    },
    {
      "cell_type": "markdown",
      "source": [
        "Moving on, I will replace the missing values in financial data."
      ],
      "metadata": {
        "id": "AFTD_zpwD_88"
      }
    },
    {
      "cell_type": "markdown",
      "source": [
        "## Financials"
      ],
      "metadata": {
        "id": "g_vkt3QI8ESy"
      }
    },
    {
      "cell_type": "code",
      "source": [
        "# check the missing values\n",
        "financials.isna().sum()"
      ],
      "metadata": {
        "id": "q_492KUtvhrh",
        "colab": {
          "base_uri": "https://localhost:8080/"
        },
        "outputId": "fbe94fda-2c4f-475d-cf8a-18a2ac7a63b7"
      },
      "execution_count": null,
      "outputs": [
        {
          "output_type": "execute_result",
          "data": {
            "text/plain": [
              "tic         0\n",
              "act       455\n",
              "at          0\n",
              "ceq         0\n",
              "cogs        0\n",
              "csho        0\n",
              "invt       34\n",
              "lct       455\n",
              "lt          5\n",
              "ni          0\n",
              "re          3\n",
              "revt        0\n",
              "prcc_c      0\n",
              "dtype: int64"
            ]
          },
          "metadata": {},
          "execution_count": 29
        }
      ]
    },
    {
      "cell_type": "markdown",
      "source": [
        "act, invt, lct and lt column have missing values.\n",
        "\n",
        "### Lt (total liability)\n",
        "I will firstly remove missing value in lt, which is total liability by using accounting rule, asset = liability + equity."
      ],
      "metadata": {
        "id": "RK2f8dAWH_M5"
      }
    },
    {
      "cell_type": "code",
      "source": [
        "# check which rows need to be imputed\n",
        "financials[financials[\"lt\"].isna()]"
      ],
      "metadata": {
        "colab": {
          "base_uri": "https://localhost:8080/",
          "height": 206
        },
        "id": "6He1v0WJJ7N6",
        "outputId": "f73df885-3c09-485d-bf9c-bef96182435f"
      },
      "execution_count": null,
      "outputs": [
        {
          "output_type": "execute_result",
          "data": {
            "text/plain": [
              "      tic      act        at       ceq      cogs     csho     invt      lct  \\\n",
              "7    ATRI  136.571   267.264   244.296    82.751    1.801   50.778   13.346   \n",
              "43    BMI  261.360   530.818   403.070   271.852   29.250   99.611   82.146   \n",
              "191  GNTX  872.976  2131.391  1937.988  1012.350  236.441  316.267  181.656   \n",
              "379  APPS   97.385   260.369   145.012   175.867   89.950    0.000  111.149   \n",
              "787  TRUP  390.954   562.582   332.200   592.345   40.475    0.000  223.696   \n",
              "\n",
              "     lt       ni        re      revt  prcc_c  \n",
              "7   NaN   33.055   357.324   165.009  704.90  \n",
              "43  NaN   60.884   353.671   505.198  106.56  \n",
              "191 NaN  360.797  1044.389  1731.170   34.85  \n",
              "379 NaN   54.884  -228.237   313.579   56.56  \n",
              "787 NaN  -35.530  -123.813   698.991  132.03  "
            ],
            "text/html": [
              "\n",
              "  <div id=\"df-77a6ce3f-c6a8-4c51-8c02-8f7a758d2ebc\">\n",
              "    <div class=\"colab-df-container\">\n",
              "      <div>\n",
              "<style scoped>\n",
              "    .dataframe tbody tr th:only-of-type {\n",
              "        vertical-align: middle;\n",
              "    }\n",
              "\n",
              "    .dataframe tbody tr th {\n",
              "        vertical-align: top;\n",
              "    }\n",
              "\n",
              "    .dataframe thead th {\n",
              "        text-align: right;\n",
              "    }\n",
              "</style>\n",
              "<table border=\"1\" class=\"dataframe\">\n",
              "  <thead>\n",
              "    <tr style=\"text-align: right;\">\n",
              "      <th></th>\n",
              "      <th>tic</th>\n",
              "      <th>act</th>\n",
              "      <th>at</th>\n",
              "      <th>ceq</th>\n",
              "      <th>cogs</th>\n",
              "      <th>csho</th>\n",
              "      <th>invt</th>\n",
              "      <th>lct</th>\n",
              "      <th>lt</th>\n",
              "      <th>ni</th>\n",
              "      <th>re</th>\n",
              "      <th>revt</th>\n",
              "      <th>prcc_c</th>\n",
              "    </tr>\n",
              "  </thead>\n",
              "  <tbody>\n",
              "    <tr>\n",
              "      <th>7</th>\n",
              "      <td>ATRI</td>\n",
              "      <td>136.571</td>\n",
              "      <td>267.264</td>\n",
              "      <td>244.296</td>\n",
              "      <td>82.751</td>\n",
              "      <td>1.801</td>\n",
              "      <td>50.778</td>\n",
              "      <td>13.346</td>\n",
              "      <td>NaN</td>\n",
              "      <td>33.055</td>\n",
              "      <td>357.324</td>\n",
              "      <td>165.009</td>\n",
              "      <td>704.90</td>\n",
              "    </tr>\n",
              "    <tr>\n",
              "      <th>43</th>\n",
              "      <td>BMI</td>\n",
              "      <td>261.360</td>\n",
              "      <td>530.818</td>\n",
              "      <td>403.070</td>\n",
              "      <td>271.852</td>\n",
              "      <td>29.250</td>\n",
              "      <td>99.611</td>\n",
              "      <td>82.146</td>\n",
              "      <td>NaN</td>\n",
              "      <td>60.884</td>\n",
              "      <td>353.671</td>\n",
              "      <td>505.198</td>\n",
              "      <td>106.56</td>\n",
              "    </tr>\n",
              "    <tr>\n",
              "      <th>191</th>\n",
              "      <td>GNTX</td>\n",
              "      <td>872.976</td>\n",
              "      <td>2131.391</td>\n",
              "      <td>1937.988</td>\n",
              "      <td>1012.350</td>\n",
              "      <td>236.441</td>\n",
              "      <td>316.267</td>\n",
              "      <td>181.656</td>\n",
              "      <td>NaN</td>\n",
              "      <td>360.797</td>\n",
              "      <td>1044.389</td>\n",
              "      <td>1731.170</td>\n",
              "      <td>34.85</td>\n",
              "    </tr>\n",
              "    <tr>\n",
              "      <th>379</th>\n",
              "      <td>APPS</td>\n",
              "      <td>97.385</td>\n",
              "      <td>260.369</td>\n",
              "      <td>145.012</td>\n",
              "      <td>175.867</td>\n",
              "      <td>89.950</td>\n",
              "      <td>0.000</td>\n",
              "      <td>111.149</td>\n",
              "      <td>NaN</td>\n",
              "      <td>54.884</td>\n",
              "      <td>-228.237</td>\n",
              "      <td>313.579</td>\n",
              "      <td>56.56</td>\n",
              "    </tr>\n",
              "    <tr>\n",
              "      <th>787</th>\n",
              "      <td>TRUP</td>\n",
              "      <td>390.954</td>\n",
              "      <td>562.582</td>\n",
              "      <td>332.200</td>\n",
              "      <td>592.345</td>\n",
              "      <td>40.475</td>\n",
              "      <td>0.000</td>\n",
              "      <td>223.696</td>\n",
              "      <td>NaN</td>\n",
              "      <td>-35.530</td>\n",
              "      <td>-123.813</td>\n",
              "      <td>698.991</td>\n",
              "      <td>132.03</td>\n",
              "    </tr>\n",
              "  </tbody>\n",
              "</table>\n",
              "</div>\n",
              "      <button class=\"colab-df-convert\" onclick=\"convertToInteractive('df-77a6ce3f-c6a8-4c51-8c02-8f7a758d2ebc')\"\n",
              "              title=\"Convert this dataframe to an interactive table.\"\n",
              "              style=\"display:none;\">\n",
              "        \n",
              "  <svg xmlns=\"http://www.w3.org/2000/svg\" height=\"24px\"viewBox=\"0 0 24 24\"\n",
              "       width=\"24px\">\n",
              "    <path d=\"M0 0h24v24H0V0z\" fill=\"none\"/>\n",
              "    <path d=\"M18.56 5.44l.94 2.06.94-2.06 2.06-.94-2.06-.94-.94-2.06-.94 2.06-2.06.94zm-11 1L8.5 8.5l.94-2.06 2.06-.94-2.06-.94L8.5 2.5l-.94 2.06-2.06.94zm10 10l.94 2.06.94-2.06 2.06-.94-2.06-.94-.94-2.06-.94 2.06-2.06.94z\"/><path d=\"M17.41 7.96l-1.37-1.37c-.4-.4-.92-.59-1.43-.59-.52 0-1.04.2-1.43.59L10.3 9.45l-7.72 7.72c-.78.78-.78 2.05 0 2.83L4 21.41c.39.39.9.59 1.41.59.51 0 1.02-.2 1.41-.59l7.78-7.78 2.81-2.81c.8-.78.8-2.07 0-2.86zM5.41 20L4 18.59l7.72-7.72 1.47 1.35L5.41 20z\"/>\n",
              "  </svg>\n",
              "      </button>\n",
              "      \n",
              "  <style>\n",
              "    .colab-df-container {\n",
              "      display:flex;\n",
              "      flex-wrap:wrap;\n",
              "      gap: 12px;\n",
              "    }\n",
              "\n",
              "    .colab-df-convert {\n",
              "      background-color: #E8F0FE;\n",
              "      border: none;\n",
              "      border-radius: 50%;\n",
              "      cursor: pointer;\n",
              "      display: none;\n",
              "      fill: #1967D2;\n",
              "      height: 32px;\n",
              "      padding: 0 0 0 0;\n",
              "      width: 32px;\n",
              "    }\n",
              "\n",
              "    .colab-df-convert:hover {\n",
              "      background-color: #E2EBFA;\n",
              "      box-shadow: 0px 1px 2px rgba(60, 64, 67, 0.3), 0px 1px 3px 1px rgba(60, 64, 67, 0.15);\n",
              "      fill: #174EA6;\n",
              "    }\n",
              "\n",
              "    [theme=dark] .colab-df-convert {\n",
              "      background-color: #3B4455;\n",
              "      fill: #D2E3FC;\n",
              "    }\n",
              "\n",
              "    [theme=dark] .colab-df-convert:hover {\n",
              "      background-color: #434B5C;\n",
              "      box-shadow: 0px 1px 3px 1px rgba(0, 0, 0, 0.15);\n",
              "      filter: drop-shadow(0px 1px 2px rgba(0, 0, 0, 0.3));\n",
              "      fill: #FFFFFF;\n",
              "    }\n",
              "  </style>\n",
              "\n",
              "      <script>\n",
              "        const buttonEl =\n",
              "          document.querySelector('#df-77a6ce3f-c6a8-4c51-8c02-8f7a758d2ebc button.colab-df-convert');\n",
              "        buttonEl.style.display =\n",
              "          google.colab.kernel.accessAllowed ? 'block' : 'none';\n",
              "\n",
              "        async function convertToInteractive(key) {\n",
              "          const element = document.querySelector('#df-77a6ce3f-c6a8-4c51-8c02-8f7a758d2ebc');\n",
              "          const dataTable =\n",
              "            await google.colab.kernel.invokeFunction('convertToInteractive',\n",
              "                                                     [key], {});\n",
              "          if (!dataTable) return;\n",
              "\n",
              "          const docLinkHtml = 'Like what you see? Visit the ' +\n",
              "            '<a target=\"_blank\" href=https://colab.research.google.com/notebooks/data_table.ipynb>data table notebook</a>'\n",
              "            + ' to learn more about interactive tables.';\n",
              "          element.innerHTML = '';\n",
              "          dataTable['output_type'] = 'display_data';\n",
              "          await google.colab.output.renderOutput(dataTable, element);\n",
              "          const docLink = document.createElement('div');\n",
              "          docLink.innerHTML = docLinkHtml;\n",
              "          element.appendChild(docLink);\n",
              "        }\n",
              "      </script>\n",
              "    </div>\n",
              "  </div>\n",
              "  "
            ]
          },
          "metadata": {},
          "execution_count": 30
        }
      ]
    },
    {
      "cell_type": "code",
      "source": [
        "# make a list of index number\n",
        "lt_imput_list = [7, 43, 191, 379, 787]"
      ],
      "metadata": {
        "id": "hbDpidGuKEA5"
      },
      "execution_count": null,
      "outputs": []
    },
    {
      "cell_type": "code",
      "source": [
        "# liability = asset - equity\n",
        "financials.loc[lt_imput_list,\"lt\"] = financials.loc[lt_imput_list,\"at\"] - \\\n",
        "financials.loc[lt_imput_list,\"ceq\"]"
      ],
      "metadata": {
        "id": "dxfg1w1mIRHB"
      },
      "execution_count": null,
      "outputs": []
    },
    {
      "cell_type": "code",
      "source": [
        "# confirm all missing values are replaced\n",
        "financials[\"lt\"].isna().sum()"
      ],
      "metadata": {
        "colab": {
          "base_uri": "https://localhost:8080/"
        },
        "id": "mOh2EvpNJMAZ",
        "outputId": "e90bc406-a8d7-480a-a8da-7bb3e4a675d2"
      },
      "execution_count": null,
      "outputs": [
        {
          "output_type": "execute_result",
          "data": {
            "text/plain": [
              "0"
            ]
          },
          "metadata": {},
          "execution_count": 33
        }
      ]
    },
    {
      "cell_type": "code",
      "source": [
        "# confirm all missing values are replaced\n",
        "financials.loc[lt_imput_list,:]"
      ],
      "metadata": {
        "colab": {
          "base_uri": "https://localhost:8080/",
          "height": 206
        },
        "id": "pmthxEGlJ3cX",
        "outputId": "8ce14faa-e448-461a-9fc9-957cde2d0e67"
      },
      "execution_count": null,
      "outputs": [
        {
          "output_type": "execute_result",
          "data": {
            "text/plain": [
              "      tic      act        at       ceq      cogs     csho     invt      lct  \\\n",
              "7    ATRI  136.571   267.264   244.296    82.751    1.801   50.778   13.346   \n",
              "43    BMI  261.360   530.818   403.070   271.852   29.250   99.611   82.146   \n",
              "191  GNTX  872.976  2131.391  1937.988  1012.350  236.441  316.267  181.656   \n",
              "379  APPS   97.385   260.369   145.012   175.867   89.950    0.000  111.149   \n",
              "787  TRUP  390.954   562.582   332.200   592.345   40.475    0.000  223.696   \n",
              "\n",
              "          lt       ni        re      revt  prcc_c  \n",
              "7     22.968   33.055   357.324   165.009  704.90  \n",
              "43   127.748   60.884   353.671   505.198  106.56  \n",
              "191  193.403  360.797  1044.389  1731.170   34.85  \n",
              "379  115.357   54.884  -228.237   313.579   56.56  \n",
              "787  230.382  -35.530  -123.813   698.991  132.03  "
            ],
            "text/html": [
              "\n",
              "  <div id=\"df-52d24dc8-e849-419f-a6c8-4cc7bfcfed0d\">\n",
              "    <div class=\"colab-df-container\">\n",
              "      <div>\n",
              "<style scoped>\n",
              "    .dataframe tbody tr th:only-of-type {\n",
              "        vertical-align: middle;\n",
              "    }\n",
              "\n",
              "    .dataframe tbody tr th {\n",
              "        vertical-align: top;\n",
              "    }\n",
              "\n",
              "    .dataframe thead th {\n",
              "        text-align: right;\n",
              "    }\n",
              "</style>\n",
              "<table border=\"1\" class=\"dataframe\">\n",
              "  <thead>\n",
              "    <tr style=\"text-align: right;\">\n",
              "      <th></th>\n",
              "      <th>tic</th>\n",
              "      <th>act</th>\n",
              "      <th>at</th>\n",
              "      <th>ceq</th>\n",
              "      <th>cogs</th>\n",
              "      <th>csho</th>\n",
              "      <th>invt</th>\n",
              "      <th>lct</th>\n",
              "      <th>lt</th>\n",
              "      <th>ni</th>\n",
              "      <th>re</th>\n",
              "      <th>revt</th>\n",
              "      <th>prcc_c</th>\n",
              "    </tr>\n",
              "  </thead>\n",
              "  <tbody>\n",
              "    <tr>\n",
              "      <th>7</th>\n",
              "      <td>ATRI</td>\n",
              "      <td>136.571</td>\n",
              "      <td>267.264</td>\n",
              "      <td>244.296</td>\n",
              "      <td>82.751</td>\n",
              "      <td>1.801</td>\n",
              "      <td>50.778</td>\n",
              "      <td>13.346</td>\n",
              "      <td>22.968</td>\n",
              "      <td>33.055</td>\n",
              "      <td>357.324</td>\n",
              "      <td>165.009</td>\n",
              "      <td>704.90</td>\n",
              "    </tr>\n",
              "    <tr>\n",
              "      <th>43</th>\n",
              "      <td>BMI</td>\n",
              "      <td>261.360</td>\n",
              "      <td>530.818</td>\n",
              "      <td>403.070</td>\n",
              "      <td>271.852</td>\n",
              "      <td>29.250</td>\n",
              "      <td>99.611</td>\n",
              "      <td>82.146</td>\n",
              "      <td>127.748</td>\n",
              "      <td>60.884</td>\n",
              "      <td>353.671</td>\n",
              "      <td>505.198</td>\n",
              "      <td>106.56</td>\n",
              "    </tr>\n",
              "    <tr>\n",
              "      <th>191</th>\n",
              "      <td>GNTX</td>\n",
              "      <td>872.976</td>\n",
              "      <td>2131.391</td>\n",
              "      <td>1937.988</td>\n",
              "      <td>1012.350</td>\n",
              "      <td>236.441</td>\n",
              "      <td>316.267</td>\n",
              "      <td>181.656</td>\n",
              "      <td>193.403</td>\n",
              "      <td>360.797</td>\n",
              "      <td>1044.389</td>\n",
              "      <td>1731.170</td>\n",
              "      <td>34.85</td>\n",
              "    </tr>\n",
              "    <tr>\n",
              "      <th>379</th>\n",
              "      <td>APPS</td>\n",
              "      <td>97.385</td>\n",
              "      <td>260.369</td>\n",
              "      <td>145.012</td>\n",
              "      <td>175.867</td>\n",
              "      <td>89.950</td>\n",
              "      <td>0.000</td>\n",
              "      <td>111.149</td>\n",
              "      <td>115.357</td>\n",
              "      <td>54.884</td>\n",
              "      <td>-228.237</td>\n",
              "      <td>313.579</td>\n",
              "      <td>56.56</td>\n",
              "    </tr>\n",
              "    <tr>\n",
              "      <th>787</th>\n",
              "      <td>TRUP</td>\n",
              "      <td>390.954</td>\n",
              "      <td>562.582</td>\n",
              "      <td>332.200</td>\n",
              "      <td>592.345</td>\n",
              "      <td>40.475</td>\n",
              "      <td>0.000</td>\n",
              "      <td>223.696</td>\n",
              "      <td>230.382</td>\n",
              "      <td>-35.530</td>\n",
              "      <td>-123.813</td>\n",
              "      <td>698.991</td>\n",
              "      <td>132.03</td>\n",
              "    </tr>\n",
              "  </tbody>\n",
              "</table>\n",
              "</div>\n",
              "      <button class=\"colab-df-convert\" onclick=\"convertToInteractive('df-52d24dc8-e849-419f-a6c8-4cc7bfcfed0d')\"\n",
              "              title=\"Convert this dataframe to an interactive table.\"\n",
              "              style=\"display:none;\">\n",
              "        \n",
              "  <svg xmlns=\"http://www.w3.org/2000/svg\" height=\"24px\"viewBox=\"0 0 24 24\"\n",
              "       width=\"24px\">\n",
              "    <path d=\"M0 0h24v24H0V0z\" fill=\"none\"/>\n",
              "    <path d=\"M18.56 5.44l.94 2.06.94-2.06 2.06-.94-2.06-.94-.94-2.06-.94 2.06-2.06.94zm-11 1L8.5 8.5l.94-2.06 2.06-.94-2.06-.94L8.5 2.5l-.94 2.06-2.06.94zm10 10l.94 2.06.94-2.06 2.06-.94-2.06-.94-.94-2.06-.94 2.06-2.06.94z\"/><path d=\"M17.41 7.96l-1.37-1.37c-.4-.4-.92-.59-1.43-.59-.52 0-1.04.2-1.43.59L10.3 9.45l-7.72 7.72c-.78.78-.78 2.05 0 2.83L4 21.41c.39.39.9.59 1.41.59.51 0 1.02-.2 1.41-.59l7.78-7.78 2.81-2.81c.8-.78.8-2.07 0-2.86zM5.41 20L4 18.59l7.72-7.72 1.47 1.35L5.41 20z\"/>\n",
              "  </svg>\n",
              "      </button>\n",
              "      \n",
              "  <style>\n",
              "    .colab-df-container {\n",
              "      display:flex;\n",
              "      flex-wrap:wrap;\n",
              "      gap: 12px;\n",
              "    }\n",
              "\n",
              "    .colab-df-convert {\n",
              "      background-color: #E8F0FE;\n",
              "      border: none;\n",
              "      border-radius: 50%;\n",
              "      cursor: pointer;\n",
              "      display: none;\n",
              "      fill: #1967D2;\n",
              "      height: 32px;\n",
              "      padding: 0 0 0 0;\n",
              "      width: 32px;\n",
              "    }\n",
              "\n",
              "    .colab-df-convert:hover {\n",
              "      background-color: #E2EBFA;\n",
              "      box-shadow: 0px 1px 2px rgba(60, 64, 67, 0.3), 0px 1px 3px 1px rgba(60, 64, 67, 0.15);\n",
              "      fill: #174EA6;\n",
              "    }\n",
              "\n",
              "    [theme=dark] .colab-df-convert {\n",
              "      background-color: #3B4455;\n",
              "      fill: #D2E3FC;\n",
              "    }\n",
              "\n",
              "    [theme=dark] .colab-df-convert:hover {\n",
              "      background-color: #434B5C;\n",
              "      box-shadow: 0px 1px 3px 1px rgba(0, 0, 0, 0.15);\n",
              "      filter: drop-shadow(0px 1px 2px rgba(0, 0, 0, 0.3));\n",
              "      fill: #FFFFFF;\n",
              "    }\n",
              "  </style>\n",
              "\n",
              "      <script>\n",
              "        const buttonEl =\n",
              "          document.querySelector('#df-52d24dc8-e849-419f-a6c8-4cc7bfcfed0d button.colab-df-convert');\n",
              "        buttonEl.style.display =\n",
              "          google.colab.kernel.accessAllowed ? 'block' : 'none';\n",
              "\n",
              "        async function convertToInteractive(key) {\n",
              "          const element = document.querySelector('#df-52d24dc8-e849-419f-a6c8-4cc7bfcfed0d');\n",
              "          const dataTable =\n",
              "            await google.colab.kernel.invokeFunction('convertToInteractive',\n",
              "                                                     [key], {});\n",
              "          if (!dataTable) return;\n",
              "\n",
              "          const docLinkHtml = 'Like what you see? Visit the ' +\n",
              "            '<a target=\"_blank\" href=https://colab.research.google.com/notebooks/data_table.ipynb>data table notebook</a>'\n",
              "            + ' to learn more about interactive tables.';\n",
              "          element.innerHTML = '';\n",
              "          dataTable['output_type'] = 'display_data';\n",
              "          await google.colab.output.renderOutput(dataTable, element);\n",
              "          const docLink = document.createElement('div');\n",
              "          docLink.innerHTML = docLinkHtml;\n",
              "          element.appendChild(docLink);\n",
              "        }\n",
              "      </script>\n",
              "    </div>\n",
              "  </div>\n",
              "  "
            ]
          },
          "metadata": {},
          "execution_count": 34
        }
      ]
    },
    {
      "cell_type": "markdown",
      "source": [
        "### ACT (Current Asset)"
      ],
      "metadata": {
        "id": "Iod_uuQeLkck"
      }
    },
    {
      "cell_type": "markdown",
      "source": [
        "From now on, I will use machine learning models to predict missing values."
      ],
      "metadata": {
        "id": "qgBlfUhNHo0j"
      }
    },
    {
      "cell_type": "code",
      "source": [
        "# generate subset of data frame that has missing values in act column\n",
        "act_imput_target = financials[financials[\"act\"].isna()]\n",
        "act_imput_target"
      ],
      "metadata": {
        "colab": {
          "base_uri": "https://localhost:8080/",
          "height": 423
        },
        "id": "eyliGcAjKgW2",
        "outputId": "f591aa9a-3989-4f16-ab59-f849e1e8100f"
      },
      "execution_count": null,
      "outputs": [
        {
          "output_type": "execute_result",
          "data": {
            "text/plain": [
              "       tic  act          at        ceq       cogs     csho      invt  lct  \\\n",
              "9      ALX  NaN    1391.965    252.589    124.027    5.107     0.000  NaN   \n",
              "14     PRI  NaN   16123.223   2082.512   2039.968   39.368    24.355  NaN   \n",
              "17     AXP  NaN  188548.000  22177.000  31847.000  761.000     0.000  NaN   \n",
              "18     AFL  NaN  157542.000  33253.000  16433.000  652.132     0.000  NaN   \n",
              "19     AIG  NaN  596112.000  65471.000  36091.000  818.687     0.000  NaN   \n",
              "...    ...  ...         ...        ...        ...      ...       ...  ...   \n",
              "1872   TPH  NaN    4336.223   2447.621   2962.169  109.644  3054.743  NaN   \n",
              "1873   NTB  NaN   15335.200    977.493     21.963   49.292     0.691  NaN   \n",
              "1875  TRTN  NaN   12643.838   2334.712    135.730   65.866     0.000  NaN   \n",
              "1880   CNS  NaN     492.687    255.183    319.368   48.270    23.711  NaN   \n",
              "1881   KRG  NaN    7639.575   3922.047    305.551  218.950     0.000  NaN   \n",
              "\n",
              "              lt        ni         re       revt  prcc_c  \n",
              "9       1139.376   132.930    214.369    206.148  260.30  \n",
              "14     14033.440   373.357   2076.894   2709.732  153.27  \n",
              "17    166371.000  8060.000  10529.000  43663.000  163.60  \n",
              "18    124289.000  4325.000  48774.000  21037.000   58.39  \n",
              "19    527200.000  9388.000  30472.000  52046.000   56.86  \n",
              "...          ...       ...        ...        ...     ...  \n",
              "1872    1888.590   469.267   2355.448   3982.235   27.89  \n",
              "1873   14357.707   162.668    -20.588    520.744   38.11  \n",
              "1875    9579.126   530.240   1952.035   1676.849   60.23  \n",
              "1880     148.361   211.396   -237.853    583.832   92.51  \n",
              "1881    3657.209   -80.806   -978.815    372.908   21.78  \n",
              "\n",
              "[455 rows x 13 columns]"
            ],
            "text/html": [
              "\n",
              "  <div id=\"df-763db9c3-90f9-41e2-bcb4-91ba0259fb6d\">\n",
              "    <div class=\"colab-df-container\">\n",
              "      <div>\n",
              "<style scoped>\n",
              "    .dataframe tbody tr th:only-of-type {\n",
              "        vertical-align: middle;\n",
              "    }\n",
              "\n",
              "    .dataframe tbody tr th {\n",
              "        vertical-align: top;\n",
              "    }\n",
              "\n",
              "    .dataframe thead th {\n",
              "        text-align: right;\n",
              "    }\n",
              "</style>\n",
              "<table border=\"1\" class=\"dataframe\">\n",
              "  <thead>\n",
              "    <tr style=\"text-align: right;\">\n",
              "      <th></th>\n",
              "      <th>tic</th>\n",
              "      <th>act</th>\n",
              "      <th>at</th>\n",
              "      <th>ceq</th>\n",
              "      <th>cogs</th>\n",
              "      <th>csho</th>\n",
              "      <th>invt</th>\n",
              "      <th>lct</th>\n",
              "      <th>lt</th>\n",
              "      <th>ni</th>\n",
              "      <th>re</th>\n",
              "      <th>revt</th>\n",
              "      <th>prcc_c</th>\n",
              "    </tr>\n",
              "  </thead>\n",
              "  <tbody>\n",
              "    <tr>\n",
              "      <th>9</th>\n",
              "      <td>ALX</td>\n",
              "      <td>NaN</td>\n",
              "      <td>1391.965</td>\n",
              "      <td>252.589</td>\n",
              "      <td>124.027</td>\n",
              "      <td>5.107</td>\n",
              "      <td>0.000</td>\n",
              "      <td>NaN</td>\n",
              "      <td>1139.376</td>\n",
              "      <td>132.930</td>\n",
              "      <td>214.369</td>\n",
              "      <td>206.148</td>\n",
              "      <td>260.30</td>\n",
              "    </tr>\n",
              "    <tr>\n",
              "      <th>14</th>\n",
              "      <td>PRI</td>\n",
              "      <td>NaN</td>\n",
              "      <td>16123.223</td>\n",
              "      <td>2082.512</td>\n",
              "      <td>2039.968</td>\n",
              "      <td>39.368</td>\n",
              "      <td>24.355</td>\n",
              "      <td>NaN</td>\n",
              "      <td>14033.440</td>\n",
              "      <td>373.357</td>\n",
              "      <td>2076.894</td>\n",
              "      <td>2709.732</td>\n",
              "      <td>153.27</td>\n",
              "    </tr>\n",
              "    <tr>\n",
              "      <th>17</th>\n",
              "      <td>AXP</td>\n",
              "      <td>NaN</td>\n",
              "      <td>188548.000</td>\n",
              "      <td>22177.000</td>\n",
              "      <td>31847.000</td>\n",
              "      <td>761.000</td>\n",
              "      <td>0.000</td>\n",
              "      <td>NaN</td>\n",
              "      <td>166371.000</td>\n",
              "      <td>8060.000</td>\n",
              "      <td>10529.000</td>\n",
              "      <td>43663.000</td>\n",
              "      <td>163.60</td>\n",
              "    </tr>\n",
              "    <tr>\n",
              "      <th>18</th>\n",
              "      <td>AFL</td>\n",
              "      <td>NaN</td>\n",
              "      <td>157542.000</td>\n",
              "      <td>33253.000</td>\n",
              "      <td>16433.000</td>\n",
              "      <td>652.132</td>\n",
              "      <td>0.000</td>\n",
              "      <td>NaN</td>\n",
              "      <td>124289.000</td>\n",
              "      <td>4325.000</td>\n",
              "      <td>48774.000</td>\n",
              "      <td>21037.000</td>\n",
              "      <td>58.39</td>\n",
              "    </tr>\n",
              "    <tr>\n",
              "      <th>19</th>\n",
              "      <td>AIG</td>\n",
              "      <td>NaN</td>\n",
              "      <td>596112.000</td>\n",
              "      <td>65471.000</td>\n",
              "      <td>36091.000</td>\n",
              "      <td>818.687</td>\n",
              "      <td>0.000</td>\n",
              "      <td>NaN</td>\n",
              "      <td>527200.000</td>\n",
              "      <td>9388.000</td>\n",
              "      <td>30472.000</td>\n",
              "      <td>52046.000</td>\n",
              "      <td>56.86</td>\n",
              "    </tr>\n",
              "    <tr>\n",
              "      <th>...</th>\n",
              "      <td>...</td>\n",
              "      <td>...</td>\n",
              "      <td>...</td>\n",
              "      <td>...</td>\n",
              "      <td>...</td>\n",
              "      <td>...</td>\n",
              "      <td>...</td>\n",
              "      <td>...</td>\n",
              "      <td>...</td>\n",
              "      <td>...</td>\n",
              "      <td>...</td>\n",
              "      <td>...</td>\n",
              "      <td>...</td>\n",
              "    </tr>\n",
              "    <tr>\n",
              "      <th>1872</th>\n",
              "      <td>TPH</td>\n",
              "      <td>NaN</td>\n",
              "      <td>4336.223</td>\n",
              "      <td>2447.621</td>\n",
              "      <td>2962.169</td>\n",
              "      <td>109.644</td>\n",
              "      <td>3054.743</td>\n",
              "      <td>NaN</td>\n",
              "      <td>1888.590</td>\n",
              "      <td>469.267</td>\n",
              "      <td>2355.448</td>\n",
              "      <td>3982.235</td>\n",
              "      <td>27.89</td>\n",
              "    </tr>\n",
              "    <tr>\n",
              "      <th>1873</th>\n",
              "      <td>NTB</td>\n",
              "      <td>NaN</td>\n",
              "      <td>15335.200</td>\n",
              "      <td>977.493</td>\n",
              "      <td>21.963</td>\n",
              "      <td>49.292</td>\n",
              "      <td>0.691</td>\n",
              "      <td>NaN</td>\n",
              "      <td>14357.707</td>\n",
              "      <td>162.668</td>\n",
              "      <td>-20.588</td>\n",
              "      <td>520.744</td>\n",
              "      <td>38.11</td>\n",
              "    </tr>\n",
              "    <tr>\n",
              "      <th>1875</th>\n",
              "      <td>TRTN</td>\n",
              "      <td>NaN</td>\n",
              "      <td>12643.838</td>\n",
              "      <td>2334.712</td>\n",
              "      <td>135.730</td>\n",
              "      <td>65.866</td>\n",
              "      <td>0.000</td>\n",
              "      <td>NaN</td>\n",
              "      <td>9579.126</td>\n",
              "      <td>530.240</td>\n",
              "      <td>1952.035</td>\n",
              "      <td>1676.849</td>\n",
              "      <td>60.23</td>\n",
              "    </tr>\n",
              "    <tr>\n",
              "      <th>1880</th>\n",
              "      <td>CNS</td>\n",
              "      <td>NaN</td>\n",
              "      <td>492.687</td>\n",
              "      <td>255.183</td>\n",
              "      <td>319.368</td>\n",
              "      <td>48.270</td>\n",
              "      <td>23.711</td>\n",
              "      <td>NaN</td>\n",
              "      <td>148.361</td>\n",
              "      <td>211.396</td>\n",
              "      <td>-237.853</td>\n",
              "      <td>583.832</td>\n",
              "      <td>92.51</td>\n",
              "    </tr>\n",
              "    <tr>\n",
              "      <th>1881</th>\n",
              "      <td>KRG</td>\n",
              "      <td>NaN</td>\n",
              "      <td>7639.575</td>\n",
              "      <td>3922.047</td>\n",
              "      <td>305.551</td>\n",
              "      <td>218.950</td>\n",
              "      <td>0.000</td>\n",
              "      <td>NaN</td>\n",
              "      <td>3657.209</td>\n",
              "      <td>-80.806</td>\n",
              "      <td>-978.815</td>\n",
              "      <td>372.908</td>\n",
              "      <td>21.78</td>\n",
              "    </tr>\n",
              "  </tbody>\n",
              "</table>\n",
              "<p>455 rows × 13 columns</p>\n",
              "</div>\n",
              "      <button class=\"colab-df-convert\" onclick=\"convertToInteractive('df-763db9c3-90f9-41e2-bcb4-91ba0259fb6d')\"\n",
              "              title=\"Convert this dataframe to an interactive table.\"\n",
              "              style=\"display:none;\">\n",
              "        \n",
              "  <svg xmlns=\"http://www.w3.org/2000/svg\" height=\"24px\"viewBox=\"0 0 24 24\"\n",
              "       width=\"24px\">\n",
              "    <path d=\"M0 0h24v24H0V0z\" fill=\"none\"/>\n",
              "    <path d=\"M18.56 5.44l.94 2.06.94-2.06 2.06-.94-2.06-.94-.94-2.06-.94 2.06-2.06.94zm-11 1L8.5 8.5l.94-2.06 2.06-.94-2.06-.94L8.5 2.5l-.94 2.06-2.06.94zm10 10l.94 2.06.94-2.06 2.06-.94-2.06-.94-.94-2.06-.94 2.06-2.06.94z\"/><path d=\"M17.41 7.96l-1.37-1.37c-.4-.4-.92-.59-1.43-.59-.52 0-1.04.2-1.43.59L10.3 9.45l-7.72 7.72c-.78.78-.78 2.05 0 2.83L4 21.41c.39.39.9.59 1.41.59.51 0 1.02-.2 1.41-.59l7.78-7.78 2.81-2.81c.8-.78.8-2.07 0-2.86zM5.41 20L4 18.59l7.72-7.72 1.47 1.35L5.41 20z\"/>\n",
              "  </svg>\n",
              "      </button>\n",
              "      \n",
              "  <style>\n",
              "    .colab-df-container {\n",
              "      display:flex;\n",
              "      flex-wrap:wrap;\n",
              "      gap: 12px;\n",
              "    }\n",
              "\n",
              "    .colab-df-convert {\n",
              "      background-color: #E8F0FE;\n",
              "      border: none;\n",
              "      border-radius: 50%;\n",
              "      cursor: pointer;\n",
              "      display: none;\n",
              "      fill: #1967D2;\n",
              "      height: 32px;\n",
              "      padding: 0 0 0 0;\n",
              "      width: 32px;\n",
              "    }\n",
              "\n",
              "    .colab-df-convert:hover {\n",
              "      background-color: #E2EBFA;\n",
              "      box-shadow: 0px 1px 2px rgba(60, 64, 67, 0.3), 0px 1px 3px 1px rgba(60, 64, 67, 0.15);\n",
              "      fill: #174EA6;\n",
              "    }\n",
              "\n",
              "    [theme=dark] .colab-df-convert {\n",
              "      background-color: #3B4455;\n",
              "      fill: #D2E3FC;\n",
              "    }\n",
              "\n",
              "    [theme=dark] .colab-df-convert:hover {\n",
              "      background-color: #434B5C;\n",
              "      box-shadow: 0px 1px 3px 1px rgba(0, 0, 0, 0.15);\n",
              "      filter: drop-shadow(0px 1px 2px rgba(0, 0, 0, 0.3));\n",
              "      fill: #FFFFFF;\n",
              "    }\n",
              "  </style>\n",
              "\n",
              "      <script>\n",
              "        const buttonEl =\n",
              "          document.querySelector('#df-763db9c3-90f9-41e2-bcb4-91ba0259fb6d button.colab-df-convert');\n",
              "        buttonEl.style.display =\n",
              "          google.colab.kernel.accessAllowed ? 'block' : 'none';\n",
              "\n",
              "        async function convertToInteractive(key) {\n",
              "          const element = document.querySelector('#df-763db9c3-90f9-41e2-bcb4-91ba0259fb6d');\n",
              "          const dataTable =\n",
              "            await google.colab.kernel.invokeFunction('convertToInteractive',\n",
              "                                                     [key], {});\n",
              "          if (!dataTable) return;\n",
              "\n",
              "          const docLinkHtml = 'Like what you see? Visit the ' +\n",
              "            '<a target=\"_blank\" href=https://colab.research.google.com/notebooks/data_table.ipynb>data table notebook</a>'\n",
              "            + ' to learn more about interactive tables.';\n",
              "          element.innerHTML = '';\n",
              "          dataTable['output_type'] = 'display_data';\n",
              "          await google.colab.output.renderOutput(dataTable, element);\n",
              "          const docLink = document.createElement('div');\n",
              "          docLink.innerHTML = docLinkHtml;\n",
              "          element.appendChild(docLink);\n",
              "        }\n",
              "      </script>\n",
              "    </div>\n",
              "  </div>\n",
              "  "
            ]
          },
          "metadata": {},
          "execution_count": 35
        }
      ]
    },
    {
      "cell_type": "code",
      "source": [
        "# generate subset of data that will be used in model training\n",
        "act_imput_train = financials.drop(act_imput_target.index)\n",
        "act_imput_train.shape"
      ],
      "metadata": {
        "colab": {
          "base_uri": "https://localhost:8080/"
        },
        "id": "r1kvgDNlL29G",
        "outputId": "333e5dc4-0041-4c5b-b80d-01d5d5cffae0"
      },
      "execution_count": null,
      "outputs": [
        {
          "output_type": "execute_result",
          "data": {
            "text/plain": [
              "(1431, 13)"
            ]
          },
          "metadata": {},
          "execution_count": 36
        }
      ]
    },
    {
      "cell_type": "code",
      "source": [
        "# X and y\n",
        "act_X = act_imput_train.drop(columns=[\"tic\", \"invt\",\"lct\", \"act\", \"prcc_c\", \"csho\", \"re\"])\n",
        "act_y = act_imput_train[\"act\"]"
      ],
      "metadata": {
        "id": "WAXtZEh3MexZ"
      },
      "execution_count": null,
      "outputs": []
    },
    {
      "cell_type": "code",
      "source": [
        "# train-test split\n",
        "# I will use 50% of data as holdout set to validate model before imputation\n",
        "act_X_train, act_X_test, act_y_train, act_y_test = train_test_split(\n",
        "    act_X, act_y, test_size=0.5, random_state=870)"
      ],
      "metadata": {
        "id": "lQSIRs5MNqXW"
      },
      "execution_count": null,
      "outputs": []
    },
    {
      "cell_type": "code",
      "source": [
        "# initiate and fit the model\n",
        "reg_act = LinearRegression()\n",
        "reg_act.fit(act_X_train, act_y_train)\n",
        "\n",
        "# check r sqaured to see model explains much variation in the data\n",
        "r2_train_act = r2_score(act_y_train, reg_act.predict(act_X_train))\n",
        "r2_test_act = r2_score(act_y_test, reg_act.predict(act_X_test))\n",
        "\n",
        "print(\"The train R squared is {}, and test R squared is {}\".format(r2_train_act, r2_test_act))"
      ],
      "metadata": {
        "colab": {
          "base_uri": "https://localhost:8080/"
        },
        "id": "BOAJGTMDOGu9",
        "outputId": "f85088d8-8dad-4e4e-bb1f-026b0fda07a5"
      },
      "execution_count": null,
      "outputs": [
        {
          "output_type": "stream",
          "name": "stdout",
          "text": [
            "The train R squared is 0.7936122397978844, and test R squared is 0.6251992129075392\n"
          ]
        }
      ]
    },
    {
      "cell_type": "markdown",
      "source": [
        "The linear regression model have R square of 79.36% on train data, and 62.52 on test data."
      ],
      "metadata": {
        "id": "C7sp7sRKJ89a"
      }
    },
    {
      "cell_type": "code",
      "source": [
        "# make prediction\n",
        "act_target_pred = reg_act.predict(act_imput_target.drop(columns=[\"tic\", \"invt\",\"lct\", \"act\", \"prcc_c\", \"csho\", \"re\"]))"
      ],
      "metadata": {
        "id": "uAhp9UA_OlZf"
      },
      "execution_count": null,
      "outputs": []
    },
    {
      "cell_type": "code",
      "source": [
        "# add result in the data\n",
        "\n",
        "for index in act_imput_target.index:\n",
        "  pred_index = 0\n",
        "  financials.loc[index, \"act\"] = act_target_pred[pred_index]\n",
        "  pred_index += 1"
      ],
      "metadata": {
        "id": "OAxgGWVxQghu"
      },
      "execution_count": null,
      "outputs": []
    },
    {
      "cell_type": "code",
      "source": [
        "# confirm if all missing values are imputed\n",
        "financials.act.isna().sum()"
      ],
      "metadata": {
        "colab": {
          "base_uri": "https://localhost:8080/"
        },
        "id": "grlTCRbXRhwg",
        "outputId": "516f04ef-d194-4cb4-afc2-44318b9db116"
      },
      "execution_count": null,
      "outputs": [
        {
          "output_type": "execute_result",
          "data": {
            "text/plain": [
              "0"
            ]
          },
          "metadata": {},
          "execution_count": 42
        }
      ]
    },
    {
      "cell_type": "markdown",
      "source": [
        "### Invt (Inventory)"
      ],
      "metadata": {
        "id": "9PzKlg10cJ8v"
      }
    },
    {
      "cell_type": "code",
      "source": [
        "# generate subset of data frame that has missing values in invt column\n",
        "invt_imput_target = financials[financials[\"invt\"].isna()]\n",
        "invt_imput_target.head()"
      ],
      "metadata": {
        "id": "nrQ3XtW4Rmo-",
        "colab": {
          "base_uri": "https://localhost:8080/",
          "height": 250
        },
        "outputId": "d6c85bc5-7a8d-457c-c9f4-7251cc9c4b15"
      },
      "execution_count": null,
      "outputs": [
        {
          "output_type": "execute_result",
          "data": {
            "text/plain": [
              "     tic          act          at        ceq       cogs     csho  invt  \\\n",
              "154  EQT  2286.766000   21607.388  10029.527   2699.997  376.399   NaN   \n",
              "177  BEN   674.996251   24168.400  11223.400   5942.000  501.808   NaN   \n",
              "204   HE   674.996251   15822.637   2390.884   2185.611  109.312   NaN   \n",
              "257  LNC   674.996251  387301.000  20272.000  17045.000  177.194   NaN   \n",
              "259    L   674.996251   81626.000  17846.000  11571.000  248.417   NaN   \n",
              "\n",
              "          lct          lt        ni         re       revt  prcc_c  \n",
              "154  5080.171   11561.625 -1155.759   -120.390   3064.663   21.81  \n",
              "177       NaN   11424.800  1831.200  11173.200   8400.200   33.49  \n",
              "204       NaN   13397.460   248.056    705.388   2850.379   41.50  \n",
              "257       NaN  367029.000  1405.000  15537.000  18551.000   68.26  \n",
              "259       NaN   62451.000  1578.000  14962.000  13688.000   57.76  "
            ],
            "text/html": [
              "\n",
              "  <div id=\"df-d9124b65-306d-459d-bcf1-e3c0e2d3cd3d\">\n",
              "    <div class=\"colab-df-container\">\n",
              "      <div>\n",
              "<style scoped>\n",
              "    .dataframe tbody tr th:only-of-type {\n",
              "        vertical-align: middle;\n",
              "    }\n",
              "\n",
              "    .dataframe tbody tr th {\n",
              "        vertical-align: top;\n",
              "    }\n",
              "\n",
              "    .dataframe thead th {\n",
              "        text-align: right;\n",
              "    }\n",
              "</style>\n",
              "<table border=\"1\" class=\"dataframe\">\n",
              "  <thead>\n",
              "    <tr style=\"text-align: right;\">\n",
              "      <th></th>\n",
              "      <th>tic</th>\n",
              "      <th>act</th>\n",
              "      <th>at</th>\n",
              "      <th>ceq</th>\n",
              "      <th>cogs</th>\n",
              "      <th>csho</th>\n",
              "      <th>invt</th>\n",
              "      <th>lct</th>\n",
              "      <th>lt</th>\n",
              "      <th>ni</th>\n",
              "      <th>re</th>\n",
              "      <th>revt</th>\n",
              "      <th>prcc_c</th>\n",
              "    </tr>\n",
              "  </thead>\n",
              "  <tbody>\n",
              "    <tr>\n",
              "      <th>154</th>\n",
              "      <td>EQT</td>\n",
              "      <td>2286.766000</td>\n",
              "      <td>21607.388</td>\n",
              "      <td>10029.527</td>\n",
              "      <td>2699.997</td>\n",
              "      <td>376.399</td>\n",
              "      <td>NaN</td>\n",
              "      <td>5080.171</td>\n",
              "      <td>11561.625</td>\n",
              "      <td>-1155.759</td>\n",
              "      <td>-120.390</td>\n",
              "      <td>3064.663</td>\n",
              "      <td>21.81</td>\n",
              "    </tr>\n",
              "    <tr>\n",
              "      <th>177</th>\n",
              "      <td>BEN</td>\n",
              "      <td>674.996251</td>\n",
              "      <td>24168.400</td>\n",
              "      <td>11223.400</td>\n",
              "      <td>5942.000</td>\n",
              "      <td>501.808</td>\n",
              "      <td>NaN</td>\n",
              "      <td>NaN</td>\n",
              "      <td>11424.800</td>\n",
              "      <td>1831.200</td>\n",
              "      <td>11173.200</td>\n",
              "      <td>8400.200</td>\n",
              "      <td>33.49</td>\n",
              "    </tr>\n",
              "    <tr>\n",
              "      <th>204</th>\n",
              "      <td>HE</td>\n",
              "      <td>674.996251</td>\n",
              "      <td>15822.637</td>\n",
              "      <td>2390.884</td>\n",
              "      <td>2185.611</td>\n",
              "      <td>109.312</td>\n",
              "      <td>NaN</td>\n",
              "      <td>NaN</td>\n",
              "      <td>13397.460</td>\n",
              "      <td>248.056</td>\n",
              "      <td>705.388</td>\n",
              "      <td>2850.379</td>\n",
              "      <td>41.50</td>\n",
              "    </tr>\n",
              "    <tr>\n",
              "      <th>257</th>\n",
              "      <td>LNC</td>\n",
              "      <td>674.996251</td>\n",
              "      <td>387301.000</td>\n",
              "      <td>20272.000</td>\n",
              "      <td>17045.000</td>\n",
              "      <td>177.194</td>\n",
              "      <td>NaN</td>\n",
              "      <td>NaN</td>\n",
              "      <td>367029.000</td>\n",
              "      <td>1405.000</td>\n",
              "      <td>15537.000</td>\n",
              "      <td>18551.000</td>\n",
              "      <td>68.26</td>\n",
              "    </tr>\n",
              "    <tr>\n",
              "      <th>259</th>\n",
              "      <td>L</td>\n",
              "      <td>674.996251</td>\n",
              "      <td>81626.000</td>\n",
              "      <td>17846.000</td>\n",
              "      <td>11571.000</td>\n",
              "      <td>248.417</td>\n",
              "      <td>NaN</td>\n",
              "      <td>NaN</td>\n",
              "      <td>62451.000</td>\n",
              "      <td>1578.000</td>\n",
              "      <td>14962.000</td>\n",
              "      <td>13688.000</td>\n",
              "      <td>57.76</td>\n",
              "    </tr>\n",
              "  </tbody>\n",
              "</table>\n",
              "</div>\n",
              "      <button class=\"colab-df-convert\" onclick=\"convertToInteractive('df-d9124b65-306d-459d-bcf1-e3c0e2d3cd3d')\"\n",
              "              title=\"Convert this dataframe to an interactive table.\"\n",
              "              style=\"display:none;\">\n",
              "        \n",
              "  <svg xmlns=\"http://www.w3.org/2000/svg\" height=\"24px\"viewBox=\"0 0 24 24\"\n",
              "       width=\"24px\">\n",
              "    <path d=\"M0 0h24v24H0V0z\" fill=\"none\"/>\n",
              "    <path d=\"M18.56 5.44l.94 2.06.94-2.06 2.06-.94-2.06-.94-.94-2.06-.94 2.06-2.06.94zm-11 1L8.5 8.5l.94-2.06 2.06-.94-2.06-.94L8.5 2.5l-.94 2.06-2.06.94zm10 10l.94 2.06.94-2.06 2.06-.94-2.06-.94-.94-2.06-.94 2.06-2.06.94z\"/><path d=\"M17.41 7.96l-1.37-1.37c-.4-.4-.92-.59-1.43-.59-.52 0-1.04.2-1.43.59L10.3 9.45l-7.72 7.72c-.78.78-.78 2.05 0 2.83L4 21.41c.39.39.9.59 1.41.59.51 0 1.02-.2 1.41-.59l7.78-7.78 2.81-2.81c.8-.78.8-2.07 0-2.86zM5.41 20L4 18.59l7.72-7.72 1.47 1.35L5.41 20z\"/>\n",
              "  </svg>\n",
              "      </button>\n",
              "      \n",
              "  <style>\n",
              "    .colab-df-container {\n",
              "      display:flex;\n",
              "      flex-wrap:wrap;\n",
              "      gap: 12px;\n",
              "    }\n",
              "\n",
              "    .colab-df-convert {\n",
              "      background-color: #E8F0FE;\n",
              "      border: none;\n",
              "      border-radius: 50%;\n",
              "      cursor: pointer;\n",
              "      display: none;\n",
              "      fill: #1967D2;\n",
              "      height: 32px;\n",
              "      padding: 0 0 0 0;\n",
              "      width: 32px;\n",
              "    }\n",
              "\n",
              "    .colab-df-convert:hover {\n",
              "      background-color: #E2EBFA;\n",
              "      box-shadow: 0px 1px 2px rgba(60, 64, 67, 0.3), 0px 1px 3px 1px rgba(60, 64, 67, 0.15);\n",
              "      fill: #174EA6;\n",
              "    }\n",
              "\n",
              "    [theme=dark] .colab-df-convert {\n",
              "      background-color: #3B4455;\n",
              "      fill: #D2E3FC;\n",
              "    }\n",
              "\n",
              "    [theme=dark] .colab-df-convert:hover {\n",
              "      background-color: #434B5C;\n",
              "      box-shadow: 0px 1px 3px 1px rgba(0, 0, 0, 0.15);\n",
              "      filter: drop-shadow(0px 1px 2px rgba(0, 0, 0, 0.3));\n",
              "      fill: #FFFFFF;\n",
              "    }\n",
              "  </style>\n",
              "\n",
              "      <script>\n",
              "        const buttonEl =\n",
              "          document.querySelector('#df-d9124b65-306d-459d-bcf1-e3c0e2d3cd3d button.colab-df-convert');\n",
              "        buttonEl.style.display =\n",
              "          google.colab.kernel.accessAllowed ? 'block' : 'none';\n",
              "\n",
              "        async function convertToInteractive(key) {\n",
              "          const element = document.querySelector('#df-d9124b65-306d-459d-bcf1-e3c0e2d3cd3d');\n",
              "          const dataTable =\n",
              "            await google.colab.kernel.invokeFunction('convertToInteractive',\n",
              "                                                     [key], {});\n",
              "          if (!dataTable) return;\n",
              "\n",
              "          const docLinkHtml = 'Like what you see? Visit the ' +\n",
              "            '<a target=\"_blank\" href=https://colab.research.google.com/notebooks/data_table.ipynb>data table notebook</a>'\n",
              "            + ' to learn more about interactive tables.';\n",
              "          element.innerHTML = '';\n",
              "          dataTable['output_type'] = 'display_data';\n",
              "          await google.colab.output.renderOutput(dataTable, element);\n",
              "          const docLink = document.createElement('div');\n",
              "          docLink.innerHTML = docLinkHtml;\n",
              "          element.appendChild(docLink);\n",
              "        }\n",
              "      </script>\n",
              "    </div>\n",
              "  </div>\n",
              "  "
            ]
          },
          "metadata": {},
          "execution_count": 43
        }
      ]
    },
    {
      "cell_type": "code",
      "source": [
        "# generate subset of data that will be used in model training\n",
        "invt_imput_train = financials.drop(invt_imput_target.index)\n",
        "invt_imput_train.shape"
      ],
      "metadata": {
        "colab": {
          "base_uri": "https://localhost:8080/"
        },
        "id": "IFcQM4focZt5",
        "outputId": "3a98eae0-2233-43c6-cfe0-4b7d55bb55eb"
      },
      "execution_count": null,
      "outputs": [
        {
          "output_type": "execute_result",
          "data": {
            "text/plain": [
              "(1852, 13)"
            ]
          },
          "metadata": {},
          "execution_count": 44
        }
      ]
    },
    {
      "cell_type": "code",
      "source": [
        "# X and y\n",
        "invt_X = invt_imput_train.drop(columns=[\"tic\", \"invt\",\"lct\", \"prcc_c\", \"csho\", \"re\"])\n",
        "invt_y = invt_imput_train[\"invt\"]"
      ],
      "metadata": {
        "id": "fayo1wDTdqEX"
      },
      "execution_count": null,
      "outputs": []
    },
    {
      "cell_type": "code",
      "source": [
        "# train-test split\n",
        "invt_X_train, invt_X_test, invt_y_train, invt_y_test = train_test_split(\n",
        "    invt_X, invt_y, test_size=0.5, random_state=870)"
      ],
      "metadata": {
        "id": "VH-JX7xYdzXk"
      },
      "execution_count": null,
      "outputs": []
    },
    {
      "cell_type": "code",
      "source": [
        "# initiate and fit the model\n",
        "reg_invt = LinearRegression()\n",
        "reg_invt.fit(invt_X_train, invt_y_train)\n",
        "\n",
        "# check r sqaured to see model explains much variation in the data\n",
        "r2_train_invt1 = r2_score(invt_y_train, reg_invt.predict(invt_X_train))\n",
        "r2_test_invt1 = r2_score(invt_y_test, reg_invt.predict(invt_X_test))\n",
        "\n",
        "print(\"The train R squared is {}, and test R squared is {}\".format(r2_train_invt1, r2_test_invt1))"
      ],
      "metadata": {
        "colab": {
          "base_uri": "https://localhost:8080/"
        },
        "id": "RfmgNxTUeHUP",
        "outputId": "7415e4f1-1103-4cc9-d179-6ac1f45995ca"
      },
      "execution_count": null,
      "outputs": [
        {
          "output_type": "stream",
          "name": "stdout",
          "text": [
            "The train R squared is 0.24365415413649072, and test R squared is 0.09117099403711815\n"
          ]
        }
      ]
    },
    {
      "cell_type": "markdown",
      "source": [
        "When I tested out linear regression model, the R square on both train and test data were really low. So I will try another algorithm for comparison."
      ],
      "metadata": {
        "id": "QZdCBt7jKv-C"
      }
    },
    {
      "cell_type": "code",
      "source": [
        "# initiate and fit the model\n",
        "rf_invt = RandomForestRegressor(max_depth=8, random_state=870, n_estimators=200, max_features=\"sqrt\")\n",
        "rf_invt.fit(invt_X_train, invt_y_train)\n",
        "\n",
        "# check r sqaured to see model explains much variation in the data\n",
        "r2_train_invt2 = r2_score(invt_y_train, rf_invt.predict(invt_X_train))\n",
        "r2_test_invt2 = r2_score(invt_y_test, rf_invt.predict(invt_X_test))\n",
        "\n",
        "print(\"The train R squared is {}, and test R squared is {}\".format(r2_train_invt2, r2_test_invt2))"
      ],
      "metadata": {
        "colab": {
          "base_uri": "https://localhost:8080/"
        },
        "id": "lb3FWlHyKgLG",
        "outputId": "1680d0a7-7d1f-45c7-b894-e2ae928ceb61"
      },
      "execution_count": null,
      "outputs": [
        {
          "output_type": "stream",
          "name": "stdout",
          "text": [
            "The train R squared is 0.854050695747021, and test R squared is 0.2535491296943949\n"
          ]
        }
      ]
    },
    {
      "cell_type": "markdown",
      "source": [
        "The random forest model had a little higher r squared compared to the linear regression model. So I will use this model for imputation."
      ],
      "metadata": {
        "id": "NIK2sDlCLRkF"
      }
    },
    {
      "cell_type": "code",
      "source": [
        "# make prediction\n",
        "invt_target_pred = rf_invt.predict(invt_imput_target.drop(columns=[\"tic\", \"invt\",\"lct\", \"prcc_c\", \"csho\", \"re\"]))\n",
        "\n",
        "# add result in the data\n",
        "\n",
        "for index in invt_imput_target.index:\n",
        "  pred_index = 0\n",
        "  financials.loc[index, \"invt\"] = invt_target_pred[pred_index]\n",
        "  pred_index += 1"
      ],
      "metadata": {
        "id": "p0Z1Xm-SeUOB"
      },
      "execution_count": null,
      "outputs": []
    },
    {
      "cell_type": "code",
      "source": [
        "# confirm missing values\n",
        "financials.invt.isna().sum()"
      ],
      "metadata": {
        "colab": {
          "base_uri": "https://localhost:8080/"
        },
        "id": "BtkRPG4BgkkG",
        "outputId": "6f30b71c-513e-46c0-a563-aaa5b7db59db"
      },
      "execution_count": null,
      "outputs": [
        {
          "output_type": "execute_result",
          "data": {
            "text/plain": [
              "0"
            ]
          },
          "metadata": {},
          "execution_count": 50
        }
      ]
    },
    {
      "cell_type": "markdown",
      "source": [
        "### LCT (Current Liability)"
      ],
      "metadata": {
        "id": "oj8YlxUGh4wc"
      }
    },
    {
      "cell_type": "code",
      "source": [
        "# generate subset of data frame that has missing values in lct column\n",
        "lct_imput_target = financials[financials[\"lct\"].isna()]\n",
        "lct_imput_target.head()"
      ],
      "metadata": {
        "colab": {
          "base_uri": "https://localhost:8080/",
          "height": 206
        },
        "id": "d7Ok-aMWgnm1",
        "outputId": "6520a614-5a3c-4664-9850-f32cbe15ab36"
      },
      "execution_count": null,
      "outputs": [
        {
          "output_type": "execute_result",
          "data": {
            "text/plain": [
              "    tic         act          at        ceq       cogs     csho    invt  lct  \\\n",
              "9   ALX  674.996251    1391.965    252.589    124.027    5.107   0.000  NaN   \n",
              "14  PRI  674.996251   16123.223   2082.512   2039.968   39.368  24.355  NaN   \n",
              "17  AXP  674.996251  188548.000  22177.000  31847.000  761.000   0.000  NaN   \n",
              "18  AFL  674.996251  157542.000  33253.000  16433.000  652.132   0.000  NaN   \n",
              "19  AIG  674.996251  596112.000  65471.000  36091.000  818.687   0.000  NaN   \n",
              "\n",
              "            lt        ni         re       revt  prcc_c  \n",
              "9     1139.376   132.930    214.369    206.148  260.30  \n",
              "14   14033.440   373.357   2076.894   2709.732  153.27  \n",
              "17  166371.000  8060.000  10529.000  43663.000  163.60  \n",
              "18  124289.000  4325.000  48774.000  21037.000   58.39  \n",
              "19  527200.000  9388.000  30472.000  52046.000   56.86  "
            ],
            "text/html": [
              "\n",
              "  <div id=\"df-541e1da7-dedc-44b0-86e2-bf38440a7758\">\n",
              "    <div class=\"colab-df-container\">\n",
              "      <div>\n",
              "<style scoped>\n",
              "    .dataframe tbody tr th:only-of-type {\n",
              "        vertical-align: middle;\n",
              "    }\n",
              "\n",
              "    .dataframe tbody tr th {\n",
              "        vertical-align: top;\n",
              "    }\n",
              "\n",
              "    .dataframe thead th {\n",
              "        text-align: right;\n",
              "    }\n",
              "</style>\n",
              "<table border=\"1\" class=\"dataframe\">\n",
              "  <thead>\n",
              "    <tr style=\"text-align: right;\">\n",
              "      <th></th>\n",
              "      <th>tic</th>\n",
              "      <th>act</th>\n",
              "      <th>at</th>\n",
              "      <th>ceq</th>\n",
              "      <th>cogs</th>\n",
              "      <th>csho</th>\n",
              "      <th>invt</th>\n",
              "      <th>lct</th>\n",
              "      <th>lt</th>\n",
              "      <th>ni</th>\n",
              "      <th>re</th>\n",
              "      <th>revt</th>\n",
              "      <th>prcc_c</th>\n",
              "    </tr>\n",
              "  </thead>\n",
              "  <tbody>\n",
              "    <tr>\n",
              "      <th>9</th>\n",
              "      <td>ALX</td>\n",
              "      <td>674.996251</td>\n",
              "      <td>1391.965</td>\n",
              "      <td>252.589</td>\n",
              "      <td>124.027</td>\n",
              "      <td>5.107</td>\n",
              "      <td>0.000</td>\n",
              "      <td>NaN</td>\n",
              "      <td>1139.376</td>\n",
              "      <td>132.930</td>\n",
              "      <td>214.369</td>\n",
              "      <td>206.148</td>\n",
              "      <td>260.30</td>\n",
              "    </tr>\n",
              "    <tr>\n",
              "      <th>14</th>\n",
              "      <td>PRI</td>\n",
              "      <td>674.996251</td>\n",
              "      <td>16123.223</td>\n",
              "      <td>2082.512</td>\n",
              "      <td>2039.968</td>\n",
              "      <td>39.368</td>\n",
              "      <td>24.355</td>\n",
              "      <td>NaN</td>\n",
              "      <td>14033.440</td>\n",
              "      <td>373.357</td>\n",
              "      <td>2076.894</td>\n",
              "      <td>2709.732</td>\n",
              "      <td>153.27</td>\n",
              "    </tr>\n",
              "    <tr>\n",
              "      <th>17</th>\n",
              "      <td>AXP</td>\n",
              "      <td>674.996251</td>\n",
              "      <td>188548.000</td>\n",
              "      <td>22177.000</td>\n",
              "      <td>31847.000</td>\n",
              "      <td>761.000</td>\n",
              "      <td>0.000</td>\n",
              "      <td>NaN</td>\n",
              "      <td>166371.000</td>\n",
              "      <td>8060.000</td>\n",
              "      <td>10529.000</td>\n",
              "      <td>43663.000</td>\n",
              "      <td>163.60</td>\n",
              "    </tr>\n",
              "    <tr>\n",
              "      <th>18</th>\n",
              "      <td>AFL</td>\n",
              "      <td>674.996251</td>\n",
              "      <td>157542.000</td>\n",
              "      <td>33253.000</td>\n",
              "      <td>16433.000</td>\n",
              "      <td>652.132</td>\n",
              "      <td>0.000</td>\n",
              "      <td>NaN</td>\n",
              "      <td>124289.000</td>\n",
              "      <td>4325.000</td>\n",
              "      <td>48774.000</td>\n",
              "      <td>21037.000</td>\n",
              "      <td>58.39</td>\n",
              "    </tr>\n",
              "    <tr>\n",
              "      <th>19</th>\n",
              "      <td>AIG</td>\n",
              "      <td>674.996251</td>\n",
              "      <td>596112.000</td>\n",
              "      <td>65471.000</td>\n",
              "      <td>36091.000</td>\n",
              "      <td>818.687</td>\n",
              "      <td>0.000</td>\n",
              "      <td>NaN</td>\n",
              "      <td>527200.000</td>\n",
              "      <td>9388.000</td>\n",
              "      <td>30472.000</td>\n",
              "      <td>52046.000</td>\n",
              "      <td>56.86</td>\n",
              "    </tr>\n",
              "  </tbody>\n",
              "</table>\n",
              "</div>\n",
              "      <button class=\"colab-df-convert\" onclick=\"convertToInteractive('df-541e1da7-dedc-44b0-86e2-bf38440a7758')\"\n",
              "              title=\"Convert this dataframe to an interactive table.\"\n",
              "              style=\"display:none;\">\n",
              "        \n",
              "  <svg xmlns=\"http://www.w3.org/2000/svg\" height=\"24px\"viewBox=\"0 0 24 24\"\n",
              "       width=\"24px\">\n",
              "    <path d=\"M0 0h24v24H0V0z\" fill=\"none\"/>\n",
              "    <path d=\"M18.56 5.44l.94 2.06.94-2.06 2.06-.94-2.06-.94-.94-2.06-.94 2.06-2.06.94zm-11 1L8.5 8.5l.94-2.06 2.06-.94-2.06-.94L8.5 2.5l-.94 2.06-2.06.94zm10 10l.94 2.06.94-2.06 2.06-.94-2.06-.94-.94-2.06-.94 2.06-2.06.94z\"/><path d=\"M17.41 7.96l-1.37-1.37c-.4-.4-.92-.59-1.43-.59-.52 0-1.04.2-1.43.59L10.3 9.45l-7.72 7.72c-.78.78-.78 2.05 0 2.83L4 21.41c.39.39.9.59 1.41.59.51 0 1.02-.2 1.41-.59l7.78-7.78 2.81-2.81c.8-.78.8-2.07 0-2.86zM5.41 20L4 18.59l7.72-7.72 1.47 1.35L5.41 20z\"/>\n",
              "  </svg>\n",
              "      </button>\n",
              "      \n",
              "  <style>\n",
              "    .colab-df-container {\n",
              "      display:flex;\n",
              "      flex-wrap:wrap;\n",
              "      gap: 12px;\n",
              "    }\n",
              "\n",
              "    .colab-df-convert {\n",
              "      background-color: #E8F0FE;\n",
              "      border: none;\n",
              "      border-radius: 50%;\n",
              "      cursor: pointer;\n",
              "      display: none;\n",
              "      fill: #1967D2;\n",
              "      height: 32px;\n",
              "      padding: 0 0 0 0;\n",
              "      width: 32px;\n",
              "    }\n",
              "\n",
              "    .colab-df-convert:hover {\n",
              "      background-color: #E2EBFA;\n",
              "      box-shadow: 0px 1px 2px rgba(60, 64, 67, 0.3), 0px 1px 3px 1px rgba(60, 64, 67, 0.15);\n",
              "      fill: #174EA6;\n",
              "    }\n",
              "\n",
              "    [theme=dark] .colab-df-convert {\n",
              "      background-color: #3B4455;\n",
              "      fill: #D2E3FC;\n",
              "    }\n",
              "\n",
              "    [theme=dark] .colab-df-convert:hover {\n",
              "      background-color: #434B5C;\n",
              "      box-shadow: 0px 1px 3px 1px rgba(0, 0, 0, 0.15);\n",
              "      filter: drop-shadow(0px 1px 2px rgba(0, 0, 0, 0.3));\n",
              "      fill: #FFFFFF;\n",
              "    }\n",
              "  </style>\n",
              "\n",
              "      <script>\n",
              "        const buttonEl =\n",
              "          document.querySelector('#df-541e1da7-dedc-44b0-86e2-bf38440a7758 button.colab-df-convert');\n",
              "        buttonEl.style.display =\n",
              "          google.colab.kernel.accessAllowed ? 'block' : 'none';\n",
              "\n",
              "        async function convertToInteractive(key) {\n",
              "          const element = document.querySelector('#df-541e1da7-dedc-44b0-86e2-bf38440a7758');\n",
              "          const dataTable =\n",
              "            await google.colab.kernel.invokeFunction('convertToInteractive',\n",
              "                                                     [key], {});\n",
              "          if (!dataTable) return;\n",
              "\n",
              "          const docLinkHtml = 'Like what you see? Visit the ' +\n",
              "            '<a target=\"_blank\" href=https://colab.research.google.com/notebooks/data_table.ipynb>data table notebook</a>'\n",
              "            + ' to learn more about interactive tables.';\n",
              "          element.innerHTML = '';\n",
              "          dataTable['output_type'] = 'display_data';\n",
              "          await google.colab.output.renderOutput(dataTable, element);\n",
              "          const docLink = document.createElement('div');\n",
              "          docLink.innerHTML = docLinkHtml;\n",
              "          element.appendChild(docLink);\n",
              "        }\n",
              "      </script>\n",
              "    </div>\n",
              "  </div>\n",
              "  "
            ]
          },
          "metadata": {},
          "execution_count": 51
        }
      ]
    },
    {
      "cell_type": "code",
      "source": [
        "# generate subset of data that will be used in model training\n",
        "lct_imput_train = financials.drop(lct_imput_target.index)\n",
        "lct_imput_train.shape"
      ],
      "metadata": {
        "colab": {
          "base_uri": "https://localhost:8080/"
        },
        "id": "svTXab5LiE79",
        "outputId": "7c1225d8-7175-49fa-9b06-993dd63356fe"
      },
      "execution_count": null,
      "outputs": [
        {
          "output_type": "execute_result",
          "data": {
            "text/plain": [
              "(1431, 13)"
            ]
          },
          "metadata": {},
          "execution_count": 52
        }
      ]
    },
    {
      "cell_type": "code",
      "source": [
        "# X and y\n",
        "lct_X = lct_imput_train.drop(columns=[\"tic\",\"lct\", \"prcc_c\", \"csho\", \"re\"])\n",
        "lct_y = lct_imput_train[\"lct\"]"
      ],
      "metadata": {
        "id": "bfo7l7GMiuqb"
      },
      "execution_count": null,
      "outputs": []
    },
    {
      "cell_type": "code",
      "source": [
        "# train-test split\n",
        "lct_X_train, lct_X_test, lct_y_train, lct_y_test = train_test_split(\n",
        "    lct_X, lct_y, test_size=0.5, random_state=870)"
      ],
      "metadata": {
        "id": "lZ3xytp2i3I6"
      },
      "execution_count": null,
      "outputs": []
    },
    {
      "cell_type": "code",
      "source": [
        "# initiate and fit the model\n",
        "reg_lct = LinearRegression()\n",
        "reg_lct.fit(lct_X_train, lct_y_train)\n",
        "\n",
        "# check r sqaured to see model explains much variation in the data\n",
        "r2_train_lct = r2_score(lct_y_train, reg_lct.predict(lct_X_train))\n",
        "r2_test_lct = r2_score(lct_y_test, reg_lct.predict(lct_X_test))\n",
        "\n",
        "print(\"The train R squared is {}, and test R squared is {}\".format(r2_train_lct, r2_test_lct))"
      ],
      "metadata": {
        "colab": {
          "base_uri": "https://localhost:8080/"
        },
        "id": "8Kg62YLji9si",
        "outputId": "3b7a1b01-8a0a-41a9-d349-e43397e500f0"
      },
      "execution_count": null,
      "outputs": [
        {
          "output_type": "stream",
          "name": "stdout",
          "text": [
            "The train R squared is 0.9701286230984707, and test R squared is 0.905632914531538\n"
          ]
        }
      ]
    },
    {
      "cell_type": "markdown",
      "source": [
        "The model had high R squared in both train and test data. So I will use this model without trying out other algorithms."
      ],
      "metadata": {
        "id": "b6AjlmGOMnvm"
      }
    },
    {
      "cell_type": "code",
      "source": [
        "# make prediction\n",
        "lct_target_pred = reg_lct.predict(lct_imput_target.drop(columns=[\"tic\",\"lct\", \"prcc_c\", \"csho\", \"re\"]))\n",
        "\n",
        "# add result in the data\n",
        "\n",
        "for index in lct_imput_target.index:\n",
        "  pred_index = 0\n",
        "  financials.loc[index, \"lct\"] = lct_target_pred[pred_index]\n",
        "  pred_index += 1"
      ],
      "metadata": {
        "id": "Fo3Dxs-qjX68"
      },
      "execution_count": null,
      "outputs": []
    },
    {
      "cell_type": "code",
      "source": [
        "# confirm the data\n",
        "financials.lct.isna().sum()"
      ],
      "metadata": {
        "colab": {
          "base_uri": "https://localhost:8080/"
        },
        "id": "S71mcHe0j4EY",
        "outputId": "e728b030-9055-4c0c-a1fb-1977e5f1eb9c"
      },
      "execution_count": null,
      "outputs": [
        {
          "output_type": "execute_result",
          "data": {
            "text/plain": [
              "0"
            ]
          },
          "metadata": {},
          "execution_count": 57
        }
      ]
    },
    {
      "cell_type": "markdown",
      "source": [
        "### Re (retained earning)"
      ],
      "metadata": {
        "id": "ttEBUwdf_GnJ"
      }
    },
    {
      "cell_type": "code",
      "source": [
        "# generate subset of data frame that has missing values in re column\n",
        "re_imput_target = financials[financials[\"re\"].isna()]\n",
        "re_imput_target.head()"
      ],
      "metadata": {
        "colab": {
          "base_uri": "https://localhost:8080/",
          "height": 143
        },
        "id": "Nh1Jhn1A_Jva",
        "outputId": "993b695b-6976-4d38-afe4-8b92d5b432f5"
      },
      "execution_count": null,
      "outputs": [
        {
          "output_type": "execute_result",
          "data": {
            "text/plain": [
              "        tic       act         at       ceq      cogs     csho    invt  \\\n",
              "624   LSXMK  2113.000  31674.000  8036.000  4233.000  334.300   0.000   \n",
              "1007  FWONK  2369.000  11664.000  6340.000  1489.000  232.191   0.000   \n",
              "1313    NAT   107.608    903.057   550.128   195.939  183.694  20.873   \n",
              "\n",
              "           lct         lt       ni  re      revt  prcc_c  \n",
              "624   5178.000  20073.000  599.000 NaN  8696.000   50.85  \n",
              "1007  1296.000   4724.000 -190.000 NaN  2136.000   63.24  \n",
              "1313    67.645    352.929 -119.423 NaN   195.759    1.69  "
            ],
            "text/html": [
              "\n",
              "  <div id=\"df-e0c7f428-dba9-4266-b4a8-db48d923839b\">\n",
              "    <div class=\"colab-df-container\">\n",
              "      <div>\n",
              "<style scoped>\n",
              "    .dataframe tbody tr th:only-of-type {\n",
              "        vertical-align: middle;\n",
              "    }\n",
              "\n",
              "    .dataframe tbody tr th {\n",
              "        vertical-align: top;\n",
              "    }\n",
              "\n",
              "    .dataframe thead th {\n",
              "        text-align: right;\n",
              "    }\n",
              "</style>\n",
              "<table border=\"1\" class=\"dataframe\">\n",
              "  <thead>\n",
              "    <tr style=\"text-align: right;\">\n",
              "      <th></th>\n",
              "      <th>tic</th>\n",
              "      <th>act</th>\n",
              "      <th>at</th>\n",
              "      <th>ceq</th>\n",
              "      <th>cogs</th>\n",
              "      <th>csho</th>\n",
              "      <th>invt</th>\n",
              "      <th>lct</th>\n",
              "      <th>lt</th>\n",
              "      <th>ni</th>\n",
              "      <th>re</th>\n",
              "      <th>revt</th>\n",
              "      <th>prcc_c</th>\n",
              "    </tr>\n",
              "  </thead>\n",
              "  <tbody>\n",
              "    <tr>\n",
              "      <th>624</th>\n",
              "      <td>LSXMK</td>\n",
              "      <td>2113.000</td>\n",
              "      <td>31674.000</td>\n",
              "      <td>8036.000</td>\n",
              "      <td>4233.000</td>\n",
              "      <td>334.300</td>\n",
              "      <td>0.000</td>\n",
              "      <td>5178.000</td>\n",
              "      <td>20073.000</td>\n",
              "      <td>599.000</td>\n",
              "      <td>NaN</td>\n",
              "      <td>8696.000</td>\n",
              "      <td>50.85</td>\n",
              "    </tr>\n",
              "    <tr>\n",
              "      <th>1007</th>\n",
              "      <td>FWONK</td>\n",
              "      <td>2369.000</td>\n",
              "      <td>11664.000</td>\n",
              "      <td>6340.000</td>\n",
              "      <td>1489.000</td>\n",
              "      <td>232.191</td>\n",
              "      <td>0.000</td>\n",
              "      <td>1296.000</td>\n",
              "      <td>4724.000</td>\n",
              "      <td>-190.000</td>\n",
              "      <td>NaN</td>\n",
              "      <td>2136.000</td>\n",
              "      <td>63.24</td>\n",
              "    </tr>\n",
              "    <tr>\n",
              "      <th>1313</th>\n",
              "      <td>NAT</td>\n",
              "      <td>107.608</td>\n",
              "      <td>903.057</td>\n",
              "      <td>550.128</td>\n",
              "      <td>195.939</td>\n",
              "      <td>183.694</td>\n",
              "      <td>20.873</td>\n",
              "      <td>67.645</td>\n",
              "      <td>352.929</td>\n",
              "      <td>-119.423</td>\n",
              "      <td>NaN</td>\n",
              "      <td>195.759</td>\n",
              "      <td>1.69</td>\n",
              "    </tr>\n",
              "  </tbody>\n",
              "</table>\n",
              "</div>\n",
              "      <button class=\"colab-df-convert\" onclick=\"convertToInteractive('df-e0c7f428-dba9-4266-b4a8-db48d923839b')\"\n",
              "              title=\"Convert this dataframe to an interactive table.\"\n",
              "              style=\"display:none;\">\n",
              "        \n",
              "  <svg xmlns=\"http://www.w3.org/2000/svg\" height=\"24px\"viewBox=\"0 0 24 24\"\n",
              "       width=\"24px\">\n",
              "    <path d=\"M0 0h24v24H0V0z\" fill=\"none\"/>\n",
              "    <path d=\"M18.56 5.44l.94 2.06.94-2.06 2.06-.94-2.06-.94-.94-2.06-.94 2.06-2.06.94zm-11 1L8.5 8.5l.94-2.06 2.06-.94-2.06-.94L8.5 2.5l-.94 2.06-2.06.94zm10 10l.94 2.06.94-2.06 2.06-.94-2.06-.94-.94-2.06-.94 2.06-2.06.94z\"/><path d=\"M17.41 7.96l-1.37-1.37c-.4-.4-.92-.59-1.43-.59-.52 0-1.04.2-1.43.59L10.3 9.45l-7.72 7.72c-.78.78-.78 2.05 0 2.83L4 21.41c.39.39.9.59 1.41.59.51 0 1.02-.2 1.41-.59l7.78-7.78 2.81-2.81c.8-.78.8-2.07 0-2.86zM5.41 20L4 18.59l7.72-7.72 1.47 1.35L5.41 20z\"/>\n",
              "  </svg>\n",
              "      </button>\n",
              "      \n",
              "  <style>\n",
              "    .colab-df-container {\n",
              "      display:flex;\n",
              "      flex-wrap:wrap;\n",
              "      gap: 12px;\n",
              "    }\n",
              "\n",
              "    .colab-df-convert {\n",
              "      background-color: #E8F0FE;\n",
              "      border: none;\n",
              "      border-radius: 50%;\n",
              "      cursor: pointer;\n",
              "      display: none;\n",
              "      fill: #1967D2;\n",
              "      height: 32px;\n",
              "      padding: 0 0 0 0;\n",
              "      width: 32px;\n",
              "    }\n",
              "\n",
              "    .colab-df-convert:hover {\n",
              "      background-color: #E2EBFA;\n",
              "      box-shadow: 0px 1px 2px rgba(60, 64, 67, 0.3), 0px 1px 3px 1px rgba(60, 64, 67, 0.15);\n",
              "      fill: #174EA6;\n",
              "    }\n",
              "\n",
              "    [theme=dark] .colab-df-convert {\n",
              "      background-color: #3B4455;\n",
              "      fill: #D2E3FC;\n",
              "    }\n",
              "\n",
              "    [theme=dark] .colab-df-convert:hover {\n",
              "      background-color: #434B5C;\n",
              "      box-shadow: 0px 1px 3px 1px rgba(0, 0, 0, 0.15);\n",
              "      filter: drop-shadow(0px 1px 2px rgba(0, 0, 0, 0.3));\n",
              "      fill: #FFFFFF;\n",
              "    }\n",
              "  </style>\n",
              "\n",
              "      <script>\n",
              "        const buttonEl =\n",
              "          document.querySelector('#df-e0c7f428-dba9-4266-b4a8-db48d923839b button.colab-df-convert');\n",
              "        buttonEl.style.display =\n",
              "          google.colab.kernel.accessAllowed ? 'block' : 'none';\n",
              "\n",
              "        async function convertToInteractive(key) {\n",
              "          const element = document.querySelector('#df-e0c7f428-dba9-4266-b4a8-db48d923839b');\n",
              "          const dataTable =\n",
              "            await google.colab.kernel.invokeFunction('convertToInteractive',\n",
              "                                                     [key], {});\n",
              "          if (!dataTable) return;\n",
              "\n",
              "          const docLinkHtml = 'Like what you see? Visit the ' +\n",
              "            '<a target=\"_blank\" href=https://colab.research.google.com/notebooks/data_table.ipynb>data table notebook</a>'\n",
              "            + ' to learn more about interactive tables.';\n",
              "          element.innerHTML = '';\n",
              "          dataTable['output_type'] = 'display_data';\n",
              "          await google.colab.output.renderOutput(dataTable, element);\n",
              "          const docLink = document.createElement('div');\n",
              "          docLink.innerHTML = docLinkHtml;\n",
              "          element.appendChild(docLink);\n",
              "        }\n",
              "      </script>\n",
              "    </div>\n",
              "  </div>\n",
              "  "
            ]
          },
          "metadata": {},
          "execution_count": 58
        }
      ]
    },
    {
      "cell_type": "code",
      "source": [
        "# generate subset of data that will be used in model training\n",
        "re_imput_train = financials.drop(re_imput_target.index)\n",
        "re_imput_train.shape"
      ],
      "metadata": {
        "colab": {
          "base_uri": "https://localhost:8080/"
        },
        "id": "LlTQzlRXAtGx",
        "outputId": "4d5669ca-d07b-42bb-8399-4fb73e73ed8c"
      },
      "execution_count": null,
      "outputs": [
        {
          "output_type": "execute_result",
          "data": {
            "text/plain": [
              "(1883, 13)"
            ]
          },
          "metadata": {},
          "execution_count": 59
        }
      ]
    },
    {
      "cell_type": "code",
      "source": [
        "# X and y\n",
        "re_X = re_imput_train.drop(columns=[\"tic\", \"prcc_c\", \"csho\", \"re\"])\n",
        "re_y = re_imput_train[\"re\"]"
      ],
      "metadata": {
        "id": "1ZIN3trVAzpw"
      },
      "execution_count": null,
      "outputs": []
    },
    {
      "cell_type": "code",
      "source": [
        "# train-test split\n",
        "re_X_train, re_X_test, re_y_train, re_y_test = train_test_split(\n",
        "    re_X, re_y, test_size=0.5, random_state=870)"
      ],
      "metadata": {
        "id": "E0m24l5SA9WV"
      },
      "execution_count": null,
      "outputs": []
    },
    {
      "cell_type": "code",
      "source": [
        "# initiate and fit the model\n",
        "reg_re = LinearRegression()\n",
        "reg_re.fit(re_X_train, re_y_train)\n",
        "\n",
        "# check r sqaured to see model explains much variation in the data\n",
        "r2_train_re = r2_score(re_y_train, reg_re.predict(re_X_train))\n",
        "r2_test_re = r2_score(re_y_test, reg_re.predict(re_X_test))\n",
        "\n",
        "print(\"The train R squared is {}, and test R squared is {}\".format(r2_train_re, r2_test_re))"
      ],
      "metadata": {
        "colab": {
          "base_uri": "https://localhost:8080/"
        },
        "id": "efBQzuucBDkg",
        "outputId": "f1a95b22-5260-4009-b350-830abd88f3a7"
      },
      "execution_count": null,
      "outputs": [
        {
          "output_type": "stream",
          "name": "stdout",
          "text": [
            "The train R squared is 0.8664464990981192, and test R squared is 0.6504671076107982\n"
          ]
        }
      ]
    },
    {
      "cell_type": "markdown",
      "source": [
        "This model had moderate explanatory power. So I will use this model."
      ],
      "metadata": {
        "id": "JemJGlNdM05y"
      }
    },
    {
      "cell_type": "code",
      "source": [
        "# make prediction\n",
        "re_target_pred = reg_re.predict(re_imput_target.drop(columns=[\"tic\", \"prcc_c\", \"csho\", \"re\"]))\n",
        "\n",
        "# add result in the data\n",
        "\n",
        "for index in re_imput_target.index:\n",
        "  pred_index = 0\n",
        "  financials.loc[index, \"re\"] = re_target_pred[pred_index]\n",
        "  pred_index += 1"
      ],
      "metadata": {
        "id": "KBcObPLgDv0I"
      },
      "execution_count": null,
      "outputs": []
    },
    {
      "cell_type": "code",
      "source": [
        "# confirm the data\n",
        "financials.lct.isna().sum()"
      ],
      "metadata": {
        "colab": {
          "base_uri": "https://localhost:8080/"
        },
        "id": "PGSCkZJWD68Z",
        "outputId": "5e0540fd-3f1e-4704-977a-5cbcd31b55a6"
      },
      "execution_count": null,
      "outputs": [
        {
          "output_type": "execute_result",
          "data": {
            "text/plain": [
              "0"
            ]
          },
          "metadata": {},
          "execution_count": 64
        }
      ]
    },
    {
      "cell_type": "markdown",
      "source": [
        "# Fama-French Risk Factors"
      ],
      "metadata": {
        "id": "43RBX-bXkW2G"
      }
    },
    {
      "cell_type": "markdown",
      "source": [
        "In this part, I will use ff_factors data and returns data to get 3 risk factors of each individual company."
      ],
      "metadata": {
        "id": "jfPxk8ZqNyks"
      }
    },
    {
      "cell_type": "code",
      "source": [
        "# data preparation - merge the data\n",
        "returns_ff = pd.merge(returns, ff_factors, on=\"date\", how=\"outer\")\n",
        "returns_ff.head()"
      ],
      "metadata": {
        "colab": {
          "base_uri": "https://localhost:8080/",
          "height": 206
        },
        "id": "hbgP6wHlj7Gq",
        "outputId": "82d428ec-f82c-491c-9333-68b76a033461"
      },
      "execution_count": null,
      "outputs": [
        {
          "output_type": "execute_result",
          "data": {
            "text/plain": [
              "   permno      date   tic       ret   mktrf     smb     hml      rf\n",
              "0   10026  20170131  JJSF -0.043918  0.0194 -0.0113 -0.0274  0.0004\n",
              "1   10032  20170131  PLXS  0.004811  0.0194 -0.0113 -0.0274  0.0004\n",
              "2   10104  20170131  ORCL  0.047074  0.0194 -0.0113 -0.0274  0.0004\n",
              "3   10107  20170131  MSFT  0.040393  0.0194 -0.0113 -0.0274  0.0004\n",
              "4   10138  20170131  TROW -0.103906  0.0194 -0.0113 -0.0274  0.0004"
            ],
            "text/html": [
              "\n",
              "  <div id=\"df-c7683615-c875-44d7-aab0-5b57c7597d88\">\n",
              "    <div class=\"colab-df-container\">\n",
              "      <div>\n",
              "<style scoped>\n",
              "    .dataframe tbody tr th:only-of-type {\n",
              "        vertical-align: middle;\n",
              "    }\n",
              "\n",
              "    .dataframe tbody tr th {\n",
              "        vertical-align: top;\n",
              "    }\n",
              "\n",
              "    .dataframe thead th {\n",
              "        text-align: right;\n",
              "    }\n",
              "</style>\n",
              "<table border=\"1\" class=\"dataframe\">\n",
              "  <thead>\n",
              "    <tr style=\"text-align: right;\">\n",
              "      <th></th>\n",
              "      <th>permno</th>\n",
              "      <th>date</th>\n",
              "      <th>tic</th>\n",
              "      <th>ret</th>\n",
              "      <th>mktrf</th>\n",
              "      <th>smb</th>\n",
              "      <th>hml</th>\n",
              "      <th>rf</th>\n",
              "    </tr>\n",
              "  </thead>\n",
              "  <tbody>\n",
              "    <tr>\n",
              "      <th>0</th>\n",
              "      <td>10026</td>\n",
              "      <td>20170131</td>\n",
              "      <td>JJSF</td>\n",
              "      <td>-0.043918</td>\n",
              "      <td>0.0194</td>\n",
              "      <td>-0.0113</td>\n",
              "      <td>-0.0274</td>\n",
              "      <td>0.0004</td>\n",
              "    </tr>\n",
              "    <tr>\n",
              "      <th>1</th>\n",
              "      <td>10032</td>\n",
              "      <td>20170131</td>\n",
              "      <td>PLXS</td>\n",
              "      <td>0.004811</td>\n",
              "      <td>0.0194</td>\n",
              "      <td>-0.0113</td>\n",
              "      <td>-0.0274</td>\n",
              "      <td>0.0004</td>\n",
              "    </tr>\n",
              "    <tr>\n",
              "      <th>2</th>\n",
              "      <td>10104</td>\n",
              "      <td>20170131</td>\n",
              "      <td>ORCL</td>\n",
              "      <td>0.047074</td>\n",
              "      <td>0.0194</td>\n",
              "      <td>-0.0113</td>\n",
              "      <td>-0.0274</td>\n",
              "      <td>0.0004</td>\n",
              "    </tr>\n",
              "    <tr>\n",
              "      <th>3</th>\n",
              "      <td>10107</td>\n",
              "      <td>20170131</td>\n",
              "      <td>MSFT</td>\n",
              "      <td>0.040393</td>\n",
              "      <td>0.0194</td>\n",
              "      <td>-0.0113</td>\n",
              "      <td>-0.0274</td>\n",
              "      <td>0.0004</td>\n",
              "    </tr>\n",
              "    <tr>\n",
              "      <th>4</th>\n",
              "      <td>10138</td>\n",
              "      <td>20170131</td>\n",
              "      <td>TROW</td>\n",
              "      <td>-0.103906</td>\n",
              "      <td>0.0194</td>\n",
              "      <td>-0.0113</td>\n",
              "      <td>-0.0274</td>\n",
              "      <td>0.0004</td>\n",
              "    </tr>\n",
              "  </tbody>\n",
              "</table>\n",
              "</div>\n",
              "      <button class=\"colab-df-convert\" onclick=\"convertToInteractive('df-c7683615-c875-44d7-aab0-5b57c7597d88')\"\n",
              "              title=\"Convert this dataframe to an interactive table.\"\n",
              "              style=\"display:none;\">\n",
              "        \n",
              "  <svg xmlns=\"http://www.w3.org/2000/svg\" height=\"24px\"viewBox=\"0 0 24 24\"\n",
              "       width=\"24px\">\n",
              "    <path d=\"M0 0h24v24H0V0z\" fill=\"none\"/>\n",
              "    <path d=\"M18.56 5.44l.94 2.06.94-2.06 2.06-.94-2.06-.94-.94-2.06-.94 2.06-2.06.94zm-11 1L8.5 8.5l.94-2.06 2.06-.94-2.06-.94L8.5 2.5l-.94 2.06-2.06.94zm10 10l.94 2.06.94-2.06 2.06-.94-2.06-.94-.94-2.06-.94 2.06-2.06.94z\"/><path d=\"M17.41 7.96l-1.37-1.37c-.4-.4-.92-.59-1.43-.59-.52 0-1.04.2-1.43.59L10.3 9.45l-7.72 7.72c-.78.78-.78 2.05 0 2.83L4 21.41c.39.39.9.59 1.41.59.51 0 1.02-.2 1.41-.59l7.78-7.78 2.81-2.81c.8-.78.8-2.07 0-2.86zM5.41 20L4 18.59l7.72-7.72 1.47 1.35L5.41 20z\"/>\n",
              "  </svg>\n",
              "      </button>\n",
              "      \n",
              "  <style>\n",
              "    .colab-df-container {\n",
              "      display:flex;\n",
              "      flex-wrap:wrap;\n",
              "      gap: 12px;\n",
              "    }\n",
              "\n",
              "    .colab-df-convert {\n",
              "      background-color: #E8F0FE;\n",
              "      border: none;\n",
              "      border-radius: 50%;\n",
              "      cursor: pointer;\n",
              "      display: none;\n",
              "      fill: #1967D2;\n",
              "      height: 32px;\n",
              "      padding: 0 0 0 0;\n",
              "      width: 32px;\n",
              "    }\n",
              "\n",
              "    .colab-df-convert:hover {\n",
              "      background-color: #E2EBFA;\n",
              "      box-shadow: 0px 1px 2px rgba(60, 64, 67, 0.3), 0px 1px 3px 1px rgba(60, 64, 67, 0.15);\n",
              "      fill: #174EA6;\n",
              "    }\n",
              "\n",
              "    [theme=dark] .colab-df-convert {\n",
              "      background-color: #3B4455;\n",
              "      fill: #D2E3FC;\n",
              "    }\n",
              "\n",
              "    [theme=dark] .colab-df-convert:hover {\n",
              "      background-color: #434B5C;\n",
              "      box-shadow: 0px 1px 3px 1px rgba(0, 0, 0, 0.15);\n",
              "      filter: drop-shadow(0px 1px 2px rgba(0, 0, 0, 0.3));\n",
              "      fill: #FFFFFF;\n",
              "    }\n",
              "  </style>\n",
              "\n",
              "      <script>\n",
              "        const buttonEl =\n",
              "          document.querySelector('#df-c7683615-c875-44d7-aab0-5b57c7597d88 button.colab-df-convert');\n",
              "        buttonEl.style.display =\n",
              "          google.colab.kernel.accessAllowed ? 'block' : 'none';\n",
              "\n",
              "        async function convertToInteractive(key) {\n",
              "          const element = document.querySelector('#df-c7683615-c875-44d7-aab0-5b57c7597d88');\n",
              "          const dataTable =\n",
              "            await google.colab.kernel.invokeFunction('convertToInteractive',\n",
              "                                                     [key], {});\n",
              "          if (!dataTable) return;\n",
              "\n",
              "          const docLinkHtml = 'Like what you see? Visit the ' +\n",
              "            '<a target=\"_blank\" href=https://colab.research.google.com/notebooks/data_table.ipynb>data table notebook</a>'\n",
              "            + ' to learn more about interactive tables.';\n",
              "          element.innerHTML = '';\n",
              "          dataTable['output_type'] = 'display_data';\n",
              "          await google.colab.output.renderOutput(dataTable, element);\n",
              "          const docLink = document.createElement('div');\n",
              "          docLink.innerHTML = docLinkHtml;\n",
              "          element.appendChild(docLink);\n",
              "        }\n",
              "      </script>\n",
              "    </div>\n",
              "  </div>\n",
              "  "
            ]
          },
          "metadata": {},
          "execution_count": 65
        }
      ]
    },
    {
      "cell_type": "code",
      "source": [
        "# construct the target variable\n",
        "returns_ff[\"ret-rf\"] = returns_ff[\"ret\"] - returns_ff[\"rf\"]"
      ],
      "metadata": {
        "id": "-uIHi3CDKZWe"
      },
      "execution_count": null,
      "outputs": []
    },
    {
      "cell_type": "code",
      "source": [
        "# check the final shape of the data\n",
        "returns_ff.shape"
      ],
      "metadata": {
        "colab": {
          "base_uri": "https://localhost:8080/"
        },
        "id": "tR0OuHuOqrue",
        "outputId": "b9e8b81b-2716-45bf-a1f3-6519d9802252"
      },
      "execution_count": null,
      "outputs": [
        {
          "output_type": "execute_result",
          "data": {
            "text/plain": [
              "(114629, 9)"
            ]
          },
          "metadata": {},
          "execution_count": 67
        }
      ]
    },
    {
      "cell_type": "code",
      "source": [
        "# check outliers in the target variable\n",
        "plt.boxplot(returns_ff[\"ret-rf\"]);"
      ],
      "metadata": {
        "colab": {
          "base_uri": "https://localhost:8080/",
          "height": 265
        },
        "id": "HYEQxOrYKgUF",
        "outputId": "70ebb6e8-80ca-4358-a5cb-acd42706dbd5"
      },
      "execution_count": null,
      "outputs": [
        {
          "output_type": "display_data",
          "data": {
            "text/plain": [
              "<Figure size 432x288 with 1 Axes>"
            ],
            "image/png": "[encoded data removed]"
          },
          "metadata": {
            "needs_background": "light"
          }
        }
      ]
    },
    {
      "cell_type": "markdown",
      "source": [
        "I can see that the ret-rf column is wildely dispersed. So I will use winsorizing to adjust extreme values."
      ],
      "metadata": {
        "id": "mMbtI8REOsJ5"
      }
    },
    {
      "cell_type": "code",
      "source": [
        "# winsorizing in 0.01 quantile and 0.99 quantile of the data\n",
        "returns_ff[\"ret-rf_win\"] = winsorize(returns_ff[\"ret-rf\"], (0.01, 0.01))"
      ],
      "metadata": {
        "id": "m5qTEVX9Kqcw"
      },
      "execution_count": null,
      "outputs": []
    },
    {
      "cell_type": "code",
      "source": [
        "plt.boxplot(returns_ff[\"ret-rf_win\"]);"
      ],
      "metadata": {
        "colab": {
          "base_uri": "https://localhost:8080/",
          "height": 265
        },
        "id": "0KxWAovJK-U9",
        "outputId": "12783c9c-335e-40fe-ed06-7059bbea31fa"
      },
      "execution_count": null,
      "outputs": [
        {
          "output_type": "display_data",
          "data": {
            "text/plain": [
              "<Figure size 432x288 with 1 Axes>"
            ],
            "image/png": "[encoded data removed]"
          },
          "metadata": {
            "needs_background": "light"
          }
        }
      ]
    },
    {
      "cell_type": "markdown",
      "source": [
        "After winsorizing, the box in the plot became bigger."
      ],
      "metadata": {
        "id": "9tp6MqoBO4zB"
      }
    },
    {
      "cell_type": "code",
      "source": [
        "# make an empty dataframe that I will save modeling result\n",
        "ff_results = pd.DataFrame(columns = [\"tic\", \"mrkrf\", \"smb\", \"hml\"])\n",
        "ff_results"
      ],
      "metadata": {
        "colab": {
          "base_uri": "https://localhost:8080/",
          "height": 49
        },
        "id": "7TiQkX2akw-J",
        "outputId": "33adf00c-240c-461e-8a4c-5c31dd628794"
      },
      "execution_count": null,
      "outputs": [
        {
          "output_type": "execute_result",
          "data": {
            "text/plain": [
              "Empty DataFrame\n",
              "Columns: [tic, mrkrf, smb, hml]\n",
              "Index: []"
            ],
            "text/html": [
              "\n",
              "  <div id=\"df-80c7a134-da59-4537-bced-856008a99a0b\">\n",
              "    <div class=\"colab-df-container\">\n",
              "      <div>\n",
              "<style scoped>\n",
              "    .dataframe tbody tr th:only-of-type {\n",
              "        vertical-align: middle;\n",
              "    }\n",
              "\n",
              "    .dataframe tbody tr th {\n",
              "        vertical-align: top;\n",
              "    }\n",
              "\n",
              "    .dataframe thead th {\n",
              "        text-align: right;\n",
              "    }\n",
              "</style>\n",
              "<table border=\"1\" class=\"dataframe\">\n",
              "  <thead>\n",
              "    <tr style=\"text-align: right;\">\n",
              "      <th></th>\n",
              "      <th>tic</th>\n",
              "      <th>mrkrf</th>\n",
              "      <th>smb</th>\n",
              "      <th>hml</th>\n",
              "    </tr>\n",
              "  </thead>\n",
              "  <tbody>\n",
              "  </tbody>\n",
              "</table>\n",
              "</div>\n",
              "      <button class=\"colab-df-convert\" onclick=\"convertToInteractive('df-80c7a134-da59-4537-bced-856008a99a0b')\"\n",
              "              title=\"Convert this dataframe to an interactive table.\"\n",
              "              style=\"display:none;\">\n",
              "        \n",
              "  <svg xmlns=\"http://www.w3.org/2000/svg\" height=\"24px\"viewBox=\"0 0 24 24\"\n",
              "       width=\"24px\">\n",
              "    <path d=\"M0 0h24v24H0V0z\" fill=\"none\"/>\n",
              "    <path d=\"M18.56 5.44l.94 2.06.94-2.06 2.06-.94-2.06-.94-.94-2.06-.94 2.06-2.06.94zm-11 1L8.5 8.5l.94-2.06 2.06-.94-2.06-.94L8.5 2.5l-.94 2.06-2.06.94zm10 10l.94 2.06.94-2.06 2.06-.94-2.06-.94-.94-2.06-.94 2.06-2.06.94z\"/><path d=\"M17.41 7.96l-1.37-1.37c-.4-.4-.92-.59-1.43-.59-.52 0-1.04.2-1.43.59L10.3 9.45l-7.72 7.72c-.78.78-.78 2.05 0 2.83L4 21.41c.39.39.9.59 1.41.59.51 0 1.02-.2 1.41-.59l7.78-7.78 2.81-2.81c.8-.78.8-2.07 0-2.86zM5.41 20L4 18.59l7.72-7.72 1.47 1.35L5.41 20z\"/>\n",
              "  </svg>\n",
              "      </button>\n",
              "      \n",
              "  <style>\n",
              "    .colab-df-container {\n",
              "      display:flex;\n",
              "      flex-wrap:wrap;\n",
              "      gap: 12px;\n",
              "    }\n",
              "\n",
              "    .colab-df-convert {\n",
              "      background-color: #E8F0FE;\n",
              "      border: none;\n",
              "      border-radius: 50%;\n",
              "      cursor: pointer;\n",
              "      display: none;\n",
              "      fill: #1967D2;\n",
              "      height: 32px;\n",
              "      padding: 0 0 0 0;\n",
              "      width: 32px;\n",
              "    }\n",
              "\n",
              "    .colab-df-convert:hover {\n",
              "      background-color: #E2EBFA;\n",
              "      box-shadow: 0px 1px 2px rgba(60, 64, 67, 0.3), 0px 1px 3px 1px rgba(60, 64, 67, 0.15);\n",
              "      fill: #174EA6;\n",
              "    }\n",
              "\n",
              "    [theme=dark] .colab-df-convert {\n",
              "      background-color: #3B4455;\n",
              "      fill: #D2E3FC;\n",
              "    }\n",
              "\n",
              "    [theme=dark] .colab-df-convert:hover {\n",
              "      background-color: #434B5C;\n",
              "      box-shadow: 0px 1px 3px 1px rgba(0, 0, 0, 0.15);\n",
              "      filter: drop-shadow(0px 1px 2px rgba(0, 0, 0, 0.3));\n",
              "      fill: #FFFFFF;\n",
              "    }\n",
              "  </style>\n",
              "\n",
              "      <script>\n",
              "        const buttonEl =\n",
              "          document.querySelector('#df-80c7a134-da59-4537-bced-856008a99a0b button.colab-df-convert');\n",
              "        buttonEl.style.display =\n",
              "          google.colab.kernel.accessAllowed ? 'block' : 'none';\n",
              "\n",
              "        async function convertToInteractive(key) {\n",
              "          const element = document.querySelector('#df-80c7a134-da59-4537-bced-856008a99a0b');\n",
              "          const dataTable =\n",
              "            await google.colab.kernel.invokeFunction('convertToInteractive',\n",
              "                                                     [key], {});\n",
              "          if (!dataTable) return;\n",
              "\n",
              "          const docLinkHtml = 'Like what you see? Visit the ' +\n",
              "            '<a target=\"_blank\" href=https://colab.research.google.com/notebooks/data_table.ipynb>data table notebook</a>'\n",
              "            + ' to learn more about interactive tables.';\n",
              "          element.innerHTML = '';\n",
              "          dataTable['output_type'] = 'display_data';\n",
              "          await google.colab.output.renderOutput(dataTable, element);\n",
              "          const docLink = document.createElement('div');\n",
              "          docLink.innerHTML = docLinkHtml;\n",
              "          element.appendChild(docLink);\n",
              "        }\n",
              "      </script>\n",
              "    </div>\n",
              "  </div>\n",
              "  "
            ]
          },
          "metadata": {},
          "execution_count": 71
        }
      ]
    },
    {
      "cell_type": "markdown",
      "source": [
        "I will use a for loop to iterate Fama French model over companies in the dataset. I made an iterable array of unique ticker for this."
      ],
      "metadata": {
        "id": "ce3XRgX4P789"
      }
    },
    {
      "cell_type": "code",
      "source": [
        "print(returns_ff.tic.nunique())\n",
        "\n",
        "# make iterable ticker array\n",
        "companies = returns_ff.tic.unique()"
      ],
      "metadata": {
        "id": "KsBX6Ecmnk35",
        "colab": {
          "base_uri": "https://localhost:8080/"
        },
        "outputId": "a8136906-cca0-48be-cb73-e8404bf75971"
      },
      "execution_count": null,
      "outputs": [
        {
          "output_type": "stream",
          "name": "stdout",
          "text": [
            "1923\n"
          ]
        }
      ]
    },
    {
      "cell_type": "code",
      "source": [
        "for company in companies:\n",
        "  # construct X and y\n",
        "  subset = returns_ff[returns_ff.tic == company]\n",
        "  X = subset[[\"mktrf\", \"smb\", \"hml\"]]\n",
        "  X = sm.add_constant(X, has_constant=\"add\")\n",
        "  y = subset[\"ret-rf_win\"]\n",
        "\n",
        "  # define and fit the model\n",
        "  model = sm.OLS(y, X).fit()\n",
        "\n",
        "  # save the result into results dataframe\n",
        "  result = [company, model.params.mktrf, model.params.smb, model.params.hml]\n",
        "  ff_results.loc[ff_results.shape[0]] = result"
      ],
      "metadata": {
        "id": "lVDmcbPVnr18"
      },
      "execution_count": null,
      "outputs": []
    },
    {
      "cell_type": "code",
      "source": [
        "# check the final result\n",
        "ff_results"
      ],
      "metadata": {
        "colab": {
          "base_uri": "https://localhost:8080/",
          "height": 423
        },
        "id": "sLxBZlQMo4N7",
        "outputId": "747e4009-e50d-47c1-ddc3-49f282710a18"
      },
      "execution_count": null,
      "outputs": [
        {
          "output_type": "execute_result",
          "data": {
            "text/plain": [
              "       tic     mrkrf       smb       hml\n",
              "0     JJSF  0.452887  0.356829  0.524302\n",
              "1     PLXS  0.955657  0.229663  0.598402\n",
              "2     ORCL  0.839476 -0.587083  0.016158\n",
              "3     MSFT  0.935809 -0.330320 -0.401040\n",
              "4     TROW  1.121489  0.008855  0.145466\n",
              "...    ...       ...       ...       ...\n",
              "1918    TT  0.895239 -0.775622  0.525388\n",
              "1919   HWM  0.793835  0.801244  1.009907\n",
              "1920   PRG  0.629097 -0.713688 -0.055775\n",
              "1921   BTX  3.810493  4.209570 -2.696020\n",
              "1922   EVO  0.000233 -0.000118  0.000243\n",
              "\n",
              "[1923 rows x 4 columns]"
            ],
            "text/html": [
              "\n",
              "  <div id=\"df-8a8b29e5-761f-4ace-a4bb-7da832f4c622\">\n",
              "    <div class=\"colab-df-container\">\n",
              "      <div>\n",
              "<style scoped>\n",
              "    .dataframe tbody tr th:only-of-type {\n",
              "        vertical-align: middle;\n",
              "    }\n",
              "\n",
              "    .dataframe tbody tr th {\n",
              "        vertical-align: top;\n",
              "    }\n",
              "\n",
              "    .dataframe thead th {\n",
              "        text-align: right;\n",
              "    }\n",
              "</style>\n",
              "<table border=\"1\" class=\"dataframe\">\n",
              "  <thead>\n",
              "    <tr style=\"text-align: right;\">\n",
              "      <th></th>\n",
              "      <th>tic</th>\n",
              "      <th>mrkrf</th>\n",
              "      <th>smb</th>\n",
              "      <th>hml</th>\n",
              "    </tr>\n",
              "  </thead>\n",
              "  <tbody>\n",
              "    <tr>\n",
              "      <th>0</th>\n",
              "      <td>JJSF</td>\n",
              "      <td>0.452887</td>\n",
              "      <td>0.356829</td>\n",
              "      <td>0.524302</td>\n",
              "    </tr>\n",
              "    <tr>\n",
              "      <th>1</th>\n",
              "      <td>PLXS</td>\n",
              "      <td>0.955657</td>\n",
              "      <td>0.229663</td>\n",
              "      <td>0.598402</td>\n",
              "    </tr>\n",
              "    <tr>\n",
              "      <th>2</th>\n",
              "      <td>ORCL</td>\n",
              "      <td>0.839476</td>\n",
              "      <td>-0.587083</td>\n",
              "      <td>0.016158</td>\n",
              "    </tr>\n",
              "    <tr>\n",
              "      <th>3</th>\n",
              "      <td>MSFT</td>\n",
              "      <td>0.935809</td>\n",
              "      <td>-0.330320</td>\n",
              "      <td>-0.401040</td>\n",
              "    </tr>\n",
              "    <tr>\n",
              "      <th>4</th>\n",
              "      <td>TROW</td>\n",
              "      <td>1.121489</td>\n",
              "      <td>0.008855</td>\n",
              "      <td>0.145466</td>\n",
              "    </tr>\n",
              "    <tr>\n",
              "      <th>...</th>\n",
              "      <td>...</td>\n",
              "      <td>...</td>\n",
              "      <td>...</td>\n",
              "      <td>...</td>\n",
              "    </tr>\n",
              "    <tr>\n",
              "      <th>1918</th>\n",
              "      <td>TT</td>\n",
              "      <td>0.895239</td>\n",
              "      <td>-0.775622</td>\n",
              "      <td>0.525388</td>\n",
              "    </tr>\n",
              "    <tr>\n",
              "      <th>1919</th>\n",
              "      <td>HWM</td>\n",
              "      <td>0.793835</td>\n",
              "      <td>0.801244</td>\n",
              "      <td>1.009907</td>\n",
              "    </tr>\n",
              "    <tr>\n",
              "      <th>1920</th>\n",
              "      <td>PRG</td>\n",
              "      <td>0.629097</td>\n",
              "      <td>-0.713688</td>\n",
              "      <td>-0.055775</td>\n",
              "    </tr>\n",
              "    <tr>\n",
              "      <th>1921</th>\n",
              "      <td>BTX</td>\n",
              "      <td>3.810493</td>\n",
              "      <td>4.209570</td>\n",
              "      <td>-2.696020</td>\n",
              "    </tr>\n",
              "    <tr>\n",
              "      <th>1922</th>\n",
              "      <td>EVO</td>\n",
              "      <td>0.000233</td>\n",
              "      <td>-0.000118</td>\n",
              "      <td>0.000243</td>\n",
              "    </tr>\n",
              "  </tbody>\n",
              "</table>\n",
              "<p>1923 rows × 4 columns</p>\n",
              "</div>\n",
              "      <button class=\"colab-df-convert\" onclick=\"convertToInteractive('df-8a8b29e5-761f-4ace-a4bb-7da832f4c622')\"\n",
              "              title=\"Convert this dataframe to an interactive table.\"\n",
              "              style=\"display:none;\">\n",
              "        \n",
              "  <svg xmlns=\"http://www.w3.org/2000/svg\" height=\"24px\"viewBox=\"0 0 24 24\"\n",
              "       width=\"24px\">\n",
              "    <path d=\"M0 0h24v24H0V0z\" fill=\"none\"/>\n",
              "    <path d=\"M18.56 5.44l.94 2.06.94-2.06 2.06-.94-2.06-.94-.94-2.06-.94 2.06-2.06.94zm-11 1L8.5 8.5l.94-2.06 2.06-.94-2.06-.94L8.5 2.5l-.94 2.06-2.06.94zm10 10l.94 2.06.94-2.06 2.06-.94-2.06-.94-.94-2.06-.94 2.06-2.06.94z\"/><path d=\"M17.41 7.96l-1.37-1.37c-.4-.4-.92-.59-1.43-.59-.52 0-1.04.2-1.43.59L10.3 9.45l-7.72 7.72c-.78.78-.78 2.05 0 2.83L4 21.41c.39.39.9.59 1.41.59.51 0 1.02-.2 1.41-.59l7.78-7.78 2.81-2.81c.8-.78.8-2.07 0-2.86zM5.41 20L4 18.59l7.72-7.72 1.47 1.35L5.41 20z\"/>\n",
              "  </svg>\n",
              "      </button>\n",
              "      \n",
              "  <style>\n",
              "    .colab-df-container {\n",
              "      display:flex;\n",
              "      flex-wrap:wrap;\n",
              "      gap: 12px;\n",
              "    }\n",
              "\n",
              "    .colab-df-convert {\n",
              "      background-color: #E8F0FE;\n",
              "      border: none;\n",
              "      border-radius: 50%;\n",
              "      cursor: pointer;\n",
              "      display: none;\n",
              "      fill: #1967D2;\n",
              "      height: 32px;\n",
              "      padding: 0 0 0 0;\n",
              "      width: 32px;\n",
              "    }\n",
              "\n",
              "    .colab-df-convert:hover {\n",
              "      background-color: #E2EBFA;\n",
              "      box-shadow: 0px 1px 2px rgba(60, 64, 67, 0.3), 0px 1px 3px 1px rgba(60, 64, 67, 0.15);\n",
              "      fill: #174EA6;\n",
              "    }\n",
              "\n",
              "    [theme=dark] .colab-df-convert {\n",
              "      background-color: #3B4455;\n",
              "      fill: #D2E3FC;\n",
              "    }\n",
              "\n",
              "    [theme=dark] .colab-df-convert:hover {\n",
              "      background-color: #434B5C;\n",
              "      box-shadow: 0px 1px 3px 1px rgba(0, 0, 0, 0.15);\n",
              "      filter: drop-shadow(0px 1px 2px rgba(0, 0, 0, 0.3));\n",
              "      fill: #FFFFFF;\n",
              "    }\n",
              "  </style>\n",
              "\n",
              "      <script>\n",
              "        const buttonEl =\n",
              "          document.querySelector('#df-8a8b29e5-761f-4ace-a4bb-7da832f4c622 button.colab-df-convert');\n",
              "        buttonEl.style.display =\n",
              "          google.colab.kernel.accessAllowed ? 'block' : 'none';\n",
              "\n",
              "        async function convertToInteractive(key) {\n",
              "          const element = document.querySelector('#df-8a8b29e5-761f-4ace-a4bb-7da832f4c622');\n",
              "          const dataTable =\n",
              "            await google.colab.kernel.invokeFunction('convertToInteractive',\n",
              "                                                     [key], {});\n",
              "          if (!dataTable) return;\n",
              "\n",
              "          const docLinkHtml = 'Like what you see? Visit the ' +\n",
              "            '<a target=\"_blank\" href=https://colab.research.google.com/notebooks/data_table.ipynb>data table notebook</a>'\n",
              "            + ' to learn more about interactive tables.';\n",
              "          element.innerHTML = '';\n",
              "          dataTable['output_type'] = 'display_data';\n",
              "          await google.colab.output.renderOutput(dataTable, element);\n",
              "          const docLink = document.createElement('div');\n",
              "          docLink.innerHTML = docLinkHtml;\n",
              "          element.appendChild(docLink);\n",
              "        }\n",
              "      </script>\n",
              "    </div>\n",
              "  </div>\n",
              "  "
            ]
          },
          "metadata": {},
          "execution_count": 74
        }
      ]
    },
    {
      "cell_type": "code",
      "source": [
        "# check if the result has missing values in it\n",
        "ff_results.isna().sum()"
      ],
      "metadata": {
        "colab": {
          "base_uri": "https://localhost:8080/"
        },
        "id": "I03L0sO0uLG6",
        "outputId": "1c2d426d-1ea6-4014-aae4-4ea4c2e02c58"
      },
      "execution_count": null,
      "outputs": [
        {
          "output_type": "execute_result",
          "data": {
            "text/plain": [
              "tic      0\n",
              "mrkrf    0\n",
              "smb      0\n",
              "hml      0\n",
              "dtype: int64"
            ]
          },
          "metadata": {},
          "execution_count": 75
        }
      ]
    },
    {
      "cell_type": "markdown",
      "source": [
        "Before I save the result into a csv file, I did some exploratory analysis on coefficients."
      ],
      "metadata": {
        "id": "O8xfSrHh1M9-"
      }
    },
    {
      "cell_type": "code",
      "source": [
        "# descriptive statistics\n",
        "ff_results.describe()"
      ],
      "metadata": {
        "colab": {
          "base_uri": "https://localhost:8080/",
          "height": 300
        },
        "id": "1K7U35ExzSSA",
        "outputId": "3630d0e6-8af5-44f7-fa14-d0ae9d491b10"
      },
      "execution_count": null,
      "outputs": [
        {
          "output_type": "execute_result",
          "data": {
            "text/plain": [
              "             mrkrf          smb          hml\n",
              "count  1923.000000  1923.000000  1923.000000\n",
              "mean      0.989574     0.568966     0.273227\n",
              "std       0.443039     0.768637     0.604085\n",
              "min      -2.671964    -3.645045    -2.696020\n",
              "25%       0.706680     0.015952    -0.057036\n",
              "50%       0.979174     0.491420     0.317552\n",
              "75%       1.266223     0.987120     0.671159\n",
              "max       3.810493     4.300571     2.946563"
            ],
            "text/html": [
              "\n",
              "  <div id=\"df-52d5225e-1cea-4d9f-af10-2e11c1e93bcb\">\n",
              "    <div class=\"colab-df-container\">\n",
              "      <div>\n",
              "<style scoped>\n",
              "    .dataframe tbody tr th:only-of-type {\n",
              "        vertical-align: middle;\n",
              "    }\n",
              "\n",
              "    .dataframe tbody tr th {\n",
              "        vertical-align: top;\n",
              "    }\n",
              "\n",
              "    .dataframe thead th {\n",
              "        text-align: right;\n",
              "    }\n",
              "</style>\n",
              "<table border=\"1\" class=\"dataframe\">\n",
              "  <thead>\n",
              "    <tr style=\"text-align: right;\">\n",
              "      <th></th>\n",
              "      <th>mrkrf</th>\n",
              "      <th>smb</th>\n",
              "      <th>hml</th>\n",
              "    </tr>\n",
              "  </thead>\n",
              "  <tbody>\n",
              "    <tr>\n",
              "      <th>count</th>\n",
              "      <td>1923.000000</td>\n",
              "      <td>1923.000000</td>\n",
              "      <td>1923.000000</td>\n",
              "    </tr>\n",
              "    <tr>\n",
              "      <th>mean</th>\n",
              "      <td>0.989574</td>\n",
              "      <td>0.568966</td>\n",
              "      <td>0.273227</td>\n",
              "    </tr>\n",
              "    <tr>\n",
              "      <th>std</th>\n",
              "      <td>0.443039</td>\n",
              "      <td>0.768637</td>\n",
              "      <td>0.604085</td>\n",
              "    </tr>\n",
              "    <tr>\n",
              "      <th>min</th>\n",
              "      <td>-2.671964</td>\n",
              "      <td>-3.645045</td>\n",
              "      <td>-2.696020</td>\n",
              "    </tr>\n",
              "    <tr>\n",
              "      <th>25%</th>\n",
              "      <td>0.706680</td>\n",
              "      <td>0.015952</td>\n",
              "      <td>-0.057036</td>\n",
              "    </tr>\n",
              "    <tr>\n",
              "      <th>50%</th>\n",
              "      <td>0.979174</td>\n",
              "      <td>0.491420</td>\n",
              "      <td>0.317552</td>\n",
              "    </tr>\n",
              "    <tr>\n",
              "      <th>75%</th>\n",
              "      <td>1.266223</td>\n",
              "      <td>0.987120</td>\n",
              "      <td>0.671159</td>\n",
              "    </tr>\n",
              "    <tr>\n",
              "      <th>max</th>\n",
              "      <td>3.810493</td>\n",
              "      <td>4.300571</td>\n",
              "      <td>2.946563</td>\n",
              "    </tr>\n",
              "  </tbody>\n",
              "</table>\n",
              "</div>\n",
              "      <button class=\"colab-df-convert\" onclick=\"convertToInteractive('df-52d5225e-1cea-4d9f-af10-2e11c1e93bcb')\"\n",
              "              title=\"Convert this dataframe to an interactive table.\"\n",
              "              style=\"display:none;\">\n",
              "        \n",
              "  <svg xmlns=\"http://www.w3.org/2000/svg\" height=\"24px\"viewBox=\"0 0 24 24\"\n",
              "       width=\"24px\">\n",
              "    <path d=\"M0 0h24v24H0V0z\" fill=\"none\"/>\n",
              "    <path d=\"M18.56 5.44l.94 2.06.94-2.06 2.06-.94-2.06-.94-.94-2.06-.94 2.06-2.06.94zm-11 1L8.5 8.5l.94-2.06 2.06-.94-2.06-.94L8.5 2.5l-.94 2.06-2.06.94zm10 10l.94 2.06.94-2.06 2.06-.94-2.06-.94-.94-2.06-.94 2.06-2.06.94z\"/><path d=\"M17.41 7.96l-1.37-1.37c-.4-.4-.92-.59-1.43-.59-.52 0-1.04.2-1.43.59L10.3 9.45l-7.72 7.72c-.78.78-.78 2.05 0 2.83L4 21.41c.39.39.9.59 1.41.59.51 0 1.02-.2 1.41-.59l7.78-7.78 2.81-2.81c.8-.78.8-2.07 0-2.86zM5.41 20L4 18.59l7.72-7.72 1.47 1.35L5.41 20z\"/>\n",
              "  </svg>\n",
              "      </button>\n",
              "      \n",
              "  <style>\n",
              "    .colab-df-container {\n",
              "      display:flex;\n",
              "      flex-wrap:wrap;\n",
              "      gap: 12px;\n",
              "    }\n",
              "\n",
              "    .colab-df-convert {\n",
              "      background-color: #E8F0FE;\n",
              "      border: none;\n",
              "      border-radius: 50%;\n",
              "      cursor: pointer;\n",
              "      display: none;\n",
              "      fill: #1967D2;\n",
              "      height: 32px;\n",
              "      padding: 0 0 0 0;\n",
              "      width: 32px;\n",
              "    }\n",
              "\n",
              "    .colab-df-convert:hover {\n",
              "      background-color: #E2EBFA;\n",
              "      box-shadow: 0px 1px 2px rgba(60, 64, 67, 0.3), 0px 1px 3px 1px rgba(60, 64, 67, 0.15);\n",
              "      fill: #174EA6;\n",
              "    }\n",
              "\n",
              "    [theme=dark] .colab-df-convert {\n",
              "      background-color: #3B4455;\n",
              "      fill: #D2E3FC;\n",
              "    }\n",
              "\n",
              "    [theme=dark] .colab-df-convert:hover {\n",
              "      background-color: #434B5C;\n",
              "      box-shadow: 0px 1px 3px 1px rgba(0, 0, 0, 0.15);\n",
              "      filter: drop-shadow(0px 1px 2px rgba(0, 0, 0, 0.3));\n",
              "      fill: #FFFFFF;\n",
              "    }\n",
              "  </style>\n",
              "\n",
              "      <script>\n",
              "        const buttonEl =\n",
              "          document.querySelector('#df-52d5225e-1cea-4d9f-af10-2e11c1e93bcb button.colab-df-convert');\n",
              "        buttonEl.style.display =\n",
              "          google.colab.kernel.accessAllowed ? 'block' : 'none';\n",
              "\n",
              "        async function convertToInteractive(key) {\n",
              "          const element = document.querySelector('#df-52d5225e-1cea-4d9f-af10-2e11c1e93bcb');\n",
              "          const dataTable =\n",
              "            await google.colab.kernel.invokeFunction('convertToInteractive',\n",
              "                                                     [key], {});\n",
              "          if (!dataTable) return;\n",
              "\n",
              "          const docLinkHtml = 'Like what you see? Visit the ' +\n",
              "            '<a target=\"_blank\" href=https://colab.research.google.com/notebooks/data_table.ipynb>data table notebook</a>'\n",
              "            + ' to learn more about interactive tables.';\n",
              "          element.innerHTML = '';\n",
              "          dataTable['output_type'] = 'display_data';\n",
              "          await google.colab.output.renderOutput(dataTable, element);\n",
              "          const docLink = document.createElement('div');\n",
              "          docLink.innerHTML = docLinkHtml;\n",
              "          element.appendChild(docLink);\n",
              "        }\n",
              "      </script>\n",
              "    </div>\n",
              "  </div>\n",
              "  "
            ]
          },
          "metadata": {},
          "execution_count": 76
        }
      ]
    },
    {
      "cell_type": "code",
      "source": [
        "# number of companies that have positive coefficient for smb\n",
        "ff_results[ff_results[\"smb\"] > 0 ].tic.count()"
      ],
      "metadata": {
        "colab": {
          "base_uri": "https://localhost:8080/"
        },
        "id": "dBDaN_f8zaX9",
        "outputId": "129f40a1-1c9c-45e3-9afd-6f609f918ea8"
      },
      "execution_count": null,
      "outputs": [
        {
          "output_type": "execute_result",
          "data": {
            "text/plain": [
              "1456"
            ]
          },
          "metadata": {},
          "execution_count": 77
        }
      ]
    },
    {
      "cell_type": "code",
      "source": [
        "# construct a pie chart to see the proportion\n",
        "size = [1456, 1923 - 1456]\n",
        "size_label = [\"small firm\", \"large firm\"]\n",
        "\n",
        "plt.pie(size, labels = size_label, autopct='%1.1f%%')"
      ],
      "metadata": {
        "colab": {
          "base_uri": "https://localhost:8080/",
          "height": 355
        },
        "id": "jvPw1WAAzoCg",
        "outputId": "4e9cdf4e-e85a-438c-d003-a6b1f7dbab5a"
      },
      "execution_count": null,
      "outputs": [
        {
          "output_type": "execute_result",
          "data": {
            "text/plain": [
              "([<matplotlib.patches.Wedge at 0x7f9a084d9450>,\n",
              "  <matplotlib.patches.Wedge at 0x7f9a084d9c90>],\n",
              " [Text(-0.7950921064279628, 0.7601503419034588, 'small firm'),\n",
              "  Text(0.795092106427963, -0.7601503419034585, 'large firm')],\n",
              " [Text(-0.43368660350616145, 0.4146274592200684, '75.7%'),\n",
              "  Text(0.4336866035061616, -0.4146274592200682, '24.3%')])"
            ]
          },
          "metadata": {},
          "execution_count": 78
        },
        {
          "output_type": "display_data",
          "data": {
            "text/plain": [
              "<Figure size 432x288 with 1 Axes>"
            ],
            "image/png": "[encoded data removed]"
          },
          "metadata": {}
        }
      ]
    },
    {
      "cell_type": "code",
      "source": [
        "# number of companies that have positive coefficient for hml\n",
        "ff_results[ff_results[\"hml\"] > 0 ].tic.count()"
      ],
      "metadata": {
        "colab": {
          "base_uri": "https://localhost:8080/"
        },
        "id": "jjPPCv-E0lb5",
        "outputId": "b05cda72-c835-4d1f-feb7-8cf161b03a34"
      },
      "execution_count": null,
      "outputs": [
        {
          "output_type": "execute_result",
          "data": {
            "text/plain": [
              "1385"
            ]
          },
          "metadata": {},
          "execution_count": 79
        }
      ]
    },
    {
      "cell_type": "code",
      "source": [
        "# construct pie chart to see proportion\n",
        "value = [1385, 1923-1385]\n",
        "value_label = [\"value stock\", \"growth stock\"]\n",
        "\n",
        "plt.pie(value, labels = value_label, autopct='%1.1f%%')"
      ],
      "metadata": {
        "colab": {
          "base_uri": "https://localhost:8080/",
          "height": 355
        },
        "id": "kVM1p6pN0rQU",
        "outputId": "75a3567d-9201-4728-8fe7-6949102b1e20"
      },
      "execution_count": null,
      "outputs": [
        {
          "output_type": "execute_result",
          "data": {
            "text/plain": [
              "([<matplotlib.patches.Wedge at 0x7f9a0849ee50>,\n",
              "  <matplotlib.patches.Wedge at 0x7f9a084ab610>],\n",
              " [Text(-0.7017754105750239, 0.8470603715864984, 'value stock'),\n",
              "  Text(0.7017753312675052, -0.8470604372914506, 'growth stock')],\n",
              " [Text(-0.3827865875863767, 0.46203292995627177, '72.0%'),\n",
              "  Text(0.38278654432773007, -0.46203296579533665, '28.0%')])"
            ]
          },
          "metadata": {},
          "execution_count": 80
        },
        {
          "output_type": "display_data",
          "data": {
            "text/plain": [
              "<Figure size 432x288 with 1 Axes>"
            ],
            "image/png": "[encoded data removed]"
          },
          "metadata": {}
        }
      ]
    },
    {
      "cell_type": "code",
      "source": [
        "# save the result into a csv file\n",
        "returns_ff.to_csv(\"FF_Exposures.csv\")"
      ],
      "metadata": {
        "id": "9-ZSPIOYvPwZ"
      },
      "execution_count": null,
      "outputs": []
    },
    {
      "cell_type": "markdown",
      "source": [
        "# Calculate Financial Ratios"
      ],
      "metadata": {
        "id": "5tytIzSMyhMw"
      }
    },
    {
      "cell_type": "markdown",
      "source": [
        "In this step, I will generate financial ratios using accounting data collected from WRDS - Compustat."
      ],
      "metadata": {
        "id": "ROFPe_cZQ-1t"
      }
    },
    {
      "cell_type": "code",
      "source": [
        "financials.columns"
      ],
      "metadata": {
        "colab": {
          "base_uri": "https://localhost:8080/"
        },
        "id": "qB0vvzUKyfqn",
        "outputId": "7a4d2bf3-7ce4-471b-d72b-3a64cf8170cf"
      },
      "execution_count": null,
      "outputs": [
        {
          "output_type": "execute_result",
          "data": {
            "text/plain": [
              "Index(['tic', 'act', 'at', 'ceq', 'cogs', 'csho', 'invt', 'lct', 'lt', 'ni',\n",
              "       're', 'revt', 'prcc_c'],\n",
              "      dtype='object')"
            ]
          },
          "metadata": {},
          "execution_count": 82
        }
      ]
    },
    {
      "cell_type": "code",
      "source": [
        "# first market related metrics\n",
        "financials[\"market_value\"] = financials[\"csho\"] * financials[\"prcc_c\"]\n",
        "financials[\"per\"] = financials[\"market_value\"] / financials[\"ni\"]\n",
        "financials[\"pbr\"] = financials[\"market_value\"] / financials[\"ceq\"]\n",
        "\n",
        "# to ensure good behavior of market ratled ratio, I will use inverted values\n",
        "financials[\"e/p\"] = financials[\"per\"].apply(np.reciprocal)\n",
        "financials[\"book/p\"] = financials[\"pbr\"].apply(np.reciprocal)\n",
        "\n",
        "# profitability ratios\n",
        "financials[\"roa\"] = financials[\"ni\"] / financials[\"at\"]\n",
        "financials[\"roe\"] = financials[\"ni\"] / financials[\"ceq\"]\n",
        "\n",
        "# liquidity rations\n",
        "financials[\"current_ratio\"] = financials[\"act\"] / financials[\"lct\"]\n",
        "financials[\"quick_ratio\"] = (financials[\"act\"] - financials[\"invt\"]) / financials[\"lct\"]\n",
        "\n",
        "# debt management ratio\n",
        "financials[\"debt_ratio\"] = financials[\"lt\"] / financials[\"at\"]\n",
        "financials[\"debt_to_equity\"] = financials[\"lt\"] / financials[\"ceq\"]\n",
        "\n",
        "# leverage\n",
        "financials[\"leverage\"] = financials[\"at\"] / financials[\"ceq\"]\n",
        "\n",
        "# Working Capital / Total Assets\n",
        "financials[\"working_capital/at\"] = (financials[\"act\"] - financials[\"lct\"]) / financials[\"at\"]\n",
        "\n",
        "# gross profit margin\n",
        "financials[\"gross_margin\"] = (financials[\"revt\"] - financials[\"cogs\"]) / financials[\"revt\"]\n",
        "\n",
        "# Retained Earning / Total Assets\n",
        "financials[\"re/at\"] = financials[\"re\"] / financials[\"at\"]\n",
        "\n",
        "# Total assets turnover\n",
        "financials[\"assets_turnover\"] = financials[\"revt\"] / financials[\"at\"]"
      ],
      "metadata": {
        "id": "X66wYcwazP7e"
      },
      "execution_count": null,
      "outputs": []
    },
    {
      "cell_type": "code",
      "source": [
        "ratios = [\"tic\", \"e/p\", \"book/p\", \"roa\", \"roe\", \"current_ratio\", \"debt_ratio\", \"quick_ratio\",\n",
        "          \"leverage\", \"debt_to_equity\", \"working_capital/at\", \"gross_margin\", \"re/at\", \"assets_turnover\"]\n",
        "\n",
        "financial_ratios = financials[ratios]"
      ],
      "metadata": {
        "id": "ykoML9YUCFW6"
      },
      "execution_count": null,
      "outputs": []
    },
    {
      "cell_type": "markdown",
      "source": [
        "## Handle missing values in ratios"
      ],
      "metadata": {
        "id": "7xCBLQRax3-5"
      }
    },
    {
      "cell_type": "code",
      "source": [
        "financial_ratios.isna().sum()"
      ],
      "metadata": {
        "colab": {
          "base_uri": "https://localhost:8080/"
        },
        "id": "VOoXab1MCH-e",
        "outputId": "a5e35dca-c347-4cc9-8a85-c47e6bb14080"
      },
      "execution_count": null,
      "outputs": [
        {
          "output_type": "execute_result",
          "data": {
            "text/plain": [
              "tic                    0\n",
              "e/p                    0\n",
              "book/p                 0\n",
              "roa                    0\n",
              "roe                    0\n",
              "current_ratio          0\n",
              "debt_ratio             0\n",
              "quick_ratio            0\n",
              "leverage               0\n",
              "debt_to_equity         0\n",
              "working_capital/at     0\n",
              "gross_margin          17\n",
              "re/at                  0\n",
              "assets_turnover        0\n",
              "dtype: int64"
            ]
          },
          "metadata": {},
          "execution_count": 85
        }
      ]
    },
    {
      "cell_type": "markdown",
      "source": [
        "There are several missing values in gross_maring and invt_ratio. Let's investigate related columns and see why this is happening."
      ],
      "metadata": {
        "id": "7gBraUXEEVXh"
      }
    },
    {
      "cell_type": "code",
      "source": [
        "financials[financial_ratios[\"gross_margin\"].isna()][[\"tic\", \"revt\", \"cogs\", \"gross_margin\"]]"
      ],
      "metadata": {
        "colab": {
          "base_uri": "https://localhost:8080/",
          "height": 582
        },
        "id": "AnbnMLBfAR8r",
        "outputId": "b48f6206-8667-42bb-af28-390fc896cd9e"
      },
      "execution_count": null,
      "outputs": [
        {
          "output_type": "execute_result",
          "data": {
            "text/plain": [
              "       tic  revt  cogs  gross_margin\n",
              "515    CVM   0.0   0.0           NaN\n",
              "673   AGIO   0.0   0.0           NaN\n",
              "737   CBAY   0.0   0.0           NaN\n",
              "755   ALDX   0.0   0.0           NaN\n",
              "772     NG   0.0   0.0           NaN\n",
              "793   VKTX   0.0   0.0           NaN\n",
              "978   KURA   0.0   0.0           NaN\n",
              "988   AXSM   0.0   0.0           NaN\n",
              "1025  MDGL   0.0   0.0           NaN\n",
              "1109  KALV   0.0   0.0           NaN\n",
              "1252  SPPI   0.0   0.0           NaN\n",
              "1628   UEC   0.0   0.0           NaN\n",
              "1634  AVXL   0.0   0.0           NaN\n",
              "1766  OMER   0.0   0.0           NaN\n",
              "1788  AMPE   0.0   0.0           NaN\n",
              "1817  ATOS   0.0   0.0           NaN\n",
              "1864  TNXP   0.0   0.0           NaN"
            ],
            "text/html": [
              "\n",
              "  <div id=\"df-910b6fcf-d682-4fdb-92be-a1bf43cea3ba\">\n",
              "    <div class=\"colab-df-container\">\n",
              "      <div>\n",
              "<style scoped>\n",
              "    .dataframe tbody tr th:only-of-type {\n",
              "        vertical-align: middle;\n",
              "    }\n",
              "\n",
              "    .dataframe tbody tr th {\n",
              "        vertical-align: top;\n",
              "    }\n",
              "\n",
              "    .dataframe thead th {\n",
              "        text-align: right;\n",
              "    }\n",
              "</style>\n",
              "<table border=\"1\" class=\"dataframe\">\n",
              "  <thead>\n",
              "    <tr style=\"text-align: right;\">\n",
              "      <th></th>\n",
              "      <th>tic</th>\n",
              "      <th>revt</th>\n",
              "      <th>cogs</th>\n",
              "      <th>gross_margin</th>\n",
              "    </tr>\n",
              "  </thead>\n",
              "  <tbody>\n",
              "    <tr>\n",
              "      <th>515</th>\n",
              "      <td>CVM</td>\n",
              "      <td>0.0</td>\n",
              "      <td>0.0</td>\n",
              "      <td>NaN</td>\n",
              "    </tr>\n",
              "    <tr>\n",
              "      <th>673</th>\n",
              "      <td>AGIO</td>\n",
              "      <td>0.0</td>\n",
              "      <td>0.0</td>\n",
              "      <td>NaN</td>\n",
              "    </tr>\n",
              "    <tr>\n",
              "      <th>737</th>\n",
              "      <td>CBAY</td>\n",
              "      <td>0.0</td>\n",
              "      <td>0.0</td>\n",
              "      <td>NaN</td>\n",
              "    </tr>\n",
              "    <tr>\n",
              "      <th>755</th>\n",
              "      <td>ALDX</td>\n",
              "      <td>0.0</td>\n",
              "      <td>0.0</td>\n",
              "      <td>NaN</td>\n",
              "    </tr>\n",
              "    <tr>\n",
              "      <th>772</th>\n",
              "      <td>NG</td>\n",
              "      <td>0.0</td>\n",
              "      <td>0.0</td>\n",
              "      <td>NaN</td>\n",
              "    </tr>\n",
              "    <tr>\n",
              "      <th>793</th>\n",
              "      <td>VKTX</td>\n",
              "      <td>0.0</td>\n",
              "      <td>0.0</td>\n",
              "      <td>NaN</td>\n",
              "    </tr>\n",
              "    <tr>\n",
              "      <th>978</th>\n",
              "      <td>KURA</td>\n",
              "      <td>0.0</td>\n",
              "      <td>0.0</td>\n",
              "      <td>NaN</td>\n",
              "    </tr>\n",
              "    <tr>\n",
              "      <th>988</th>\n",
              "      <td>AXSM</td>\n",
              "      <td>0.0</td>\n",
              "      <td>0.0</td>\n",
              "      <td>NaN</td>\n",
              "    </tr>\n",
              "    <tr>\n",
              "      <th>1025</th>\n",
              "      <td>MDGL</td>\n",
              "      <td>0.0</td>\n",
              "      <td>0.0</td>\n",
              "      <td>NaN</td>\n",
              "    </tr>\n",
              "    <tr>\n",
              "      <th>1109</th>\n",
              "      <td>KALV</td>\n",
              "      <td>0.0</td>\n",
              "      <td>0.0</td>\n",
              "      <td>NaN</td>\n",
              "    </tr>\n",
              "    <tr>\n",
              "      <th>1252</th>\n",
              "      <td>SPPI</td>\n",
              "      <td>0.0</td>\n",
              "      <td>0.0</td>\n",
              "      <td>NaN</td>\n",
              "    </tr>\n",
              "    <tr>\n",
              "      <th>1628</th>\n",
              "      <td>UEC</td>\n",
              "      <td>0.0</td>\n",
              "      <td>0.0</td>\n",
              "      <td>NaN</td>\n",
              "    </tr>\n",
              "    <tr>\n",
              "      <th>1634</th>\n",
              "      <td>AVXL</td>\n",
              "      <td>0.0</td>\n",
              "      <td>0.0</td>\n",
              "      <td>NaN</td>\n",
              "    </tr>\n",
              "    <tr>\n",
              "      <th>1766</th>\n",
              "      <td>OMER</td>\n",
              "      <td>0.0</td>\n",
              "      <td>0.0</td>\n",
              "      <td>NaN</td>\n",
              "    </tr>\n",
              "    <tr>\n",
              "      <th>1788</th>\n",
              "      <td>AMPE</td>\n",
              "      <td>0.0</td>\n",
              "      <td>0.0</td>\n",
              "      <td>NaN</td>\n",
              "    </tr>\n",
              "    <tr>\n",
              "      <th>1817</th>\n",
              "      <td>ATOS</td>\n",
              "      <td>0.0</td>\n",
              "      <td>0.0</td>\n",
              "      <td>NaN</td>\n",
              "    </tr>\n",
              "    <tr>\n",
              "      <th>1864</th>\n",
              "      <td>TNXP</td>\n",
              "      <td>0.0</td>\n",
              "      <td>0.0</td>\n",
              "      <td>NaN</td>\n",
              "    </tr>\n",
              "  </tbody>\n",
              "</table>\n",
              "</div>\n",
              "      <button class=\"colab-df-convert\" onclick=\"convertToInteractive('df-910b6fcf-d682-4fdb-92be-a1bf43cea3ba')\"\n",
              "              title=\"Convert this dataframe to an interactive table.\"\n",
              "              style=\"display:none;\">\n",
              "        \n",
              "  <svg xmlns=\"http://www.w3.org/2000/svg\" height=\"24px\"viewBox=\"0 0 24 24\"\n",
              "       width=\"24px\">\n",
              "    <path d=\"M0 0h24v24H0V0z\" fill=\"none\"/>\n",
              "    <path d=\"M18.56 5.44l.94 2.06.94-2.06 2.06-.94-2.06-.94-.94-2.06-.94 2.06-2.06.94zm-11 1L8.5 8.5l.94-2.06 2.06-.94-2.06-.94L8.5 2.5l-.94 2.06-2.06.94zm10 10l.94 2.06.94-2.06 2.06-.94-2.06-.94-.94-2.06-.94 2.06-2.06.94z\"/><path d=\"M17.41 7.96l-1.37-1.37c-.4-.4-.92-.59-1.43-.59-.52 0-1.04.2-1.43.59L10.3 9.45l-7.72 7.72c-.78.78-.78 2.05 0 2.83L4 21.41c.39.39.9.59 1.41.59.51 0 1.02-.2 1.41-.59l7.78-7.78 2.81-2.81c.8-.78.8-2.07 0-2.86zM5.41 20L4 18.59l7.72-7.72 1.47 1.35L5.41 20z\"/>\n",
              "  </svg>\n",
              "      </button>\n",
              "      \n",
              "  <style>\n",
              "    .colab-df-container {\n",
              "      display:flex;\n",
              "      flex-wrap:wrap;\n",
              "      gap: 12px;\n",
              "    }\n",
              "\n",
              "    .colab-df-convert {\n",
              "      background-color: #E8F0FE;\n",
              "      border: none;\n",
              "      border-radius: 50%;\n",
              "      cursor: pointer;\n",
              "      display: none;\n",
              "      fill: #1967D2;\n",
              "      height: 32px;\n",
              "      padding: 0 0 0 0;\n",
              "      width: 32px;\n",
              "    }\n",
              "\n",
              "    .colab-df-convert:hover {\n",
              "      background-color: #E2EBFA;\n",
              "      box-shadow: 0px 1px 2px rgba(60, 64, 67, 0.3), 0px 1px 3px 1px rgba(60, 64, 67, 0.15);\n",
              "      fill: #174EA6;\n",
              "    }\n",
              "\n",
              "    [theme=dark] .colab-df-convert {\n",
              "      background-color: #3B4455;\n",
              "      fill: #D2E3FC;\n",
              "    }\n",
              "\n",
              "    [theme=dark] .colab-df-convert:hover {\n",
              "      background-color: #434B5C;\n",
              "      box-shadow: 0px 1px 3px 1px rgba(0, 0, 0, 0.15);\n",
              "      filter: drop-shadow(0px 1px 2px rgba(0, 0, 0, 0.3));\n",
              "      fill: #FFFFFF;\n",
              "    }\n",
              "  </style>\n",
              "\n",
              "      <script>\n",
              "        const buttonEl =\n",
              "          document.querySelector('#df-910b6fcf-d682-4fdb-92be-a1bf43cea3ba button.colab-df-convert');\n",
              "        buttonEl.style.display =\n",
              "          google.colab.kernel.accessAllowed ? 'block' : 'none';\n",
              "\n",
              "        async function convertToInteractive(key) {\n",
              "          const element = document.querySelector('#df-910b6fcf-d682-4fdb-92be-a1bf43cea3ba');\n",
              "          const dataTable =\n",
              "            await google.colab.kernel.invokeFunction('convertToInteractive',\n",
              "                                                     [key], {});\n",
              "          if (!dataTable) return;\n",
              "\n",
              "          const docLinkHtml = 'Like what you see? Visit the ' +\n",
              "            '<a target=\"_blank\" href=https://colab.research.google.com/notebooks/data_table.ipynb>data table notebook</a>'\n",
              "            + ' to learn more about interactive tables.';\n",
              "          element.innerHTML = '';\n",
              "          dataTable['output_type'] = 'display_data';\n",
              "          await google.colab.output.renderOutput(dataTable, element);\n",
              "          const docLink = document.createElement('div');\n",
              "          docLink.innerHTML = docLinkHtml;\n",
              "          element.appendChild(docLink);\n",
              "        }\n",
              "      </script>\n",
              "    </div>\n",
              "  </div>\n",
              "  "
            ]
          },
          "metadata": {},
          "execution_count": 86
        }
      ]
    },
    {
      "cell_type": "markdown",
      "source": [
        "These companies do not have revt and cogs, so could not calculate the profit margin. When I investigated industry sector at Yahoo Finance, 15 companies were in healthcare - biotechnology industry. The rest two are in Basic material - gold and Energy - Uranium. There companies require a lot of time to develop their products or service. It is possible that these companies have not started selling their products yet. \n",
        "\n",
        "\n",
        "I will use machine learning model, just like I did to impute financial data, to predict and replace missing values in this ratio."
      ],
      "metadata": {
        "id": "Fnkgh3vpTyRi"
      }
    },
    {
      "cell_type": "code",
      "source": [
        "# generate subset of data frame that has missing values in gross margin\n",
        "gross_margin_imput_target = financial_ratios[financial_ratios[\"gross_margin\"].isna()]\n",
        "gross_margin_imput_target"
      ],
      "metadata": {
        "colab": {
          "base_uri": "https://localhost:8080/",
          "height": 646
        },
        "id": "g1rjMUdVPzSo",
        "outputId": "9b7f0a62-ffbf-4a05-82e7-c426b052442c"
      },
      "execution_count": null,
      "outputs": [
        {
          "output_type": "execute_result",
          "data": {
            "text/plain": [
              "       tic       e/p    book/p       roa       roe  current_ratio  debt_ratio  \\\n",
              "515    CVM -0.118529  0.184288 -0.479254 -0.643170      11.499111    0.254857   \n",
              "673   AGIO  0.898517  0.723407  1.116140  1.242064      17.788771    0.101382   \n",
              "737   CBAY -0.314446  0.464471 -0.444834 -0.676997      10.405042    0.342930   \n",
              "755   ALDX -0.248687  0.885556 -0.247820 -0.280826      19.771747    0.117532   \n",
              "772     NG -0.017776  0.034329 -0.203850 -0.517820      38.660963    0.606330   \n",
              "793   VKTX -0.152775  0.560881 -0.261034 -0.272384      23.983595    0.041669   \n",
              "978   KURA -0.139984  0.543567 -0.244295 -0.257528      23.259363    0.051385   \n",
              "988   AXSM -0.091272  0.010940 -1.485482 -8.343122       3.751051    0.821951   \n",
              "1025  MDGL -0.166870  0.135311 -0.884807 -1.233235       3.535803    0.282532   \n",
              "1109  KALV -0.099708  0.554543 -0.170007 -0.179803      27.037446    0.054483   \n",
              "1252  SPPI -0.759285  0.227616 -1.422060 -3.335815       1.952920    0.573699   \n",
              "1628   UEC -0.018675  0.190925 -0.087377 -0.097811       5.655664    0.106676   \n",
              "1634  AVXL -0.028797  0.114567 -0.234562 -0.251356      14.967216    0.066813   \n",
              "1766  OMER  0.482326  0.059051  0.463272  8.167998       4.786518    0.943282   \n",
              "1788  AMPE -0.131777  0.210565 -0.439794 -0.625825       6.956658    0.297257   \n",
              "1817  ATOS -0.101709  0.681822 -0.145871 -0.149172      45.182342    0.022129   \n",
              "1864  TNXP -0.519906  1.232159 -0.383093 -0.421947       8.705517    0.092084   \n",
              "\n",
              "      quick_ratio   leverage  debt_to_equity  working_capital/at  \\\n",
              "515     10.989332   1.342024        0.342024            0.544813   \n",
              "673     17.788771   1.112820        0.112820            0.698602   \n",
              "737     10.405042   1.521909        0.521909            0.853770   \n",
              "755     19.771747   1.133185        0.133185            0.947859   \n",
              "772     38.660963   2.540201        1.540201            0.830105   \n",
              "793     23.983595   1.043480        0.043480            0.957695   \n",
              "978     23.259363   1.054168        0.054168            0.935929   \n",
              "988      3.751051   5.616443        4.616443            0.722823   \n",
              "1025     3.535803   1.393790        0.393790            0.712855   \n",
              "1109    27.037446   1.057622        0.057622            0.935580   \n",
              "1252     1.952920   2.345762        1.345762            0.454719   \n",
              "1628     3.457156   1.119415        0.119415            0.364372   \n",
              "1634    14.967216   1.071596        0.071596            0.933187   \n",
              "1766     4.786518  17.631119       16.631119            0.467720   \n",
              "1788     6.942601   1.422995        0.422995            0.785834   \n",
              "1817    45.182342   1.022630        0.022630            0.977715   \n",
              "1864     8.705517   1.101423        0.101423            0.694616   \n",
              "\n",
              "      gross_margin     re/at  assets_turnover  \n",
              "515            NaN -5.512007              0.0  \n",
              "673            NaN -0.166900              0.0  \n",
              "737            NaN -3.790414              0.0  \n",
              "755            NaN -1.264029              0.0  \n",
              "772            NaN -9.969495              0.0  \n",
              "793            NaN -1.062038              0.0  \n",
              "978            NaN -0.814074              0.0  \n",
              "988            NaN -4.661377              0.0  \n",
              "1025           NaN -2.441683              0.0  \n",
              "1109           NaN -0.622279              0.0  \n",
              "1252           NaN -9.385780              0.0  \n",
              "1628           NaN -1.715060              0.0  \n",
              "1634           NaN -1.222565              0.0  \n",
              "1766           NaN -1.629349              0.0  \n",
              "1788           NaN -5.604688              0.0  \n",
              "1817           NaN -0.914853              0.0  \n",
              "1864           NaN -1.494031              0.0  "
            ],
            "text/html": [
              "\n",
              "  <div id=\"df-4b6c465f-f5f9-494c-945e-547412ddbec1\">\n",
              "    <div class=\"colab-df-container\">\n",
              "      <div>\n",
              "<style scoped>\n",
              "    .dataframe tbody tr th:only-of-type {\n",
              "        vertical-align: middle;\n",
              "    }\n",
              "\n",
              "    .dataframe tbody tr th {\n",
              "        vertical-align: top;\n",
              "    }\n",
              "\n",
              "    .dataframe thead th {\n",
              "        text-align: right;\n",
              "    }\n",
              "</style>\n",
              "<table border=\"1\" class=\"dataframe\">\n",
              "  <thead>\n",
              "    <tr style=\"text-align: right;\">\n",
              "      <th></th>\n",
              "      <th>tic</th>\n",
              "      <th>e/p</th>\n",
              "      <th>book/p</th>\n",
              "      <th>roa</th>\n",
              "      <th>roe</th>\n",
              "      <th>current_ratio</th>\n",
              "      <th>debt_ratio</th>\n",
              "      <th>quick_ratio</th>\n",
              "      <th>leverage</th>\n",
              "      <th>debt_to_equity</th>\n",
              "      <th>working_capital/at</th>\n",
              "      <th>gross_margin</th>\n",
              "      <th>re/at</th>\n",
              "      <th>assets_turnover</th>\n",
              "    </tr>\n",
              "  </thead>\n",
              "  <tbody>\n",
              "    <tr>\n",
              "      <th>515</th>\n",
              "      <td>CVM</td>\n",
              "      <td>-0.118529</td>\n",
              "      <td>0.184288</td>\n",
              "      <td>-0.479254</td>\n",
              "      <td>-0.643170</td>\n",
              "      <td>11.499111</td>\n",
              "      <td>0.254857</td>\n",
              "      <td>10.989332</td>\n",
              "      <td>1.342024</td>\n",
              "      <td>0.342024</td>\n",
              "      <td>0.544813</td>\n",
              "      <td>NaN</td>\n",
              "      <td>-5.512007</td>\n",
              "      <td>0.0</td>\n",
              "    </tr>\n",
              "    <tr>\n",
              "      <th>673</th>\n",
              "      <td>AGIO</td>\n",
              "      <td>0.898517</td>\n",
              "      <td>0.723407</td>\n",
              "      <td>1.116140</td>\n",
              "      <td>1.242064</td>\n",
              "      <td>17.788771</td>\n",
              "      <td>0.101382</td>\n",
              "      <td>17.788771</td>\n",
              "      <td>1.112820</td>\n",
              "      <td>0.112820</td>\n",
              "      <td>0.698602</td>\n",
              "      <td>NaN</td>\n",
              "      <td>-0.166900</td>\n",
              "      <td>0.0</td>\n",
              "    </tr>\n",
              "    <tr>\n",
              "      <th>737</th>\n",
              "      <td>CBAY</td>\n",
              "      <td>-0.314446</td>\n",
              "      <td>0.464471</td>\n",
              "      <td>-0.444834</td>\n",
              "      <td>-0.676997</td>\n",
              "      <td>10.405042</td>\n",
              "      <td>0.342930</td>\n",
              "      <td>10.405042</td>\n",
              "      <td>1.521909</td>\n",
              "      <td>0.521909</td>\n",
              "      <td>0.853770</td>\n",
              "      <td>NaN</td>\n",
              "      <td>-3.790414</td>\n",
              "      <td>0.0</td>\n",
              "    </tr>\n",
              "    <tr>\n",
              "      <th>755</th>\n",
              "      <td>ALDX</td>\n",
              "      <td>-0.248687</td>\n",
              "      <td>0.885556</td>\n",
              "      <td>-0.247820</td>\n",
              "      <td>-0.280826</td>\n",
              "      <td>19.771747</td>\n",
              "      <td>0.117532</td>\n",
              "      <td>19.771747</td>\n",
              "      <td>1.133185</td>\n",
              "      <td>0.133185</td>\n",
              "      <td>0.947859</td>\n",
              "      <td>NaN</td>\n",
              "      <td>-1.264029</td>\n",
              "      <td>0.0</td>\n",
              "    </tr>\n",
              "    <tr>\n",
              "      <th>772</th>\n",
              "      <td>NG</td>\n",
              "      <td>-0.017776</td>\n",
              "      <td>0.034329</td>\n",
              "      <td>-0.203850</td>\n",
              "      <td>-0.517820</td>\n",
              "      <td>38.660963</td>\n",
              "      <td>0.606330</td>\n",
              "      <td>38.660963</td>\n",
              "      <td>2.540201</td>\n",
              "      <td>1.540201</td>\n",
              "      <td>0.830105</td>\n",
              "      <td>NaN</td>\n",
              "      <td>-9.969495</td>\n",
              "      <td>0.0</td>\n",
              "    </tr>\n",
              "    <tr>\n",
              "      <th>793</th>\n",
              "      <td>VKTX</td>\n",
              "      <td>-0.152775</td>\n",
              "      <td>0.560881</td>\n",
              "      <td>-0.261034</td>\n",
              "      <td>-0.272384</td>\n",
              "      <td>23.983595</td>\n",
              "      <td>0.041669</td>\n",
              "      <td>23.983595</td>\n",
              "      <td>1.043480</td>\n",
              "      <td>0.043480</td>\n",
              "      <td>0.957695</td>\n",
              "      <td>NaN</td>\n",
              "      <td>-1.062038</td>\n",
              "      <td>0.0</td>\n",
              "    </tr>\n",
              "    <tr>\n",
              "      <th>978</th>\n",
              "      <td>KURA</td>\n",
              "      <td>-0.139984</td>\n",
              "      <td>0.543567</td>\n",
              "      <td>-0.244295</td>\n",
              "      <td>-0.257528</td>\n",
              "      <td>23.259363</td>\n",
              "      <td>0.051385</td>\n",
              "      <td>23.259363</td>\n",
              "      <td>1.054168</td>\n",
              "      <td>0.054168</td>\n",
              "      <td>0.935929</td>\n",
              "      <td>NaN</td>\n",
              "      <td>-0.814074</td>\n",
              "      <td>0.0</td>\n",
              "    </tr>\n",
              "    <tr>\n",
              "      <th>988</th>\n",
              "      <td>AXSM</td>\n",
              "      <td>-0.091272</td>\n",
              "      <td>0.010940</td>\n",
              "      <td>-1.485482</td>\n",
              "      <td>-8.343122</td>\n",
              "      <td>3.751051</td>\n",
              "      <td>0.821951</td>\n",
              "      <td>3.751051</td>\n",
              "      <td>5.616443</td>\n",
              "      <td>4.616443</td>\n",
              "      <td>0.722823</td>\n",
              "      <td>NaN</td>\n",
              "      <td>-4.661377</td>\n",
              "      <td>0.0</td>\n",
              "    </tr>\n",
              "    <tr>\n",
              "      <th>1025</th>\n",
              "      <td>MDGL</td>\n",
              "      <td>-0.166870</td>\n",
              "      <td>0.135311</td>\n",
              "      <td>-0.884807</td>\n",
              "      <td>-1.233235</td>\n",
              "      <td>3.535803</td>\n",
              "      <td>0.282532</td>\n",
              "      <td>3.535803</td>\n",
              "      <td>1.393790</td>\n",
              "      <td>0.393790</td>\n",
              "      <td>0.712855</td>\n",
              "      <td>NaN</td>\n",
              "      <td>-2.441683</td>\n",
              "      <td>0.0</td>\n",
              "    </tr>\n",
              "    <tr>\n",
              "      <th>1109</th>\n",
              "      <td>KALV</td>\n",
              "      <td>-0.099708</td>\n",
              "      <td>0.554543</td>\n",
              "      <td>-0.170007</td>\n",
              "      <td>-0.179803</td>\n",
              "      <td>27.037446</td>\n",
              "      <td>0.054483</td>\n",
              "      <td>27.037446</td>\n",
              "      <td>1.057622</td>\n",
              "      <td>0.057622</td>\n",
              "      <td>0.935580</td>\n",
              "      <td>NaN</td>\n",
              "      <td>-0.622279</td>\n",
              "      <td>0.0</td>\n",
              "    </tr>\n",
              "    <tr>\n",
              "      <th>1252</th>\n",
              "      <td>SPPI</td>\n",
              "      <td>-0.759285</td>\n",
              "      <td>0.227616</td>\n",
              "      <td>-1.422060</td>\n",
              "      <td>-3.335815</td>\n",
              "      <td>1.952920</td>\n",
              "      <td>0.573699</td>\n",
              "      <td>1.952920</td>\n",
              "      <td>2.345762</td>\n",
              "      <td>1.345762</td>\n",
              "      <td>0.454719</td>\n",
              "      <td>NaN</td>\n",
              "      <td>-9.385780</td>\n",
              "      <td>0.0</td>\n",
              "    </tr>\n",
              "    <tr>\n",
              "      <th>1628</th>\n",
              "      <td>UEC</td>\n",
              "      <td>-0.018675</td>\n",
              "      <td>0.190925</td>\n",
              "      <td>-0.087377</td>\n",
              "      <td>-0.097811</td>\n",
              "      <td>5.655664</td>\n",
              "      <td>0.106676</td>\n",
              "      <td>3.457156</td>\n",
              "      <td>1.119415</td>\n",
              "      <td>0.119415</td>\n",
              "      <td>0.364372</td>\n",
              "      <td>NaN</td>\n",
              "      <td>-1.715060</td>\n",
              "      <td>0.0</td>\n",
              "    </tr>\n",
              "    <tr>\n",
              "      <th>1634</th>\n",
              "      <td>AVXL</td>\n",
              "      <td>-0.028797</td>\n",
              "      <td>0.114567</td>\n",
              "      <td>-0.234562</td>\n",
              "      <td>-0.251356</td>\n",
              "      <td>14.967216</td>\n",
              "      <td>0.066813</td>\n",
              "      <td>14.967216</td>\n",
              "      <td>1.071596</td>\n",
              "      <td>0.071596</td>\n",
              "      <td>0.933187</td>\n",
              "      <td>NaN</td>\n",
              "      <td>-1.222565</td>\n",
              "      <td>0.0</td>\n",
              "    </tr>\n",
              "    <tr>\n",
              "      <th>1766</th>\n",
              "      <td>OMER</td>\n",
              "      <td>0.482326</td>\n",
              "      <td>0.059051</td>\n",
              "      <td>0.463272</td>\n",
              "      <td>8.167998</td>\n",
              "      <td>4.786518</td>\n",
              "      <td>0.943282</td>\n",
              "      <td>4.786518</td>\n",
              "      <td>17.631119</td>\n",
              "      <td>16.631119</td>\n",
              "      <td>0.467720</td>\n",
              "      <td>NaN</td>\n",
              "      <td>-1.629349</td>\n",
              "      <td>0.0</td>\n",
              "    </tr>\n",
              "    <tr>\n",
              "      <th>1788</th>\n",
              "      <td>AMPE</td>\n",
              "      <td>-0.131777</td>\n",
              "      <td>0.210565</td>\n",
              "      <td>-0.439794</td>\n",
              "      <td>-0.625825</td>\n",
              "      <td>6.956658</td>\n",
              "      <td>0.297257</td>\n",
              "      <td>6.942601</td>\n",
              "      <td>1.422995</td>\n",
              "      <td>0.422995</td>\n",
              "      <td>0.785834</td>\n",
              "      <td>NaN</td>\n",
              "      <td>-5.604688</td>\n",
              "      <td>0.0</td>\n",
              "    </tr>\n",
              "    <tr>\n",
              "      <th>1817</th>\n",
              "      <td>ATOS</td>\n",
              "      <td>-0.101709</td>\n",
              "      <td>0.681822</td>\n",
              "      <td>-0.145871</td>\n",
              "      <td>-0.149172</td>\n",
              "      <td>45.182342</td>\n",
              "      <td>0.022129</td>\n",
              "      <td>45.182342</td>\n",
              "      <td>1.022630</td>\n",
              "      <td>0.022630</td>\n",
              "      <td>0.977715</td>\n",
              "      <td>NaN</td>\n",
              "      <td>-0.914853</td>\n",
              "      <td>0.0</td>\n",
              "    </tr>\n",
              "    <tr>\n",
              "      <th>1864</th>\n",
              "      <td>TNXP</td>\n",
              "      <td>-0.519906</td>\n",
              "      <td>1.232159</td>\n",
              "      <td>-0.383093</td>\n",
              "      <td>-0.421947</td>\n",
              "      <td>8.705517</td>\n",
              "      <td>0.092084</td>\n",
              "      <td>8.705517</td>\n",
              "      <td>1.101423</td>\n",
              "      <td>0.101423</td>\n",
              "      <td>0.694616</td>\n",
              "      <td>NaN</td>\n",
              "      <td>-1.494031</td>\n",
              "      <td>0.0</td>\n",
              "    </tr>\n",
              "  </tbody>\n",
              "</table>\n",
              "</div>\n",
              "      <button class=\"colab-df-convert\" onclick=\"convertToInteractive('df-4b6c465f-f5f9-494c-945e-547412ddbec1')\"\n",
              "              title=\"Convert this dataframe to an interactive table.\"\n",
              "              style=\"display:none;\">\n",
              "        \n",
              "  <svg xmlns=\"http://www.w3.org/2000/svg\" height=\"24px\"viewBox=\"0 0 24 24\"\n",
              "       width=\"24px\">\n",
              "    <path d=\"M0 0h24v24H0V0z\" fill=\"none\"/>\n",
              "    <path d=\"M18.56 5.44l.94 2.06.94-2.06 2.06-.94-2.06-.94-.94-2.06-.94 2.06-2.06.94zm-11 1L8.5 8.5l.94-2.06 2.06-.94-2.06-.94L8.5 2.5l-.94 2.06-2.06.94zm10 10l.94 2.06.94-2.06 2.06-.94-2.06-.94-.94-2.06-.94 2.06-2.06.94z\"/><path d=\"M17.41 7.96l-1.37-1.37c-.4-.4-.92-.59-1.43-.59-.52 0-1.04.2-1.43.59L10.3 9.45l-7.72 7.72c-.78.78-.78 2.05 0 2.83L4 21.41c.39.39.9.59 1.41.59.51 0 1.02-.2 1.41-.59l7.78-7.78 2.81-2.81c.8-.78.8-2.07 0-2.86zM5.41 20L4 18.59l7.72-7.72 1.47 1.35L5.41 20z\"/>\n",
              "  </svg>\n",
              "      </button>\n",
              "      \n",
              "  <style>\n",
              "    .colab-df-container {\n",
              "      display:flex;\n",
              "      flex-wrap:wrap;\n",
              "      gap: 12px;\n",
              "    }\n",
              "\n",
              "    .colab-df-convert {\n",
              "      background-color: #E8F0FE;\n",
              "      border: none;\n",
              "      border-radius: 50%;\n",
              "      cursor: pointer;\n",
              "      display: none;\n",
              "      fill: #1967D2;\n",
              "      height: 32px;\n",
              "      padding: 0 0 0 0;\n",
              "      width: 32px;\n",
              "    }\n",
              "\n",
              "    .colab-df-convert:hover {\n",
              "      background-color: #E2EBFA;\n",
              "      box-shadow: 0px 1px 2px rgba(60, 64, 67, 0.3), 0px 1px 3px 1px rgba(60, 64, 67, 0.15);\n",
              "      fill: #174EA6;\n",
              "    }\n",
              "\n",
              "    [theme=dark] .colab-df-convert {\n",
              "      background-color: #3B4455;\n",
              "      fill: #D2E3FC;\n",
              "    }\n",
              "\n",
              "    [theme=dark] .colab-df-convert:hover {\n",
              "      background-color: #434B5C;\n",
              "      box-shadow: 0px 1px 3px 1px rgba(0, 0, 0, 0.15);\n",
              "      filter: drop-shadow(0px 1px 2px rgba(0, 0, 0, 0.3));\n",
              "      fill: #FFFFFF;\n",
              "    }\n",
              "  </style>\n",
              "\n",
              "      <script>\n",
              "        const buttonEl =\n",
              "          document.querySelector('#df-4b6c465f-f5f9-494c-945e-547412ddbec1 button.colab-df-convert');\n",
              "        buttonEl.style.display =\n",
              "          google.colab.kernel.accessAllowed ? 'block' : 'none';\n",
              "\n",
              "        async function convertToInteractive(key) {\n",
              "          const element = document.querySelector('#df-4b6c465f-f5f9-494c-945e-547412ddbec1');\n",
              "          const dataTable =\n",
              "            await google.colab.kernel.invokeFunction('convertToInteractive',\n",
              "                                                     [key], {});\n",
              "          if (!dataTable) return;\n",
              "\n",
              "          const docLinkHtml = 'Like what you see? Visit the ' +\n",
              "            '<a target=\"_blank\" href=https://colab.research.google.com/notebooks/data_table.ipynb>data table notebook</a>'\n",
              "            + ' to learn more about interactive tables.';\n",
              "          element.innerHTML = '';\n",
              "          dataTable['output_type'] = 'display_data';\n",
              "          await google.colab.output.renderOutput(dataTable, element);\n",
              "          const docLink = document.createElement('div');\n",
              "          docLink.innerHTML = docLinkHtml;\n",
              "          element.appendChild(docLink);\n",
              "        }\n",
              "      </script>\n",
              "    </div>\n",
              "  </div>\n",
              "  "
            ]
          },
          "metadata": {},
          "execution_count": 87
        }
      ]
    },
    {
      "cell_type": "code",
      "source": [
        "# subset data for train\n",
        "gross_margin_imput_train = financial_ratios.drop(gross_margin_imput_target.index)\n",
        "gross_margin_imput_train.shape"
      ],
      "metadata": {
        "colab": {
          "base_uri": "https://localhost:8080/"
        },
        "id": "XuXhokwIQCEd",
        "outputId": "9ea99ca7-7431-4c74-ba04-a7d84c3926a0"
      },
      "execution_count": null,
      "outputs": [
        {
          "output_type": "execute_result",
          "data": {
            "text/plain": [
              "(1869, 14)"
            ]
          },
          "metadata": {},
          "execution_count": 88
        }
      ]
    },
    {
      "cell_type": "code",
      "source": [
        "# X and y\n",
        "gmr_X = gross_margin_imput_train.drop(columns=[\"tic\",\"gross_margin\"])\n",
        "gmr_y = gross_margin_imput_train[\"gross_margin\"]"
      ],
      "metadata": {
        "id": "R-sh7pPuQQEy"
      },
      "execution_count": null,
      "outputs": []
    },
    {
      "cell_type": "code",
      "source": [
        "# train-test split\n",
        "gmr_X_train, gmr_X_test, gmr_y_train, gmr_y_test = train_test_split(\n",
        "    gmr_X, gmr_y, test_size=0.5, random_state=870)"
      ],
      "metadata": {
        "id": "JyjyTIQtQlDC"
      },
      "execution_count": null,
      "outputs": []
    },
    {
      "cell_type": "code",
      "source": [
        "# initiate and fit the model\n",
        "reg_gmr = LinearRegression()\n",
        "reg_gmr.fit(gmr_X_train, gmr_y_train)\n",
        "\n",
        "# check r sqaured to see model explains much variation in the data\n",
        "r2_train_gmr = r2_score(gmr_y_train, reg_gmr.predict(gmr_X_train))\n",
        "r2_test_gmr = r2_score(gmr_y_test, reg_gmr.predict(gmr_X_test))\n",
        "\n",
        "print(\"The train R squared is {}, and test R squared is {}\".format(r2_train_gmr, r2_test_gmr))"
      ],
      "metadata": {
        "colab": {
          "base_uri": "https://localhost:8080/"
        },
        "id": "eaF0-HyhQsIK",
        "outputId": "d24ffb06-4801-4cfb-def2-cf9467fdfd9c"
      },
      "execution_count": null,
      "outputs": [
        {
          "output_type": "stream",
          "name": "stdout",
          "text": [
            "The train R squared is 0.2368609363111236, and test R squared is -3.7482931739996284\n"
          ]
        }
      ]
    },
    {
      "cell_type": "markdown",
      "source": [
        "The R squred on test data is negative. This means the model performs really bad. So I will try out another method."
      ],
      "metadata": {
        "id": "X3cXmP4uVeMO"
      }
    },
    {
      "cell_type": "code",
      "source": [
        "# initiate the random forest model\n",
        "rf_gmr = RandomForestRegressor(max_depth=8, random_state=870, n_estimators=200, max_features=\"sqrt\")\n",
        "rf_gmr.fit(gmr_X_train, gmr_y_train)\n",
        "\n",
        "# r squred\n",
        "r2_train_gmr2 = r2_score(gmr_y_train, rf_gmr.predict(gmr_X_train))\n",
        "r2_test_gmr2 = r2_score(gmr_y_test, rf_gmr.predict(gmr_X_test))\n",
        "\n",
        "print(\"The train R squared is {}, and test R squared is {}\".format(r2_train_gmr2, r2_test_gmr2))"
      ],
      "metadata": {
        "colab": {
          "base_uri": "https://localhost:8080/"
        },
        "id": "1iMwgVD_RPHP",
        "outputId": "e356da39-d7ae-4fa8-d0ed-75723c3fdad6"
      },
      "execution_count": null,
      "outputs": [
        {
          "output_type": "stream",
          "name": "stdout",
          "text": [
            "The train R squared is 0.8786441378666041, and test R squared is 0.16512428107162158\n"
          ]
        }
      ]
    },
    {
      "cell_type": "markdown",
      "source": [
        "This model is overfitted to the train data, but still works better than the previous model. So I will use this model to predict the gross margin ratio."
      ],
      "metadata": {
        "id": "zpOkmX8rVr1Z"
      }
    },
    {
      "cell_type": "code",
      "source": [
        "# make prediction\n",
        "gross_margin_target_pred = rf_gmr.predict(gross_margin_imput_target.drop(columns=[\"tic\", \"gross_margin\"]))\n",
        "\n",
        "# add result in the data\n",
        "\n",
        "for index in gross_margin_imput_target.index:\n",
        "  pred_index = 0\n",
        "  financial_ratios.loc[index, \"gross_margin\"] = gross_margin_target_pred[pred_index]\n",
        "  pred_index += 1"
      ],
      "metadata": {
        "id": "70IEemedRv0v"
      },
      "execution_count": null,
      "outputs": []
    },
    {
      "cell_type": "code",
      "source": [
        "# sanity check\n",
        "# these companies probably have loss instead of profit\n",
        "gross_margin_target_pred"
      ],
      "metadata": {
        "colab": {
          "base_uri": "https://localhost:8080/"
        },
        "id": "ckLp14C-S2bB",
        "outputId": "2dfd82bb-6803-45cf-bfb2-1935d512af03"
      },
      "execution_count": null,
      "outputs": [
        {
          "output_type": "execute_result",
          "data": {
            "text/plain": [
              "array([ -95.25735789,  -58.06267382, -109.80758519,  -89.86077333,\n",
              "       -111.25750987,  -94.10939694,  -91.98630589,  -94.48572384,\n",
              "        -81.78204892,  -84.05395596, -128.63870972,  -56.29108018,\n",
              "        -82.25790256,  -42.2169281 ,  -80.34899169,  -80.15003261,\n",
              "       -106.88495908])"
            ]
          },
          "metadata": {},
          "execution_count": 94
        }
      ]
    },
    {
      "cell_type": "code",
      "source": [
        "# confirm the data\n",
        "financial_ratios[\"gross_margin\"].isna().sum()"
      ],
      "metadata": {
        "colab": {
          "base_uri": "https://localhost:8080/"
        },
        "id": "dXf-ihvqw5tV",
        "outputId": "c204237f-f86f-4aae-f17f-b64ba4b81e6d"
      },
      "execution_count": null,
      "outputs": [
        {
          "output_type": "execute_result",
          "data": {
            "text/plain": [
              "0"
            ]
          },
          "metadata": {},
          "execution_count": 95
        }
      ]
    },
    {
      "cell_type": "markdown",
      "source": [
        "## Handle outliers in ratios"
      ],
      "metadata": {
        "id": "ODtISBXJx8hj"
      }
    },
    {
      "cell_type": "code",
      "source": [
        "financial_ratios.describe().T"
      ],
      "metadata": {
        "colab": {
          "base_uri": "https://localhost:8080/",
          "height": 457
        },
        "id": "ToE2_xD_xqkS",
        "outputId": "f69695d3-0639-4b5c-b6e2-9700a31c675f"
      },
      "execution_count": null,
      "outputs": [
        {
          "output_type": "execute_result",
          "data": {
            "text/plain": [
              "                     count      mean        std          min       25%  \\\n",
              "e/p                 1886.0  0.027009   0.136354    -1.891725  0.008113   \n",
              "book/p              1886.0  0.422120   0.424100    -2.056645  0.161112   \n",
              "roa                 1886.0  0.023572   0.171422    -1.759213  0.007584   \n",
              "roe                 1886.0  0.023312  10.319606  -364.326147  0.027054   \n",
              "current_ratio       1886.0  2.863921   3.321735     0.286242  1.398980   \n",
              "debt_ratio          1886.0  0.631210   0.273683     0.008474  0.459041   \n",
              "quick_ratio         1886.0 -1.806416  82.943739 -2318.781320  0.966298   \n",
              "leverage            1886.0  1.469272  89.376561 -3095.952381  1.770975   \n",
              "debt_to_equity      1886.0  0.440710  87.973088 -3027.095238  0.756310   \n",
              "working_capital/at  1886.0  0.180241   0.208327    -0.787286  0.033140   \n",
              "gross_margin        1886.0 -1.218841  16.412887  -498.116935  0.241888   \n",
              "re/at               1886.0 -0.094378   1.319420   -35.382839 -0.083876   \n",
              "assets_turnover     1886.0  0.642005   0.616868    -0.009803  0.185607   \n",
              "\n",
              "                         50%       75%          max  \n",
              "e/p                 0.036704  0.076322     0.898517  \n",
              "book/p              0.337004  0.613868     7.547555  \n",
              "roa                 0.034187  0.079409     1.484070  \n",
              "roe                 0.115155  0.218230   216.142857  \n",
              "current_ratio       2.351675  3.257239    54.016360  \n",
              "debt_ratio          0.630963  0.801356     3.517942  \n",
              "quick_ratio         1.638298  3.239842    54.016360  \n",
              "leverage            2.552746  4.577301  1347.744089  \n",
              "debt_to_equity      1.527741  3.504444  1346.744089  \n",
              "working_capital/at  0.120341  0.278371     1.634673  \n",
              "gross_margin        0.399064  0.649018     1.220085  \n",
              "re/at               0.084870  0.315077     4.427654  \n",
              "assets_turnover     0.511923  0.900111     6.389003  "
            ],
            "text/html": [
              "\n",
              "  <div id=\"df-c505bc4c-b347-4fad-b872-2f1253f9ee9a\">\n",
              "    <div class=\"colab-df-container\">\n",
              "      <div>\n",
              "<style scoped>\n",
              "    .dataframe tbody tr th:only-of-type {\n",
              "        vertical-align: middle;\n",
              "    }\n",
              "\n",
              "    .dataframe tbody tr th {\n",
              "        vertical-align: top;\n",
              "    }\n",
              "\n",
              "    .dataframe thead th {\n",
              "        text-align: right;\n",
              "    }\n",
              "</style>\n",
              "<table border=\"1\" class=\"dataframe\">\n",
              "  <thead>\n",
              "    <tr style=\"text-align: right;\">\n",
              "      <th></th>\n",
              "      <th>count</th>\n",
              "      <th>mean</th>\n",
              "      <th>std</th>\n",
              "      <th>min</th>\n",
              "      <th>25%</th>\n",
              "      <th>50%</th>\n",
              "      <th>75%</th>\n",
              "      <th>max</th>\n",
              "    </tr>\n",
              "  </thead>\n",
              "  <tbody>\n",
              "    <tr>\n",
              "      <th>e/p</th>\n",
              "      <td>1886.0</td>\n",
              "      <td>0.027009</td>\n",
              "      <td>0.136354</td>\n",
              "      <td>-1.891725</td>\n",
              "      <td>0.008113</td>\n",
              "      <td>0.036704</td>\n",
              "      <td>0.076322</td>\n",
              "      <td>0.898517</td>\n",
              "    </tr>\n",
              "    <tr>\n",
              "      <th>book/p</th>\n",
              "      <td>1886.0</td>\n",
              "      <td>0.422120</td>\n",
              "      <td>0.424100</td>\n",
              "      <td>-2.056645</td>\n",
              "      <td>0.161112</td>\n",
              "      <td>0.337004</td>\n",
              "      <td>0.613868</td>\n",
              "      <td>7.547555</td>\n",
              "    </tr>\n",
              "    <tr>\n",
              "      <th>roa</th>\n",
              "      <td>1886.0</td>\n",
              "      <td>0.023572</td>\n",
              "      <td>0.171422</td>\n",
              "      <td>-1.759213</td>\n",
              "      <td>0.007584</td>\n",
              "      <td>0.034187</td>\n",
              "      <td>0.079409</td>\n",
              "      <td>1.484070</td>\n",
              "    </tr>\n",
              "    <tr>\n",
              "      <th>roe</th>\n",
              "      <td>1886.0</td>\n",
              "      <td>0.023312</td>\n",
              "      <td>10.319606</td>\n",
              "      <td>-364.326147</td>\n",
              "      <td>0.027054</td>\n",
              "      <td>0.115155</td>\n",
              "      <td>0.218230</td>\n",
              "      <td>216.142857</td>\n",
              "    </tr>\n",
              "    <tr>\n",
              "      <th>current_ratio</th>\n",
              "      <td>1886.0</td>\n",
              "      <td>2.863921</td>\n",
              "      <td>3.321735</td>\n",
              "      <td>0.286242</td>\n",
              "      <td>1.398980</td>\n",
              "      <td>2.351675</td>\n",
              "      <td>3.257239</td>\n",
              "      <td>54.016360</td>\n",
              "    </tr>\n",
              "    <tr>\n",
              "      <th>debt_ratio</th>\n",
              "      <td>1886.0</td>\n",
              "      <td>0.631210</td>\n",
              "      <td>0.273683</td>\n",
              "      <td>0.008474</td>\n",
              "      <td>0.459041</td>\n",
              "      <td>0.630963</td>\n",
              "      <td>0.801356</td>\n",
              "      <td>3.517942</td>\n",
              "    </tr>\n",
              "    <tr>\n",
              "      <th>quick_ratio</th>\n",
              "      <td>1886.0</td>\n",
              "      <td>-1.806416</td>\n",
              "      <td>82.943739</td>\n",
              "      <td>-2318.781320</td>\n",
              "      <td>0.966298</td>\n",
              "      <td>1.638298</td>\n",
              "      <td>3.239842</td>\n",
              "      <td>54.016360</td>\n",
              "    </tr>\n",
              "    <tr>\n",
              "      <th>leverage</th>\n",
              "      <td>1886.0</td>\n",
              "      <td>1.469272</td>\n",
              "      <td>89.376561</td>\n",
              "      <td>-3095.952381</td>\n",
              "      <td>1.770975</td>\n",
              "      <td>2.552746</td>\n",
              "      <td>4.577301</td>\n",
              "      <td>1347.744089</td>\n",
              "    </tr>\n",
              "    <tr>\n",
              "      <th>debt_to_equity</th>\n",
              "      <td>1886.0</td>\n",
              "      <td>0.440710</td>\n",
              "      <td>87.973088</td>\n",
              "      <td>-3027.095238</td>\n",
              "      <td>0.756310</td>\n",
              "      <td>1.527741</td>\n",
              "      <td>3.504444</td>\n",
              "      <td>1346.744089</td>\n",
              "    </tr>\n",
              "    <tr>\n",
              "      <th>working_capital/at</th>\n",
              "      <td>1886.0</td>\n",
              "      <td>0.180241</td>\n",
              "      <td>0.208327</td>\n",
              "      <td>-0.787286</td>\n",
              "      <td>0.033140</td>\n",
              "      <td>0.120341</td>\n",
              "      <td>0.278371</td>\n",
              "      <td>1.634673</td>\n",
              "    </tr>\n",
              "    <tr>\n",
              "      <th>gross_margin</th>\n",
              "      <td>1886.0</td>\n",
              "      <td>-1.218841</td>\n",
              "      <td>16.412887</td>\n",
              "      <td>-498.116935</td>\n",
              "      <td>0.241888</td>\n",
              "      <td>0.399064</td>\n",
              "      <td>0.649018</td>\n",
              "      <td>1.220085</td>\n",
              "    </tr>\n",
              "    <tr>\n",
              "      <th>re/at</th>\n",
              "      <td>1886.0</td>\n",
              "      <td>-0.094378</td>\n",
              "      <td>1.319420</td>\n",
              "      <td>-35.382839</td>\n",
              "      <td>-0.083876</td>\n",
              "      <td>0.084870</td>\n",
              "      <td>0.315077</td>\n",
              "      <td>4.427654</td>\n",
              "    </tr>\n",
              "    <tr>\n",
              "      <th>assets_turnover</th>\n",
              "      <td>1886.0</td>\n",
              "      <td>0.642005</td>\n",
              "      <td>0.616868</td>\n",
              "      <td>-0.009803</td>\n",
              "      <td>0.185607</td>\n",
              "      <td>0.511923</td>\n",
              "      <td>0.900111</td>\n",
              "      <td>6.389003</td>\n",
              "    </tr>\n",
              "  </tbody>\n",
              "</table>\n",
              "</div>\n",
              "      <button class=\"colab-df-convert\" onclick=\"convertToInteractive('df-c505bc4c-b347-4fad-b872-2f1253f9ee9a')\"\n",
              "              title=\"Convert this dataframe to an interactive table.\"\n",
              "              style=\"display:none;\">\n",
              "        \n",
              "  <svg xmlns=\"http://www.w3.org/2000/svg\" height=\"24px\"viewBox=\"0 0 24 24\"\n",
              "       width=\"24px\">\n",
              "    <path d=\"M0 0h24v24H0V0z\" fill=\"none\"/>\n",
              "    <path d=\"M18.56 5.44l.94 2.06.94-2.06 2.06-.94-2.06-.94-.94-2.06-.94 2.06-2.06.94zm-11 1L8.5 8.5l.94-2.06 2.06-.94-2.06-.94L8.5 2.5l-.94 2.06-2.06.94zm10 10l.94 2.06.94-2.06 2.06-.94-2.06-.94-.94-2.06-.94 2.06-2.06.94z\"/><path d=\"M17.41 7.96l-1.37-1.37c-.4-.4-.92-.59-1.43-.59-.52 0-1.04.2-1.43.59L10.3 9.45l-7.72 7.72c-.78.78-.78 2.05 0 2.83L4 21.41c.39.39.9.59 1.41.59.51 0 1.02-.2 1.41-.59l7.78-7.78 2.81-2.81c.8-.78.8-2.07 0-2.86zM5.41 20L4 18.59l7.72-7.72 1.47 1.35L5.41 20z\"/>\n",
              "  </svg>\n",
              "      </button>\n",
              "      \n",
              "  <style>\n",
              "    .colab-df-container {\n",
              "      display:flex;\n",
              "      flex-wrap:wrap;\n",
              "      gap: 12px;\n",
              "    }\n",
              "\n",
              "    .colab-df-convert {\n",
              "      background-color: #E8F0FE;\n",
              "      border: none;\n",
              "      border-radius: 50%;\n",
              "      cursor: pointer;\n",
              "      display: none;\n",
              "      fill: #1967D2;\n",
              "      height: 32px;\n",
              "      padding: 0 0 0 0;\n",
              "      width: 32px;\n",
              "    }\n",
              "\n",
              "    .colab-df-convert:hover {\n",
              "      background-color: #E2EBFA;\n",
              "      box-shadow: 0px 1px 2px rgba(60, 64, 67, 0.3), 0px 1px 3px 1px rgba(60, 64, 67, 0.15);\n",
              "      fill: #174EA6;\n",
              "    }\n",
              "\n",
              "    [theme=dark] .colab-df-convert {\n",
              "      background-color: #3B4455;\n",
              "      fill: #D2E3FC;\n",
              "    }\n",
              "\n",
              "    [theme=dark] .colab-df-convert:hover {\n",
              "      background-color: #434B5C;\n",
              "      box-shadow: 0px 1px 3px 1px rgba(0, 0, 0, 0.15);\n",
              "      filter: drop-shadow(0px 1px 2px rgba(0, 0, 0, 0.3));\n",
              "      fill: #FFFFFF;\n",
              "    }\n",
              "  </style>\n",
              "\n",
              "      <script>\n",
              "        const buttonEl =\n",
              "          document.querySelector('#df-c505bc4c-b347-4fad-b872-2f1253f9ee9a button.colab-df-convert');\n",
              "        buttonEl.style.display =\n",
              "          google.colab.kernel.accessAllowed ? 'block' : 'none';\n",
              "\n",
              "        async function convertToInteractive(key) {\n",
              "          const element = document.querySelector('#df-c505bc4c-b347-4fad-b872-2f1253f9ee9a');\n",
              "          const dataTable =\n",
              "            await google.colab.kernel.invokeFunction('convertToInteractive',\n",
              "                                                     [key], {});\n",
              "          if (!dataTable) return;\n",
              "\n",
              "          const docLinkHtml = 'Like what you see? Visit the ' +\n",
              "            '<a target=\"_blank\" href=https://colab.research.google.com/notebooks/data_table.ipynb>data table notebook</a>'\n",
              "            + ' to learn more about interactive tables.';\n",
              "          element.innerHTML = '';\n",
              "          dataTable['output_type'] = 'display_data';\n",
              "          await google.colab.output.renderOutput(dataTable, element);\n",
              "          const docLink = document.createElement('div');\n",
              "          docLink.innerHTML = docLinkHtml;\n",
              "          element.appendChild(docLink);\n",
              "        }\n",
              "      </script>\n",
              "    </div>\n",
              "  </div>\n",
              "  "
            ]
          },
          "metadata": {},
          "execution_count": 96
        }
      ]
    },
    {
      "cell_type": "markdown",
      "source": [
        "The financial ratios are widely dispersed. According to the descriptive statistics above, the difference between max and 75% quantile are huge. So I will winsorize these data at top 1% and bottom 1% as caps of the data."
      ],
      "metadata": {
        "id": "4ihGTtf2XU73"
      }
    },
    {
      "cell_type": "code",
      "source": [
        "# boxplots of inversed ratio colums to see distribution of data\n",
        "# remove tic from ratios list\n",
        "ratios.remove(\"tic\")\n",
        "\n",
        "# define subplots, row and column\n",
        "fig, ax = plt.subplots(5, 3, figsize=(20,20))\n",
        "\n",
        "i = 0\n",
        "j = 0\n",
        "\n",
        "# iterate plotting over ratios list\n",
        "for col in ratios:\n",
        "  ax[i, j].boxplot(financial_ratios[col], vert=False)\n",
        "  ax[i, j].set_title(col)\n",
        "  ax[i, j].set(yticklabels=[])\n",
        "\n",
        "  j += 1\n",
        "\n",
        "  if j == 3:\n",
        "    i += 1\n",
        "    j = 0"
      ],
      "metadata": {
        "colab": {
          "base_uri": "https://localhost:8080/",
          "height": 1000
        },
        "id": "OVYAAlSjytt4",
        "outputId": "d45bd5f4-4086-42a2-8ed3-5f11013890d6"
      },
      "execution_count": null,
      "outputs": [
        {
          "output_type": "display_data",
          "data": {
            "text/plain": [
              "<Figure size 1440x1440 with 15 Axes>"
            ],
            "image/png": "[encoded data removed]"
          },
          "metadata": {
            "needs_background": "light"
          }
        }
      ]
    },
    {
      "cell_type": "code",
      "source": [
        "# winsorizing ratios column in 0.01 quantile and 0.99 quantile of the data\n",
        "for col in ratios:\n",
        "  financial_ratios[col + \"_win\"] = winsorize(financial_ratios[col], (0.01, 0.01))"
      ],
      "metadata": {
        "id": "UImeNWVu1YpL"
      },
      "execution_count": null,
      "outputs": []
    },
    {
      "cell_type": "code",
      "source": [
        "# boxplots of winsorized columns\n",
        "win_ratios = [\"e/p_win\", \"book/p_win\", \"roa_win\", \"roe_win\", \"current_ratio_win\", \"debt_ratio_win\",\n",
        "              \"quick_ratio_win\", \"leverage_win\", \"debt_to_equity_win\", \"working_capital/at_win\",\n",
        "              \"gross_margin_win\", \"re/at_win\", \"assets_turnover_win\"]\n",
        "\n",
        "fig, ax = plt.subplots(5, 3, figsize=(20,20))\n",
        "\n",
        "i = 0\n",
        "j = 0\n",
        "\n",
        "for col in win_ratios:\n",
        "  ax[i, j].boxplot(financial_ratios[col], vert=False)\n",
        "  ax[i, j].set_title(col)\n",
        "  ax[i, j].set(yticklabels=[])\n",
        "\n",
        "  j += 1\n",
        "\n",
        "  if j == 3:\n",
        "    i += 1\n",
        "    j = 0"
      ],
      "metadata": {
        "colab": {
          "base_uri": "https://localhost:8080/",
          "height": 1000
        },
        "id": "Oo0BntLD2uD8",
        "outputId": "4a16c420-ed88-4743-c05a-33e171858f6e"
      },
      "execution_count": null,
      "outputs": [
        {
          "output_type": "display_data",
          "data": {
            "text/plain": [
              "<Figure size 1440x1440 with 15 Axes>"
            ],
            "image/png": "[encoded data removed]"
          },
          "metadata": {
            "needs_background": "light"
          }
        }
      ]
    },
    {
      "cell_type": "code",
      "source": [
        "financial_ratios[win_ratios].describe().T"
      ],
      "metadata": {
        "colab": {
          "base_uri": "https://localhost:8080/",
          "height": 457
        },
        "id": "A9yImuFj3CC6",
        "outputId": "1fc57edb-31a6-4ea4-99d4-85422cf8a55d"
      },
      "execution_count": null,
      "outputs": [
        {
          "output_type": "execute_result",
          "data": {
            "text/plain": [
              "                         count      mean        std        min       25%  \\\n",
              "e/p_win                 1886.0  0.028873   0.104512  -0.521213  0.008113   \n",
              "book/p_win              1886.0  0.418517   0.357616  -0.337273  0.161112   \n",
              "roa_win                 1886.0  0.025727   0.130224  -0.612289  0.007584   \n",
              "roe_win                 1886.0  0.103881   0.601425  -2.937806  0.027054   \n",
              "current_ratio_win       1886.0  2.746787   2.280311   0.459936  1.398980   \n",
              "debt_ratio_win          1886.0  0.627146   0.250667   0.086273  0.459041   \n",
              "quick_ratio_win         1886.0  1.943866   3.496757 -19.919132  0.966298   \n",
              "leverage_win            1886.0  3.698315   5.524742 -24.197297  1.770975   \n",
              "debt_to_equity_win      1886.0  2.653235   5.418982 -24.400000  0.756310   \n",
              "working_capital/at_win  1886.0  0.180082   0.202114  -0.108833  0.033140   \n",
              "gross_margin_win        1886.0 -0.884898  10.510010 -95.257358  0.241888   \n",
              "re/at_win               1886.0 -0.066604   0.920072  -5.512007 -0.083876   \n",
              "assets_turnover_win     1886.0  0.634149   0.576191   0.000132  0.185607   \n",
              "\n",
              "                             50%       75%        max  \n",
              "e/p_win                 0.036704  0.076322   0.279700  \n",
              "book/p_win              0.337004  0.613868   1.677414  \n",
              "roa_win                 0.034187  0.079409   0.325773  \n",
              "roe_win                 0.115155  0.218230   3.111111  \n",
              "current_ratio_win       2.351675  3.257239  16.557112  \n",
              "debt_ratio_win          0.630963  0.801356   1.467325  \n",
              "quick_ratio_win         1.638298  3.239842  15.875601  \n",
              "leverage_win            2.552746  4.577301  27.667485  \n",
              "debt_to_equity_win      1.527741  3.504444  26.187640  \n",
              "working_capital/at_win  0.120341  0.278371   0.853392  \n",
              "gross_margin_win        0.399064  0.649018   1.030189  \n",
              "re/at_win               0.084870  0.315077   1.238567  \n",
              "assets_turnover_win     0.511923  0.900111   2.889664  "
            ],
            "text/html": [
              "\n",
              "  <div id=\"df-9f5a4ed0-c1cc-4b0b-864f-74181a44017c\">\n",
              "    <div class=\"colab-df-container\">\n",
              "      <div>\n",
              "<style scoped>\n",
              "    .dataframe tbody tr th:only-of-type {\n",
              "        vertical-align: middle;\n",
              "    }\n",
              "\n",
              "    .dataframe tbody tr th {\n",
              "        vertical-align: top;\n",
              "    }\n",
              "\n",
              "    .dataframe thead th {\n",
              "        text-align: right;\n",
              "    }\n",
              "</style>\n",
              "<table border=\"1\" class=\"dataframe\">\n",
              "  <thead>\n",
              "    <tr style=\"text-align: right;\">\n",
              "      <th></th>\n",
              "      <th>count</th>\n",
              "      <th>mean</th>\n",
              "      <th>std</th>\n",
              "      <th>min</th>\n",
              "      <th>25%</th>\n",
              "      <th>50%</th>\n",
              "      <th>75%</th>\n",
              "      <th>max</th>\n",
              "    </tr>\n",
              "  </thead>\n",
              "  <tbody>\n",
              "    <tr>\n",
              "      <th>e/p_win</th>\n",
              "      <td>1886.0</td>\n",
              "      <td>0.028873</td>\n",
              "      <td>0.104512</td>\n",
              "      <td>-0.521213</td>\n",
              "      <td>0.008113</td>\n",
              "      <td>0.036704</td>\n",
              "      <td>0.076322</td>\n",
              "      <td>0.279700</td>\n",
              "    </tr>\n",
              "    <tr>\n",
              "      <th>book/p_win</th>\n",
              "      <td>1886.0</td>\n",
              "      <td>0.418517</td>\n",
              "      <td>0.357616</td>\n",
              "      <td>-0.337273</td>\n",
              "      <td>0.161112</td>\n",
              "      <td>0.337004</td>\n",
              "      <td>0.613868</td>\n",
              "      <td>1.677414</td>\n",
              "    </tr>\n",
              "    <tr>\n",
              "      <th>roa_win</th>\n",
              "      <td>1886.0</td>\n",
              "      <td>0.025727</td>\n",
              "      <td>0.130224</td>\n",
              "      <td>-0.612289</td>\n",
              "      <td>0.007584</td>\n",
              "      <td>0.034187</td>\n",
              "      <td>0.079409</td>\n",
              "      <td>0.325773</td>\n",
              "    </tr>\n",
              "    <tr>\n",
              "      <th>roe_win</th>\n",
              "      <td>1886.0</td>\n",
              "      <td>0.103881</td>\n",
              "      <td>0.601425</td>\n",
              "      <td>-2.937806</td>\n",
              "      <td>0.027054</td>\n",
              "      <td>0.115155</td>\n",
              "      <td>0.218230</td>\n",
              "      <td>3.111111</td>\n",
              "    </tr>\n",
              "    <tr>\n",
              "      <th>current_ratio_win</th>\n",
              "      <td>1886.0</td>\n",
              "      <td>2.746787</td>\n",
              "      <td>2.280311</td>\n",
              "      <td>0.459936</td>\n",
              "      <td>1.398980</td>\n",
              "      <td>2.351675</td>\n",
              "      <td>3.257239</td>\n",
              "      <td>16.557112</td>\n",
              "    </tr>\n",
              "    <tr>\n",
              "      <th>debt_ratio_win</th>\n",
              "      <td>1886.0</td>\n",
              "      <td>0.627146</td>\n",
              "      <td>0.250667</td>\n",
              "      <td>0.086273</td>\n",
              "      <td>0.459041</td>\n",
              "      <td>0.630963</td>\n",
              "      <td>0.801356</td>\n",
              "      <td>1.467325</td>\n",
              "    </tr>\n",
              "    <tr>\n",
              "      <th>quick_ratio_win</th>\n",
              "      <td>1886.0</td>\n",
              "      <td>1.943866</td>\n",
              "      <td>3.496757</td>\n",
              "      <td>-19.919132</td>\n",
              "      <td>0.966298</td>\n",
              "      <td>1.638298</td>\n",
              "      <td>3.239842</td>\n",
              "      <td>15.875601</td>\n",
              "    </tr>\n",
              "    <tr>\n",
              "      <th>leverage_win</th>\n",
              "      <td>1886.0</td>\n",
              "      <td>3.698315</td>\n",
              "      <td>5.524742</td>\n",
              "      <td>-24.197297</td>\n",
              "      <td>1.770975</td>\n",
              "      <td>2.552746</td>\n",
              "      <td>4.577301</td>\n",
              "      <td>27.667485</td>\n",
              "    </tr>\n",
              "    <tr>\n",
              "      <th>debt_to_equity_win</th>\n",
              "      <td>1886.0</td>\n",
              "      <td>2.653235</td>\n",
              "      <td>5.418982</td>\n",
              "      <td>-24.400000</td>\n",
              "      <td>0.756310</td>\n",
              "      <td>1.527741</td>\n",
              "      <td>3.504444</td>\n",
              "      <td>26.187640</td>\n",
              "    </tr>\n",
              "    <tr>\n",
              "      <th>working_capital/at_win</th>\n",
              "      <td>1886.0</td>\n",
              "      <td>0.180082</td>\n",
              "      <td>0.202114</td>\n",
              "      <td>-0.108833</td>\n",
              "      <td>0.033140</td>\n",
              "      <td>0.120341</td>\n",
              "      <td>0.278371</td>\n",
              "      <td>0.853392</td>\n",
              "    </tr>\n",
              "    <tr>\n",
              "      <th>gross_margin_win</th>\n",
              "      <td>1886.0</td>\n",
              "      <td>-0.884898</td>\n",
              "      <td>10.510010</td>\n",
              "      <td>-95.257358</td>\n",
              "      <td>0.241888</td>\n",
              "      <td>0.399064</td>\n",
              "      <td>0.649018</td>\n",
              "      <td>1.030189</td>\n",
              "    </tr>\n",
              "    <tr>\n",
              "      <th>re/at_win</th>\n",
              "      <td>1886.0</td>\n",
              "      <td>-0.066604</td>\n",
              "      <td>0.920072</td>\n",
              "      <td>-5.512007</td>\n",
              "      <td>-0.083876</td>\n",
              "      <td>0.084870</td>\n",
              "      <td>0.315077</td>\n",
              "      <td>1.238567</td>\n",
              "    </tr>\n",
              "    <tr>\n",
              "      <th>assets_turnover_win</th>\n",
              "      <td>1886.0</td>\n",
              "      <td>0.634149</td>\n",
              "      <td>0.576191</td>\n",
              "      <td>0.000132</td>\n",
              "      <td>0.185607</td>\n",
              "      <td>0.511923</td>\n",
              "      <td>0.900111</td>\n",
              "      <td>2.889664</td>\n",
              "    </tr>\n",
              "  </tbody>\n",
              "</table>\n",
              "</div>\n",
              "      <button class=\"colab-df-convert\" onclick=\"convertToInteractive('df-9f5a4ed0-c1cc-4b0b-864f-74181a44017c')\"\n",
              "              title=\"Convert this dataframe to an interactive table.\"\n",
              "              style=\"display:none;\">\n",
              "        \n",
              "  <svg xmlns=\"http://www.w3.org/2000/svg\" height=\"24px\"viewBox=\"0 0 24 24\"\n",
              "       width=\"24px\">\n",
              "    <path d=\"M0 0h24v24H0V0z\" fill=\"none\"/>\n",
              "    <path d=\"M18.56 5.44l.94 2.06.94-2.06 2.06-.94-2.06-.94-.94-2.06-.94 2.06-2.06.94zm-11 1L8.5 8.5l.94-2.06 2.06-.94-2.06-.94L8.5 2.5l-.94 2.06-2.06.94zm10 10l.94 2.06.94-2.06 2.06-.94-2.06-.94-.94-2.06-.94 2.06-2.06.94z\"/><path d=\"M17.41 7.96l-1.37-1.37c-.4-.4-.92-.59-1.43-.59-.52 0-1.04.2-1.43.59L10.3 9.45l-7.72 7.72c-.78.78-.78 2.05 0 2.83L4 21.41c.39.39.9.59 1.41.59.51 0 1.02-.2 1.41-.59l7.78-7.78 2.81-2.81c.8-.78.8-2.07 0-2.86zM5.41 20L4 18.59l7.72-7.72 1.47 1.35L5.41 20z\"/>\n",
              "  </svg>\n",
              "      </button>\n",
              "      \n",
              "  <style>\n",
              "    .colab-df-container {\n",
              "      display:flex;\n",
              "      flex-wrap:wrap;\n",
              "      gap: 12px;\n",
              "    }\n",
              "\n",
              "    .colab-df-convert {\n",
              "      background-color: #E8F0FE;\n",
              "      border: none;\n",
              "      border-radius: 50%;\n",
              "      cursor: pointer;\n",
              "      display: none;\n",
              "      fill: #1967D2;\n",
              "      height: 32px;\n",
              "      padding: 0 0 0 0;\n",
              "      width: 32px;\n",
              "    }\n",
              "\n",
              "    .colab-df-convert:hover {\n",
              "      background-color: #E2EBFA;\n",
              "      box-shadow: 0px 1px 2px rgba(60, 64, 67, 0.3), 0px 1px 3px 1px rgba(60, 64, 67, 0.15);\n",
              "      fill: #174EA6;\n",
              "    }\n",
              "\n",
              "    [theme=dark] .colab-df-convert {\n",
              "      background-color: #3B4455;\n",
              "      fill: #D2E3FC;\n",
              "    }\n",
              "\n",
              "    [theme=dark] .colab-df-convert:hover {\n",
              "      background-color: #434B5C;\n",
              "      box-shadow: 0px 1px 3px 1px rgba(0, 0, 0, 0.15);\n",
              "      filter: drop-shadow(0px 1px 2px rgba(0, 0, 0, 0.3));\n",
              "      fill: #FFFFFF;\n",
              "    }\n",
              "  </style>\n",
              "\n",
              "      <script>\n",
              "        const buttonEl =\n",
              "          document.querySelector('#df-9f5a4ed0-c1cc-4b0b-864f-74181a44017c button.colab-df-convert');\n",
              "        buttonEl.style.display =\n",
              "          google.colab.kernel.accessAllowed ? 'block' : 'none';\n",
              "\n",
              "        async function convertToInteractive(key) {\n",
              "          const element = document.querySelector('#df-9f5a4ed0-c1cc-4b0b-864f-74181a44017c');\n",
              "          const dataTable =\n",
              "            await google.colab.kernel.invokeFunction('convertToInteractive',\n",
              "                                                     [key], {});\n",
              "          if (!dataTable) return;\n",
              "\n",
              "          const docLinkHtml = 'Like what you see? Visit the ' +\n",
              "            '<a target=\"_blank\" href=https://colab.research.google.com/notebooks/data_table.ipynb>data table notebook</a>'\n",
              "            + ' to learn more about interactive tables.';\n",
              "          element.innerHTML = '';\n",
              "          dataTable['output_type'] = 'display_data';\n",
              "          await google.colab.output.renderOutput(dataTable, element);\n",
              "          const docLink = document.createElement('div');\n",
              "          docLink.innerHTML = docLinkHtml;\n",
              "          element.appendChild(docLink);\n",
              "        }\n",
              "      </script>\n",
              "    </div>\n",
              "  </div>\n",
              "  "
            ]
          },
          "metadata": {},
          "execution_count": 100
        }
      ]
    },
    {
      "cell_type": "markdown",
      "source": [
        "We can see the box in boxplot got bigger and descriptive statistics also changed."
      ],
      "metadata": {
        "id": "wwyBNEmQYvH5"
      }
    },
    {
      "cell_type": "code",
      "source": [
        "# prepare list of columns to save the final results as a csv file\n",
        "win_ratios.insert(0, \"tic\")\n",
        "final_financial_ratios = financial_ratios[win_ratios]"
      ],
      "metadata": {
        "id": "sln9Hipn3vP7"
      },
      "execution_count": null,
      "outputs": []
    },
    {
      "cell_type": "code",
      "source": [
        "# check the data\n",
        "final_financial_ratios.head()"
      ],
      "metadata": {
        "colab": {
          "base_uri": "https://localhost:8080/",
          "height": 270
        },
        "id": "odoQpMm84TpC",
        "outputId": "4bd53d0a-90a7-44f3-b36a-26d2432c3ddb"
      },
      "execution_count": null,
      "outputs": [
        {
          "output_type": "execute_result",
          "data": {
            "text/plain": [
              "   tic   e/p_win  book/p_win   roa_win   roe_win  current_ratio_win  \\\n",
              "0  AIR  0.027941    0.760488  0.023251  0.036741           2.782067   \n",
              "1  AAL -0.171320   -0.337273 -0.029985  0.271526           0.912133   \n",
              "2  PNW  0.077616    0.740913  0.028120  0.104758           0.882877   \n",
              "3  ABT  0.028480    0.144202  0.094034  0.197503           1.849599   \n",
              "4  AMD  0.018205    0.043164  0.254610  0.421769           2.024292   \n",
              "\n",
              "   debt_ratio_win  quick_ratio_win  leverage_win  debt_to_equity_win  \\\n",
              "0        0.367149         1.027316      1.580152            0.580152   \n",
              "1        1.110431         0.817689     -9.055450          -10.055450   \n",
              "2        0.726337         0.673888      3.725445            2.705930   \n",
              "3        0.520932         1.456085      2.100330            1.094129   \n",
              "4        0.396328         1.563208      1.656529            0.656529   \n",
              "\n",
              "   working_capital/at_win  gross_margin_win  re/at_win  assets_turnover_win  \n",
              "0                0.389816          0.173671   0.469832             1.072547  \n",
              "1               -0.025125          0.064018  -0.219357             0.449576  \n",
              "2               -0.009352          0.382820   0.145881             0.172876  \n",
              "3                0.148066          0.613999   0.307915             0.572836  \n",
              "4                0.349706          0.500487  -0.117079             1.323295  "
            ],
            "text/html": [
              "\n",
              "  <div id=\"df-1ec96cb5-ec28-4c10-b925-df5f47af9cac\">\n",
              "    <div class=\"colab-df-container\">\n",
              "      <div>\n",
              "<style scoped>\n",
              "    .dataframe tbody tr th:only-of-type {\n",
              "        vertical-align: middle;\n",
              "    }\n",
              "\n",
              "    .dataframe tbody tr th {\n",
              "        vertical-align: top;\n",
              "    }\n",
              "\n",
              "    .dataframe thead th {\n",
              "        text-align: right;\n",
              "    }\n",
              "</style>\n",
              "<table border=\"1\" class=\"dataframe\">\n",
              "  <thead>\n",
              "    <tr style=\"text-align: right;\">\n",
              "      <th></th>\n",
              "      <th>tic</th>\n",
              "      <th>e/p_win</th>\n",
              "      <th>book/p_win</th>\n",
              "      <th>roa_win</th>\n",
              "      <th>roe_win</th>\n",
              "      <th>current_ratio_win</th>\n",
              "      <th>debt_ratio_win</th>\n",
              "      <th>quick_ratio_win</th>\n",
              "      <th>leverage_win</th>\n",
              "      <th>debt_to_equity_win</th>\n",
              "      <th>working_capital/at_win</th>\n",
              "      <th>gross_margin_win</th>\n",
              "      <th>re/at_win</th>\n",
              "      <th>assets_turnover_win</th>\n",
              "    </tr>\n",
              "  </thead>\n",
              "  <tbody>\n",
              "    <tr>\n",
              "      <th>0</th>\n",
              "      <td>AIR</td>\n",
              "      <td>0.027941</td>\n",
              "      <td>0.760488</td>\n",
              "      <td>0.023251</td>\n",
              "      <td>0.036741</td>\n",
              "      <td>2.782067</td>\n",
              "      <td>0.367149</td>\n",
              "      <td>1.027316</td>\n",
              "      <td>1.580152</td>\n",
              "      <td>0.580152</td>\n",
              "      <td>0.389816</td>\n",
              "      <td>0.173671</td>\n",
              "      <td>0.469832</td>\n",
              "      <td>1.072547</td>\n",
              "    </tr>\n",
              "    <tr>\n",
              "      <th>1</th>\n",
              "      <td>AAL</td>\n",
              "      <td>-0.171320</td>\n",
              "      <td>-0.337273</td>\n",
              "      <td>-0.029985</td>\n",
              "      <td>0.271526</td>\n",
              "      <td>0.912133</td>\n",
              "      <td>1.110431</td>\n",
              "      <td>0.817689</td>\n",
              "      <td>-9.055450</td>\n",
              "      <td>-10.055450</td>\n",
              "      <td>-0.025125</td>\n",
              "      <td>0.064018</td>\n",
              "      <td>-0.219357</td>\n",
              "      <td>0.449576</td>\n",
              "    </tr>\n",
              "    <tr>\n",
              "      <th>2</th>\n",
              "      <td>PNW</td>\n",
              "      <td>0.077616</td>\n",
              "      <td>0.740913</td>\n",
              "      <td>0.028120</td>\n",
              "      <td>0.104758</td>\n",
              "      <td>0.882877</td>\n",
              "      <td>0.726337</td>\n",
              "      <td>0.673888</td>\n",
              "      <td>3.725445</td>\n",
              "      <td>2.705930</td>\n",
              "      <td>-0.009352</td>\n",
              "      <td>0.382820</td>\n",
              "      <td>0.145881</td>\n",
              "      <td>0.172876</td>\n",
              "    </tr>\n",
              "    <tr>\n",
              "      <th>3</th>\n",
              "      <td>ABT</td>\n",
              "      <td>0.028480</td>\n",
              "      <td>0.144202</td>\n",
              "      <td>0.094034</td>\n",
              "      <td>0.197503</td>\n",
              "      <td>1.849599</td>\n",
              "      <td>0.520932</td>\n",
              "      <td>1.456085</td>\n",
              "      <td>2.100330</td>\n",
              "      <td>1.094129</td>\n",
              "      <td>0.148066</td>\n",
              "      <td>0.613999</td>\n",
              "      <td>0.307915</td>\n",
              "      <td>0.572836</td>\n",
              "    </tr>\n",
              "    <tr>\n",
              "      <th>4</th>\n",
              "      <td>AMD</td>\n",
              "      <td>0.018205</td>\n",
              "      <td>0.043164</td>\n",
              "      <td>0.254610</td>\n",
              "      <td>0.421769</td>\n",
              "      <td>2.024292</td>\n",
              "      <td>0.396328</td>\n",
              "      <td>1.563208</td>\n",
              "      <td>1.656529</td>\n",
              "      <td>0.656529</td>\n",
              "      <td>0.349706</td>\n",
              "      <td>0.500487</td>\n",
              "      <td>-0.117079</td>\n",
              "      <td>1.323295</td>\n",
              "    </tr>\n",
              "  </tbody>\n",
              "</table>\n",
              "</div>\n",
              "      <button class=\"colab-df-convert\" onclick=\"convertToInteractive('df-1ec96cb5-ec28-4c10-b925-df5f47af9cac')\"\n",
              "              title=\"Convert this dataframe to an interactive table.\"\n",
              "              style=\"display:none;\">\n",
              "        \n",
              "  <svg xmlns=\"http://www.w3.org/2000/svg\" height=\"24px\"viewBox=\"0 0 24 24\"\n",
              "       width=\"24px\">\n",
              "    <path d=\"M0 0h24v24H0V0z\" fill=\"none\"/>\n",
              "    <path d=\"M18.56 5.44l.94 2.06.94-2.06 2.06-.94-2.06-.94-.94-2.06-.94 2.06-2.06.94zm-11 1L8.5 8.5l.94-2.06 2.06-.94-2.06-.94L8.5 2.5l-.94 2.06-2.06.94zm10 10l.94 2.06.94-2.06 2.06-.94-2.06-.94-.94-2.06-.94 2.06-2.06.94z\"/><path d=\"M17.41 7.96l-1.37-1.37c-.4-.4-.92-.59-1.43-.59-.52 0-1.04.2-1.43.59L10.3 9.45l-7.72 7.72c-.78.78-.78 2.05 0 2.83L4 21.41c.39.39.9.59 1.41.59.51 0 1.02-.2 1.41-.59l7.78-7.78 2.81-2.81c.8-.78.8-2.07 0-2.86zM5.41 20L4 18.59l7.72-7.72 1.47 1.35L5.41 20z\"/>\n",
              "  </svg>\n",
              "      </button>\n",
              "      \n",
              "  <style>\n",
              "    .colab-df-container {\n",
              "      display:flex;\n",
              "      flex-wrap:wrap;\n",
              "      gap: 12px;\n",
              "    }\n",
              "\n",
              "    .colab-df-convert {\n",
              "      background-color: #E8F0FE;\n",
              "      border: none;\n",
              "      border-radius: 50%;\n",
              "      cursor: pointer;\n",
              "      display: none;\n",
              "      fill: #1967D2;\n",
              "      height: 32px;\n",
              "      padding: 0 0 0 0;\n",
              "      width: 32px;\n",
              "    }\n",
              "\n",
              "    .colab-df-convert:hover {\n",
              "      background-color: #E2EBFA;\n",
              "      box-shadow: 0px 1px 2px rgba(60, 64, 67, 0.3), 0px 1px 3px 1px rgba(60, 64, 67, 0.15);\n",
              "      fill: #174EA6;\n",
              "    }\n",
              "\n",
              "    [theme=dark] .colab-df-convert {\n",
              "      background-color: #3B4455;\n",
              "      fill: #D2E3FC;\n",
              "    }\n",
              "\n",
              "    [theme=dark] .colab-df-convert:hover {\n",
              "      background-color: #434B5C;\n",
              "      box-shadow: 0px 1px 3px 1px rgba(0, 0, 0, 0.15);\n",
              "      filter: drop-shadow(0px 1px 2px rgba(0, 0, 0, 0.3));\n",
              "      fill: #FFFFFF;\n",
              "    }\n",
              "  </style>\n",
              "\n",
              "      <script>\n",
              "        const buttonEl =\n",
              "          document.querySelector('#df-1ec96cb5-ec28-4c10-b925-df5f47af9cac button.colab-df-convert');\n",
              "        buttonEl.style.display =\n",
              "          google.colab.kernel.accessAllowed ? 'block' : 'none';\n",
              "\n",
              "        async function convertToInteractive(key) {\n",
              "          const element = document.querySelector('#df-1ec96cb5-ec28-4c10-b925-df5f47af9cac');\n",
              "          const dataTable =\n",
              "            await google.colab.kernel.invokeFunction('convertToInteractive',\n",
              "                                                     [key], {});\n",
              "          if (!dataTable) return;\n",
              "\n",
              "          const docLinkHtml = 'Like what you see? Visit the ' +\n",
              "            '<a target=\"_blank\" href=https://colab.research.google.com/notebooks/data_table.ipynb>data table notebook</a>'\n",
              "            + ' to learn more about interactive tables.';\n",
              "          element.innerHTML = '';\n",
              "          dataTable['output_type'] = 'display_data';\n",
              "          await google.colab.output.renderOutput(dataTable, element);\n",
              "          const docLink = document.createElement('div');\n",
              "          docLink.innerHTML = docLinkHtml;\n",
              "          element.appendChild(docLink);\n",
              "        }\n",
              "      </script>\n",
              "    </div>\n",
              "  </div>\n",
              "  "
            ]
          },
          "metadata": {},
          "execution_count": 102
        }
      ]
    },
    {
      "cell_type": "code",
      "source": [
        "# check the data\n",
        "final_financial_ratios.shape"
      ],
      "metadata": {
        "colab": {
          "base_uri": "https://localhost:8080/"
        },
        "id": "zxrpxe2qZHsi",
        "outputId": "0877e8db-4676-4903-fc30-ab150800e79e"
      },
      "execution_count": null,
      "outputs": [
        {
          "output_type": "execute_result",
          "data": {
            "text/plain": [
              "(1886, 14)"
            ]
          },
          "metadata": {},
          "execution_count": 103
        }
      ]
    },
    {
      "cell_type": "code",
      "source": [
        "# save the result in a csv file\n",
        "final_financial_ratios.to_csv(\"Fin-Ratios.csv\")"
      ],
      "metadata": {
        "id": "IWDkndkG4nDm"
      },
      "execution_count": null,
      "outputs": []
    },
    {
      "cell_type": "markdown",
      "source": [
        "# Industry Indicators"
      ],
      "metadata": {
        "id": "Dj2gOPtsTqvX"
      }
    },
    {
      "cell_type": "markdown",
      "source": [
        "Lastly, I made industry indicator for each company."
      ],
      "metadata": {
        "id": "l6KGNKY3ZPV3"
      }
    },
    {
      "cell_type": "code",
      "source": [
        "# check the data\n",
        "industry.head()"
      ],
      "metadata": {
        "id": "GpuHeCXu40zB",
        "colab": {
          "base_uri": "https://localhost:8080/",
          "height": 206
        },
        "outputId": "17f34945-90f3-40a0-c381-a35b4e896a7b"
      },
      "execution_count": null,
      "outputs": [
        {
          "output_type": "execute_result",
          "data": {
            "text/plain": [
              "   tic  ggroup\n",
              "0  AIR    2010\n",
              "1  AAL    2030\n",
              "2  PNW    5510\n",
              "3  ABT    3510\n",
              "4  AMD    4530"
            ],
            "text/html": [
              "\n",
              "  <div id=\"df-32296386-1079-4086-b1db-3e8f51d57787\">\n",
              "    <div class=\"colab-df-container\">\n",
              "      <div>\n",
              "<style scoped>\n",
              "    .dataframe tbody tr th:only-of-type {\n",
              "        vertical-align: middle;\n",
              "    }\n",
              "\n",
              "    .dataframe tbody tr th {\n",
              "        vertical-align: top;\n",
              "    }\n",
              "\n",
              "    .dataframe thead th {\n",
              "        text-align: right;\n",
              "    }\n",
              "</style>\n",
              "<table border=\"1\" class=\"dataframe\">\n",
              "  <thead>\n",
              "    <tr style=\"text-align: right;\">\n",
              "      <th></th>\n",
              "      <th>tic</th>\n",
              "      <th>ggroup</th>\n",
              "    </tr>\n",
              "  </thead>\n",
              "  <tbody>\n",
              "    <tr>\n",
              "      <th>0</th>\n",
              "      <td>AIR</td>\n",
              "      <td>2010</td>\n",
              "    </tr>\n",
              "    <tr>\n",
              "      <th>1</th>\n",
              "      <td>AAL</td>\n",
              "      <td>2030</td>\n",
              "    </tr>\n",
              "    <tr>\n",
              "      <th>2</th>\n",
              "      <td>PNW</td>\n",
              "      <td>5510</td>\n",
              "    </tr>\n",
              "    <tr>\n",
              "      <th>3</th>\n",
              "      <td>ABT</td>\n",
              "      <td>3510</td>\n",
              "    </tr>\n",
              "    <tr>\n",
              "      <th>4</th>\n",
              "      <td>AMD</td>\n",
              "      <td>4530</td>\n",
              "    </tr>\n",
              "  </tbody>\n",
              "</table>\n",
              "</div>\n",
              "      <button class=\"colab-df-convert\" onclick=\"convertToInteractive('df-32296386-1079-4086-b1db-3e8f51d57787')\"\n",
              "              title=\"Convert this dataframe to an interactive table.\"\n",
              "              style=\"display:none;\">\n",
              "        \n",
              "  <svg xmlns=\"http://www.w3.org/2000/svg\" height=\"24px\"viewBox=\"0 0 24 24\"\n",
              "       width=\"24px\">\n",
              "    <path d=\"M0 0h24v24H0V0z\" fill=\"none\"/>\n",
              "    <path d=\"M18.56 5.44l.94 2.06.94-2.06 2.06-.94-2.06-.94-.94-2.06-.94 2.06-2.06.94zm-11 1L8.5 8.5l.94-2.06 2.06-.94-2.06-.94L8.5 2.5l-.94 2.06-2.06.94zm10 10l.94 2.06.94-2.06 2.06-.94-2.06-.94-.94-2.06-.94 2.06-2.06.94z\"/><path d=\"M17.41 7.96l-1.37-1.37c-.4-.4-.92-.59-1.43-.59-.52 0-1.04.2-1.43.59L10.3 9.45l-7.72 7.72c-.78.78-.78 2.05 0 2.83L4 21.41c.39.39.9.59 1.41.59.51 0 1.02-.2 1.41-.59l7.78-7.78 2.81-2.81c.8-.78.8-2.07 0-2.86zM5.41 20L4 18.59l7.72-7.72 1.47 1.35L5.41 20z\"/>\n",
              "  </svg>\n",
              "      </button>\n",
              "      \n",
              "  <style>\n",
              "    .colab-df-container {\n",
              "      display:flex;\n",
              "      flex-wrap:wrap;\n",
              "      gap: 12px;\n",
              "    }\n",
              "\n",
              "    .colab-df-convert {\n",
              "      background-color: #E8F0FE;\n",
              "      border: none;\n",
              "      border-radius: 50%;\n",
              "      cursor: pointer;\n",
              "      display: none;\n",
              "      fill: #1967D2;\n",
              "      height: 32px;\n",
              "      padding: 0 0 0 0;\n",
              "      width: 32px;\n",
              "    }\n",
              "\n",
              "    .colab-df-convert:hover {\n",
              "      background-color: #E2EBFA;\n",
              "      box-shadow: 0px 1px 2px rgba(60, 64, 67, 0.3), 0px 1px 3px 1px rgba(60, 64, 67, 0.15);\n",
              "      fill: #174EA6;\n",
              "    }\n",
              "\n",
              "    [theme=dark] .colab-df-convert {\n",
              "      background-color: #3B4455;\n",
              "      fill: #D2E3FC;\n",
              "    }\n",
              "\n",
              "    [theme=dark] .colab-df-convert:hover {\n",
              "      background-color: #434B5C;\n",
              "      box-shadow: 0px 1px 3px 1px rgba(0, 0, 0, 0.15);\n",
              "      filter: drop-shadow(0px 1px 2px rgba(0, 0, 0, 0.3));\n",
              "      fill: #FFFFFF;\n",
              "    }\n",
              "  </style>\n",
              "\n",
              "      <script>\n",
              "        const buttonEl =\n",
              "          document.querySelector('#df-32296386-1079-4086-b1db-3e8f51d57787 button.colab-df-convert');\n",
              "        buttonEl.style.display =\n",
              "          google.colab.kernel.accessAllowed ? 'block' : 'none';\n",
              "\n",
              "        async function convertToInteractive(key) {\n",
              "          const element = document.querySelector('#df-32296386-1079-4086-b1db-3e8f51d57787');\n",
              "          const dataTable =\n",
              "            await google.colab.kernel.invokeFunction('convertToInteractive',\n",
              "                                                     [key], {});\n",
              "          if (!dataTable) return;\n",
              "\n",
              "          const docLinkHtml = 'Like what you see? Visit the ' +\n",
              "            '<a target=\"_blank\" href=https://colab.research.google.com/notebooks/data_table.ipynb>data table notebook</a>'\n",
              "            + ' to learn more about interactive tables.';\n",
              "          element.innerHTML = '';\n",
              "          dataTable['output_type'] = 'display_data';\n",
              "          await google.colab.output.renderOutput(dataTable, element);\n",
              "          const docLink = document.createElement('div');\n",
              "          docLink.innerHTML = docLinkHtml;\n",
              "          element.appendChild(docLink);\n",
              "        }\n",
              "      </script>\n",
              "    </div>\n",
              "  </div>\n",
              "  "
            ]
          },
          "metadata": {},
          "execution_count": 105
        }
      ]
    },
    {
      "cell_type": "code",
      "source": [
        "# check the data\n",
        "industry.ggroup.nunique()"
      ],
      "metadata": {
        "colab": {
          "base_uri": "https://localhost:8080/"
        },
        "id": "5qSQ4s4zTwOL",
        "outputId": "38ba270d-d6cc-4c08-ee41-bb0647b827bb"
      },
      "execution_count": null,
      "outputs": [
        {
          "output_type": "execute_result",
          "data": {
            "text/plain": [
              "24"
            ]
          },
          "metadata": {},
          "execution_count": 106
        }
      ]
    },
    {
      "cell_type": "code",
      "source": [
        "industry.groupby(by=\"ggroup\").tic.count()"
      ],
      "metadata": {
        "colab": {
          "base_uri": "https://localhost:8080/"
        },
        "id": "8cBIWSZQxVme",
        "outputId": "69462519-dbb8-41ac-aa0a-9d3b9f0d215f"
      },
      "execution_count": null,
      "outputs": [
        {
          "output_type": "execute_result",
          "data": {
            "text/plain": [
              "ggroup\n",
              "1010     75\n",
              "1510     95\n",
              "2010    183\n",
              "2020     63\n",
              "2030     39\n",
              "2510     25\n",
              "2520     63\n",
              "2530     64\n",
              "2550     86\n",
              "3010     17\n",
              "3020     44\n",
              "3030     17\n",
              "3510    121\n",
              "3520    163\n",
              "4010    179\n",
              "4020     92\n",
              "4030     61\n",
              "4510    118\n",
              "4520     82\n",
              "4530     55\n",
              "5010     13\n",
              "5020     42\n",
              "5510     58\n",
              "6010    131\n",
              "Name: tic, dtype: int64"
            ]
          },
          "metadata": {},
          "execution_count": 107
        }
      ]
    },
    {
      "cell_type": "markdown",
      "source": [
        "There are 24 unique industry groups in the data. We can also see that 2010 and 4010 industry have the most companies.\n",
        "\n",
        "I will use pandas get_dummies function to turn ggroup data into indicators. This function has parameter \"drop_first\", which let the first indicator dropped."
      ],
      "metadata": {
        "id": "FAZCozdrZYCn"
      }
    },
    {
      "cell_type": "code",
      "source": [
        "# dummify ggroup\n",
        "industry = pd.get_dummies(industry, columns=[\"ggroup\"], drop_first=True)\n",
        "industry.head()"
      ],
      "metadata": {
        "colab": {
          "base_uri": "https://localhost:8080/",
          "height": 299
        },
        "id": "xu9oC4zhUHTy",
        "outputId": "74883fec-96b7-4309-b750-0d3d0053e6b5"
      },
      "execution_count": null,
      "outputs": [
        {
          "output_type": "execute_result",
          "data": {
            "text/plain": [
              "   tic  ggroup_1510  ggroup_2010  ggroup_2020  ggroup_2030  ggroup_2510  \\\n",
              "0  AIR            0            1            0            0            0   \n",
              "1  AAL            0            0            0            1            0   \n",
              "2  PNW            0            0            0            0            0   \n",
              "3  ABT            0            0            0            0            0   \n",
              "4  AMD            0            0            0            0            0   \n",
              "\n",
              "   ggroup_2520  ggroup_2530  ggroup_2550  ggroup_3010  ...  ggroup_4010  \\\n",
              "0            0            0            0            0  ...            0   \n",
              "1            0            0            0            0  ...            0   \n",
              "2            0            0            0            0  ...            0   \n",
              "3            0            0            0            0  ...            0   \n",
              "4            0            0            0            0  ...            0   \n",
              "\n",
              "   ggroup_4020  ggroup_4030  ggroup_4510  ggroup_4520  ggroup_4530  \\\n",
              "0            0            0            0            0            0   \n",
              "1            0            0            0            0            0   \n",
              "2            0            0            0            0            0   \n",
              "3            0            0            0            0            0   \n",
              "4            0            0            0            0            1   \n",
              "\n",
              "   ggroup_5010  ggroup_5020  ggroup_5510  ggroup_6010  \n",
              "0            0            0            0            0  \n",
              "1            0            0            0            0  \n",
              "2            0            0            1            0  \n",
              "3            0            0            0            0  \n",
              "4            0            0            0            0  \n",
              "\n",
              "[5 rows x 24 columns]"
            ],
            "text/html": [
              "\n",
              "  <div id=\"df-7f5df69c-28d5-4169-9d49-a480bd8aa9b1\">\n",
              "    <div class=\"colab-df-container\">\n",
              "      <div>\n",
              "<style scoped>\n",
              "    .dataframe tbody tr th:only-of-type {\n",
              "        vertical-align: middle;\n",
              "    }\n",
              "\n",
              "    .dataframe tbody tr th {\n",
              "        vertical-align: top;\n",
              "    }\n",
              "\n",
              "    .dataframe thead th {\n",
              "        text-align: right;\n",
              "    }\n",
              "</style>\n",
              "<table border=\"1\" class=\"dataframe\">\n",
              "  <thead>\n",
              "    <tr style=\"text-align: right;\">\n",
              "      <th></th>\n",
              "      <th>tic</th>\n",
              "      <th>ggroup_1510</th>\n",
              "      <th>ggroup_2010</th>\n",
              "      <th>ggroup_2020</th>\n",
              "      <th>ggroup_2030</th>\n",
              "      <th>ggroup_2510</th>\n",
              "      <th>ggroup_2520</th>\n",
              "      <th>ggroup_2530</th>\n",
              "      <th>ggroup_2550</th>\n",
              "      <th>ggroup_3010</th>\n",
              "      <th>...</th>\n",
              "      <th>ggroup_4010</th>\n",
              "      <th>ggroup_4020</th>\n",
              "      <th>ggroup_4030</th>\n",
              "      <th>ggroup_4510</th>\n",
              "      <th>ggroup_4520</th>\n",
              "      <th>ggroup_4530</th>\n",
              "      <th>ggroup_5010</th>\n",
              "      <th>ggroup_5020</th>\n",
              "      <th>ggroup_5510</th>\n",
              "      <th>ggroup_6010</th>\n",
              "    </tr>\n",
              "  </thead>\n",
              "  <tbody>\n",
              "    <tr>\n",
              "      <th>0</th>\n",
              "      <td>AIR</td>\n",
              "      <td>0</td>\n",
              "      <td>1</td>\n",
              "      <td>0</td>\n",
              "      <td>0</td>\n",
              "      <td>0</td>\n",
              "      <td>0</td>\n",
              "      <td>0</td>\n",
              "      <td>0</td>\n",
              "      <td>0</td>\n",
              "      <td>...</td>\n",
              "      <td>0</td>\n",
              "      <td>0</td>\n",
              "      <td>0</td>\n",
              "      <td>0</td>\n",
              "      <td>0</td>\n",
              "      <td>0</td>\n",
              "      <td>0</td>\n",
              "      <td>0</td>\n",
              "      <td>0</td>\n",
              "      <td>0</td>\n",
              "    </tr>\n",
              "    <tr>\n",
              "      <th>1</th>\n",
              "      <td>AAL</td>\n",
              "      <td>0</td>\n",
              "      <td>0</td>\n",
              "      <td>0</td>\n",
              "      <td>1</td>\n",
              "      <td>0</td>\n",
              "      <td>0</td>\n",
              "      <td>0</td>\n",
              "      <td>0</td>\n",
              "      <td>0</td>\n",
              "      <td>...</td>\n",
              "      <td>0</td>\n",
              "      <td>0</td>\n",
              "      <td>0</td>\n",
              "      <td>0</td>\n",
              "      <td>0</td>\n",
              "      <td>0</td>\n",
              "      <td>0</td>\n",
              "      <td>0</td>\n",
              "      <td>0</td>\n",
              "      <td>0</td>\n",
              "    </tr>\n",
              "    <tr>\n",
              "      <th>2</th>\n",
              "      <td>PNW</td>\n",
              "      <td>0</td>\n",
              "      <td>0</td>\n",
              "      <td>0</td>\n",
              "      <td>0</td>\n",
              "      <td>0</td>\n",
              "      <td>0</td>\n",
              "      <td>0</td>\n",
              "      <td>0</td>\n",
              "      <td>0</td>\n",
              "      <td>...</td>\n",
              "      <td>0</td>\n",
              "      <td>0</td>\n",
              "      <td>0</td>\n",
              "      <td>0</td>\n",
              "      <td>0</td>\n",
              "      <td>0</td>\n",
              "      <td>0</td>\n",
              "      <td>0</td>\n",
              "      <td>1</td>\n",
              "      <td>0</td>\n",
              "    </tr>\n",
              "    <tr>\n",
              "      <th>3</th>\n",
              "      <td>ABT</td>\n",
              "      <td>0</td>\n",
              "      <td>0</td>\n",
              "      <td>0</td>\n",
              "      <td>0</td>\n",
              "      <td>0</td>\n",
              "      <td>0</td>\n",
              "      <td>0</td>\n",
              "      <td>0</td>\n",
              "      <td>0</td>\n",
              "      <td>...</td>\n",
              "      <td>0</td>\n",
              "      <td>0</td>\n",
              "      <td>0</td>\n",
              "      <td>0</td>\n",
              "      <td>0</td>\n",
              "      <td>0</td>\n",
              "      <td>0</td>\n",
              "      <td>0</td>\n",
              "      <td>0</td>\n",
              "      <td>0</td>\n",
              "    </tr>\n",
              "    <tr>\n",
              "      <th>4</th>\n",
              "      <td>AMD</td>\n",
              "      <td>0</td>\n",
              "      <td>0</td>\n",
              "      <td>0</td>\n",
              "      <td>0</td>\n",
              "      <td>0</td>\n",
              "      <td>0</td>\n",
              "      <td>0</td>\n",
              "      <td>0</td>\n",
              "      <td>0</td>\n",
              "      <td>...</td>\n",
              "      <td>0</td>\n",
              "      <td>0</td>\n",
              "      <td>0</td>\n",
              "      <td>0</td>\n",
              "      <td>0</td>\n",
              "      <td>1</td>\n",
              "      <td>0</td>\n",
              "      <td>0</td>\n",
              "      <td>0</td>\n",
              "      <td>0</td>\n",
              "    </tr>\n",
              "  </tbody>\n",
              "</table>\n",
              "<p>5 rows × 24 columns</p>\n",
              "</div>\n",
              "      <button class=\"colab-df-convert\" onclick=\"convertToInteractive('df-7f5df69c-28d5-4169-9d49-a480bd8aa9b1')\"\n",
              "              title=\"Convert this dataframe to an interactive table.\"\n",
              "              style=\"display:none;\">\n",
              "        \n",
              "  <svg xmlns=\"http://www.w3.org/2000/svg\" height=\"24px\"viewBox=\"0 0 24 24\"\n",
              "       width=\"24px\">\n",
              "    <path d=\"M0 0h24v24H0V0z\" fill=\"none\"/>\n",
              "    <path d=\"M18.56 5.44l.94 2.06.94-2.06 2.06-.94-2.06-.94-.94-2.06-.94 2.06-2.06.94zm-11 1L8.5 8.5l.94-2.06 2.06-.94-2.06-.94L8.5 2.5l-.94 2.06-2.06.94zm10 10l.94 2.06.94-2.06 2.06-.94-2.06-.94-.94-2.06-.94 2.06-2.06.94z\"/><path d=\"M17.41 7.96l-1.37-1.37c-.4-.4-.92-.59-1.43-.59-.52 0-1.04.2-1.43.59L10.3 9.45l-7.72 7.72c-.78.78-.78 2.05 0 2.83L4 21.41c.39.39.9.59 1.41.59.51 0 1.02-.2 1.41-.59l7.78-7.78 2.81-2.81c.8-.78.8-2.07 0-2.86zM5.41 20L4 18.59l7.72-7.72 1.47 1.35L5.41 20z\"/>\n",
              "  </svg>\n",
              "      </button>\n",
              "      \n",
              "  <style>\n",
              "    .colab-df-container {\n",
              "      display:flex;\n",
              "      flex-wrap:wrap;\n",
              "      gap: 12px;\n",
              "    }\n",
              "\n",
              "    .colab-df-convert {\n",
              "      background-color: #E8F0FE;\n",
              "      border: none;\n",
              "      border-radius: 50%;\n",
              "      cursor: pointer;\n",
              "      display: none;\n",
              "      fill: #1967D2;\n",
              "      height: 32px;\n",
              "      padding: 0 0 0 0;\n",
              "      width: 32px;\n",
              "    }\n",
              "\n",
              "    .colab-df-convert:hover {\n",
              "      background-color: #E2EBFA;\n",
              "      box-shadow: 0px 1px 2px rgba(60, 64, 67, 0.3), 0px 1px 3px 1px rgba(60, 64, 67, 0.15);\n",
              "      fill: #174EA6;\n",
              "    }\n",
              "\n",
              "    [theme=dark] .colab-df-convert {\n",
              "      background-color: #3B4455;\n",
              "      fill: #D2E3FC;\n",
              "    }\n",
              "\n",
              "    [theme=dark] .colab-df-convert:hover {\n",
              "      background-color: #434B5C;\n",
              "      box-shadow: 0px 1px 3px 1px rgba(0, 0, 0, 0.15);\n",
              "      filter: drop-shadow(0px 1px 2px rgba(0, 0, 0, 0.3));\n",
              "      fill: #FFFFFF;\n",
              "    }\n",
              "  </style>\n",
              "\n",
              "      <script>\n",
              "        const buttonEl =\n",
              "          document.querySelector('#df-7f5df69c-28d5-4169-9d49-a480bd8aa9b1 button.colab-df-convert');\n",
              "        buttonEl.style.display =\n",
              "          google.colab.kernel.accessAllowed ? 'block' : 'none';\n",
              "\n",
              "        async function convertToInteractive(key) {\n",
              "          const element = document.querySelector('#df-7f5df69c-28d5-4169-9d49-a480bd8aa9b1');\n",
              "          const dataTable =\n",
              "            await google.colab.kernel.invokeFunction('convertToInteractive',\n",
              "                                                     [key], {});\n",
              "          if (!dataTable) return;\n",
              "\n",
              "          const docLinkHtml = 'Like what you see? Visit the ' +\n",
              "            '<a target=\"_blank\" href=https://colab.research.google.com/notebooks/data_table.ipynb>data table notebook</a>'\n",
              "            + ' to learn more about interactive tables.';\n",
              "          element.innerHTML = '';\n",
              "          dataTable['output_type'] = 'display_data';\n",
              "          await google.colab.output.renderOutput(dataTable, element);\n",
              "          const docLink = document.createElement('div');\n",
              "          docLink.innerHTML = docLinkHtml;\n",
              "          element.appendChild(docLink);\n",
              "        }\n",
              "      </script>\n",
              "    </div>\n",
              "  </div>\n",
              "  "
            ]
          },
          "metadata": {},
          "execution_count": 108
        }
      ]
    },
    {
      "cell_type": "markdown",
      "source": [
        "We can se that the first ggroup, 1010, is dropped."
      ],
      "metadata": {
        "id": "uT658vzXbR5Z"
      }
    },
    {
      "cell_type": "code",
      "source": [
        "industry.shape"
      ],
      "metadata": {
        "colab": {
          "base_uri": "https://localhost:8080/"
        },
        "id": "qSHGKjWOyp7i",
        "outputId": "d6ff9e25-6a57-4fe0-9fed-6643673b598c"
      },
      "execution_count": null,
      "outputs": [
        {
          "output_type": "execute_result",
          "data": {
            "text/plain": [
              "(1886, 24)"
            ]
          },
          "metadata": {},
          "execution_count": 109
        }
      ]
    },
    {
      "cell_type": "code",
      "source": [
        "# save as csv\n",
        "industry.to_csv('Industry.csv')"
      ],
      "metadata": {
        "id": "co9SPFxpURlq"
      },
      "execution_count": null,
      "outputs": []
    },
    {
      "cell_type": "markdown",
      "source": [
        "# Run OLS exploratory for 4 categories"
      ],
      "metadata": {
        "id": "os93n8VQU2J7"
      }
    },
    {
      "cell_type": "markdown",
      "source": [
        "## Risk Regression"
      ],
      "metadata": {
        "id": "_2PUASZjWMZp"
      }
    },
    {
      "cell_type": "markdown",
      "source": [
        "* independent variables: 3 Fama French risk factor coefficients calculated in the previous section\n",
        "* dependent variable: RetYTD in target data"
      ],
      "metadata": {
        "id": "bAEdx0uWdY2q"
      }
    },
    {
      "cell_type": "code",
      "source": [
        "# check the necessary data\n",
        "target.head()"
      ],
      "metadata": {
        "colab": {
          "base_uri": "https://localhost:8080/",
          "height": 206
        },
        "id": "Yn9D9-YYWTfh",
        "outputId": "b7ca0073-dbf5-4c46-b543-c8cc71e2c9e7"
      },
      "execution_count": null,
      "outputs": [
        {
          "output_type": "execute_result",
          "data": {
            "text/plain": [
              "    tic                      name  retytd\n",
              "0     A     Agilent Technologies  -0.2080\n",
              "1    AA               Alcoa Corp   0.4731\n",
              "2   AAL     American Airlines Gp   0.0579\n",
              "3   AAN  Aarons Holdings Company  -0.1327\n",
              "4  AAON                 Aaon Inc  -0.3456"
            ],
            "text/html": [
              "\n",
              "  <div id=\"df-1e3b823f-7092-4229-abb8-fec9c350dd4d\">\n",
              "    <div class=\"colab-df-container\">\n",
              "      <div>\n",
              "<style scoped>\n",
              "    .dataframe tbody tr th:only-of-type {\n",
              "        vertical-align: middle;\n",
              "    }\n",
              "\n",
              "    .dataframe tbody tr th {\n",
              "        vertical-align: top;\n",
              "    }\n",
              "\n",
              "    .dataframe thead th {\n",
              "        text-align: right;\n",
              "    }\n",
              "</style>\n",
              "<table border=\"1\" class=\"dataframe\">\n",
              "  <thead>\n",
              "    <tr style=\"text-align: right;\">\n",
              "      <th></th>\n",
              "      <th>tic</th>\n",
              "      <th>name</th>\n",
              "      <th>retytd</th>\n",
              "    </tr>\n",
              "  </thead>\n",
              "  <tbody>\n",
              "    <tr>\n",
              "      <th>0</th>\n",
              "      <td>A</td>\n",
              "      <td>Agilent Technologies</td>\n",
              "      <td>-0.2080</td>\n",
              "    </tr>\n",
              "    <tr>\n",
              "      <th>1</th>\n",
              "      <td>AA</td>\n",
              "      <td>Alcoa Corp</td>\n",
              "      <td>0.4731</td>\n",
              "    </tr>\n",
              "    <tr>\n",
              "      <th>2</th>\n",
              "      <td>AAL</td>\n",
              "      <td>American Airlines Gp</td>\n",
              "      <td>0.0579</td>\n",
              "    </tr>\n",
              "    <tr>\n",
              "      <th>3</th>\n",
              "      <td>AAN</td>\n",
              "      <td>Aarons Holdings Company</td>\n",
              "      <td>-0.1327</td>\n",
              "    </tr>\n",
              "    <tr>\n",
              "      <th>4</th>\n",
              "      <td>AAON</td>\n",
              "      <td>Aaon Inc</td>\n",
              "      <td>-0.3456</td>\n",
              "    </tr>\n",
              "  </tbody>\n",
              "</table>\n",
              "</div>\n",
              "      <button class=\"colab-df-convert\" onclick=\"convertToInteractive('df-1e3b823f-7092-4229-abb8-fec9c350dd4d')\"\n",
              "              title=\"Convert this dataframe to an interactive table.\"\n",
              "              style=\"display:none;\">\n",
              "        \n",
              "  <svg xmlns=\"http://www.w3.org/2000/svg\" height=\"24px\"viewBox=\"0 0 24 24\"\n",
              "       width=\"24px\">\n",
              "    <path d=\"M0 0h24v24H0V0z\" fill=\"none\"/>\n",
              "    <path d=\"M18.56 5.44l.94 2.06.94-2.06 2.06-.94-2.06-.94-.94-2.06-.94 2.06-2.06.94zm-11 1L8.5 8.5l.94-2.06 2.06-.94-2.06-.94L8.5 2.5l-.94 2.06-2.06.94zm10 10l.94 2.06.94-2.06 2.06-.94-2.06-.94-.94-2.06-.94 2.06-2.06.94z\"/><path d=\"M17.41 7.96l-1.37-1.37c-.4-.4-.92-.59-1.43-.59-.52 0-1.04.2-1.43.59L10.3 9.45l-7.72 7.72c-.78.78-.78 2.05 0 2.83L4 21.41c.39.39.9.59 1.41.59.51 0 1.02-.2 1.41-.59l7.78-7.78 2.81-2.81c.8-.78.8-2.07 0-2.86zM5.41 20L4 18.59l7.72-7.72 1.47 1.35L5.41 20z\"/>\n",
              "  </svg>\n",
              "      </button>\n",
              "      \n",
              "  <style>\n",
              "    .colab-df-container {\n",
              "      display:flex;\n",
              "      flex-wrap:wrap;\n",
              "      gap: 12px;\n",
              "    }\n",
              "\n",
              "    .colab-df-convert {\n",
              "      background-color: #E8F0FE;\n",
              "      border: none;\n",
              "      border-radius: 50%;\n",
              "      cursor: pointer;\n",
              "      display: none;\n",
              "      fill: #1967D2;\n",
              "      height: 32px;\n",
              "      padding: 0 0 0 0;\n",
              "      width: 32px;\n",
              "    }\n",
              "\n",
              "    .colab-df-convert:hover {\n",
              "      background-color: #E2EBFA;\n",
              "      box-shadow: 0px 1px 2px rgba(60, 64, 67, 0.3), 0px 1px 3px 1px rgba(60, 64, 67, 0.15);\n",
              "      fill: #174EA6;\n",
              "    }\n",
              "\n",
              "    [theme=dark] .colab-df-convert {\n",
              "      background-color: #3B4455;\n",
              "      fill: #D2E3FC;\n",
              "    }\n",
              "\n",
              "    [theme=dark] .colab-df-convert:hover {\n",
              "      background-color: #434B5C;\n",
              "      box-shadow: 0px 1px 3px 1px rgba(0, 0, 0, 0.15);\n",
              "      filter: drop-shadow(0px 1px 2px rgba(0, 0, 0, 0.3));\n",
              "      fill: #FFFFFF;\n",
              "    }\n",
              "  </style>\n",
              "\n",
              "      <script>\n",
              "        const buttonEl =\n",
              "          document.querySelector('#df-1e3b823f-7092-4229-abb8-fec9c350dd4d button.colab-df-convert');\n",
              "        buttonEl.style.display =\n",
              "          google.colab.kernel.accessAllowed ? 'block' : 'none';\n",
              "\n",
              "        async function convertToInteractive(key) {\n",
              "          const element = document.querySelector('#df-1e3b823f-7092-4229-abb8-fec9c350dd4d');\n",
              "          const dataTable =\n",
              "            await google.colab.kernel.invokeFunction('convertToInteractive',\n",
              "                                                     [key], {});\n",
              "          if (!dataTable) return;\n",
              "\n",
              "          const docLinkHtml = 'Like what you see? Visit the ' +\n",
              "            '<a target=\"_blank\" href=https://colab.research.google.com/notebooks/data_table.ipynb>data table notebook</a>'\n",
              "            + ' to learn more about interactive tables.';\n",
              "          element.innerHTML = '';\n",
              "          dataTable['output_type'] = 'display_data';\n",
              "          await google.colab.output.renderOutput(dataTable, element);\n",
              "          const docLink = document.createElement('div');\n",
              "          docLink.innerHTML = docLinkHtml;\n",
              "          element.appendChild(docLink);\n",
              "        }\n",
              "      </script>\n",
              "    </div>\n",
              "  </div>\n",
              "  "
            ]
          },
          "metadata": {},
          "execution_count": 111
        }
      ]
    },
    {
      "cell_type": "code",
      "source": [
        "# check the necessary data\n",
        "ff_results.head()"
      ],
      "metadata": {
        "colab": {
          "base_uri": "https://localhost:8080/",
          "height": 206
        },
        "id": "fu1jmc_pWVN_",
        "outputId": "7fd45d1e-b21a-4732-d7d4-69ae3fb69d79"
      },
      "execution_count": null,
      "outputs": [
        {
          "output_type": "execute_result",
          "data": {
            "text/plain": [
              "    tic     mrkrf       smb       hml\n",
              "0  JJSF  0.452887  0.356829  0.524302\n",
              "1  PLXS  0.955657  0.229663  0.598402\n",
              "2  ORCL  0.839476 -0.587083  0.016158\n",
              "3  MSFT  0.935809 -0.330320 -0.401040\n",
              "4  TROW  1.121489  0.008855  0.145466"
            ],
            "text/html": [
              "\n",
              "  <div id=\"df-bfad4364-e9a7-4734-a5ff-8dd3d7347d69\">\n",
              "    <div class=\"colab-df-container\">\n",
              "      <div>\n",
              "<style scoped>\n",
              "    .dataframe tbody tr th:only-of-type {\n",
              "        vertical-align: middle;\n",
              "    }\n",
              "\n",
              "    .dataframe tbody tr th {\n",
              "        vertical-align: top;\n",
              "    }\n",
              "\n",
              "    .dataframe thead th {\n",
              "        text-align: right;\n",
              "    }\n",
              "</style>\n",
              "<table border=\"1\" class=\"dataframe\">\n",
              "  <thead>\n",
              "    <tr style=\"text-align: right;\">\n",
              "      <th></th>\n",
              "      <th>tic</th>\n",
              "      <th>mrkrf</th>\n",
              "      <th>smb</th>\n",
              "      <th>hml</th>\n",
              "    </tr>\n",
              "  </thead>\n",
              "  <tbody>\n",
              "    <tr>\n",
              "      <th>0</th>\n",
              "      <td>JJSF</td>\n",
              "      <td>0.452887</td>\n",
              "      <td>0.356829</td>\n",
              "      <td>0.524302</td>\n",
              "    </tr>\n",
              "    <tr>\n",
              "      <th>1</th>\n",
              "      <td>PLXS</td>\n",
              "      <td>0.955657</td>\n",
              "      <td>0.229663</td>\n",
              "      <td>0.598402</td>\n",
              "    </tr>\n",
              "    <tr>\n",
              "      <th>2</th>\n",
              "      <td>ORCL</td>\n",
              "      <td>0.839476</td>\n",
              "      <td>-0.587083</td>\n",
              "      <td>0.016158</td>\n",
              "    </tr>\n",
              "    <tr>\n",
              "      <th>3</th>\n",
              "      <td>MSFT</td>\n",
              "      <td>0.935809</td>\n",
              "      <td>-0.330320</td>\n",
              "      <td>-0.401040</td>\n",
              "    </tr>\n",
              "    <tr>\n",
              "      <th>4</th>\n",
              "      <td>TROW</td>\n",
              "      <td>1.121489</td>\n",
              "      <td>0.008855</td>\n",
              "      <td>0.145466</td>\n",
              "    </tr>\n",
              "  </tbody>\n",
              "</table>\n",
              "</div>\n",
              "      <button class=\"colab-df-convert\" onclick=\"convertToInteractive('df-bfad4364-e9a7-4734-a5ff-8dd3d7347d69')\"\n",
              "              title=\"Convert this dataframe to an interactive table.\"\n",
              "              style=\"display:none;\">\n",
              "        \n",
              "  <svg xmlns=\"http://www.w3.org/2000/svg\" height=\"24px\"viewBox=\"0 0 24 24\"\n",
              "       width=\"24px\">\n",
              "    <path d=\"M0 0h24v24H0V0z\" fill=\"none\"/>\n",
              "    <path d=\"M18.56 5.44l.94 2.06.94-2.06 2.06-.94-2.06-.94-.94-2.06-.94 2.06-2.06.94zm-11 1L8.5 8.5l.94-2.06 2.06-.94-2.06-.94L8.5 2.5l-.94 2.06-2.06.94zm10 10l.94 2.06.94-2.06 2.06-.94-2.06-.94-.94-2.06-.94 2.06-2.06.94z\"/><path d=\"M17.41 7.96l-1.37-1.37c-.4-.4-.92-.59-1.43-.59-.52 0-1.04.2-1.43.59L10.3 9.45l-7.72 7.72c-.78.78-.78 2.05 0 2.83L4 21.41c.39.39.9.59 1.41.59.51 0 1.02-.2 1.41-.59l7.78-7.78 2.81-2.81c.8-.78.8-2.07 0-2.86zM5.41 20L4 18.59l7.72-7.72 1.47 1.35L5.41 20z\"/>\n",
              "  </svg>\n",
              "      </button>\n",
              "      \n",
              "  <style>\n",
              "    .colab-df-container {\n",
              "      display:flex;\n",
              "      flex-wrap:wrap;\n",
              "      gap: 12px;\n",
              "    }\n",
              "\n",
              "    .colab-df-convert {\n",
              "      background-color: #E8F0FE;\n",
              "      border: none;\n",
              "      border-radius: 50%;\n",
              "      cursor: pointer;\n",
              "      display: none;\n",
              "      fill: #1967D2;\n",
              "      height: 32px;\n",
              "      padding: 0 0 0 0;\n",
              "      width: 32px;\n",
              "    }\n",
              "\n",
              "    .colab-df-convert:hover {\n",
              "      background-color: #E2EBFA;\n",
              "      box-shadow: 0px 1px 2px rgba(60, 64, 67, 0.3), 0px 1px 3px 1px rgba(60, 64, 67, 0.15);\n",
              "      fill: #174EA6;\n",
              "    }\n",
              "\n",
              "    [theme=dark] .colab-df-convert {\n",
              "      background-color: #3B4455;\n",
              "      fill: #D2E3FC;\n",
              "    }\n",
              "\n",
              "    [theme=dark] .colab-df-convert:hover {\n",
              "      background-color: #434B5C;\n",
              "      box-shadow: 0px 1px 3px 1px rgba(0, 0, 0, 0.15);\n",
              "      filter: drop-shadow(0px 1px 2px rgba(0, 0, 0, 0.3));\n",
              "      fill: #FFFFFF;\n",
              "    }\n",
              "  </style>\n",
              "\n",
              "      <script>\n",
              "        const buttonEl =\n",
              "          document.querySelector('#df-bfad4364-e9a7-4734-a5ff-8dd3d7347d69 button.colab-df-convert');\n",
              "        buttonEl.style.display =\n",
              "          google.colab.kernel.accessAllowed ? 'block' : 'none';\n",
              "\n",
              "        async function convertToInteractive(key) {\n",
              "          const element = document.querySelector('#df-bfad4364-e9a7-4734-a5ff-8dd3d7347d69');\n",
              "          const dataTable =\n",
              "            await google.colab.kernel.invokeFunction('convertToInteractive',\n",
              "                                                     [key], {});\n",
              "          if (!dataTable) return;\n",
              "\n",
              "          const docLinkHtml = 'Like what you see? Visit the ' +\n",
              "            '<a target=\"_blank\" href=https://colab.research.google.com/notebooks/data_table.ipynb>data table notebook</a>'\n",
              "            + ' to learn more about interactive tables.';\n",
              "          element.innerHTML = '';\n",
              "          dataTable['output_type'] = 'display_data';\n",
              "          await google.colab.output.renderOutput(dataTable, element);\n",
              "          const docLink = document.createElement('div');\n",
              "          docLink.innerHTML = docLinkHtml;\n",
              "          element.appendChild(docLink);\n",
              "        }\n",
              "      </script>\n",
              "    </div>\n",
              "  </div>\n",
              "  "
            ]
          },
          "metadata": {},
          "execution_count": 112
        }
      ]
    },
    {
      "cell_type": "code",
      "source": [
        "# merge the datasets on ticker\n",
        "risk_data = pd.merge(target, ff_results, on='tic', how='left')\n",
        "risk_data.head()"
      ],
      "metadata": {
        "colab": {
          "base_uri": "https://localhost:8080/",
          "height": 206
        },
        "id": "tpheC8bhU1ag",
        "outputId": "7b0d8c1f-7de0-4825-fe16-51c71ea1dde3"
      },
      "execution_count": null,
      "outputs": [
        {
          "output_type": "execute_result",
          "data": {
            "text/plain": [
              "    tic                      name  retytd     mrkrf       smb       hml\n",
              "0     A     Agilent Technologies  -0.2080  1.014152 -0.253674 -0.143608\n",
              "1    AA               Alcoa Corp   0.4731  1.694604  0.312097  1.547730\n",
              "2   AAL     American Airlines Gp   0.0579  1.273449  0.597595  1.179771\n",
              "3   AAN  Aarons Holdings Company  -0.1327  1.533236  0.226085  0.654775\n",
              "4  AAON                 Aaon Inc  -0.3456  0.516779  0.422130 -0.117068"
            ],
            "text/html": [
              "\n",
              "  <div id=\"df-060cffbb-4672-48c8-bf59-f6f860c69f2f\">\n",
              "    <div class=\"colab-df-container\">\n",
              "      <div>\n",
              "<style scoped>\n",
              "    .dataframe tbody tr th:only-of-type {\n",
              "        vertical-align: middle;\n",
              "    }\n",
              "\n",
              "    .dataframe tbody tr th {\n",
              "        vertical-align: top;\n",
              "    }\n",
              "\n",
              "    .dataframe thead th {\n",
              "        text-align: right;\n",
              "    }\n",
              "</style>\n",
              "<table border=\"1\" class=\"dataframe\">\n",
              "  <thead>\n",
              "    <tr style=\"text-align: right;\">\n",
              "      <th></th>\n",
              "      <th>tic</th>\n",
              "      <th>name</th>\n",
              "      <th>retytd</th>\n",
              "      <th>mrkrf</th>\n",
              "      <th>smb</th>\n",
              "      <th>hml</th>\n",
              "    </tr>\n",
              "  </thead>\n",
              "  <tbody>\n",
              "    <tr>\n",
              "      <th>0</th>\n",
              "      <td>A</td>\n",
              "      <td>Agilent Technologies</td>\n",
              "      <td>-0.2080</td>\n",
              "      <td>1.014152</td>\n",
              "      <td>-0.253674</td>\n",
              "      <td>-0.143608</td>\n",
              "    </tr>\n",
              "    <tr>\n",
              "      <th>1</th>\n",
              "      <td>AA</td>\n",
              "      <td>Alcoa Corp</td>\n",
              "      <td>0.4731</td>\n",
              "      <td>1.694604</td>\n",
              "      <td>0.312097</td>\n",
              "      <td>1.547730</td>\n",
              "    </tr>\n",
              "    <tr>\n",
              "      <th>2</th>\n",
              "      <td>AAL</td>\n",
              "      <td>American Airlines Gp</td>\n",
              "      <td>0.0579</td>\n",
              "      <td>1.273449</td>\n",
              "      <td>0.597595</td>\n",
              "      <td>1.179771</td>\n",
              "    </tr>\n",
              "    <tr>\n",
              "      <th>3</th>\n",
              "      <td>AAN</td>\n",
              "      <td>Aarons Holdings Company</td>\n",
              "      <td>-0.1327</td>\n",
              "      <td>1.533236</td>\n",
              "      <td>0.226085</td>\n",
              "      <td>0.654775</td>\n",
              "    </tr>\n",
              "    <tr>\n",
              "      <th>4</th>\n",
              "      <td>AAON</td>\n",
              "      <td>Aaon Inc</td>\n",
              "      <td>-0.3456</td>\n",
              "      <td>0.516779</td>\n",
              "      <td>0.422130</td>\n",
              "      <td>-0.117068</td>\n",
              "    </tr>\n",
              "  </tbody>\n",
              "</table>\n",
              "</div>\n",
              "      <button class=\"colab-df-convert\" onclick=\"convertToInteractive('df-060cffbb-4672-48c8-bf59-f6f860c69f2f')\"\n",
              "              title=\"Convert this dataframe to an interactive table.\"\n",
              "              style=\"display:none;\">\n",
              "        \n",
              "  <svg xmlns=\"http://www.w3.org/2000/svg\" height=\"24px\"viewBox=\"0 0 24 24\"\n",
              "       width=\"24px\">\n",
              "    <path d=\"M0 0h24v24H0V0z\" fill=\"none\"/>\n",
              "    <path d=\"M18.56 5.44l.94 2.06.94-2.06 2.06-.94-2.06-.94-.94-2.06-.94 2.06-2.06.94zm-11 1L8.5 8.5l.94-2.06 2.06-.94-2.06-.94L8.5 2.5l-.94 2.06-2.06.94zm10 10l.94 2.06.94-2.06 2.06-.94-2.06-.94-.94-2.06-.94 2.06-2.06.94z\"/><path d=\"M17.41 7.96l-1.37-1.37c-.4-.4-.92-.59-1.43-.59-.52 0-1.04.2-1.43.59L10.3 9.45l-7.72 7.72c-.78.78-.78 2.05 0 2.83L4 21.41c.39.39.9.59 1.41.59.51 0 1.02-.2 1.41-.59l7.78-7.78 2.81-2.81c.8-.78.8-2.07 0-2.86zM5.41 20L4 18.59l7.72-7.72 1.47 1.35L5.41 20z\"/>\n",
              "  </svg>\n",
              "      </button>\n",
              "      \n",
              "  <style>\n",
              "    .colab-df-container {\n",
              "      display:flex;\n",
              "      flex-wrap:wrap;\n",
              "      gap: 12px;\n",
              "    }\n",
              "\n",
              "    .colab-df-convert {\n",
              "      background-color: #E8F0FE;\n",
              "      border: none;\n",
              "      border-radius: 50%;\n",
              "      cursor: pointer;\n",
              "      display: none;\n",
              "      fill: #1967D2;\n",
              "      height: 32px;\n",
              "      padding: 0 0 0 0;\n",
              "      width: 32px;\n",
              "    }\n",
              "\n",
              "    .colab-df-convert:hover {\n",
              "      background-color: #E2EBFA;\n",
              "      box-shadow: 0px 1px 2px rgba(60, 64, 67, 0.3), 0px 1px 3px 1px rgba(60, 64, 67, 0.15);\n",
              "      fill: #174EA6;\n",
              "    }\n",
              "\n",
              "    [theme=dark] .colab-df-convert {\n",
              "      background-color: #3B4455;\n",
              "      fill: #D2E3FC;\n",
              "    }\n",
              "\n",
              "    [theme=dark] .colab-df-convert:hover {\n",
              "      background-color: #434B5C;\n",
              "      box-shadow: 0px 1px 3px 1px rgba(0, 0, 0, 0.15);\n",
              "      filter: drop-shadow(0px 1px 2px rgba(0, 0, 0, 0.3));\n",
              "      fill: #FFFFFF;\n",
              "    }\n",
              "  </style>\n",
              "\n",
              "      <script>\n",
              "        const buttonEl =\n",
              "          document.querySelector('#df-060cffbb-4672-48c8-bf59-f6f860c69f2f button.colab-df-convert');\n",
              "        buttonEl.style.display =\n",
              "          google.colab.kernel.accessAllowed ? 'block' : 'none';\n",
              "\n",
              "        async function convertToInteractive(key) {\n",
              "          const element = document.querySelector('#df-060cffbb-4672-48c8-bf59-f6f860c69f2f');\n",
              "          const dataTable =\n",
              "            await google.colab.kernel.invokeFunction('convertToInteractive',\n",
              "                                                     [key], {});\n",
              "          if (!dataTable) return;\n",
              "\n",
              "          const docLinkHtml = 'Like what you see? Visit the ' +\n",
              "            '<a target=\"_blank\" href=https://colab.research.google.com/notebooks/data_table.ipynb>data table notebook</a>'\n",
              "            + ' to learn more about interactive tables.';\n",
              "          element.innerHTML = '';\n",
              "          dataTable['output_type'] = 'display_data';\n",
              "          await google.colab.output.renderOutput(dataTable, element);\n",
              "          const docLink = document.createElement('div');\n",
              "          docLink.innerHTML = docLinkHtml;\n",
              "          element.appendChild(docLink);\n",
              "        }\n",
              "      </script>\n",
              "    </div>\n",
              "  </div>\n",
              "  "
            ]
          },
          "metadata": {},
          "execution_count": 113
        }
      ]
    },
    {
      "cell_type": "code",
      "source": [
        "# construct X and y\n",
        "X_risk = risk_data[[\"mrkrf\", \"smb\", \"hml\"]]\n",
        "X_risk[\"const\"] = 1\n",
        "y = risk_data[\"retytd\"]"
      ],
      "metadata": {
        "id": "i7MGwnWpW6Rb"
      },
      "execution_count": null,
      "outputs": []
    },
    {
      "cell_type": "code",
      "source": [
        "risk_model = sm.OLS(y, X_risk).fit()\n",
        "risk_model.summary()"
      ],
      "metadata": {
        "colab": {
          "base_uri": "https://localhost:8080/",
          "height": 494
        },
        "id": "LRzA6scDW_XQ",
        "outputId": "5c9aec93-94c6-4227-de38-e13aa5895b53"
      },
      "execution_count": null,
      "outputs": [
        {
          "output_type": "execute_result",
          "data": {
            "text/plain": [
              "<class 'statsmodels.iolib.summary.Summary'>\n",
              "\"\"\"\n",
              "                            OLS Regression Results                            \n",
              "==============================================================================\n",
              "Dep. Variable:                 retytd   R-squared:                       0.091\n",
              "Model:                            OLS   Adj. R-squared:                  0.090\n",
              "Method:                 Least Squares   F-statistic:                     63.15\n",
              "Date:                Wed, 27 Apr 2022   Prob (F-statistic):           6.72e-39\n",
              "Time:                        20:34:17   Log-Likelihood:                 76.728\n",
              "No. Observations:                1886   AIC:                            -145.5\n",
              "Df Residuals:                    1882   BIC:                            -123.3\n",
              "Df Model:                           3                                         \n",
              "Covariance Type:            nonrobust                                         \n",
              "==============================================================================\n",
              "                 coef    std err          t      P>|t|      [0.025      0.975]\n",
              "------------------------------------------------------------------------------\n",
              "mrkrf         -0.0337      0.013     -2.633      0.009      -0.059      -0.009\n",
              "smb           -0.0033      0.007     -0.461      0.645      -0.017       0.011\n",
              "hml            0.1230      0.009     13.613      0.000       0.105       0.141\n",
              "const         -0.0619      0.014     -4.438      0.000      -0.089      -0.035\n",
              "==============================================================================\n",
              "Omnibus:                      660.891   Durbin-Watson:                   2.016\n",
              "Prob(Omnibus):                  0.000   Jarque-Bera (JB):             3733.603\n",
              "Skew:                           1.539   Prob(JB):                         0.00\n",
              "Kurtosis:                       9.167   Cond. No.                         5.48\n",
              "==============================================================================\n",
              "\n",
              "Warnings:\n",
              "[1] Standard Errors assume that the covariance matrix of the errors is correctly specified.\n",
              "\"\"\""
            ],
            "text/html": [
              "<table class=\"simpletable\">\n",
              "<caption>OLS Regression Results</caption>\n",
              "<tr>\n",
              "  <th>Dep. Variable:</th>         <td>retytd</td>      <th>  R-squared:         </th> <td>   0.091</td>\n",
              "</tr>\n",
              "<tr>\n",
              "  <th>Model:</th>                   <td>OLS</td>       <th>  Adj. R-squared:    </th> <td>   0.090</td>\n",
              "</tr>\n",
              "<tr>\n",
              "  <th>Method:</th>             <td>Least Squares</td>  <th>  F-statistic:       </th> <td>   63.15</td>\n",
              "</tr>\n",
              "<tr>\n",
              "  <th>Date:</th>             <td>Wed, 27 Apr 2022</td> <th>  Prob (F-statistic):</th> <td>6.72e-39</td>\n",
              "</tr>\n",
              "<tr>\n",
              "  <th>Time:</th>                 <td>20:34:17</td>     <th>  Log-Likelihood:    </th> <td>  76.728</td>\n",
              "</tr>\n",
              "<tr>\n",
              "  <th>No. Observations:</th>      <td>  1886</td>      <th>  AIC:               </th> <td>  -145.5</td>\n",
              "</tr>\n",
              "<tr>\n",
              "  <th>Df Residuals:</th>          <td>  1882</td>      <th>  BIC:               </th> <td>  -123.3</td>\n",
              "</tr>\n",
              "<tr>\n",
              "  <th>Df Model:</th>              <td>     3</td>      <th>                     </th>     <td> </td>   \n",
              "</tr>\n",
              "<tr>\n",
              "  <th>Covariance Type:</th>      <td>nonrobust</td>    <th>                     </th>     <td> </td>   \n",
              "</tr>\n",
              "</table>\n",
              "<table class=\"simpletable\">\n",
              "<tr>\n",
              "    <td></td>       <th>coef</th>     <th>std err</th>      <th>t</th>      <th>P>|t|</th>  <th>[0.025</th>    <th>0.975]</th>  \n",
              "</tr>\n",
              "<tr>\n",
              "  <th>mrkrf</th> <td>   -0.0337</td> <td>    0.013</td> <td>   -2.633</td> <td> 0.009</td> <td>   -0.059</td> <td>   -0.009</td>\n",
              "</tr>\n",
              "<tr>\n",
              "  <th>smb</th>   <td>   -0.0033</td> <td>    0.007</td> <td>   -0.461</td> <td> 0.645</td> <td>   -0.017</td> <td>    0.011</td>\n",
              "</tr>\n",
              "<tr>\n",
              "  <th>hml</th>   <td>    0.1230</td> <td>    0.009</td> <td>   13.613</td> <td> 0.000</td> <td>    0.105</td> <td>    0.141</td>\n",
              "</tr>\n",
              "<tr>\n",
              "  <th>const</th> <td>   -0.0619</td> <td>    0.014</td> <td>   -4.438</td> <td> 0.000</td> <td>   -0.089</td> <td>   -0.035</td>\n",
              "</tr>\n",
              "</table>\n",
              "<table class=\"simpletable\">\n",
              "<tr>\n",
              "  <th>Omnibus:</th>       <td>660.891</td> <th>  Durbin-Watson:     </th> <td>   2.016</td>\n",
              "</tr>\n",
              "<tr>\n",
              "  <th>Prob(Omnibus):</th> <td> 0.000</td>  <th>  Jarque-Bera (JB):  </th> <td>3733.603</td>\n",
              "</tr>\n",
              "<tr>\n",
              "  <th>Skew:</th>          <td> 1.539</td>  <th>  Prob(JB):          </th> <td>    0.00</td>\n",
              "</tr>\n",
              "<tr>\n",
              "  <th>Kurtosis:</th>      <td> 9.167</td>  <th>  Cond. No.          </th> <td>    5.48</td>\n",
              "</tr>\n",
              "</table><br/><br/>Warnings:<br/>[1] Standard Errors assume that the covariance matrix of the errors is correctly specified."
            ]
          },
          "metadata": {},
          "execution_count": 115
        }
      ]
    },
    {
      "cell_type": "markdown",
      "source": [
        "According to the regression result, the fama french risk factor coefficients have only 9% of explanatory power. The r squared and adjusted R squared were 0.091 and 0.090 respectively.\n",
        "\n",
        "The mrkrf has coefficient of -0.0337, which means as mrkrf increase by 1 unit, the retYTD would decrease by 0.0337. The negative coefficient of mrkrf means the company's stock has inverse relationship with the market. If the a stock has inverse relationship, it moves opposite way with the market. The 1886 companies that we used in this regression in average have weak inverse retationship with the overall market.\n",
        "\n",
        "The smb has coefficient of -0.0033, which means as smb increase by 1 unit, the retYTD would decrease by 0.0033.\n",
        "\n",
        "The coefficient of hml is 0.1230. This indicates that when hml increase by 1 unit, the retYTD will also increase by 0.1230.\n",
        "\n",
        "\n",
        "The coefficient of const is -0.0619, and this is the average retYTD when all other variables are equal to 0.\n",
        "\n",
        "In terms of statistical significance, smb had p-value of 0.645, a lot greater than 0.05. So the coefficient of smb is not statistically significant. Rest have p-value smaller than 0, so coefficients of these variables are statistically different from 0."
      ],
      "metadata": {
        "id": "uZvu4W1adw26"
      }
    },
    {
      "cell_type": "markdown",
      "source": [
        "## Financial Characteristics"
      ],
      "metadata": {
        "id": "F2jWRvldYeWO"
      }
    },
    {
      "cell_type": "code",
      "source": [
        "# check necessary data\n",
        "final_financial_ratios.head()"
      ],
      "metadata": {
        "colab": {
          "base_uri": "https://localhost:8080/",
          "height": 270
        },
        "id": "Y7rAHaiaYPI0",
        "outputId": "ee5db85d-8994-4d24-bb6c-f8798e6d601e"
      },
      "execution_count": null,
      "outputs": [
        {
          "output_type": "execute_result",
          "data": {
            "text/plain": [
              "   tic   e/p_win  book/p_win   roa_win   roe_win  current_ratio_win  \\\n",
              "0  AIR  0.027941    0.760488  0.023251  0.036741           2.782067   \n",
              "1  AAL -0.171320   -0.337273 -0.029985  0.271526           0.912133   \n",
              "2  PNW  0.077616    0.740913  0.028120  0.104758           0.882877   \n",
              "3  ABT  0.028480    0.144202  0.094034  0.197503           1.849599   \n",
              "4  AMD  0.018205    0.043164  0.254610  0.421769           2.024292   \n",
              "\n",
              "   debt_ratio_win  quick_ratio_win  leverage_win  debt_to_equity_win  \\\n",
              "0        0.367149         1.027316      1.580152            0.580152   \n",
              "1        1.110431         0.817689     -9.055450          -10.055450   \n",
              "2        0.726337         0.673888      3.725445            2.705930   \n",
              "3        0.520932         1.456085      2.100330            1.094129   \n",
              "4        0.396328         1.563208      1.656529            0.656529   \n",
              "\n",
              "   working_capital/at_win  gross_margin_win  re/at_win  assets_turnover_win  \n",
              "0                0.389816          0.173671   0.469832             1.072547  \n",
              "1               -0.025125          0.064018  -0.219357             0.449576  \n",
              "2               -0.009352          0.382820   0.145881             0.172876  \n",
              "3                0.148066          0.613999   0.307915             0.572836  \n",
              "4                0.349706          0.500487  -0.117079             1.323295  "
            ],
            "text/html": [
              "\n",
              "  <div id=\"df-762fd4a9-e879-43d6-a0b0-94dc9a910313\">\n",
              "    <div class=\"colab-df-container\">\n",
              "      <div>\n",
              "<style scoped>\n",
              "    .dataframe tbody tr th:only-of-type {\n",
              "        vertical-align: middle;\n",
              "    }\n",
              "\n",
              "    .dataframe tbody tr th {\n",
              "        vertical-align: top;\n",
              "    }\n",
              "\n",
              "    .dataframe thead th {\n",
              "        text-align: right;\n",
              "    }\n",
              "</style>\n",
              "<table border=\"1\" class=\"dataframe\">\n",
              "  <thead>\n",
              "    <tr style=\"text-align: right;\">\n",
              "      <th></th>\n",
              "      <th>tic</th>\n",
              "      <th>e/p_win</th>\n",
              "      <th>book/p_win</th>\n",
              "      <th>roa_win</th>\n",
              "      <th>roe_win</th>\n",
              "      <th>current_ratio_win</th>\n",
              "      <th>debt_ratio_win</th>\n",
              "      <th>quick_ratio_win</th>\n",
              "      <th>leverage_win</th>\n",
              "      <th>debt_to_equity_win</th>\n",
              "      <th>working_capital/at_win</th>\n",
              "      <th>gross_margin_win</th>\n",
              "      <th>re/at_win</th>\n",
              "      <th>assets_turnover_win</th>\n",
              "    </tr>\n",
              "  </thead>\n",
              "  <tbody>\n",
              "    <tr>\n",
              "      <th>0</th>\n",
              "      <td>AIR</td>\n",
              "      <td>0.027941</td>\n",
              "      <td>0.760488</td>\n",
              "      <td>0.023251</td>\n",
              "      <td>0.036741</td>\n",
              "      <td>2.782067</td>\n",
              "      <td>0.367149</td>\n",
              "      <td>1.027316</td>\n",
              "      <td>1.580152</td>\n",
              "      <td>0.580152</td>\n",
              "      <td>0.389816</td>\n",
              "      <td>0.173671</td>\n",
              "      <td>0.469832</td>\n",
              "      <td>1.072547</td>\n",
              "    </tr>\n",
              "    <tr>\n",
              "      <th>1</th>\n",
              "      <td>AAL</td>\n",
              "      <td>-0.171320</td>\n",
              "      <td>-0.337273</td>\n",
              "      <td>-0.029985</td>\n",
              "      <td>0.271526</td>\n",
              "      <td>0.912133</td>\n",
              "      <td>1.110431</td>\n",
              "      <td>0.817689</td>\n",
              "      <td>-9.055450</td>\n",
              "      <td>-10.055450</td>\n",
              "      <td>-0.025125</td>\n",
              "      <td>0.064018</td>\n",
              "      <td>-0.219357</td>\n",
              "      <td>0.449576</td>\n",
              "    </tr>\n",
              "    <tr>\n",
              "      <th>2</th>\n",
              "      <td>PNW</td>\n",
              "      <td>0.077616</td>\n",
              "      <td>0.740913</td>\n",
              "      <td>0.028120</td>\n",
              "      <td>0.104758</td>\n",
              "      <td>0.882877</td>\n",
              "      <td>0.726337</td>\n",
              "      <td>0.673888</td>\n",
              "      <td>3.725445</td>\n",
              "      <td>2.705930</td>\n",
              "      <td>-0.009352</td>\n",
              "      <td>0.382820</td>\n",
              "      <td>0.145881</td>\n",
              "      <td>0.172876</td>\n",
              "    </tr>\n",
              "    <tr>\n",
              "      <th>3</th>\n",
              "      <td>ABT</td>\n",
              "      <td>0.028480</td>\n",
              "      <td>0.144202</td>\n",
              "      <td>0.094034</td>\n",
              "      <td>0.197503</td>\n",
              "      <td>1.849599</td>\n",
              "      <td>0.520932</td>\n",
              "      <td>1.456085</td>\n",
              "      <td>2.100330</td>\n",
              "      <td>1.094129</td>\n",
              "      <td>0.148066</td>\n",
              "      <td>0.613999</td>\n",
              "      <td>0.307915</td>\n",
              "      <td>0.572836</td>\n",
              "    </tr>\n",
              "    <tr>\n",
              "      <th>4</th>\n",
              "      <td>AMD</td>\n",
              "      <td>0.018205</td>\n",
              "      <td>0.043164</td>\n",
              "      <td>0.254610</td>\n",
              "      <td>0.421769</td>\n",
              "      <td>2.024292</td>\n",
              "      <td>0.396328</td>\n",
              "      <td>1.563208</td>\n",
              "      <td>1.656529</td>\n",
              "      <td>0.656529</td>\n",
              "      <td>0.349706</td>\n",
              "      <td>0.500487</td>\n",
              "      <td>-0.117079</td>\n",
              "      <td>1.323295</td>\n",
              "    </tr>\n",
              "  </tbody>\n",
              "</table>\n",
              "</div>\n",
              "      <button class=\"colab-df-convert\" onclick=\"convertToInteractive('df-762fd4a9-e879-43d6-a0b0-94dc9a910313')\"\n",
              "              title=\"Convert this dataframe to an interactive table.\"\n",
              "              style=\"display:none;\">\n",
              "        \n",
              "  <svg xmlns=\"http://www.w3.org/2000/svg\" height=\"24px\"viewBox=\"0 0 24 24\"\n",
              "       width=\"24px\">\n",
              "    <path d=\"M0 0h24v24H0V0z\" fill=\"none\"/>\n",
              "    <path d=\"M18.56 5.44l.94 2.06.94-2.06 2.06-.94-2.06-.94-.94-2.06-.94 2.06-2.06.94zm-11 1L8.5 8.5l.94-2.06 2.06-.94-2.06-.94L8.5 2.5l-.94 2.06-2.06.94zm10 10l.94 2.06.94-2.06 2.06-.94-2.06-.94-.94-2.06-.94 2.06-2.06.94z\"/><path d=\"M17.41 7.96l-1.37-1.37c-.4-.4-.92-.59-1.43-.59-.52 0-1.04.2-1.43.59L10.3 9.45l-7.72 7.72c-.78.78-.78 2.05 0 2.83L4 21.41c.39.39.9.59 1.41.59.51 0 1.02-.2 1.41-.59l7.78-7.78 2.81-2.81c.8-.78.8-2.07 0-2.86zM5.41 20L4 18.59l7.72-7.72 1.47 1.35L5.41 20z\"/>\n",
              "  </svg>\n",
              "      </button>\n",
              "      \n",
              "  <style>\n",
              "    .colab-df-container {\n",
              "      display:flex;\n",
              "      flex-wrap:wrap;\n",
              "      gap: 12px;\n",
              "    }\n",
              "\n",
              "    .colab-df-convert {\n",
              "      background-color: #E8F0FE;\n",
              "      border: none;\n",
              "      border-radius: 50%;\n",
              "      cursor: pointer;\n",
              "      display: none;\n",
              "      fill: #1967D2;\n",
              "      height: 32px;\n",
              "      padding: 0 0 0 0;\n",
              "      width: 32px;\n",
              "    }\n",
              "\n",
              "    .colab-df-convert:hover {\n",
              "      background-color: #E2EBFA;\n",
              "      box-shadow: 0px 1px 2px rgba(60, 64, 67, 0.3), 0px 1px 3px 1px rgba(60, 64, 67, 0.15);\n",
              "      fill: #174EA6;\n",
              "    }\n",
              "\n",
              "    [theme=dark] .colab-df-convert {\n",
              "      background-color: #3B4455;\n",
              "      fill: #D2E3FC;\n",
              "    }\n",
              "\n",
              "    [theme=dark] .colab-df-convert:hover {\n",
              "      background-color: #434B5C;\n",
              "      box-shadow: 0px 1px 3px 1px rgba(0, 0, 0, 0.15);\n",
              "      filter: drop-shadow(0px 1px 2px rgba(0, 0, 0, 0.3));\n",
              "      fill: #FFFFFF;\n",
              "    }\n",
              "  </style>\n",
              "\n",
              "      <script>\n",
              "        const buttonEl =\n",
              "          document.querySelector('#df-762fd4a9-e879-43d6-a0b0-94dc9a910313 button.colab-df-convert');\n",
              "        buttonEl.style.display =\n",
              "          google.colab.kernel.accessAllowed ? 'block' : 'none';\n",
              "\n",
              "        async function convertToInteractive(key) {\n",
              "          const element = document.querySelector('#df-762fd4a9-e879-43d6-a0b0-94dc9a910313');\n",
              "          const dataTable =\n",
              "            await google.colab.kernel.invokeFunction('convertToInteractive',\n",
              "                                                     [key], {});\n",
              "          if (!dataTable) return;\n",
              "\n",
              "          const docLinkHtml = 'Like what you see? Visit the ' +\n",
              "            '<a target=\"_blank\" href=https://colab.research.google.com/notebooks/data_table.ipynb>data table notebook</a>'\n",
              "            + ' to learn more about interactive tables.';\n",
              "          element.innerHTML = '';\n",
              "          dataTable['output_type'] = 'display_data';\n",
              "          await google.colab.output.renderOutput(dataTable, element);\n",
              "          const docLink = document.createElement('div');\n",
              "          docLink.innerHTML = docLinkHtml;\n",
              "          element.appendChild(docLink);\n",
              "        }\n",
              "      </script>\n",
              "    </div>\n",
              "  </div>\n",
              "  "
            ]
          },
          "metadata": {},
          "execution_count": 116
        }
      ]
    },
    {
      "cell_type": "code",
      "source": [
        "finance_data = pd.merge(target, final_financial_ratios, on=\"tic\", how=\"left\")\n",
        "finance_data.head()"
      ],
      "metadata": {
        "colab": {
          "base_uri": "https://localhost:8080/",
          "height": 339
        },
        "id": "V6fI3ByOYjQR",
        "outputId": "9e5261c5-c540-4ec4-ced8-645ccad8dba6"
      },
      "execution_count": null,
      "outputs": [
        {
          "output_type": "execute_result",
          "data": {
            "text/plain": [
              "    tic                      name  retytd   e/p_win  book/p_win   roa_win  \\\n",
              "0     A     Agilent Technologies  -0.2080  0.025079    0.111695  0.113031   \n",
              "1    AA               Alcoa Corp   0.4731  0.039111    0.425940  0.028552   \n",
              "2   AAL     American Airlines Gp   0.0579 -0.171320   -0.337273 -0.029985   \n",
              "3   AAN  Aarons Holdings Company  -0.1327  0.143967    0.940491  0.076276   \n",
              "4  AAON                 Aaon Inc  -0.3456  0.014083    0.111730  0.090372   \n",
              "\n",
              "    roe_win  current_ratio_win  debt_ratio_win  quick_ratio_win  leverage_win  \\\n",
              "0  0.224531           2.224239        0.496590         1.738290      1.986454   \n",
              "1  0.091824           1.559417        0.581764         0.952529      3.215967   \n",
              "2  0.271526           0.912133        1.110431         0.817689     -9.055450   \n",
              "3  0.153076           3.257239        0.501711         3.257239      2.006869   \n",
              "4  0.126044           2.513369        0.283014         0.945752      1.394727   \n",
              "\n",
              "   debt_to_equity_win  working_capital/at_win  gross_margin_win  re/at_win  \\\n",
              "0            0.986454                0.195329          0.577148   0.006165   \n",
              "1            1.870933                0.120000          0.246791  -0.326589   \n",
              "2          -10.055450               -0.025125          0.064018  -0.219357   \n",
              "3            1.006869                0.324553          0.947060   0.067862   \n",
              "4            0.394727                0.201963          0.309156   0.591076   \n",
              "\n",
              "   assets_turnover_win  \n",
              "0             0.590285  \n",
              "1             0.808785  \n",
              "2             0.449576  \n",
              "3             1.280475  \n",
              "4             0.822106  "
            ],
            "text/html": [
              "\n",
              "  <div id=\"df-46507bad-9461-4ba3-8c31-89c5619e1801\">\n",
              "    <div class=\"colab-df-container\">\n",
              "      <div>\n",
              "<style scoped>\n",
              "    .dataframe tbody tr th:only-of-type {\n",
              "        vertical-align: middle;\n",
              "    }\n",
              "\n",
              "    .dataframe tbody tr th {\n",
              "        vertical-align: top;\n",
              "    }\n",
              "\n",
              "    .dataframe thead th {\n",
              "        text-align: right;\n",
              "    }\n",
              "</style>\n",
              "<table border=\"1\" class=\"dataframe\">\n",
              "  <thead>\n",
              "    <tr style=\"text-align: right;\">\n",
              "      <th></th>\n",
              "      <th>tic</th>\n",
              "      <th>name</th>\n",
              "      <th>retytd</th>\n",
              "      <th>e/p_win</th>\n",
              "      <th>book/p_win</th>\n",
              "      <th>roa_win</th>\n",
              "      <th>roe_win</th>\n",
              "      <th>current_ratio_win</th>\n",
              "      <th>debt_ratio_win</th>\n",
              "      <th>quick_ratio_win</th>\n",
              "      <th>leverage_win</th>\n",
              "      <th>debt_to_equity_win</th>\n",
              "      <th>working_capital/at_win</th>\n",
              "      <th>gross_margin_win</th>\n",
              "      <th>re/at_win</th>\n",
              "      <th>assets_turnover_win</th>\n",
              "    </tr>\n",
              "  </thead>\n",
              "  <tbody>\n",
              "    <tr>\n",
              "      <th>0</th>\n",
              "      <td>A</td>\n",
              "      <td>Agilent Technologies</td>\n",
              "      <td>-0.2080</td>\n",
              "      <td>0.025079</td>\n",
              "      <td>0.111695</td>\n",
              "      <td>0.113031</td>\n",
              "      <td>0.224531</td>\n",
              "      <td>2.224239</td>\n",
              "      <td>0.496590</td>\n",
              "      <td>1.738290</td>\n",
              "      <td>1.986454</td>\n",
              "      <td>0.986454</td>\n",
              "      <td>0.195329</td>\n",
              "      <td>0.577148</td>\n",
              "      <td>0.006165</td>\n",
              "      <td>0.590285</td>\n",
              "    </tr>\n",
              "    <tr>\n",
              "      <th>1</th>\n",
              "      <td>AA</td>\n",
              "      <td>Alcoa Corp</td>\n",
              "      <td>0.4731</td>\n",
              "      <td>0.039111</td>\n",
              "      <td>0.425940</td>\n",
              "      <td>0.028552</td>\n",
              "      <td>0.091824</td>\n",
              "      <td>1.559417</td>\n",
              "      <td>0.581764</td>\n",
              "      <td>0.952529</td>\n",
              "      <td>3.215967</td>\n",
              "      <td>1.870933</td>\n",
              "      <td>0.120000</td>\n",
              "      <td>0.246791</td>\n",
              "      <td>-0.326589</td>\n",
              "      <td>0.808785</td>\n",
              "    </tr>\n",
              "    <tr>\n",
              "      <th>2</th>\n",
              "      <td>AAL</td>\n",
              "      <td>American Airlines Gp</td>\n",
              "      <td>0.0579</td>\n",
              "      <td>-0.171320</td>\n",
              "      <td>-0.337273</td>\n",
              "      <td>-0.029985</td>\n",
              "      <td>0.271526</td>\n",
              "      <td>0.912133</td>\n",
              "      <td>1.110431</td>\n",
              "      <td>0.817689</td>\n",
              "      <td>-9.055450</td>\n",
              "      <td>-10.055450</td>\n",
              "      <td>-0.025125</td>\n",
              "      <td>0.064018</td>\n",
              "      <td>-0.219357</td>\n",
              "      <td>0.449576</td>\n",
              "    </tr>\n",
              "    <tr>\n",
              "      <th>3</th>\n",
              "      <td>AAN</td>\n",
              "      <td>Aarons Holdings Company</td>\n",
              "      <td>-0.1327</td>\n",
              "      <td>0.143967</td>\n",
              "      <td>0.940491</td>\n",
              "      <td>0.076276</td>\n",
              "      <td>0.153076</td>\n",
              "      <td>3.257239</td>\n",
              "      <td>0.501711</td>\n",
              "      <td>3.257239</td>\n",
              "      <td>2.006869</td>\n",
              "      <td>1.006869</td>\n",
              "      <td>0.324553</td>\n",
              "      <td>0.947060</td>\n",
              "      <td>0.067862</td>\n",
              "      <td>1.280475</td>\n",
              "    </tr>\n",
              "    <tr>\n",
              "      <th>4</th>\n",
              "      <td>AAON</td>\n",
              "      <td>Aaon Inc</td>\n",
              "      <td>-0.3456</td>\n",
              "      <td>0.014083</td>\n",
              "      <td>0.111730</td>\n",
              "      <td>0.090372</td>\n",
              "      <td>0.126044</td>\n",
              "      <td>2.513369</td>\n",
              "      <td>0.283014</td>\n",
              "      <td>0.945752</td>\n",
              "      <td>1.394727</td>\n",
              "      <td>0.394727</td>\n",
              "      <td>0.201963</td>\n",
              "      <td>0.309156</td>\n",
              "      <td>0.591076</td>\n",
              "      <td>0.822106</td>\n",
              "    </tr>\n",
              "  </tbody>\n",
              "</table>\n",
              "</div>\n",
              "      <button class=\"colab-df-convert\" onclick=\"convertToInteractive('df-46507bad-9461-4ba3-8c31-89c5619e1801')\"\n",
              "              title=\"Convert this dataframe to an interactive table.\"\n",
              "              style=\"display:none;\">\n",
              "        \n",
              "  <svg xmlns=\"http://www.w3.org/2000/svg\" height=\"24px\"viewBox=\"0 0 24 24\"\n",
              "       width=\"24px\">\n",
              "    <path d=\"M0 0h24v24H0V0z\" fill=\"none\"/>\n",
              "    <path d=\"M18.56 5.44l.94 2.06.94-2.06 2.06-.94-2.06-.94-.94-2.06-.94 2.06-2.06.94zm-11 1L8.5 8.5l.94-2.06 2.06-.94-2.06-.94L8.5 2.5l-.94 2.06-2.06.94zm10 10l.94 2.06.94-2.06 2.06-.94-2.06-.94-.94-2.06-.94 2.06-2.06.94z\"/><path d=\"M17.41 7.96l-1.37-1.37c-.4-.4-.92-.59-1.43-.59-.52 0-1.04.2-1.43.59L10.3 9.45l-7.72 7.72c-.78.78-.78 2.05 0 2.83L4 21.41c.39.39.9.59 1.41.59.51 0 1.02-.2 1.41-.59l7.78-7.78 2.81-2.81c.8-.78.8-2.07 0-2.86zM5.41 20L4 18.59l7.72-7.72 1.47 1.35L5.41 20z\"/>\n",
              "  </svg>\n",
              "      </button>\n",
              "      \n",
              "  <style>\n",
              "    .colab-df-container {\n",
              "      display:flex;\n",
              "      flex-wrap:wrap;\n",
              "      gap: 12px;\n",
              "    }\n",
              "\n",
              "    .colab-df-convert {\n",
              "      background-color: #E8F0FE;\n",
              "      border: none;\n",
              "      border-radius: 50%;\n",
              "      cursor: pointer;\n",
              "      display: none;\n",
              "      fill: #1967D2;\n",
              "      height: 32px;\n",
              "      padding: 0 0 0 0;\n",
              "      width: 32px;\n",
              "    }\n",
              "\n",
              "    .colab-df-convert:hover {\n",
              "      background-color: #E2EBFA;\n",
              "      box-shadow: 0px 1px 2px rgba(60, 64, 67, 0.3), 0px 1px 3px 1px rgba(60, 64, 67, 0.15);\n",
              "      fill: #174EA6;\n",
              "    }\n",
              "\n",
              "    [theme=dark] .colab-df-convert {\n",
              "      background-color: #3B4455;\n",
              "      fill: #D2E3FC;\n",
              "    }\n",
              "\n",
              "    [theme=dark] .colab-df-convert:hover {\n",
              "      background-color: #434B5C;\n",
              "      box-shadow: 0px 1px 3px 1px rgba(0, 0, 0, 0.15);\n",
              "      filter: drop-shadow(0px 1px 2px rgba(0, 0, 0, 0.3));\n",
              "      fill: #FFFFFF;\n",
              "    }\n",
              "  </style>\n",
              "\n",
              "      <script>\n",
              "        const buttonEl =\n",
              "          document.querySelector('#df-46507bad-9461-4ba3-8c31-89c5619e1801 button.colab-df-convert');\n",
              "        buttonEl.style.display =\n",
              "          google.colab.kernel.accessAllowed ? 'block' : 'none';\n",
              "\n",
              "        async function convertToInteractive(key) {\n",
              "          const element = document.querySelector('#df-46507bad-9461-4ba3-8c31-89c5619e1801');\n",
              "          const dataTable =\n",
              "            await google.colab.kernel.invokeFunction('convertToInteractive',\n",
              "                                                     [key], {});\n",
              "          if (!dataTable) return;\n",
              "\n",
              "          const docLinkHtml = 'Like what you see? Visit the ' +\n",
              "            '<a target=\"_blank\" href=https://colab.research.google.com/notebooks/data_table.ipynb>data table notebook</a>'\n",
              "            + ' to learn more about interactive tables.';\n",
              "          element.innerHTML = '';\n",
              "          dataTable['output_type'] = 'display_data';\n",
              "          await google.colab.output.renderOutput(dataTable, element);\n",
              "          const docLink = document.createElement('div');\n",
              "          docLink.innerHTML = docLinkHtml;\n",
              "          element.appendChild(docLink);\n",
              "        }\n",
              "      </script>\n",
              "    </div>\n",
              "  </div>\n",
              "  "
            ]
          },
          "metadata": {},
          "execution_count": 117
        }
      ]
    },
    {
      "cell_type": "code",
      "source": [
        "finance_data.shape"
      ],
      "metadata": {
        "colab": {
          "base_uri": "https://localhost:8080/"
        },
        "id": "d8OErQxjYoJX",
        "outputId": "c9d2a479-ebfb-4e64-fb2d-07c9a2fa9008"
      },
      "execution_count": null,
      "outputs": [
        {
          "output_type": "execute_result",
          "data": {
            "text/plain": [
              "(1886, 16)"
            ]
          },
          "metadata": {},
          "execution_count": 118
        }
      ]
    },
    {
      "cell_type": "code",
      "source": [
        "# construct X\n",
        "X_finance = finance_data.drop(columns=[\"tic\", \"name\", \"retytd\"])\n",
        "X_finance[\"const\"] = 1"
      ],
      "metadata": {
        "id": "Ewec1zzjY84x"
      },
      "execution_count": null,
      "outputs": []
    },
    {
      "cell_type": "code",
      "source": [
        "finance_model = sm.OLS(y, X_finance).fit()\n",
        "finance_model.summary()"
      ],
      "metadata": {
        "colab": {
          "base_uri": "https://localhost:8080/",
          "height": 708
        },
        "id": "r9VC_k4KZUM1",
        "outputId": "10e34238-893b-4f6e-e8e6-77c1d2c573e2"
      },
      "execution_count": null,
      "outputs": [
        {
          "output_type": "execute_result",
          "data": {
            "text/plain": [
              "<class 'statsmodels.iolib.summary.Summary'>\n",
              "\"\"\"\n",
              "                            OLS Regression Results                            \n",
              "==============================================================================\n",
              "Dep. Variable:                 retytd   R-squared:                       0.114\n",
              "Model:                            OLS   Adj. R-squared:                  0.108\n",
              "Method:                 Least Squares   F-statistic:                     18.53\n",
              "Date:                Wed, 27 Apr 2022   Prob (F-statistic):           3.21e-41\n",
              "Time:                        20:34:17   Log-Likelihood:                 100.46\n",
              "No. Observations:                1886   AIC:                            -172.9\n",
              "Df Residuals:                    1872   BIC:                            -95.34\n",
              "Df Model:                          13                                         \n",
              "Covariance Type:            nonrobust                                         \n",
              "==========================================================================================\n",
              "                             coef    std err          t      P>|t|      [0.025      0.975]\n",
              "------------------------------------------------------------------------------------------\n",
              "e/p_win                   -0.1657      0.079     -2.110      0.035      -0.320      -0.012\n",
              "book/p_win                 0.1872      0.017     10.819      0.000       0.153       0.221\n",
              "roa_win                    0.2028      0.079      2.573      0.010       0.048       0.357\n",
              "roe_win                    0.0053      0.010      0.538      0.590      -0.014       0.025\n",
              "current_ratio_win         -0.0168      0.004     -4.203      0.000      -0.025      -0.009\n",
              "debt_ratio_win             0.0665      0.027      2.435      0.015       0.013       0.120\n",
              "quick_ratio_win            0.0076      0.002      3.862      0.000       0.004       0.011\n",
              "leverage_win               0.0699      0.023      2.991      0.003       0.024       0.116\n",
              "debt_to_equity_win        -0.0747      0.024     -3.123      0.002      -0.122      -0.028\n",
              "working_capital/at_win    -0.0958      0.045     -2.113      0.035      -0.185      -0.007\n",
              "gross_margin_win          -0.0017      0.001     -2.975      0.003      -0.003      -0.001\n",
              "re/at_win                  0.0077      0.009      0.883      0.377      -0.009       0.025\n",
              "assets_turnover_win       -0.0008      0.011     -0.071      0.943      -0.023       0.021\n",
              "const                     -0.1969      0.037     -5.300      0.000      -0.270      -0.124\n",
              "==============================================================================\n",
              "Omnibus:                      694.551   Durbin-Watson:                   2.032\n",
              "Prob(Omnibus):                  0.000   Jarque-Bera (JB):             4180.637\n",
              "Skew:                           1.608   Prob(JB):                         0.00\n",
              "Kurtosis:                       9.547   Cond. No.                         203.\n",
              "==============================================================================\n",
              "\n",
              "Warnings:\n",
              "[1] Standard Errors assume that the covariance matrix of the errors is correctly specified.\n",
              "\"\"\""
            ],
            "text/html": [
              "<table class=\"simpletable\">\n",
              "<caption>OLS Regression Results</caption>\n",
              "<tr>\n",
              "  <th>Dep. Variable:</th>         <td>retytd</td>      <th>  R-squared:         </th> <td>   0.114</td>\n",
              "</tr>\n",
              "<tr>\n",
              "  <th>Model:</th>                   <td>OLS</td>       <th>  Adj. R-squared:    </th> <td>   0.108</td>\n",
              "</tr>\n",
              "<tr>\n",
              "  <th>Method:</th>             <td>Least Squares</td>  <th>  F-statistic:       </th> <td>   18.53</td>\n",
              "</tr>\n",
              "<tr>\n",
              "  <th>Date:</th>             <td>Wed, 27 Apr 2022</td> <th>  Prob (F-statistic):</th> <td>3.21e-41</td>\n",
              "</tr>\n",
              "<tr>\n",
              "  <th>Time:</th>                 <td>20:34:17</td>     <th>  Log-Likelihood:    </th> <td>  100.46</td>\n",
              "</tr>\n",
              "<tr>\n",
              "  <th>No. Observations:</th>      <td>  1886</td>      <th>  AIC:               </th> <td>  -172.9</td>\n",
              "</tr>\n",
              "<tr>\n",
              "  <th>Df Residuals:</th>          <td>  1872</td>      <th>  BIC:               </th> <td>  -95.34</td>\n",
              "</tr>\n",
              "<tr>\n",
              "  <th>Df Model:</th>              <td>    13</td>      <th>                     </th>     <td> </td>   \n",
              "</tr>\n",
              "<tr>\n",
              "  <th>Covariance Type:</th>      <td>nonrobust</td>    <th>                     </th>     <td> </td>   \n",
              "</tr>\n",
              "</table>\n",
              "<table class=\"simpletable\">\n",
              "<tr>\n",
              "             <td></td>               <th>coef</th>     <th>std err</th>      <th>t</th>      <th>P>|t|</th>  <th>[0.025</th>    <th>0.975]</th>  \n",
              "</tr>\n",
              "<tr>\n",
              "  <th>e/p_win</th>                <td>   -0.1657</td> <td>    0.079</td> <td>   -2.110</td> <td> 0.035</td> <td>   -0.320</td> <td>   -0.012</td>\n",
              "</tr>\n",
              "<tr>\n",
              "  <th>book/p_win</th>             <td>    0.1872</td> <td>    0.017</td> <td>   10.819</td> <td> 0.000</td> <td>    0.153</td> <td>    0.221</td>\n",
              "</tr>\n",
              "<tr>\n",
              "  <th>roa_win</th>                <td>    0.2028</td> <td>    0.079</td> <td>    2.573</td> <td> 0.010</td> <td>    0.048</td> <td>    0.357</td>\n",
              "</tr>\n",
              "<tr>\n",
              "  <th>roe_win</th>                <td>    0.0053</td> <td>    0.010</td> <td>    0.538</td> <td> 0.590</td> <td>   -0.014</td> <td>    0.025</td>\n",
              "</tr>\n",
              "<tr>\n",
              "  <th>current_ratio_win</th>      <td>   -0.0168</td> <td>    0.004</td> <td>   -4.203</td> <td> 0.000</td> <td>   -0.025</td> <td>   -0.009</td>\n",
              "</tr>\n",
              "<tr>\n",
              "  <th>debt_ratio_win</th>         <td>    0.0665</td> <td>    0.027</td> <td>    2.435</td> <td> 0.015</td> <td>    0.013</td> <td>    0.120</td>\n",
              "</tr>\n",
              "<tr>\n",
              "  <th>quick_ratio_win</th>        <td>    0.0076</td> <td>    0.002</td> <td>    3.862</td> <td> 0.000</td> <td>    0.004</td> <td>    0.011</td>\n",
              "</tr>\n",
              "<tr>\n",
              "  <th>leverage_win</th>           <td>    0.0699</td> <td>    0.023</td> <td>    2.991</td> <td> 0.003</td> <td>    0.024</td> <td>    0.116</td>\n",
              "</tr>\n",
              "<tr>\n",
              "  <th>debt_to_equity_win</th>     <td>   -0.0747</td> <td>    0.024</td> <td>   -3.123</td> <td> 0.002</td> <td>   -0.122</td> <td>   -0.028</td>\n",
              "</tr>\n",
              "<tr>\n",
              "  <th>working_capital/at_win</th> <td>   -0.0958</td> <td>    0.045</td> <td>   -2.113</td> <td> 0.035</td> <td>   -0.185</td> <td>   -0.007</td>\n",
              "</tr>\n",
              "<tr>\n",
              "  <th>gross_margin_win</th>       <td>   -0.0017</td> <td>    0.001</td> <td>   -2.975</td> <td> 0.003</td> <td>   -0.003</td> <td>   -0.001</td>\n",
              "</tr>\n",
              "<tr>\n",
              "  <th>re/at_win</th>              <td>    0.0077</td> <td>    0.009</td> <td>    0.883</td> <td> 0.377</td> <td>   -0.009</td> <td>    0.025</td>\n",
              "</tr>\n",
              "<tr>\n",
              "  <th>assets_turnover_win</th>    <td>   -0.0008</td> <td>    0.011</td> <td>   -0.071</td> <td> 0.943</td> <td>   -0.023</td> <td>    0.021</td>\n",
              "</tr>\n",
              "<tr>\n",
              "  <th>const</th>                  <td>   -0.1969</td> <td>    0.037</td> <td>   -5.300</td> <td> 0.000</td> <td>   -0.270</td> <td>   -0.124</td>\n",
              "</tr>\n",
              "</table>\n",
              "<table class=\"simpletable\">\n",
              "<tr>\n",
              "  <th>Omnibus:</th>       <td>694.551</td> <th>  Durbin-Watson:     </th> <td>   2.032</td>\n",
              "</tr>\n",
              "<tr>\n",
              "  <th>Prob(Omnibus):</th> <td> 0.000</td>  <th>  Jarque-Bera (JB):  </th> <td>4180.637</td>\n",
              "</tr>\n",
              "<tr>\n",
              "  <th>Skew:</th>          <td> 1.608</td>  <th>  Prob(JB):          </th> <td>    0.00</td>\n",
              "</tr>\n",
              "<tr>\n",
              "  <th>Kurtosis:</th>      <td> 9.547</td>  <th>  Cond. No.          </th> <td>    203.</td>\n",
              "</tr>\n",
              "</table><br/><br/>Warnings:<br/>[1] Standard Errors assume that the covariance matrix of the errors is correctly specified."
            ]
          },
          "metadata": {},
          "execution_count": 120
        }
      ]
    },
    {
      "cell_type": "markdown",
      "source": [
        "According to the regression result, the financial ratios have only about 10% of explanatory power. The r squared and adjusted R squared were 0.114 and 0.108 respectively.\n",
        "\n",
        "In terms of coefficients of independent variables, the roa_win had the highest coefficient, 0.2028. This means when roa_win increase by 1 unit, retYTD would also increase by 0.2028. e/p_win, on the other hand, had the lowest coefficient, - 0.1657. This indicates that the return will decrease by 0.1657 when e/p increase by 1 unit.\n",
        "\n",
        "Regarding the statistical significance, roe_win, re/at_win, and assets_turnover_win had p-value greater than 0.05. Therefore, coefficients of these values are not statistically different from 0."
      ],
      "metadata": {
        "id": "L-s9QzaOflTB"
      }
    },
    {
      "cell_type": "markdown",
      "source": [
        "## Industry Dummies"
      ],
      "metadata": {
        "id": "KOpUKhMuaGJC"
      }
    },
    {
      "cell_type": "code",
      "source": [
        "# check data\n",
        "industry.head()"
      ],
      "metadata": {
        "colab": {
          "base_uri": "https://localhost:8080/",
          "height": 299
        },
        "id": "H8NWCmv1Zx_b",
        "outputId": "139eedf0-e246-489b-f806-9e906ea3436b"
      },
      "execution_count": null,
      "outputs": [
        {
          "output_type": "execute_result",
          "data": {
            "text/plain": [
              "   tic  ggroup_1510  ggroup_2010  ggroup_2020  ggroup_2030  ggroup_2510  \\\n",
              "0  AIR            0            1            0            0            0   \n",
              "1  AAL            0            0            0            1            0   \n",
              "2  PNW            0            0            0            0            0   \n",
              "3  ABT            0            0            0            0            0   \n",
              "4  AMD            0            0            0            0            0   \n",
              "\n",
              "   ggroup_2520  ggroup_2530  ggroup_2550  ggroup_3010  ...  ggroup_4010  \\\n",
              "0            0            0            0            0  ...            0   \n",
              "1            0            0            0            0  ...            0   \n",
              "2            0            0            0            0  ...            0   \n",
              "3            0            0            0            0  ...            0   \n",
              "4            0            0            0            0  ...            0   \n",
              "\n",
              "   ggroup_4020  ggroup_4030  ggroup_4510  ggroup_4520  ggroup_4530  \\\n",
              "0            0            0            0            0            0   \n",
              "1            0            0            0            0            0   \n",
              "2            0            0            0            0            0   \n",
              "3            0            0            0            0            0   \n",
              "4            0            0            0            0            1   \n",
              "\n",
              "   ggroup_5010  ggroup_5020  ggroup_5510  ggroup_6010  \n",
              "0            0            0            0            0  \n",
              "1            0            0            0            0  \n",
              "2            0            0            1            0  \n",
              "3            0            0            0            0  \n",
              "4            0            0            0            0  \n",
              "\n",
              "[5 rows x 24 columns]"
            ],
            "text/html": [
              "\n",
              "  <div id=\"df-07154d71-39dc-4966-8f30-92a31f921564\">\n",
              "    <div class=\"colab-df-container\">\n",
              "      <div>\n",
              "<style scoped>\n",
              "    .dataframe tbody tr th:only-of-type {\n",
              "        vertical-align: middle;\n",
              "    }\n",
              "\n",
              "    .dataframe tbody tr th {\n",
              "        vertical-align: top;\n",
              "    }\n",
              "\n",
              "    .dataframe thead th {\n",
              "        text-align: right;\n",
              "    }\n",
              "</style>\n",
              "<table border=\"1\" class=\"dataframe\">\n",
              "  <thead>\n",
              "    <tr style=\"text-align: right;\">\n",
              "      <th></th>\n",
              "      <th>tic</th>\n",
              "      <th>ggroup_1510</th>\n",
              "      <th>ggroup_2010</th>\n",
              "      <th>ggroup_2020</th>\n",
              "      <th>ggroup_2030</th>\n",
              "      <th>ggroup_2510</th>\n",
              "      <th>ggroup_2520</th>\n",
              "      <th>ggroup_2530</th>\n",
              "      <th>ggroup_2550</th>\n",
              "      <th>ggroup_3010</th>\n",
              "      <th>...</th>\n",
              "      <th>ggroup_4010</th>\n",
              "      <th>ggroup_4020</th>\n",
              "      <th>ggroup_4030</th>\n",
              "      <th>ggroup_4510</th>\n",
              "      <th>ggroup_4520</th>\n",
              "      <th>ggroup_4530</th>\n",
              "      <th>ggroup_5010</th>\n",
              "      <th>ggroup_5020</th>\n",
              "      <th>ggroup_5510</th>\n",
              "      <th>ggroup_6010</th>\n",
              "    </tr>\n",
              "  </thead>\n",
              "  <tbody>\n",
              "    <tr>\n",
              "      <th>0</th>\n",
              "      <td>AIR</td>\n",
              "      <td>0</td>\n",
              "      <td>1</td>\n",
              "      <td>0</td>\n",
              "      <td>0</td>\n",
              "      <td>0</td>\n",
              "      <td>0</td>\n",
              "      <td>0</td>\n",
              "      <td>0</td>\n",
              "      <td>0</td>\n",
              "      <td>...</td>\n",
              "      <td>0</td>\n",
              "      <td>0</td>\n",
              "      <td>0</td>\n",
              "      <td>0</td>\n",
              "      <td>0</td>\n",
              "      <td>0</td>\n",
              "      <td>0</td>\n",
              "      <td>0</td>\n",
              "      <td>0</td>\n",
              "      <td>0</td>\n",
              "    </tr>\n",
              "    <tr>\n",
              "      <th>1</th>\n",
              "      <td>AAL</td>\n",
              "      <td>0</td>\n",
              "      <td>0</td>\n",
              "      <td>0</td>\n",
              "      <td>1</td>\n",
              "      <td>0</td>\n",
              "      <td>0</td>\n",
              "      <td>0</td>\n",
              "      <td>0</td>\n",
              "      <td>0</td>\n",
              "      <td>...</td>\n",
              "      <td>0</td>\n",
              "      <td>0</td>\n",
              "      <td>0</td>\n",
              "      <td>0</td>\n",
              "      <td>0</td>\n",
              "      <td>0</td>\n",
              "      <td>0</td>\n",
              "      <td>0</td>\n",
              "      <td>0</td>\n",
              "      <td>0</td>\n",
              "    </tr>\n",
              "    <tr>\n",
              "      <th>2</th>\n",
              "      <td>PNW</td>\n",
              "      <td>0</td>\n",
              "      <td>0</td>\n",
              "      <td>0</td>\n",
              "      <td>0</td>\n",
              "      <td>0</td>\n",
              "      <td>0</td>\n",
              "      <td>0</td>\n",
              "      <td>0</td>\n",
              "      <td>0</td>\n",
              "      <td>...</td>\n",
              "      <td>0</td>\n",
              "      <td>0</td>\n",
              "      <td>0</td>\n",
              "      <td>0</td>\n",
              "      <td>0</td>\n",
              "      <td>0</td>\n",
              "      <td>0</td>\n",
              "      <td>0</td>\n",
              "      <td>1</td>\n",
              "      <td>0</td>\n",
              "    </tr>\n",
              "    <tr>\n",
              "      <th>3</th>\n",
              "      <td>ABT</td>\n",
              "      <td>0</td>\n",
              "      <td>0</td>\n",
              "      <td>0</td>\n",
              "      <td>0</td>\n",
              "      <td>0</td>\n",
              "      <td>0</td>\n",
              "      <td>0</td>\n",
              "      <td>0</td>\n",
              "      <td>0</td>\n",
              "      <td>...</td>\n",
              "      <td>0</td>\n",
              "      <td>0</td>\n",
              "      <td>0</td>\n",
              "      <td>0</td>\n",
              "      <td>0</td>\n",
              "      <td>0</td>\n",
              "      <td>0</td>\n",
              "      <td>0</td>\n",
              "      <td>0</td>\n",
              "      <td>0</td>\n",
              "    </tr>\n",
              "    <tr>\n",
              "      <th>4</th>\n",
              "      <td>AMD</td>\n",
              "      <td>0</td>\n",
              "      <td>0</td>\n",
              "      <td>0</td>\n",
              "      <td>0</td>\n",
              "      <td>0</td>\n",
              "      <td>0</td>\n",
              "      <td>0</td>\n",
              "      <td>0</td>\n",
              "      <td>0</td>\n",
              "      <td>...</td>\n",
              "      <td>0</td>\n",
              "      <td>0</td>\n",
              "      <td>0</td>\n",
              "      <td>0</td>\n",
              "      <td>0</td>\n",
              "      <td>1</td>\n",
              "      <td>0</td>\n",
              "      <td>0</td>\n",
              "      <td>0</td>\n",
              "      <td>0</td>\n",
              "    </tr>\n",
              "  </tbody>\n",
              "</table>\n",
              "<p>5 rows × 24 columns</p>\n",
              "</div>\n",
              "      <button class=\"colab-df-convert\" onclick=\"convertToInteractive('df-07154d71-39dc-4966-8f30-92a31f921564')\"\n",
              "              title=\"Convert this dataframe to an interactive table.\"\n",
              "              style=\"display:none;\">\n",
              "        \n",
              "  <svg xmlns=\"http://www.w3.org/2000/svg\" height=\"24px\"viewBox=\"0 0 24 24\"\n",
              "       width=\"24px\">\n",
              "    <path d=\"M0 0h24v24H0V0z\" fill=\"none\"/>\n",
              "    <path d=\"M18.56 5.44l.94 2.06.94-2.06 2.06-.94-2.06-.94-.94-2.06-.94 2.06-2.06.94zm-11 1L8.5 8.5l.94-2.06 2.06-.94-2.06-.94L8.5 2.5l-.94 2.06-2.06.94zm10 10l.94 2.06.94-2.06 2.06-.94-2.06-.94-.94-2.06-.94 2.06-2.06.94z\"/><path d=\"M17.41 7.96l-1.37-1.37c-.4-.4-.92-.59-1.43-.59-.52 0-1.04.2-1.43.59L10.3 9.45l-7.72 7.72c-.78.78-.78 2.05 0 2.83L4 21.41c.39.39.9.59 1.41.59.51 0 1.02-.2 1.41-.59l7.78-7.78 2.81-2.81c.8-.78.8-2.07 0-2.86zM5.41 20L4 18.59l7.72-7.72 1.47 1.35L5.41 20z\"/>\n",
              "  </svg>\n",
              "      </button>\n",
              "      \n",
              "  <style>\n",
              "    .colab-df-container {\n",
              "      display:flex;\n",
              "      flex-wrap:wrap;\n",
              "      gap: 12px;\n",
              "    }\n",
              "\n",
              "    .colab-df-convert {\n",
              "      background-color: #E8F0FE;\n",
              "      border: none;\n",
              "      border-radius: 50%;\n",
              "      cursor: pointer;\n",
              "      display: none;\n",
              "      fill: #1967D2;\n",
              "      height: 32px;\n",
              "      padding: 0 0 0 0;\n",
              "      width: 32px;\n",
              "    }\n",
              "\n",
              "    .colab-df-convert:hover {\n",
              "      background-color: #E2EBFA;\n",
              "      box-shadow: 0px 1px 2px rgba(60, 64, 67, 0.3), 0px 1px 3px 1px rgba(60, 64, 67, 0.15);\n",
              "      fill: #174EA6;\n",
              "    }\n",
              "\n",
              "    [theme=dark] .colab-df-convert {\n",
              "      background-color: #3B4455;\n",
              "      fill: #D2E3FC;\n",
              "    }\n",
              "\n",
              "    [theme=dark] .colab-df-convert:hover {\n",
              "      background-color: #434B5C;\n",
              "      box-shadow: 0px 1px 3px 1px rgba(0, 0, 0, 0.15);\n",
              "      filter: drop-shadow(0px 1px 2px rgba(0, 0, 0, 0.3));\n",
              "      fill: #FFFFFF;\n",
              "    }\n",
              "  </style>\n",
              "\n",
              "      <script>\n",
              "        const buttonEl =\n",
              "          document.querySelector('#df-07154d71-39dc-4966-8f30-92a31f921564 button.colab-df-convert');\n",
              "        buttonEl.style.display =\n",
              "          google.colab.kernel.accessAllowed ? 'block' : 'none';\n",
              "\n",
              "        async function convertToInteractive(key) {\n",
              "          const element = document.querySelector('#df-07154d71-39dc-4966-8f30-92a31f921564');\n",
              "          const dataTable =\n",
              "            await google.colab.kernel.invokeFunction('convertToInteractive',\n",
              "                                                     [key], {});\n",
              "          if (!dataTable) return;\n",
              "\n",
              "          const docLinkHtml = 'Like what you see? Visit the ' +\n",
              "            '<a target=\"_blank\" href=https://colab.research.google.com/notebooks/data_table.ipynb>data table notebook</a>'\n",
              "            + ' to learn more about interactive tables.';\n",
              "          element.innerHTML = '';\n",
              "          dataTable['output_type'] = 'display_data';\n",
              "          await google.colab.output.renderOutput(dataTable, element);\n",
              "          const docLink = document.createElement('div');\n",
              "          docLink.innerHTML = docLinkHtml;\n",
              "          element.appendChild(docLink);\n",
              "        }\n",
              "      </script>\n",
              "    </div>\n",
              "  </div>\n",
              "  "
            ]
          },
          "metadata": {},
          "execution_count": 121
        }
      ]
    },
    {
      "cell_type": "code",
      "source": [
        "industry_data = pd.merge(target, industry, on=\"tic\", how=\"inner\")\n",
        "industry_data.head()"
      ],
      "metadata": {
        "colab": {
          "base_uri": "https://localhost:8080/",
          "height": 369
        },
        "id": "N4jfvChraLjC",
        "outputId": "303f8d44-d19b-4cd9-e464-3310be8f3c28"
      },
      "execution_count": null,
      "outputs": [
        {
          "output_type": "execute_result",
          "data": {
            "text/plain": [
              "    tic                      name  retytd  ggroup_1510  ggroup_2010  \\\n",
              "0     A     Agilent Technologies  -0.2080            0            0   \n",
              "1    AA               Alcoa Corp   0.4731            1            0   \n",
              "2   AAL     American Airlines Gp   0.0579            0            0   \n",
              "3   AAN  Aarons Holdings Company  -0.1327            0            0   \n",
              "4  AAON                 Aaon Inc  -0.3456            0            1   \n",
              "\n",
              "   ggroup_2020  ggroup_2030  ggroup_2510  ggroup_2520  ggroup_2530  ...  \\\n",
              "0            0            0            0            0            0  ...   \n",
              "1            0            0            0            0            0  ...   \n",
              "2            0            1            0            0            0  ...   \n",
              "3            0            0            0            0            0  ...   \n",
              "4            0            0            0            0            0  ...   \n",
              "\n",
              "   ggroup_4010  ggroup_4020  ggroup_4030  ggroup_4510  ggroup_4520  \\\n",
              "0            0            0            0            0            0   \n",
              "1            0            0            0            0            0   \n",
              "2            0            0            0            0            0   \n",
              "3            0            0            0            0            0   \n",
              "4            0            0            0            0            0   \n",
              "\n",
              "   ggroup_4530  ggroup_5010  ggroup_5020  ggroup_5510  ggroup_6010  \n",
              "0            0            0            0            0            0  \n",
              "1            0            0            0            0            0  \n",
              "2            0            0            0            0            0  \n",
              "3            0            0            0            0            0  \n",
              "4            0            0            0            0            0  \n",
              "\n",
              "[5 rows x 26 columns]"
            ],
            "text/html": [
              "\n",
              "  <div id=\"df-897550b5-a833-46dc-9067-bbd58731784e\">\n",
              "    <div class=\"colab-df-container\">\n",
              "      <div>\n",
              "<style scoped>\n",
              "    .dataframe tbody tr th:only-of-type {\n",
              "        vertical-align: middle;\n",
              "    }\n",
              "\n",
              "    .dataframe tbody tr th {\n",
              "        vertical-align: top;\n",
              "    }\n",
              "\n",
              "    .dataframe thead th {\n",
              "        text-align: right;\n",
              "    }\n",
              "</style>\n",
              "<table border=\"1\" class=\"dataframe\">\n",
              "  <thead>\n",
              "    <tr style=\"text-align: right;\">\n",
              "      <th></th>\n",
              "      <th>tic</th>\n",
              "      <th>name</th>\n",
              "      <th>retytd</th>\n",
              "      <th>ggroup_1510</th>\n",
              "      <th>ggroup_2010</th>\n",
              "      <th>ggroup_2020</th>\n",
              "      <th>ggroup_2030</th>\n",
              "      <th>ggroup_2510</th>\n",
              "      <th>ggroup_2520</th>\n",
              "      <th>ggroup_2530</th>\n",
              "      <th>...</th>\n",
              "      <th>ggroup_4010</th>\n",
              "      <th>ggroup_4020</th>\n",
              "      <th>ggroup_4030</th>\n",
              "      <th>ggroup_4510</th>\n",
              "      <th>ggroup_4520</th>\n",
              "      <th>ggroup_4530</th>\n",
              "      <th>ggroup_5010</th>\n",
              "      <th>ggroup_5020</th>\n",
              "      <th>ggroup_5510</th>\n",
              "      <th>ggroup_6010</th>\n",
              "    </tr>\n",
              "  </thead>\n",
              "  <tbody>\n",
              "    <tr>\n",
              "      <th>0</th>\n",
              "      <td>A</td>\n",
              "      <td>Agilent Technologies</td>\n",
              "      <td>-0.2080</td>\n",
              "      <td>0</td>\n",
              "      <td>0</td>\n",
              "      <td>0</td>\n",
              "      <td>0</td>\n",
              "      <td>0</td>\n",
              "      <td>0</td>\n",
              "      <td>0</td>\n",
              "      <td>...</td>\n",
              "      <td>0</td>\n",
              "      <td>0</td>\n",
              "      <td>0</td>\n",
              "      <td>0</td>\n",
              "      <td>0</td>\n",
              "      <td>0</td>\n",
              "      <td>0</td>\n",
              "      <td>0</td>\n",
              "      <td>0</td>\n",
              "      <td>0</td>\n",
              "    </tr>\n",
              "    <tr>\n",
              "      <th>1</th>\n",
              "      <td>AA</td>\n",
              "      <td>Alcoa Corp</td>\n",
              "      <td>0.4731</td>\n",
              "      <td>1</td>\n",
              "      <td>0</td>\n",
              "      <td>0</td>\n",
              "      <td>0</td>\n",
              "      <td>0</td>\n",
              "      <td>0</td>\n",
              "      <td>0</td>\n",
              "      <td>...</td>\n",
              "      <td>0</td>\n",
              "      <td>0</td>\n",
              "      <td>0</td>\n",
              "      <td>0</td>\n",
              "      <td>0</td>\n",
              "      <td>0</td>\n",
              "      <td>0</td>\n",
              "      <td>0</td>\n",
              "      <td>0</td>\n",
              "      <td>0</td>\n",
              "    </tr>\n",
              "    <tr>\n",
              "      <th>2</th>\n",
              "      <td>AAL</td>\n",
              "      <td>American Airlines Gp</td>\n",
              "      <td>0.0579</td>\n",
              "      <td>0</td>\n",
              "      <td>0</td>\n",
              "      <td>0</td>\n",
              "      <td>1</td>\n",
              "      <td>0</td>\n",
              "      <td>0</td>\n",
              "      <td>0</td>\n",
              "      <td>...</td>\n",
              "      <td>0</td>\n",
              "      <td>0</td>\n",
              "      <td>0</td>\n",
              "      <td>0</td>\n",
              "      <td>0</td>\n",
              "      <td>0</td>\n",
              "      <td>0</td>\n",
              "      <td>0</td>\n",
              "      <td>0</td>\n",
              "      <td>0</td>\n",
              "    </tr>\n",
              "    <tr>\n",
              "      <th>3</th>\n",
              "      <td>AAN</td>\n",
              "      <td>Aarons Holdings Company</td>\n",
              "      <td>-0.1327</td>\n",
              "      <td>0</td>\n",
              "      <td>0</td>\n",
              "      <td>0</td>\n",
              "      <td>0</td>\n",
              "      <td>0</td>\n",
              "      <td>0</td>\n",
              "      <td>0</td>\n",
              "      <td>...</td>\n",
              "      <td>0</td>\n",
              "      <td>0</td>\n",
              "      <td>0</td>\n",
              "      <td>0</td>\n",
              "      <td>0</td>\n",
              "      <td>0</td>\n",
              "      <td>0</td>\n",
              "      <td>0</td>\n",
              "      <td>0</td>\n",
              "      <td>0</td>\n",
              "    </tr>\n",
              "    <tr>\n",
              "      <th>4</th>\n",
              "      <td>AAON</td>\n",
              "      <td>Aaon Inc</td>\n",
              "      <td>-0.3456</td>\n",
              "      <td>0</td>\n",
              "      <td>1</td>\n",
              "      <td>0</td>\n",
              "      <td>0</td>\n",
              "      <td>0</td>\n",
              "      <td>0</td>\n",
              "      <td>0</td>\n",
              "      <td>...</td>\n",
              "      <td>0</td>\n",
              "      <td>0</td>\n",
              "      <td>0</td>\n",
              "      <td>0</td>\n",
              "      <td>0</td>\n",
              "      <td>0</td>\n",
              "      <td>0</td>\n",
              "      <td>0</td>\n",
              "      <td>0</td>\n",
              "      <td>0</td>\n",
              "    </tr>\n",
              "  </tbody>\n",
              "</table>\n",
              "<p>5 rows × 26 columns</p>\n",
              "</div>\n",
              "      <button class=\"colab-df-convert\" onclick=\"convertToInteractive('df-897550b5-a833-46dc-9067-bbd58731784e')\"\n",
              "              title=\"Convert this dataframe to an interactive table.\"\n",
              "              style=\"display:none;\">\n",
              "        \n",
              "  <svg xmlns=\"http://www.w3.org/2000/svg\" height=\"24px\"viewBox=\"0 0 24 24\"\n",
              "       width=\"24px\">\n",
              "    <path d=\"M0 0h24v24H0V0z\" fill=\"none\"/>\n",
              "    <path d=\"M18.56 5.44l.94 2.06.94-2.06 2.06-.94-2.06-.94-.94-2.06-.94 2.06-2.06.94zm-11 1L8.5 8.5l.94-2.06 2.06-.94-2.06-.94L8.5 2.5l-.94 2.06-2.06.94zm10 10l.94 2.06.94-2.06 2.06-.94-2.06-.94-.94-2.06-.94 2.06-2.06.94z\"/><path d=\"M17.41 7.96l-1.37-1.37c-.4-.4-.92-.59-1.43-.59-.52 0-1.04.2-1.43.59L10.3 9.45l-7.72 7.72c-.78.78-.78 2.05 0 2.83L4 21.41c.39.39.9.59 1.41.59.51 0 1.02-.2 1.41-.59l7.78-7.78 2.81-2.81c.8-.78.8-2.07 0-2.86zM5.41 20L4 18.59l7.72-7.72 1.47 1.35L5.41 20z\"/>\n",
              "  </svg>\n",
              "      </button>\n",
              "      \n",
              "  <style>\n",
              "    .colab-df-container {\n",
              "      display:flex;\n",
              "      flex-wrap:wrap;\n",
              "      gap: 12px;\n",
              "    }\n",
              "\n",
              "    .colab-df-convert {\n",
              "      background-color: #E8F0FE;\n",
              "      border: none;\n",
              "      border-radius: 50%;\n",
              "      cursor: pointer;\n",
              "      display: none;\n",
              "      fill: #1967D2;\n",
              "      height: 32px;\n",
              "      padding: 0 0 0 0;\n",
              "      width: 32px;\n",
              "    }\n",
              "\n",
              "    .colab-df-convert:hover {\n",
              "      background-color: #E2EBFA;\n",
              "      box-shadow: 0px 1px 2px rgba(60, 64, 67, 0.3), 0px 1px 3px 1px rgba(60, 64, 67, 0.15);\n",
              "      fill: #174EA6;\n",
              "    }\n",
              "\n",
              "    [theme=dark] .colab-df-convert {\n",
              "      background-color: #3B4455;\n",
              "      fill: #D2E3FC;\n",
              "    }\n",
              "\n",
              "    [theme=dark] .colab-df-convert:hover {\n",
              "      background-color: #434B5C;\n",
              "      box-shadow: 0px 1px 3px 1px rgba(0, 0, 0, 0.15);\n",
              "      filter: drop-shadow(0px 1px 2px rgba(0, 0, 0, 0.3));\n",
              "      fill: #FFFFFF;\n",
              "    }\n",
              "  </style>\n",
              "\n",
              "      <script>\n",
              "        const buttonEl =\n",
              "          document.querySelector('#df-897550b5-a833-46dc-9067-bbd58731784e button.colab-df-convert');\n",
              "        buttonEl.style.display =\n",
              "          google.colab.kernel.accessAllowed ? 'block' : 'none';\n",
              "\n",
              "        async function convertToInteractive(key) {\n",
              "          const element = document.querySelector('#df-897550b5-a833-46dc-9067-bbd58731784e');\n",
              "          const dataTable =\n",
              "            await google.colab.kernel.invokeFunction('convertToInteractive',\n",
              "                                                     [key], {});\n",
              "          if (!dataTable) return;\n",
              "\n",
              "          const docLinkHtml = 'Like what you see? Visit the ' +\n",
              "            '<a target=\"_blank\" href=https://colab.research.google.com/notebooks/data_table.ipynb>data table notebook</a>'\n",
              "            + ' to learn more about interactive tables.';\n",
              "          element.innerHTML = '';\n",
              "          dataTable['output_type'] = 'display_data';\n",
              "          await google.colab.output.renderOutput(dataTable, element);\n",
              "          const docLink = document.createElement('div');\n",
              "          docLink.innerHTML = docLinkHtml;\n",
              "          element.appendChild(docLink);\n",
              "        }\n",
              "      </script>\n",
              "    </div>\n",
              "  </div>\n",
              "  "
            ]
          },
          "metadata": {},
          "execution_count": 122
        }
      ]
    },
    {
      "cell_type": "code",
      "source": [
        "industry_data.shape"
      ],
      "metadata": {
        "colab": {
          "base_uri": "https://localhost:8080/"
        },
        "id": "FzrYGd2-aTVV",
        "outputId": "aab3f72b-2308-4cda-981e-98f34c98feb5"
      },
      "execution_count": null,
      "outputs": [
        {
          "output_type": "execute_result",
          "data": {
            "text/plain": [
              "(1886, 26)"
            ]
          },
          "metadata": {},
          "execution_count": 123
        }
      ]
    },
    {
      "cell_type": "code",
      "source": [
        "# Construct X\n",
        "X_industry = industry_data.drop(columns=[\"tic\", \"name\", \"retytd\"])\n",
        "X_industry[\"const\"] = 1"
      ],
      "metadata": {
        "id": "fVlfQHwAaWX2"
      },
      "execution_count": null,
      "outputs": []
    },
    {
      "cell_type": "code",
      "source": [
        "# model\n",
        "industry_model = sm.OLS(y, X_industry).fit()\n",
        "industry_model.summary()"
      ],
      "metadata": {
        "colab": {
          "base_uri": "https://localhost:8080/",
          "height": 921
        },
        "id": "HcMrX5HdailP",
        "outputId": "b51de0d9-068d-4154-c20b-a5a831aea808"
      },
      "execution_count": null,
      "outputs": [
        {
          "output_type": "execute_result",
          "data": {
            "text/plain": [
              "<class 'statsmodels.iolib.summary.Summary'>\n",
              "\"\"\"\n",
              "                            OLS Regression Results                            \n",
              "==============================================================================\n",
              "Dep. Variable:                 retytd   R-squared:                       0.326\n",
              "Model:                            OLS   Adj. R-squared:                  0.317\n",
              "Method:                 Least Squares   F-statistic:                     39.07\n",
              "Date:                Wed, 27 Apr 2022   Prob (F-statistic):          6.29e-141\n",
              "Time:                        20:34:18   Log-Likelihood:                 357.63\n",
              "No. Observations:                1886   AIC:                            -667.3\n",
              "Df Residuals:                    1862   BIC:                            -534.2\n",
              "Df Model:                          23                                         \n",
              "Covariance Type:            nonrobust                                         \n",
              "===============================================================================\n",
              "                  coef    std err          t      P>|t|      [0.025      0.975]\n",
              "-------------------------------------------------------------------------------\n",
              "ggroup_1510    -0.4572      0.031    -14.692      0.000      -0.518      -0.396\n",
              "ggroup_2010    -0.6056      0.028    -21.924      0.000      -0.660      -0.551\n",
              "ggroup_2020    -0.5502      0.034    -15.980      0.000      -0.618      -0.483\n",
              "ggroup_2030    -0.5825      0.040    -14.646      0.000      -0.660      -0.504\n",
              "ggroup_2510    -0.7230      0.047    -15.540      0.000      -0.814      -0.632\n",
              "ggroup_2520    -0.7236      0.034    -21.018      0.000      -0.791      -0.656\n",
              "ggroup_2530    -0.5776      0.034    -16.849      0.000      -0.645      -0.510\n",
              "ggroup_2550    -0.6663      0.032    -20.932      0.000      -0.729      -0.604\n",
              "ggroup_3010    -0.4367      0.054     -8.070      0.000      -0.543      -0.331\n",
              "ggroup_3020    -0.4763      0.038    -12.449      0.000      -0.551      -0.401\n",
              "ggroup_3030    -0.6688      0.054    -12.359      0.000      -0.775      -0.563\n",
              "ggroup_3510    -0.5815      0.030    -19.639      0.000      -0.640      -0.523\n",
              "ggroup_3520    -0.6790      0.028    -24.154      0.000      -0.734      -0.624\n",
              "ggroup_4010    -0.6029      0.028    -21.756      0.000      -0.657      -0.549\n",
              "ggroup_4020    -0.6375      0.031    -20.342      0.000      -0.699      -0.576\n",
              "ggroup_4030    -0.5113      0.035    -14.719      0.000      -0.579      -0.443\n",
              "ggroup_4510    -0.6237      0.030    -20.963      0.000      -0.682      -0.565\n",
              "ggroup_4520    -0.6871      0.032    -21.346      0.000      -0.750      -0.624\n",
              "ggroup_4530    -0.7678      0.036    -21.470      0.000      -0.838      -0.698\n",
              "ggroup_5010    -0.5032      0.061     -8.314      0.000      -0.622      -0.384\n",
              "ggroup_5020    -0.5859      0.039    -15.090      0.000      -0.662      -0.510\n",
              "ggroup_5510    -0.4743      0.035    -13.464      0.000      -0.543      -0.405\n",
              "ggroup_6010    -0.5509      0.029    -18.884      0.000      -0.608      -0.494\n",
              "const           0.5150      0.023     22.140      0.000       0.469       0.561\n",
              "==============================================================================\n",
              "Omnibus:                      403.265   Durbin-Watson:                   2.038\n",
              "Prob(Omnibus):                  0.000   Jarque-Bera (JB):             2314.656\n",
              "Skew:                           0.877   Prob(JB):                         0.00\n",
              "Kurtosis:                       8.136   Cond. No.                         26.1\n",
              "==============================================================================\n",
              "\n",
              "Warnings:\n",
              "[1] Standard Errors assume that the covariance matrix of the errors is correctly specified.\n",
              "\"\"\""
            ],
            "text/html": [
              "<table class=\"simpletable\">\n",
              "<caption>OLS Regression Results</caption>\n",
              "<tr>\n",
              "  <th>Dep. Variable:</th>         <td>retytd</td>      <th>  R-squared:         </th> <td>   0.326</td> \n",
              "</tr>\n",
              "<tr>\n",
              "  <th>Model:</th>                   <td>OLS</td>       <th>  Adj. R-squared:    </th> <td>   0.317</td> \n",
              "</tr>\n",
              "<tr>\n",
              "  <th>Method:</th>             <td>Least Squares</td>  <th>  F-statistic:       </th> <td>   39.07</td> \n",
              "</tr>\n",
              "<tr>\n",
              "  <th>Date:</th>             <td>Wed, 27 Apr 2022</td> <th>  Prob (F-statistic):</th> <td>6.29e-141</td>\n",
              "</tr>\n",
              "<tr>\n",
              "  <th>Time:</th>                 <td>20:34:18</td>     <th>  Log-Likelihood:    </th> <td>  357.63</td> \n",
              "</tr>\n",
              "<tr>\n",
              "  <th>No. Observations:</th>      <td>  1886</td>      <th>  AIC:               </th> <td>  -667.3</td> \n",
              "</tr>\n",
              "<tr>\n",
              "  <th>Df Residuals:</th>          <td>  1862</td>      <th>  BIC:               </th> <td>  -534.2</td> \n",
              "</tr>\n",
              "<tr>\n",
              "  <th>Df Model:</th>              <td>    23</td>      <th>                     </th>     <td> </td>    \n",
              "</tr>\n",
              "<tr>\n",
              "  <th>Covariance Type:</th>      <td>nonrobust</td>    <th>                     </th>     <td> </td>    \n",
              "</tr>\n",
              "</table>\n",
              "<table class=\"simpletable\">\n",
              "<tr>\n",
              "       <td></td>          <th>coef</th>     <th>std err</th>      <th>t</th>      <th>P>|t|</th>  <th>[0.025</th>    <th>0.975]</th>  \n",
              "</tr>\n",
              "<tr>\n",
              "  <th>ggroup_1510</th> <td>   -0.4572</td> <td>    0.031</td> <td>  -14.692</td> <td> 0.000</td> <td>   -0.518</td> <td>   -0.396</td>\n",
              "</tr>\n",
              "<tr>\n",
              "  <th>ggroup_2010</th> <td>   -0.6056</td> <td>    0.028</td> <td>  -21.924</td> <td> 0.000</td> <td>   -0.660</td> <td>   -0.551</td>\n",
              "</tr>\n",
              "<tr>\n",
              "  <th>ggroup_2020</th> <td>   -0.5502</td> <td>    0.034</td> <td>  -15.980</td> <td> 0.000</td> <td>   -0.618</td> <td>   -0.483</td>\n",
              "</tr>\n",
              "<tr>\n",
              "  <th>ggroup_2030</th> <td>   -0.5825</td> <td>    0.040</td> <td>  -14.646</td> <td> 0.000</td> <td>   -0.660</td> <td>   -0.504</td>\n",
              "</tr>\n",
              "<tr>\n",
              "  <th>ggroup_2510</th> <td>   -0.7230</td> <td>    0.047</td> <td>  -15.540</td> <td> 0.000</td> <td>   -0.814</td> <td>   -0.632</td>\n",
              "</tr>\n",
              "<tr>\n",
              "  <th>ggroup_2520</th> <td>   -0.7236</td> <td>    0.034</td> <td>  -21.018</td> <td> 0.000</td> <td>   -0.791</td> <td>   -0.656</td>\n",
              "</tr>\n",
              "<tr>\n",
              "  <th>ggroup_2530</th> <td>   -0.5776</td> <td>    0.034</td> <td>  -16.849</td> <td> 0.000</td> <td>   -0.645</td> <td>   -0.510</td>\n",
              "</tr>\n",
              "<tr>\n",
              "  <th>ggroup_2550</th> <td>   -0.6663</td> <td>    0.032</td> <td>  -20.932</td> <td> 0.000</td> <td>   -0.729</td> <td>   -0.604</td>\n",
              "</tr>\n",
              "<tr>\n",
              "  <th>ggroup_3010</th> <td>   -0.4367</td> <td>    0.054</td> <td>   -8.070</td> <td> 0.000</td> <td>   -0.543</td> <td>   -0.331</td>\n",
              "</tr>\n",
              "<tr>\n",
              "  <th>ggroup_3020</th> <td>   -0.4763</td> <td>    0.038</td> <td>  -12.449</td> <td> 0.000</td> <td>   -0.551</td> <td>   -0.401</td>\n",
              "</tr>\n",
              "<tr>\n",
              "  <th>ggroup_3030</th> <td>   -0.6688</td> <td>    0.054</td> <td>  -12.359</td> <td> 0.000</td> <td>   -0.775</td> <td>   -0.563</td>\n",
              "</tr>\n",
              "<tr>\n",
              "  <th>ggroup_3510</th> <td>   -0.5815</td> <td>    0.030</td> <td>  -19.639</td> <td> 0.000</td> <td>   -0.640</td> <td>   -0.523</td>\n",
              "</tr>\n",
              "<tr>\n",
              "  <th>ggroup_3520</th> <td>   -0.6790</td> <td>    0.028</td> <td>  -24.154</td> <td> 0.000</td> <td>   -0.734</td> <td>   -0.624</td>\n",
              "</tr>\n",
              "<tr>\n",
              "  <th>ggroup_4010</th> <td>   -0.6029</td> <td>    0.028</td> <td>  -21.756</td> <td> 0.000</td> <td>   -0.657</td> <td>   -0.549</td>\n",
              "</tr>\n",
              "<tr>\n",
              "  <th>ggroup_4020</th> <td>   -0.6375</td> <td>    0.031</td> <td>  -20.342</td> <td> 0.000</td> <td>   -0.699</td> <td>   -0.576</td>\n",
              "</tr>\n",
              "<tr>\n",
              "  <th>ggroup_4030</th> <td>   -0.5113</td> <td>    0.035</td> <td>  -14.719</td> <td> 0.000</td> <td>   -0.579</td> <td>   -0.443</td>\n",
              "</tr>\n",
              "<tr>\n",
              "  <th>ggroup_4510</th> <td>   -0.6237</td> <td>    0.030</td> <td>  -20.963</td> <td> 0.000</td> <td>   -0.682</td> <td>   -0.565</td>\n",
              "</tr>\n",
              "<tr>\n",
              "  <th>ggroup_4520</th> <td>   -0.6871</td> <td>    0.032</td> <td>  -21.346</td> <td> 0.000</td> <td>   -0.750</td> <td>   -0.624</td>\n",
              "</tr>\n",
              "<tr>\n",
              "  <th>ggroup_4530</th> <td>   -0.7678</td> <td>    0.036</td> <td>  -21.470</td> <td> 0.000</td> <td>   -0.838</td> <td>   -0.698</td>\n",
              "</tr>\n",
              "<tr>\n",
              "  <th>ggroup_5010</th> <td>   -0.5032</td> <td>    0.061</td> <td>   -8.314</td> <td> 0.000</td> <td>   -0.622</td> <td>   -0.384</td>\n",
              "</tr>\n",
              "<tr>\n",
              "  <th>ggroup_5020</th> <td>   -0.5859</td> <td>    0.039</td> <td>  -15.090</td> <td> 0.000</td> <td>   -0.662</td> <td>   -0.510</td>\n",
              "</tr>\n",
              "<tr>\n",
              "  <th>ggroup_5510</th> <td>   -0.4743</td> <td>    0.035</td> <td>  -13.464</td> <td> 0.000</td> <td>   -0.543</td> <td>   -0.405</td>\n",
              "</tr>\n",
              "<tr>\n",
              "  <th>ggroup_6010</th> <td>   -0.5509</td> <td>    0.029</td> <td>  -18.884</td> <td> 0.000</td> <td>   -0.608</td> <td>   -0.494</td>\n",
              "</tr>\n",
              "<tr>\n",
              "  <th>const</th>       <td>    0.5150</td> <td>    0.023</td> <td>   22.140</td> <td> 0.000</td> <td>    0.469</td> <td>    0.561</td>\n",
              "</tr>\n",
              "</table>\n",
              "<table class=\"simpletable\">\n",
              "<tr>\n",
              "  <th>Omnibus:</th>       <td>403.265</td> <th>  Durbin-Watson:     </th> <td>   2.038</td>\n",
              "</tr>\n",
              "<tr>\n",
              "  <th>Prob(Omnibus):</th> <td> 0.000</td>  <th>  Jarque-Bera (JB):  </th> <td>2314.656</td>\n",
              "</tr>\n",
              "<tr>\n",
              "  <th>Skew:</th>          <td> 0.877</td>  <th>  Prob(JB):          </th> <td>    0.00</td>\n",
              "</tr>\n",
              "<tr>\n",
              "  <th>Kurtosis:</th>      <td> 8.136</td>  <th>  Cond. No.          </th> <td>    26.1</td>\n",
              "</tr>\n",
              "</table><br/><br/>Warnings:<br/>[1] Standard Errors assume that the covariance matrix of the errors is correctly specified."
            ]
          },
          "metadata": {},
          "execution_count": 125
        }
      ]
    },
    {
      "cell_type": "markdown",
      "source": [
        "According to the regression result, the industry indicators had the highest explanatory power, which is about 32%. The r squared and adjusted R squared were 0.326 and 0.317 respectively.\n",
        "\n",
        "In this regression, the coefficient of const means the average of retYTD of industry 1010, because we dropped that industry when we generated indicators. The coefficients of other variables here are the difference between the average retYTD of that specific industry with the industry 1010.\n",
        "\n",
        "The industry has the highest average retYTD is 1010, recorded as const in the regression. We can see that all other industry have negative coefficients, which means those industry have lower average of retYTD. Industry 4530, on the other hand, has the lowest average retYTD. It has the lowest coefficient, -0.7678. Since coefficients in this regression means the difference between average retYTD of industry 1010 and other industry, we can notice that industry 4530 has the lowest average retYTD.\n",
        "\n",
        "All variables had p-value of 0.000. Therefore, we can say that all coefficients are statistically different from 0."
      ],
      "metadata": {
        "id": "Uwapvy3GiV6X"
      }
    },
    {
      "cell_type": "markdown",
      "source": [
        "## Combined Regression\n",
        "In this part, I will combine all three independent data sets and regress on retYTD.\n"
      ],
      "metadata": {
        "id": "P-8rvQh4FTrR"
      }
    },
    {
      "cell_type": "code",
      "source": [
        "comprehensive_data = pd.merge(industry, final_financial_ratios, on=\"tic\", how=\"inner\")\n",
        "comprehensive_data = pd.merge(comprehensive_data, ff_results, on=\"tic\", how=\"inner\")\n",
        "comprehensive_data = pd.merge(target, comprehensive_data, on=\"tic\", how=\"left\")\n",
        "comprehensive_data.head()"
      ],
      "metadata": {
        "id": "PibSJx99wtZn",
        "colab": {
          "base_uri": "https://localhost:8080/",
          "height": 369
        },
        "outputId": "96c5a8bd-b81e-4a0b-dcf5-9f4c716f5d93"
      },
      "execution_count": null,
      "outputs": [
        {
          "output_type": "execute_result",
          "data": {
            "text/plain": [
              "    tic                      name  retytd  ggroup_1510  ggroup_2010  \\\n",
              "0     A     Agilent Technologies  -0.2080            0            0   \n",
              "1    AA               Alcoa Corp   0.4731            1            0   \n",
              "2   AAL     American Airlines Gp   0.0579            0            0   \n",
              "3   AAN  Aarons Holdings Company  -0.1327            0            0   \n",
              "4  AAON                 Aaon Inc  -0.3456            0            1   \n",
              "\n",
              "   ggroup_2020  ggroup_2030  ggroup_2510  ggroup_2520  ggroup_2530  ...  \\\n",
              "0            0            0            0            0            0  ...   \n",
              "1            0            0            0            0            0  ...   \n",
              "2            0            1            0            0            0  ...   \n",
              "3            0            0            0            0            0  ...   \n",
              "4            0            0            0            0            0  ...   \n",
              "\n",
              "   quick_ratio_win  leverage_win  debt_to_equity_win  working_capital/at_win  \\\n",
              "0         1.738290      1.986454            0.986454                0.195329   \n",
              "1         0.952529      3.215967            1.870933                0.120000   \n",
              "2         0.817689     -9.055450          -10.055450               -0.025125   \n",
              "3         3.257239      2.006869            1.006869                0.324553   \n",
              "4         0.945752      1.394727            0.394727                0.201963   \n",
              "\n",
              "   gross_margin_win  re/at_win  assets_turnover_win     mrkrf       smb  \\\n",
              "0          0.577148   0.006165             0.590285  1.014152 -0.253674   \n",
              "1          0.246791  -0.326589             0.808785  1.694604  0.312097   \n",
              "2          0.064018  -0.219357             0.449576  1.273449  0.597595   \n",
              "3          0.947060   0.067862             1.280475  1.533236  0.226085   \n",
              "4          0.309156   0.591076             0.822106  0.516779  0.422130   \n",
              "\n",
              "        hml  \n",
              "0 -0.143608  \n",
              "1  1.547730  \n",
              "2  1.179771  \n",
              "3  0.654775  \n",
              "4 -0.117068  \n",
              "\n",
              "[5 rows x 42 columns]"
            ],
            "text/html": [
              "\n",
              "  <div id=\"df-024afc3f-93ac-4f70-b106-cd0b7c38d86c\">\n",
              "    <div class=\"colab-df-container\">\n",
              "      <div>\n",
              "<style scoped>\n",
              "    .dataframe tbody tr th:only-of-type {\n",
              "        vertical-align: middle;\n",
              "    }\n",
              "\n",
              "    .dataframe tbody tr th {\n",
              "        vertical-align: top;\n",
              "    }\n",
              "\n",
              "    .dataframe thead th {\n",
              "        text-align: right;\n",
              "    }\n",
              "</style>\n",
              "<table border=\"1\" class=\"dataframe\">\n",
              "  <thead>\n",
              "    <tr style=\"text-align: right;\">\n",
              "      <th></th>\n",
              "      <th>tic</th>\n",
              "      <th>name</th>\n",
              "      <th>retytd</th>\n",
              "      <th>ggroup_1510</th>\n",
              "      <th>ggroup_2010</th>\n",
              "      <th>ggroup_2020</th>\n",
              "      <th>ggroup_2030</th>\n",
              "      <th>ggroup_2510</th>\n",
              "      <th>ggroup_2520</th>\n",
              "      <th>ggroup_2530</th>\n",
              "      <th>...</th>\n",
              "      <th>quick_ratio_win</th>\n",
              "      <th>leverage_win</th>\n",
              "      <th>debt_to_equity_win</th>\n",
              "      <th>working_capital/at_win</th>\n",
              "      <th>gross_margin_win</th>\n",
              "      <th>re/at_win</th>\n",
              "      <th>assets_turnover_win</th>\n",
              "      <th>mrkrf</th>\n",
              "      <th>smb</th>\n",
              "      <th>hml</th>\n",
              "    </tr>\n",
              "  </thead>\n",
              "  <tbody>\n",
              "    <tr>\n",
              "      <th>0</th>\n",
              "      <td>A</td>\n",
              "      <td>Agilent Technologies</td>\n",
              "      <td>-0.2080</td>\n",
              "      <td>0</td>\n",
              "      <td>0</td>\n",
              "      <td>0</td>\n",
              "      <td>0</td>\n",
              "      <td>0</td>\n",
              "      <td>0</td>\n",
              "      <td>0</td>\n",
              "      <td>...</td>\n",
              "      <td>1.738290</td>\n",
              "      <td>1.986454</td>\n",
              "      <td>0.986454</td>\n",
              "      <td>0.195329</td>\n",
              "      <td>0.577148</td>\n",
              "      <td>0.006165</td>\n",
              "      <td>0.590285</td>\n",
              "      <td>1.014152</td>\n",
              "      <td>-0.253674</td>\n",
              "      <td>-0.143608</td>\n",
              "    </tr>\n",
              "    <tr>\n",
              "      <th>1</th>\n",
              "      <td>AA</td>\n",
              "      <td>Alcoa Corp</td>\n",
              "      <td>0.4731</td>\n",
              "      <td>1</td>\n",
              "      <td>0</td>\n",
              "      <td>0</td>\n",
              "      <td>0</td>\n",
              "      <td>0</td>\n",
              "      <td>0</td>\n",
              "      <td>0</td>\n",
              "      <td>...</td>\n",
              "      <td>0.952529</td>\n",
              "      <td>3.215967</td>\n",
              "      <td>1.870933</td>\n",
              "      <td>0.120000</td>\n",
              "      <td>0.246791</td>\n",
              "      <td>-0.326589</td>\n",
              "      <td>0.808785</td>\n",
              "      <td>1.694604</td>\n",
              "      <td>0.312097</td>\n",
              "      <td>1.547730</td>\n",
              "    </tr>\n",
              "    <tr>\n",
              "      <th>2</th>\n",
              "      <td>AAL</td>\n",
              "      <td>American Airlines Gp</td>\n",
              "      <td>0.0579</td>\n",
              "      <td>0</td>\n",
              "      <td>0</td>\n",
              "      <td>0</td>\n",
              "      <td>1</td>\n",
              "      <td>0</td>\n",
              "      <td>0</td>\n",
              "      <td>0</td>\n",
              "      <td>...</td>\n",
              "      <td>0.817689</td>\n",
              "      <td>-9.055450</td>\n",
              "      <td>-10.055450</td>\n",
              "      <td>-0.025125</td>\n",
              "      <td>0.064018</td>\n",
              "      <td>-0.219357</td>\n",
              "      <td>0.449576</td>\n",
              "      <td>1.273449</td>\n",
              "      <td>0.597595</td>\n",
              "      <td>1.179771</td>\n",
              "    </tr>\n",
              "    <tr>\n",
              "      <th>3</th>\n",
              "      <td>AAN</td>\n",
              "      <td>Aarons Holdings Company</td>\n",
              "      <td>-0.1327</td>\n",
              "      <td>0</td>\n",
              "      <td>0</td>\n",
              "      <td>0</td>\n",
              "      <td>0</td>\n",
              "      <td>0</td>\n",
              "      <td>0</td>\n",
              "      <td>0</td>\n",
              "      <td>...</td>\n",
              "      <td>3.257239</td>\n",
              "      <td>2.006869</td>\n",
              "      <td>1.006869</td>\n",
              "      <td>0.324553</td>\n",
              "      <td>0.947060</td>\n",
              "      <td>0.067862</td>\n",
              "      <td>1.280475</td>\n",
              "      <td>1.533236</td>\n",
              "      <td>0.226085</td>\n",
              "      <td>0.654775</td>\n",
              "    </tr>\n",
              "    <tr>\n",
              "      <th>4</th>\n",
              "      <td>AAON</td>\n",
              "      <td>Aaon Inc</td>\n",
              "      <td>-0.3456</td>\n",
              "      <td>0</td>\n",
              "      <td>1</td>\n",
              "      <td>0</td>\n",
              "      <td>0</td>\n",
              "      <td>0</td>\n",
              "      <td>0</td>\n",
              "      <td>0</td>\n",
              "      <td>...</td>\n",
              "      <td>0.945752</td>\n",
              "      <td>1.394727</td>\n",
              "      <td>0.394727</td>\n",
              "      <td>0.201963</td>\n",
              "      <td>0.309156</td>\n",
              "      <td>0.591076</td>\n",
              "      <td>0.822106</td>\n",
              "      <td>0.516779</td>\n",
              "      <td>0.422130</td>\n",
              "      <td>-0.117068</td>\n",
              "    </tr>\n",
              "  </tbody>\n",
              "</table>\n",
              "<p>5 rows × 42 columns</p>\n",
              "</div>\n",
              "      <button class=\"colab-df-convert\" onclick=\"convertToInteractive('df-024afc3f-93ac-4f70-b106-cd0b7c38d86c')\"\n",
              "              title=\"Convert this dataframe to an interactive table.\"\n",
              "              style=\"display:none;\">\n",
              "        \n",
              "  <svg xmlns=\"http://www.w3.org/2000/svg\" height=\"24px\"viewBox=\"0 0 24 24\"\n",
              "       width=\"24px\">\n",
              "    <path d=\"M0 0h24v24H0V0z\" fill=\"none\"/>\n",
              "    <path d=\"M18.56 5.44l.94 2.06.94-2.06 2.06-.94-2.06-.94-.94-2.06-.94 2.06-2.06.94zm-11 1L8.5 8.5l.94-2.06 2.06-.94-2.06-.94L8.5 2.5l-.94 2.06-2.06.94zm10 10l.94 2.06.94-2.06 2.06-.94-2.06-.94-.94-2.06-.94 2.06-2.06.94z\"/><path d=\"M17.41 7.96l-1.37-1.37c-.4-.4-.92-.59-1.43-.59-.52 0-1.04.2-1.43.59L10.3 9.45l-7.72 7.72c-.78.78-.78 2.05 0 2.83L4 21.41c.39.39.9.59 1.41.59.51 0 1.02-.2 1.41-.59l7.78-7.78 2.81-2.81c.8-.78.8-2.07 0-2.86zM5.41 20L4 18.59l7.72-7.72 1.47 1.35L5.41 20z\"/>\n",
              "  </svg>\n",
              "      </button>\n",
              "      \n",
              "  <style>\n",
              "    .colab-df-container {\n",
              "      display:flex;\n",
              "      flex-wrap:wrap;\n",
              "      gap: 12px;\n",
              "    }\n",
              "\n",
              "    .colab-df-convert {\n",
              "      background-color: #E8F0FE;\n",
              "      border: none;\n",
              "      border-radius: 50%;\n",
              "      cursor: pointer;\n",
              "      display: none;\n",
              "      fill: #1967D2;\n",
              "      height: 32px;\n",
              "      padding: 0 0 0 0;\n",
              "      width: 32px;\n",
              "    }\n",
              "\n",
              "    .colab-df-convert:hover {\n",
              "      background-color: #E2EBFA;\n",
              "      box-shadow: 0px 1px 2px rgba(60, 64, 67, 0.3), 0px 1px 3px 1px rgba(60, 64, 67, 0.15);\n",
              "      fill: #174EA6;\n",
              "    }\n",
              "\n",
              "    [theme=dark] .colab-df-convert {\n",
              "      background-color: #3B4455;\n",
              "      fill: #D2E3FC;\n",
              "    }\n",
              "\n",
              "    [theme=dark] .colab-df-convert:hover {\n",
              "      background-color: #434B5C;\n",
              "      box-shadow: 0px 1px 3px 1px rgba(0, 0, 0, 0.15);\n",
              "      filter: drop-shadow(0px 1px 2px rgba(0, 0, 0, 0.3));\n",
              "      fill: #FFFFFF;\n",
              "    }\n",
              "  </style>\n",
              "\n",
              "      <script>\n",
              "        const buttonEl =\n",
              "          document.querySelector('#df-024afc3f-93ac-4f70-b106-cd0b7c38d86c button.colab-df-convert');\n",
              "        buttonEl.style.display =\n",
              "          google.colab.kernel.accessAllowed ? 'block' : 'none';\n",
              "\n",
              "        async function convertToInteractive(key) {\n",
              "          const element = document.querySelector('#df-024afc3f-93ac-4f70-b106-cd0b7c38d86c');\n",
              "          const dataTable =\n",
              "            await google.colab.kernel.invokeFunction('convertToInteractive',\n",
              "                                                     [key], {});\n",
              "          if (!dataTable) return;\n",
              "\n",
              "          const docLinkHtml = 'Like what you see? Visit the ' +\n",
              "            '<a target=\"_blank\" href=https://colab.research.google.com/notebooks/data_table.ipynb>data table notebook</a>'\n",
              "            + ' to learn more about interactive tables.';\n",
              "          element.innerHTML = '';\n",
              "          dataTable['output_type'] = 'display_data';\n",
              "          await google.colab.output.renderOutput(dataTable, element);\n",
              "          const docLink = document.createElement('div');\n",
              "          docLink.innerHTML = docLinkHtml;\n",
              "          element.appendChild(docLink);\n",
              "        }\n",
              "      </script>\n",
              "    </div>\n",
              "  </div>\n",
              "  "
            ]
          },
          "metadata": {},
          "execution_count": 126
        }
      ]
    },
    {
      "cell_type": "code",
      "source": [
        "comprehensive_data.shape"
      ],
      "metadata": {
        "colab": {
          "base_uri": "https://localhost:8080/"
        },
        "id": "IixKz5CxGB_p",
        "outputId": "27baa992-26d6-49e6-8718-ce2c7942a06b"
      },
      "execution_count": null,
      "outputs": [
        {
          "output_type": "execute_result",
          "data": {
            "text/plain": [
              "(1886, 42)"
            ]
          },
          "metadata": {},
          "execution_count": 127
        }
      ]
    },
    {
      "cell_type": "code",
      "source": [
        "X_comprehensive = comprehensive_data.drop(columns=[\"tic\", \"name\", \"retytd\"])\n",
        "X_comprehensive[\"const\"] = 1"
      ],
      "metadata": {
        "id": "6LeCvk96GI5D"
      },
      "execution_count": null,
      "outputs": []
    },
    {
      "cell_type": "code",
      "source": [
        "comprehensive_model = sm.OLS(y, X_comprehensive).fit()\n",
        "comprehensive_model.summary()"
      ],
      "metadata": {
        "colab": {
          "base_uri": "https://localhost:8080/",
          "height": 1000
        },
        "id": "w1UoNZr-GPtQ",
        "outputId": "f2b598c4-37ec-49e3-ea60-0130597e0978"
      },
      "execution_count": null,
      "outputs": [
        {
          "output_type": "execute_result",
          "data": {
            "text/plain": [
              "<class 'statsmodels.iolib.summary.Summary'>\n",
              "\"\"\"\n",
              "                            OLS Regression Results                            \n",
              "==============================================================================\n",
              "Dep. Variable:                 retytd   R-squared:                       0.392\n",
              "Model:                            OLS   Adj. R-squared:                  0.379\n",
              "Method:                 Least Squares   F-statistic:                     30.50\n",
              "Date:                Wed, 27 Apr 2022   Prob (F-statistic):          4.37e-169\n",
              "Time:                        20:34:18   Log-Likelihood:                 455.24\n",
              "No. Observations:                1886   AIC:                            -830.5\n",
              "Df Residuals:                    1846   BIC:                            -608.8\n",
              "Df Model:                          39                                         \n",
              "Covariance Type:            nonrobust                                         \n",
              "==========================================================================================\n",
              "                             coef    std err          t      P>|t|      [0.025      0.975]\n",
              "------------------------------------------------------------------------------------------\n",
              "ggroup_1510               -0.4202      0.032    -13.316      0.000      -0.482      -0.358\n",
              "ggroup_2010               -0.5483      0.029    -19.199      0.000      -0.604      -0.492\n",
              "ggroup_2020               -0.4985      0.035    -14.275      0.000      -0.567      -0.430\n",
              "ggroup_2030               -0.5642      0.039    -14.380      0.000      -0.641      -0.487\n",
              "ggroup_2510               -0.6811      0.045    -15.020      0.000      -0.770      -0.592\n",
              "ggroup_2520               -0.6571      0.035    -18.556      0.000      -0.727      -0.588\n",
              "ggroup_2530               -0.5187      0.035    -14.857      0.000      -0.587      -0.450\n",
              "ggroup_2550               -0.6051      0.033    -18.473      0.000      -0.669      -0.541\n",
              "ggroup_3010               -0.3731      0.057     -6.550      0.000      -0.485      -0.261\n",
              "ggroup_3020               -0.4377      0.039    -11.116      0.000      -0.515      -0.360\n",
              "ggroup_3030               -0.6162      0.054    -11.454      0.000      -0.722      -0.511\n",
              "ggroup_3510               -0.4625      0.032    -14.590      0.000      -0.525      -0.400\n",
              "ggroup_3520               -0.5033      0.033    -15.222      0.000      -0.568      -0.438\n",
              "ggroup_4010               -0.6595      0.031    -21.082      0.000      -0.721      -0.598\n",
              "ggroup_4020               -0.6321      0.033    -19.092      0.000      -0.697      -0.567\n",
              "ggroup_4030               -0.5563      0.037    -14.945      0.000      -0.629      -0.483\n",
              "ggroup_4510               -0.5027      0.032    -15.605      0.000      -0.566      -0.439\n",
              "ggroup_4520               -0.6062      0.033    -18.418      0.000      -0.671      -0.542\n",
              "ggroup_4530               -0.6552      0.037    -17.762      0.000      -0.728      -0.583\n",
              "ggroup_5010               -0.5092      0.059     -8.564      0.000      -0.626      -0.393\n",
              "ggroup_5020               -0.5236      0.039    -13.456      0.000      -0.600      -0.447\n",
              "ggroup_5510               -0.4758      0.038    -12.506      0.000      -0.550      -0.401\n",
              "ggroup_6010               -0.5214      0.031    -17.071      0.000      -0.581      -0.462\n",
              "e/p_win                   -0.0132      0.068     -0.195      0.846      -0.146       0.120\n",
              "book/p_win                 0.1139      0.017      6.519      0.000       0.080       0.148\n",
              "roa_win                    0.1669      0.068      2.452      0.014       0.033       0.301\n",
              "roe_win                   -0.0028      0.008     -0.337      0.736      -0.019       0.014\n",
              "current_ratio_win         -0.0087      0.004     -2.472      0.014      -0.016      -0.002\n",
              "debt_ratio_win             0.1257      0.026      4.783      0.000       0.074       0.177\n",
              "quick_ratio_win            0.0026      0.002      1.496      0.135      -0.001       0.006\n",
              "leverage_win               0.0394      0.020      1.936      0.053      -0.001       0.079\n",
              "debt_to_equity_win        -0.0409      0.021     -1.962      0.050      -0.082   -2.15e-05\n",
              "working_capital/at_win     0.0623      0.041      1.538      0.124      -0.017       0.142\n",
              "gross_margin_win          -0.0011      0.001     -2.151      0.032      -0.002   -9.48e-05\n",
              "re/at_win                  0.0169      0.008      2.209      0.027       0.002       0.032\n",
              "assets_turnover_win       -0.0211      0.012     -1.762      0.078      -0.045       0.002\n",
              "mrkrf                     -0.0356      0.012     -2.953      0.003      -0.059      -0.012\n",
              "smb                       -0.0151      0.007     -2.031      0.042      -0.030      -0.001\n",
              "hml                        0.0733      0.010      7.177      0.000       0.053       0.093\n",
              "const                      0.3395      0.043      7.841      0.000       0.255       0.424\n",
              "==============================================================================\n",
              "Omnibus:                      465.429   Durbin-Watson:                   2.022\n",
              "Prob(Omnibus):                  0.000   Jarque-Bera (JB):             2706.008\n",
              "Skew:                           1.028   Prob(JB):                         0.00\n",
              "Kurtosis:                       8.496   Cond. No.                         306.\n",
              "==============================================================================\n",
              "\n",
              "Warnings:\n",
              "[1] Standard Errors assume that the covariance matrix of the errors is correctly specified.\n",
              "\"\"\""
            ],
            "text/html": [
              "<table class=\"simpletable\">\n",
              "<caption>OLS Regression Results</caption>\n",
              "<tr>\n",
              "  <th>Dep. Variable:</th>         <td>retytd</td>      <th>  R-squared:         </th> <td>   0.392</td> \n",
              "</tr>\n",
              "<tr>\n",
              "  <th>Model:</th>                   <td>OLS</td>       <th>  Adj. R-squared:    </th> <td>   0.379</td> \n",
              "</tr>\n",
              "<tr>\n",
              "  <th>Method:</th>             <td>Least Squares</td>  <th>  F-statistic:       </th> <td>   30.50</td> \n",
              "</tr>\n",
              "<tr>\n",
              "  <th>Date:</th>             <td>Wed, 27 Apr 2022</td> <th>  Prob (F-statistic):</th> <td>4.37e-169</td>\n",
              "</tr>\n",
              "<tr>\n",
              "  <th>Time:</th>                 <td>20:34:18</td>     <th>  Log-Likelihood:    </th> <td>  455.24</td> \n",
              "</tr>\n",
              "<tr>\n",
              "  <th>No. Observations:</th>      <td>  1886</td>      <th>  AIC:               </th> <td>  -830.5</td> \n",
              "</tr>\n",
              "<tr>\n",
              "  <th>Df Residuals:</th>          <td>  1846</td>      <th>  BIC:               </th> <td>  -608.8</td> \n",
              "</tr>\n",
              "<tr>\n",
              "  <th>Df Model:</th>              <td>    39</td>      <th>                     </th>     <td> </td>    \n",
              "</tr>\n",
              "<tr>\n",
              "  <th>Covariance Type:</th>      <td>nonrobust</td>    <th>                     </th>     <td> </td>    \n",
              "</tr>\n",
              "</table>\n",
              "<table class=\"simpletable\">\n",
              "<tr>\n",
              "             <td></td>               <th>coef</th>     <th>std err</th>      <th>t</th>      <th>P>|t|</th>  <th>[0.025</th>    <th>0.975]</th>  \n",
              "</tr>\n",
              "<tr>\n",
              "  <th>ggroup_1510</th>            <td>   -0.4202</td> <td>    0.032</td> <td>  -13.316</td> <td> 0.000</td> <td>   -0.482</td> <td>   -0.358</td>\n",
              "</tr>\n",
              "<tr>\n",
              "  <th>ggroup_2010</th>            <td>   -0.5483</td> <td>    0.029</td> <td>  -19.199</td> <td> 0.000</td> <td>   -0.604</td> <td>   -0.492</td>\n",
              "</tr>\n",
              "<tr>\n",
              "  <th>ggroup_2020</th>            <td>   -0.4985</td> <td>    0.035</td> <td>  -14.275</td> <td> 0.000</td> <td>   -0.567</td> <td>   -0.430</td>\n",
              "</tr>\n",
              "<tr>\n",
              "  <th>ggroup_2030</th>            <td>   -0.5642</td> <td>    0.039</td> <td>  -14.380</td> <td> 0.000</td> <td>   -0.641</td> <td>   -0.487</td>\n",
              "</tr>\n",
              "<tr>\n",
              "  <th>ggroup_2510</th>            <td>   -0.6811</td> <td>    0.045</td> <td>  -15.020</td> <td> 0.000</td> <td>   -0.770</td> <td>   -0.592</td>\n",
              "</tr>\n",
              "<tr>\n",
              "  <th>ggroup_2520</th>            <td>   -0.6571</td> <td>    0.035</td> <td>  -18.556</td> <td> 0.000</td> <td>   -0.727</td> <td>   -0.588</td>\n",
              "</tr>\n",
              "<tr>\n",
              "  <th>ggroup_2530</th>            <td>   -0.5187</td> <td>    0.035</td> <td>  -14.857</td> <td> 0.000</td> <td>   -0.587</td> <td>   -0.450</td>\n",
              "</tr>\n",
              "<tr>\n",
              "  <th>ggroup_2550</th>            <td>   -0.6051</td> <td>    0.033</td> <td>  -18.473</td> <td> 0.000</td> <td>   -0.669</td> <td>   -0.541</td>\n",
              "</tr>\n",
              "<tr>\n",
              "  <th>ggroup_3010</th>            <td>   -0.3731</td> <td>    0.057</td> <td>   -6.550</td> <td> 0.000</td> <td>   -0.485</td> <td>   -0.261</td>\n",
              "</tr>\n",
              "<tr>\n",
              "  <th>ggroup_3020</th>            <td>   -0.4377</td> <td>    0.039</td> <td>  -11.116</td> <td> 0.000</td> <td>   -0.515</td> <td>   -0.360</td>\n",
              "</tr>\n",
              "<tr>\n",
              "  <th>ggroup_3030</th>            <td>   -0.6162</td> <td>    0.054</td> <td>  -11.454</td> <td> 0.000</td> <td>   -0.722</td> <td>   -0.511</td>\n",
              "</tr>\n",
              "<tr>\n",
              "  <th>ggroup_3510</th>            <td>   -0.4625</td> <td>    0.032</td> <td>  -14.590</td> <td> 0.000</td> <td>   -0.525</td> <td>   -0.400</td>\n",
              "</tr>\n",
              "<tr>\n",
              "  <th>ggroup_3520</th>            <td>   -0.5033</td> <td>    0.033</td> <td>  -15.222</td> <td> 0.000</td> <td>   -0.568</td> <td>   -0.438</td>\n",
              "</tr>\n",
              "<tr>\n",
              "  <th>ggroup_4010</th>            <td>   -0.6595</td> <td>    0.031</td> <td>  -21.082</td> <td> 0.000</td> <td>   -0.721</td> <td>   -0.598</td>\n",
              "</tr>\n",
              "<tr>\n",
              "  <th>ggroup_4020</th>            <td>   -0.6321</td> <td>    0.033</td> <td>  -19.092</td> <td> 0.000</td> <td>   -0.697</td> <td>   -0.567</td>\n",
              "</tr>\n",
              "<tr>\n",
              "  <th>ggroup_4030</th>            <td>   -0.5563</td> <td>    0.037</td> <td>  -14.945</td> <td> 0.000</td> <td>   -0.629</td> <td>   -0.483</td>\n",
              "</tr>\n",
              "<tr>\n",
              "  <th>ggroup_4510</th>            <td>   -0.5027</td> <td>    0.032</td> <td>  -15.605</td> <td> 0.000</td> <td>   -0.566</td> <td>   -0.439</td>\n",
              "</tr>\n",
              "<tr>\n",
              "  <th>ggroup_4520</th>            <td>   -0.6062</td> <td>    0.033</td> <td>  -18.418</td> <td> 0.000</td> <td>   -0.671</td> <td>   -0.542</td>\n",
              "</tr>\n",
              "<tr>\n",
              "  <th>ggroup_4530</th>            <td>   -0.6552</td> <td>    0.037</td> <td>  -17.762</td> <td> 0.000</td> <td>   -0.728</td> <td>   -0.583</td>\n",
              "</tr>\n",
              "<tr>\n",
              "  <th>ggroup_5010</th>            <td>   -0.5092</td> <td>    0.059</td> <td>   -8.564</td> <td> 0.000</td> <td>   -0.626</td> <td>   -0.393</td>\n",
              "</tr>\n",
              "<tr>\n",
              "  <th>ggroup_5020</th>            <td>   -0.5236</td> <td>    0.039</td> <td>  -13.456</td> <td> 0.000</td> <td>   -0.600</td> <td>   -0.447</td>\n",
              "</tr>\n",
              "<tr>\n",
              "  <th>ggroup_5510</th>            <td>   -0.4758</td> <td>    0.038</td> <td>  -12.506</td> <td> 0.000</td> <td>   -0.550</td> <td>   -0.401</td>\n",
              "</tr>\n",
              "<tr>\n",
              "  <th>ggroup_6010</th>            <td>   -0.5214</td> <td>    0.031</td> <td>  -17.071</td> <td> 0.000</td> <td>   -0.581</td> <td>   -0.462</td>\n",
              "</tr>\n",
              "<tr>\n",
              "  <th>e/p_win</th>                <td>   -0.0132</td> <td>    0.068</td> <td>   -0.195</td> <td> 0.846</td> <td>   -0.146</td> <td>    0.120</td>\n",
              "</tr>\n",
              "<tr>\n",
              "  <th>book/p_win</th>             <td>    0.1139</td> <td>    0.017</td> <td>    6.519</td> <td> 0.000</td> <td>    0.080</td> <td>    0.148</td>\n",
              "</tr>\n",
              "<tr>\n",
              "  <th>roa_win</th>                <td>    0.1669</td> <td>    0.068</td> <td>    2.452</td> <td> 0.014</td> <td>    0.033</td> <td>    0.301</td>\n",
              "</tr>\n",
              "<tr>\n",
              "  <th>roe_win</th>                <td>   -0.0028</td> <td>    0.008</td> <td>   -0.337</td> <td> 0.736</td> <td>   -0.019</td> <td>    0.014</td>\n",
              "</tr>\n",
              "<tr>\n",
              "  <th>current_ratio_win</th>      <td>   -0.0087</td> <td>    0.004</td> <td>   -2.472</td> <td> 0.014</td> <td>   -0.016</td> <td>   -0.002</td>\n",
              "</tr>\n",
              "<tr>\n",
              "  <th>debt_ratio_win</th>         <td>    0.1257</td> <td>    0.026</td> <td>    4.783</td> <td> 0.000</td> <td>    0.074</td> <td>    0.177</td>\n",
              "</tr>\n",
              "<tr>\n",
              "  <th>quick_ratio_win</th>        <td>    0.0026</td> <td>    0.002</td> <td>    1.496</td> <td> 0.135</td> <td>   -0.001</td> <td>    0.006</td>\n",
              "</tr>\n",
              "<tr>\n",
              "  <th>leverage_win</th>           <td>    0.0394</td> <td>    0.020</td> <td>    1.936</td> <td> 0.053</td> <td>   -0.001</td> <td>    0.079</td>\n",
              "</tr>\n",
              "<tr>\n",
              "  <th>debt_to_equity_win</th>     <td>   -0.0409</td> <td>    0.021</td> <td>   -1.962</td> <td> 0.050</td> <td>   -0.082</td> <td>-2.15e-05</td>\n",
              "</tr>\n",
              "<tr>\n",
              "  <th>working_capital/at_win</th> <td>    0.0623</td> <td>    0.041</td> <td>    1.538</td> <td> 0.124</td> <td>   -0.017</td> <td>    0.142</td>\n",
              "</tr>\n",
              "<tr>\n",
              "  <th>gross_margin_win</th>       <td>   -0.0011</td> <td>    0.001</td> <td>   -2.151</td> <td> 0.032</td> <td>   -0.002</td> <td>-9.48e-05</td>\n",
              "</tr>\n",
              "<tr>\n",
              "  <th>re/at_win</th>              <td>    0.0169</td> <td>    0.008</td> <td>    2.209</td> <td> 0.027</td> <td>    0.002</td> <td>    0.032</td>\n",
              "</tr>\n",
              "<tr>\n",
              "  <th>assets_turnover_win</th>    <td>   -0.0211</td> <td>    0.012</td> <td>   -1.762</td> <td> 0.078</td> <td>   -0.045</td> <td>    0.002</td>\n",
              "</tr>\n",
              "<tr>\n",
              "  <th>mrkrf</th>                  <td>   -0.0356</td> <td>    0.012</td> <td>   -2.953</td> <td> 0.003</td> <td>   -0.059</td> <td>   -0.012</td>\n",
              "</tr>\n",
              "<tr>\n",
              "  <th>smb</th>                    <td>   -0.0151</td> <td>    0.007</td> <td>   -2.031</td> <td> 0.042</td> <td>   -0.030</td> <td>   -0.001</td>\n",
              "</tr>\n",
              "<tr>\n",
              "  <th>hml</th>                    <td>    0.0733</td> <td>    0.010</td> <td>    7.177</td> <td> 0.000</td> <td>    0.053</td> <td>    0.093</td>\n",
              "</tr>\n",
              "<tr>\n",
              "  <th>const</th>                  <td>    0.3395</td> <td>    0.043</td> <td>    7.841</td> <td> 0.000</td> <td>    0.255</td> <td>    0.424</td>\n",
              "</tr>\n",
              "</table>\n",
              "<table class=\"simpletable\">\n",
              "<tr>\n",
              "  <th>Omnibus:</th>       <td>465.429</td> <th>  Durbin-Watson:     </th> <td>   2.022</td>\n",
              "</tr>\n",
              "<tr>\n",
              "  <th>Prob(Omnibus):</th> <td> 0.000</td>  <th>  Jarque-Bera (JB):  </th> <td>2706.008</td>\n",
              "</tr>\n",
              "<tr>\n",
              "  <th>Skew:</th>          <td> 1.028</td>  <th>  Prob(JB):          </th> <td>    0.00</td>\n",
              "</tr>\n",
              "<tr>\n",
              "  <th>Kurtosis:</th>      <td> 8.496</td>  <th>  Cond. No.          </th> <td>    306.</td>\n",
              "</tr>\n",
              "</table><br/><br/>Warnings:<br/>[1] Standard Errors assume that the covariance matrix of the errors is correctly specified."
            ]
          },
          "metadata": {},
          "execution_count": 129
        }
      ]
    },
    {
      "cell_type": "markdown",
      "source": [
        "The combined model had the highest explanatory power. This model had R squared and adjusted R squared of 0.392 and 0.379 respectively. Even though I combined all 3 dataset of dependent variables, the model's explanatory power did not increase much. Considering dynamicity of the market and unexpectability of human's nature, it is inevitable to have only small explanatory power.\n",
        "\n",
        "Speaking of individual variables, most of them have negative coefficient, which indicates these variables have negative correlation with the retYTD. Ggroup_4530 had the lowest coefficient of -0.6552. Roa_win, on the other hand, had the greatest coefficient of 0.1257 except for the const. In this regression, the coefficient of const means industry 1010 with all other variables at 0.\n",
        "\n",
        "A few variables have statistically insignificant coefficient. e/p_win, roe_win, quick_ratio_win, leverage_win, debt_to_equity_win, working_capital/_win, and assets_turnover_win had p-value greater or equal to 0.05. Thus, coefficients of these variables are statistically not different from 0.\n",
        "\n"
      ],
      "metadata": {
        "id": "AQyDAnkgFZZK"
      }
    }
  ]
}