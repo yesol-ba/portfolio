{
  "nbformat": 4,
  "nbformat_minor": 0,
  "metadata": {
    "kernelspec": {
      "display_name": "Python 3",
      "language": "python",
      "name": "python3"
    },
    "language_info": {
      "codemirror_mode": {
        "name": "ipython",
        "version": 3
      },
      "file_extension": ".py",
      "mimetype": "text/x-python",
      "name": "python",
      "nbconvert_exporter": "python",
      "pygments_lexer": "ipython3",
      "version": "3.7.2"
    },
    "colab": {
      "name": "Yesol Lee Assignment-3.ipynb",
      "provenance": [],
      "collapsed_sections": [],
      "toc_visible": true,
      "include_colab_link": true
    }
  },
  "cells": [
    {
      "cell_type": "markdown",
      "metadata": {
        "id": "view-in-github",
        "colab_type": "text"
      },
      "source": [
        "<a href=\"https://colab.research.google.com/github/yesol-ba/portfolio/blob/main/Framinghem%20Heart%20Study%20-%20Prediction.ipynb\" target=\"_parent\"><img src=\"https://colab.research.google.com/assets/colab-badge.svg\" alt=\"Open In Colab\"/></a>"
      ]
    },
    {
      "cell_type": "markdown",
      "metadata": {
        "id": "X5KJmEfIJWKH"
      },
      "source": [
        "# Assignment 3\n",
        "\n",
        "## Question 1 (12 points)\n",
        "Using the [Framingham Heart Study dataset](https://github.com/soltaniehha/Intro-to-Data-Analytics/blob/main/data/AnalyticsEdge-Datasets/Framingham.csv) create a **logistic regression** model to predict whether a patient will develop heart desease in 10 years or not.\n",
        "\n",
        "Follow the steps outlined in the [Classification notebook](https://github.com/soltaniehha/Intro-to-Data-Analytics/blob/main/08-Machine-Learning-Overview/03-Classification.ipynb):\n",
        "* Preprocessing: deleting columns with no predictive power/handling missing values\n",
        "* Preprocessing: handle categorical variables, if any\n",
        "* Create feature matrix and target vector. Our target variable is `TenYearCHD`\n",
        "* Split the data randomly into train and test with a 70-30 split (use `random_state=780`)\n",
        "* Instantiate and fit a logistic regression model\n",
        "* Make predictions and find the overall accuracy, sensitivity, and specificity on your test set\n",
        "\n",
        "**Note:** We have seen this dataset during the discussion on the Framingham Heart Study from Analytics Edge.\n",
        "\n",
        "## Question 2 (8 points)\n",
        "Open ended - Do further data exploration and create new variables when possible (feature engineering). Show your discovery process using plots and summaries. \n",
        "* How does the model performance change by adding new variables or potentially removing some of the less important ones? \n",
        "* How does the model performance change by trying different classification models?\n",
        "\n",
        "---\n",
        "\n",
        "### Upload your .ipynb file to Questrom Tools\n",
        "\n",
        "A potential issue is to download the notebook before it was fully saved. To avoid this, follow these steps: \n",
        "1. go to Runtime (in the menu) and hit \"Restart and run all...\" \n",
        "2. after the notebook is fully run, save it and then download your .ipynb to your computer \n",
        "3. upload it back to your Drive and open it with Colab to ensure all of your recent changes are there \n",
        "4. upload the originally downloaded file to Questrom Tools.\n",
        "\n",
        "---\n",
        "\n",
        "The data has been loaded in the following cell:"
      ]
    },
    {
      "cell_type": "code",
      "metadata": {
        "id": "bTC6KZksJWKJ",
        "colab": {
          "base_uri": "https://localhost:8080/",
          "height": 163
        },
        "outputId": "d650dbc6-3b46-488c-b5d7-14e25375a48b"
      },
      "source": [
        "import pandas as pd\n",
        "\n",
        "df = pd.read_csv('https://raw.githubusercontent.com/soltaniehha/Intro-to-Data-Analytics/master/data/AnalyticsEdge-Datasets/Framingham.csv')\n",
        "df.head(3)"
      ],
      "execution_count": null,
      "outputs": [
        {
          "output_type": "execute_result",
          "data": {
            "text/html": [
              "<div>\n",
              "<style scoped>\n",
              "    .dataframe tbody tr th:only-of-type {\n",
              "        vertical-align: middle;\n",
              "    }\n",
              "\n",
              "    .dataframe tbody tr th {\n",
              "        vertical-align: top;\n",
              "    }\n",
              "\n",
              "    .dataframe thead th {\n",
              "        text-align: right;\n",
              "    }\n",
              "</style>\n",
              "<table border=\"1\" class=\"dataframe\">\n",
              "  <thead>\n",
              "    <tr style=\"text-align: right;\">\n",
              "      <th></th>\n",
              "      <th>male</th>\n",
              "      <th>age</th>\n",
              "      <th>education</th>\n",
              "      <th>currentSmoker</th>\n",
              "      <th>cigsPerDay</th>\n",
              "      <th>BPMeds</th>\n",
              "      <th>prevalentStroke</th>\n",
              "      <th>prevalentHyp</th>\n",
              "      <th>diabetes</th>\n",
              "      <th>totChol</th>\n",
              "      <th>sysBP</th>\n",
              "      <th>diaBP</th>\n",
              "      <th>BMI</th>\n",
              "      <th>heartRate</th>\n",
              "      <th>glucose</th>\n",
              "      <th>TenYearCHD</th>\n",
              "    </tr>\n",
              "  </thead>\n",
              "  <tbody>\n",
              "    <tr>\n",
              "      <th>0</th>\n",
              "      <td>1</td>\n",
              "      <td>39</td>\n",
              "      <td>4.0</td>\n",
              "      <td>0</td>\n",
              "      <td>0.0</td>\n",
              "      <td>0.0</td>\n",
              "      <td>0</td>\n",
              "      <td>0</td>\n",
              "      <td>0</td>\n",
              "      <td>195.0</td>\n",
              "      <td>106.0</td>\n",
              "      <td>70.0</td>\n",
              "      <td>26.97</td>\n",
              "      <td>80.0</td>\n",
              "      <td>77.0</td>\n",
              "      <td>0</td>\n",
              "    </tr>\n",
              "    <tr>\n",
              "      <th>1</th>\n",
              "      <td>0</td>\n",
              "      <td>46</td>\n",
              "      <td>2.0</td>\n",
              "      <td>0</td>\n",
              "      <td>0.0</td>\n",
              "      <td>0.0</td>\n",
              "      <td>0</td>\n",
              "      <td>0</td>\n",
              "      <td>0</td>\n",
              "      <td>250.0</td>\n",
              "      <td>121.0</td>\n",
              "      <td>81.0</td>\n",
              "      <td>28.73</td>\n",
              "      <td>95.0</td>\n",
              "      <td>76.0</td>\n",
              "      <td>0</td>\n",
              "    </tr>\n",
              "    <tr>\n",
              "      <th>2</th>\n",
              "      <td>1</td>\n",
              "      <td>48</td>\n",
              "      <td>1.0</td>\n",
              "      <td>1</td>\n",
              "      <td>20.0</td>\n",
              "      <td>0.0</td>\n",
              "      <td>0</td>\n",
              "      <td>0</td>\n",
              "      <td>0</td>\n",
              "      <td>245.0</td>\n",
              "      <td>127.5</td>\n",
              "      <td>80.0</td>\n",
              "      <td>25.34</td>\n",
              "      <td>75.0</td>\n",
              "      <td>70.0</td>\n",
              "      <td>0</td>\n",
              "    </tr>\n",
              "  </tbody>\n",
              "</table>\n",
              "</div>"
            ],
            "text/plain": [
              "   male  age  education  currentSmoker  ...    BMI  heartRate  glucose  TenYearCHD\n",
              "0     1   39        4.0              0  ...  26.97       80.0     77.0           0\n",
              "1     0   46        2.0              0  ...  28.73       95.0     76.0           0\n",
              "2     1   48        1.0              1  ...  25.34       75.0     70.0           0\n",
              "\n",
              "[3 rows x 16 columns]"
            ]
          },
          "metadata": {},
          "execution_count": 78
        }
      ]
    },
    {
      "cell_type": "code",
      "metadata": {
        "colab": {
          "base_uri": "https://localhost:8080/"
        },
        "id": "X9nriP8W-qve",
        "outputId": "ac1773ef-82ae-4f2c-e47f-adccc4c48e90"
      },
      "source": [
        "print(df.shape)\n",
        "print(df.info())"
      ],
      "execution_count": null,
      "outputs": [
        {
          "output_type": "stream",
          "name": "stdout",
          "text": [
            "(4240, 16)\n",
            "<class 'pandas.core.frame.DataFrame'>\n",
            "RangeIndex: 4240 entries, 0 to 4239\n",
            "Data columns (total 16 columns):\n",
            " #   Column           Non-Null Count  Dtype  \n",
            "---  ------           --------------  -----  \n",
            " 0   male             4240 non-null   int64  \n",
            " 1   age              4240 non-null   int64  \n",
            " 2   education        4135 non-null   float64\n",
            " 3   currentSmoker    4240 non-null   int64  \n",
            " 4   cigsPerDay       4211 non-null   float64\n",
            " 5   BPMeds           4187 non-null   float64\n",
            " 6   prevalentStroke  4240 non-null   int64  \n",
            " 7   prevalentHyp     4240 non-null   int64  \n",
            " 8   diabetes         4240 non-null   int64  \n",
            " 9   totChol          4190 non-null   float64\n",
            " 10  sysBP            4240 non-null   float64\n",
            " 11  diaBP            4240 non-null   float64\n",
            " 12  BMI              4221 non-null   float64\n",
            " 13  heartRate        4239 non-null   float64\n",
            " 14  glucose          3852 non-null   float64\n",
            " 15  TenYearCHD       4240 non-null   int64  \n",
            "dtypes: float64(9), int64(7)\n",
            "memory usage: 530.1 KB\n",
            "None\n"
          ]
        }
      ]
    },
    {
      "cell_type": "markdown",
      "metadata": {
        "id": "zJ-MleHh4NMT"
      },
      "source": [
        "# Question 1"
      ]
    },
    {
      "cell_type": "markdown",
      "metadata": {
        "id": "Ti52GuQzHb35"
      },
      "source": [
        "## Preprocessing"
      ]
    },
    {
      "cell_type": "markdown",
      "metadata": {
        "id": "SGvU_nxV4wZt"
      },
      "source": [
        "### Handling missing values"
      ]
    },
    {
      "cell_type": "code",
      "metadata": {
        "colab": {
          "base_uri": "https://localhost:8080/"
        },
        "id": "IiJGINgL5Mdj",
        "outputId": "cc787018-e7c5-47ff-fb36-7d2908fae831"
      },
      "source": [
        "# Check the number of missing value\n",
        "\n",
        "df.isna().sum()"
      ],
      "execution_count": null,
      "outputs": [
        {
          "output_type": "execute_result",
          "data": {
            "text/plain": [
              "male                 0\n",
              "age                  0\n",
              "education          105\n",
              "currentSmoker        0\n",
              "cigsPerDay          29\n",
              "BPMeds              53\n",
              "prevalentStroke      0\n",
              "prevalentHyp         0\n",
              "diabetes             0\n",
              "totChol             50\n",
              "sysBP                0\n",
              "diaBP                0\n",
              "BMI                 19\n",
              "heartRate            1\n",
              "glucose            388\n",
              "TenYearCHD           0\n",
              "dtype: int64"
            ]
          },
          "metadata": {},
          "execution_count": 80
        }
      ]
    },
    {
      "cell_type": "markdown",
      "metadata": {
        "id": "LWfKKK3ZHfmo"
      },
      "source": [
        "**cigsPerDay**"
      ]
    },
    {
      "cell_type": "markdown",
      "metadata": {
        "id": "bvNfm2G0CxvO"
      },
      "source": [
        "The column cigsPerDay has 29 missing values. This column is related with currentSmoker column. So I will check missing values by whether a person is smoker or not."
      ]
    },
    {
      "cell_type": "code",
      "metadata": {
        "colab": {
          "base_uri": "https://localhost:8080/"
        },
        "id": "T0ZeyB1e9WEx",
        "outputId": "01c0a8b5-62b7-4391-f838-55eea8b29350"
      },
      "source": [
        "print(df[df[\"currentSmoker\"] == 0][\"cigsPerDay\"].isna().sum())\n",
        "print(df[df[\"currentSmoker\"] == 1][\"cigsPerDay\"].isna().sum())"
      ],
      "execution_count": null,
      "outputs": [
        {
          "output_type": "stream",
          "name": "stdout",
          "text": [
            "0\n",
            "29\n"
          ]
        }
      ]
    },
    {
      "cell_type": "markdown",
      "metadata": {
        "id": "tF4Qk37VDIaT"
      },
      "source": [
        "Only smokers have missing values in cigsPerDay column. When I checked describtive statistics, cigsPerDay column has outlier of 70, which means a person smokes 70 cigaretts per day. This data can "
      ]
    },
    {
      "cell_type": "code",
      "metadata": {
        "colab": {
          "base_uri": "https://localhost:8080/"
        },
        "id": "TcdDC81mBpoh",
        "outputId": "65f9371a-4977-404f-f019-b267f39340af"
      },
      "source": [
        "med_cigs = df[df[\"currentSmoker\"] == 1][\"cigsPerDay\"].median()\n",
        "df[\"cigsPerDay\"].fillna(med_cigs, inplace=True)\n",
        "\n",
        "df[\"cigsPerDay\"].isna().sum()"
      ],
      "execution_count": null,
      "outputs": [
        {
          "output_type": "execute_result",
          "data": {
            "text/plain": [
              "0"
            ]
          },
          "metadata": {},
          "execution_count": 82
        }
      ]
    },
    {
      "cell_type": "markdown",
      "metadata": {
        "id": "YMFr8TIAHjuF"
      },
      "source": [
        "**BPMeds**"
      ]
    },
    {
      "cell_type": "code",
      "metadata": {
        "colab": {
          "base_uri": "https://localhost:8080/"
        },
        "id": "Y6FHS1kLFCWg",
        "outputId": "948fd765-3083-41cf-9ec3-84c7ec89c721"
      },
      "source": [
        "bp_meds = df[\"BPMeds\"].value_counts().to_frame()\n",
        "bp_meds"
      ],
      "execution_count": null,
      "outputs": [
        {
          "output_type": "execute_result",
          "data": {
            "text/html": [
              "<div>\n",
              "<style scoped>\n",
              "    .dataframe tbody tr th:only-of-type {\n",
              "        vertical-align: middle;\n",
              "    }\n",
              "\n",
              "    .dataframe tbody tr th {\n",
              "        vertical-align: top;\n",
              "    }\n",
              "\n",
              "    .dataframe thead th {\n",
              "        text-align: right;\n",
              "    }\n",
              "</style>\n",
              "<table border=\"1\" class=\"dataframe\">\n",
              "  <thead>\n",
              "    <tr style=\"text-align: right;\">\n",
              "      <th></th>\n",
              "      <th>BPMeds</th>\n",
              "    </tr>\n",
              "  </thead>\n",
              "  <tbody>\n",
              "    <tr>\n",
              "      <th>0.0</th>\n",
              "      <td>4063</td>\n",
              "    </tr>\n",
              "    <tr>\n",
              "      <th>1.0</th>\n",
              "      <td>124</td>\n",
              "    </tr>\n",
              "  </tbody>\n",
              "</table>\n",
              "</div>"
            ],
            "text/plain": [
              "     BPMeds\n",
              "0.0    4063\n",
              "1.0     124"
            ]
          },
          "metadata": {},
          "execution_count": 83
        }
      ]
    },
    {
      "cell_type": "markdown",
      "metadata": {
        "id": "zhecAUCwHnY3"
      },
      "source": [
        "The majority of data points have 0 in BPMeds. Therefore I will replace missing values with 0."
      ]
    },
    {
      "cell_type": "code",
      "metadata": {
        "colab": {
          "base_uri": "https://localhost:8080/"
        },
        "id": "Uu_xodB1Fgop",
        "outputId": "f07dc9ed-cc0f-4d24-dfdf-f748cfcfb9f5"
      },
      "source": [
        "df[\"BPMeds\"].fillna(0, inplace=True)\n",
        "df[\"BPMeds\"].isna().sum()"
      ],
      "execution_count": null,
      "outputs": [
        {
          "output_type": "execute_result",
          "data": {
            "text/plain": [
              "0"
            ]
          },
          "metadata": {},
          "execution_count": 84
        }
      ]
    },
    {
      "cell_type": "markdown",
      "metadata": {
        "id": "NQDKTeGQIAsd"
      },
      "source": [
        "**totChol**\n",
        "Cholesterol "
      ]
    },
    {
      "cell_type": "code",
      "metadata": {
        "colab": {
          "base_uri": "https://localhost:8080/"
        },
        "id": "STA2CImcH36Q",
        "outputId": "0fedaa93-97fd-4fe0-df2a-be5b12b440d5"
      },
      "source": [
        "df[\"totChol\"].describe()"
      ],
      "execution_count": null,
      "outputs": [
        {
          "output_type": "execute_result",
          "data": {
            "text/plain": [
              "count    4190.000000\n",
              "mean      236.699523\n",
              "std        44.591284\n",
              "min       107.000000\n",
              "25%       206.000000\n",
              "50%       234.000000\n",
              "75%       263.000000\n",
              "max       696.000000\n",
              "Name: totChol, dtype: float64"
            ]
          },
          "metadata": {},
          "execution_count": 85
        }
      ]
    },
    {
      "cell_type": "code",
      "metadata": {
        "colab": {
          "base_uri": "https://localhost:8080/"
        },
        "id": "wuCmi6KMrpIW",
        "outputId": "13705236-a12a-472f-fd36-37e49fcc1e4d"
      },
      "source": [
        "import numpy as np\n",
        "\n",
        "pd.pivot_table(data=df, index=\"currentSmoker\", values=\"totChol\", aggfunc=np.mean)"
      ],
      "execution_count": null,
      "outputs": [
        {
          "output_type": "execute_result",
          "data": {
            "text/html": [
              "<div>\n",
              "<style scoped>\n",
              "    .dataframe tbody tr th:only-of-type {\n",
              "        vertical-align: middle;\n",
              "    }\n",
              "\n",
              "    .dataframe tbody tr th {\n",
              "        vertical-align: top;\n",
              "    }\n",
              "\n",
              "    .dataframe thead th {\n",
              "        text-align: right;\n",
              "    }\n",
              "</style>\n",
              "<table border=\"1\" class=\"dataframe\">\n",
              "  <thead>\n",
              "    <tr style=\"text-align: right;\">\n",
              "      <th></th>\n",
              "      <th>totChol</th>\n",
              "    </tr>\n",
              "    <tr>\n",
              "      <th>currentSmoker</th>\n",
              "      <th></th>\n",
              "    </tr>\n",
              "  </thead>\n",
              "  <tbody>\n",
              "    <tr>\n",
              "      <th>0</th>\n",
              "      <td>238.741769</td>\n",
              "    </tr>\n",
              "    <tr>\n",
              "      <th>1</th>\n",
              "      <td>234.595930</td>\n",
              "    </tr>\n",
              "  </tbody>\n",
              "</table>\n",
              "</div>"
            ],
            "text/plain": [
              "                  totChol\n",
              "currentSmoker            \n",
              "0              238.741769\n",
              "1              234.595930"
            ]
          },
          "metadata": {},
          "execution_count": 86
        }
      ]
    },
    {
      "cell_type": "code",
      "metadata": {
        "colab": {
          "base_uri": "https://localhost:8080/"
        },
        "id": "LurKX-wbr4mR",
        "outputId": "fde80cde-f81e-4cdb-ea8d-4dbeb2b06553"
      },
      "source": [
        "pd.pivot_table(data=df, index=\"currentSmoker\", values=\"totChol\", aggfunc=np.median)"
      ],
      "execution_count": null,
      "outputs": [
        {
          "output_type": "execute_result",
          "data": {
            "text/html": [
              "<div>\n",
              "<style scoped>\n",
              "    .dataframe tbody tr th:only-of-type {\n",
              "        vertical-align: middle;\n",
              "    }\n",
              "\n",
              "    .dataframe tbody tr th {\n",
              "        vertical-align: top;\n",
              "    }\n",
              "\n",
              "    .dataframe thead th {\n",
              "        text-align: right;\n",
              "    }\n",
              "</style>\n",
              "<table border=\"1\" class=\"dataframe\">\n",
              "  <thead>\n",
              "    <tr style=\"text-align: right;\">\n",
              "      <th></th>\n",
              "      <th>totChol</th>\n",
              "    </tr>\n",
              "    <tr>\n",
              "      <th>currentSmoker</th>\n",
              "      <th></th>\n",
              "    </tr>\n",
              "  </thead>\n",
              "  <tbody>\n",
              "    <tr>\n",
              "      <th>0</th>\n",
              "      <td>235.5</td>\n",
              "    </tr>\n",
              "    <tr>\n",
              "      <th>1</th>\n",
              "      <td>232.0</td>\n",
              "    </tr>\n",
              "  </tbody>\n",
              "</table>\n",
              "</div>"
            ],
            "text/plain": [
              "               totChol\n",
              "currentSmoker         \n",
              "0                235.5\n",
              "1                232.0"
            ]
          },
          "metadata": {},
          "execution_count": 87
        }
      ]
    },
    {
      "cell_type": "code",
      "metadata": {
        "colab": {
          "base_uri": "https://localhost:8080/"
        },
        "id": "v6btcPy6IXEY",
        "outputId": "72c44696-bee9-4853-99fd-e25fe6b4a576"
      },
      "source": [
        "df[\"totChol\"].fillna(df[\"totChol\"].median(), inplace=True)\n",
        "df[\"totChol\"].isna().sum()"
      ],
      "execution_count": null,
      "outputs": [
        {
          "output_type": "execute_result",
          "data": {
            "text/plain": [
              "0"
            ]
          },
          "metadata": {},
          "execution_count": 88
        }
      ]
    },
    {
      "cell_type": "markdown",
      "metadata": {
        "id": "zrqeY5iHP4gz"
      },
      "source": [
        "BMI"
      ]
    },
    {
      "cell_type": "code",
      "metadata": {
        "colab": {
          "base_uri": "https://localhost:8080/"
        },
        "id": "niQ104q5Iq4u",
        "outputId": "1992063d-9aab-44b7-b26e-a81e55eeb03f"
      },
      "source": [
        "df[\"BMI\"].describe()"
      ],
      "execution_count": null,
      "outputs": [
        {
          "output_type": "execute_result",
          "data": {
            "text/plain": [
              "count    4221.000000\n",
              "mean       25.800801\n",
              "std         4.079840\n",
              "min        15.540000\n",
              "25%        23.070000\n",
              "50%        25.400000\n",
              "75%        28.040000\n",
              "max        56.800000\n",
              "Name: BMI, dtype: float64"
            ]
          },
          "metadata": {},
          "execution_count": 89
        }
      ]
    },
    {
      "cell_type": "code",
      "metadata": {
        "colab": {
          "base_uri": "https://localhost:8080/"
        },
        "id": "NlEOkgulP-nW",
        "outputId": "3d9ca5b6-440b-48be-db7e-bbd46ac565a9"
      },
      "source": [
        "df[\"BMI\"].fillna(df[\"BMI\"].median(), inplace=True)\n",
        "df[\"BMI\"].isna().sum()"
      ],
      "execution_count": null,
      "outputs": [
        {
          "output_type": "execute_result",
          "data": {
            "text/plain": [
              "0"
            ]
          },
          "metadata": {},
          "execution_count": 90
        }
      ]
    },
    {
      "cell_type": "markdown",
      "metadata": {
        "id": "dJq7xoXJQnCN"
      },
      "source": [
        "**Heartrate**"
      ]
    },
    {
      "cell_type": "code",
      "metadata": {
        "colab": {
          "base_uri": "https://localhost:8080/"
        },
        "id": "zo2vHZO6QmIx",
        "outputId": "cfaffd57-8f55-481f-8181-2b9bdd638d8d"
      },
      "source": [
        "df[df[\"heartRate\"].isna() == True]"
      ],
      "execution_count": null,
      "outputs": [
        {
          "output_type": "execute_result",
          "data": {
            "text/html": [
              "<div>\n",
              "<style scoped>\n",
              "    .dataframe tbody tr th:only-of-type {\n",
              "        vertical-align: middle;\n",
              "    }\n",
              "\n",
              "    .dataframe tbody tr th {\n",
              "        vertical-align: top;\n",
              "    }\n",
              "\n",
              "    .dataframe thead th {\n",
              "        text-align: right;\n",
              "    }\n",
              "</style>\n",
              "<table border=\"1\" class=\"dataframe\">\n",
              "  <thead>\n",
              "    <tr style=\"text-align: right;\">\n",
              "      <th></th>\n",
              "      <th>male</th>\n",
              "      <th>age</th>\n",
              "      <th>education</th>\n",
              "      <th>currentSmoker</th>\n",
              "      <th>cigsPerDay</th>\n",
              "      <th>BPMeds</th>\n",
              "      <th>prevalentStroke</th>\n",
              "      <th>prevalentHyp</th>\n",
              "      <th>diabetes</th>\n",
              "      <th>totChol</th>\n",
              "      <th>sysBP</th>\n",
              "      <th>diaBP</th>\n",
              "      <th>BMI</th>\n",
              "      <th>heartRate</th>\n",
              "      <th>glucose</th>\n",
              "      <th>TenYearCHD</th>\n",
              "    </tr>\n",
              "  </thead>\n",
              "  <tbody>\n",
              "    <tr>\n",
              "      <th>689</th>\n",
              "      <td>1</td>\n",
              "      <td>64</td>\n",
              "      <td>1.0</td>\n",
              "      <td>1</td>\n",
              "      <td>18.0</td>\n",
              "      <td>0.0</td>\n",
              "      <td>0</td>\n",
              "      <td>1</td>\n",
              "      <td>0</td>\n",
              "      <td>219.0</td>\n",
              "      <td>172.5</td>\n",
              "      <td>75.0</td>\n",
              "      <td>29.29</td>\n",
              "      <td>NaN</td>\n",
              "      <td>91.0</td>\n",
              "      <td>1</td>\n",
              "    </tr>\n",
              "  </tbody>\n",
              "</table>\n",
              "</div>"
            ],
            "text/plain": [
              "     male  age  education  currentSmoker  ...    BMI  heartRate  glucose  TenYearCHD\n",
              "689     1   64        1.0              1  ...  29.29        NaN     91.0           1\n",
              "\n",
              "[1 rows x 16 columns]"
            ]
          },
          "metadata": {},
          "execution_count": 91
        }
      ]
    },
    {
      "cell_type": "code",
      "metadata": {
        "colab": {
          "base_uri": "https://localhost:8080/"
        },
        "id": "M9MDZ94GQtor",
        "outputId": "51f09266-f4a8-4744-96d1-d72305489fc9"
      },
      "source": [
        "df[\"heartRate\"].fillna(df[\"heartRate\"].median(), inplace=True)\n",
        "df[\"heartRate\"].isna().sum()"
      ],
      "execution_count": null,
      "outputs": [
        {
          "output_type": "execute_result",
          "data": {
            "text/plain": [
              "0"
            ]
          },
          "metadata": {},
          "execution_count": 92
        }
      ]
    },
    {
      "cell_type": "markdown",
      "metadata": {
        "id": "9yE6FLPeSAU4"
      },
      "source": [
        "**glucose**"
      ]
    },
    {
      "cell_type": "code",
      "metadata": {
        "colab": {
          "base_uri": "https://localhost:8080/"
        },
        "id": "wkimc-txRlNF",
        "outputId": "5b59e2f5-d728-45db-c6ac-e820353fd356"
      },
      "source": [
        "df[\"glucose\"].describe()"
      ],
      "execution_count": null,
      "outputs": [
        {
          "output_type": "execute_result",
          "data": {
            "text/plain": [
              "count    3852.000000\n",
              "mean       81.963655\n",
              "std        23.954335\n",
              "min        40.000000\n",
              "25%        71.000000\n",
              "50%        78.000000\n",
              "75%        87.000000\n",
              "max       394.000000\n",
              "Name: glucose, dtype: float64"
            ]
          },
          "metadata": {},
          "execution_count": 93
        }
      ]
    },
    {
      "cell_type": "code",
      "metadata": {
        "colab": {
          "base_uri": "https://localhost:8080/"
        },
        "id": "7w6LzBPoSGTt",
        "outputId": "415387aa-41ed-46a7-da1a-a78ab179e4b2"
      },
      "source": [
        "df[\"glucose\"].fillna(df[\"glucose\"].median(), inplace=True)\n",
        "df[\"glucose\"].isna().sum()"
      ],
      "execution_count": null,
      "outputs": [
        {
          "output_type": "execute_result",
          "data": {
            "text/plain": [
              "0"
            ]
          },
          "metadata": {},
          "execution_count": 94
        }
      ]
    },
    {
      "cell_type": "markdown",
      "metadata": {
        "id": "wXvLguk-q4F0"
      },
      "source": [
        "**Education**"
      ]
    },
    {
      "cell_type": "markdown",
      "metadata": {
        "id": "wZLjAAOT3Y1t"
      },
      "source": [
        "Education column has 105 missing values. I filled these missing values with the most frequently occuring value."
      ]
    },
    {
      "cell_type": "code",
      "metadata": {
        "id": "lyy9_Re_TCoH",
        "colab": {
          "base_uri": "https://localhost:8080/"
        },
        "outputId": "f4ff8aa3-e9a5-4bd4-96d4-a5c8c75be71b"
      },
      "source": [
        "df[\"education\"].value_counts()"
      ],
      "execution_count": null,
      "outputs": [
        {
          "output_type": "execute_result",
          "data": {
            "text/plain": [
              "1.0    1720\n",
              "2.0    1253\n",
              "3.0     689\n",
              "4.0     473\n",
              "Name: education, dtype: int64"
            ]
          },
          "metadata": {},
          "execution_count": 95
        }
      ]
    },
    {
      "cell_type": "code",
      "metadata": {
        "colab": {
          "base_uri": "https://localhost:8080/"
        },
        "id": "uaB_xRNn3MBz",
        "outputId": "e0e4c6e0-3bf2-4d59-f188-8e53872ff55b"
      },
      "source": [
        "df[\"education\"].fillna(1.0, inplace=True)\n",
        "df[\"education\"].isna().sum()"
      ],
      "execution_count": null,
      "outputs": [
        {
          "output_type": "execute_result",
          "data": {
            "text/plain": [
              "0"
            ]
          },
          "metadata": {},
          "execution_count": 96
        }
      ]
    },
    {
      "cell_type": "markdown",
      "metadata": {
        "id": "4eYkRpRa9y4u"
      },
      "source": [
        "Since education is categorical data, it needs to be dummy variables."
      ]
    },
    {
      "cell_type": "code",
      "metadata": {
        "id": "2II50ZY69ymU"
      },
      "source": [
        "df = pd.get_dummies(df, columns=[\"education\"], drop_first=True)"
      ],
      "execution_count": null,
      "outputs": []
    },
    {
      "cell_type": "code",
      "metadata": {
        "colab": {
          "base_uri": "https://localhost:8080/"
        },
        "id": "aejtESoXAkbv",
        "outputId": "b7173f42-8baa-4bf9-8886-c2c2db54fa58"
      },
      "source": [
        "df.head()"
      ],
      "execution_count": null,
      "outputs": [
        {
          "output_type": "execute_result",
          "data": {
            "text/html": [
              "<div>\n",
              "<style scoped>\n",
              "    .dataframe tbody tr th:only-of-type {\n",
              "        vertical-align: middle;\n",
              "    }\n",
              "\n",
              "    .dataframe tbody tr th {\n",
              "        vertical-align: top;\n",
              "    }\n",
              "\n",
              "    .dataframe thead th {\n",
              "        text-align: right;\n",
              "    }\n",
              "</style>\n",
              "<table border=\"1\" class=\"dataframe\">\n",
              "  <thead>\n",
              "    <tr style=\"text-align: right;\">\n",
              "      <th></th>\n",
              "      <th>male</th>\n",
              "      <th>age</th>\n",
              "      <th>currentSmoker</th>\n",
              "      <th>cigsPerDay</th>\n",
              "      <th>BPMeds</th>\n",
              "      <th>prevalentStroke</th>\n",
              "      <th>prevalentHyp</th>\n",
              "      <th>diabetes</th>\n",
              "      <th>totChol</th>\n",
              "      <th>sysBP</th>\n",
              "      <th>diaBP</th>\n",
              "      <th>BMI</th>\n",
              "      <th>heartRate</th>\n",
              "      <th>glucose</th>\n",
              "      <th>TenYearCHD</th>\n",
              "      <th>education_2.0</th>\n",
              "      <th>education_3.0</th>\n",
              "      <th>education_4.0</th>\n",
              "    </tr>\n",
              "  </thead>\n",
              "  <tbody>\n",
              "    <tr>\n",
              "      <th>0</th>\n",
              "      <td>1</td>\n",
              "      <td>39</td>\n",
              "      <td>0</td>\n",
              "      <td>0.0</td>\n",
              "      <td>0.0</td>\n",
              "      <td>0</td>\n",
              "      <td>0</td>\n",
              "      <td>0</td>\n",
              "      <td>195.0</td>\n",
              "      <td>106.0</td>\n",
              "      <td>70.0</td>\n",
              "      <td>26.97</td>\n",
              "      <td>80.0</td>\n",
              "      <td>77.0</td>\n",
              "      <td>0</td>\n",
              "      <td>0</td>\n",
              "      <td>0</td>\n",
              "      <td>1</td>\n",
              "    </tr>\n",
              "    <tr>\n",
              "      <th>1</th>\n",
              "      <td>0</td>\n",
              "      <td>46</td>\n",
              "      <td>0</td>\n",
              "      <td>0.0</td>\n",
              "      <td>0.0</td>\n",
              "      <td>0</td>\n",
              "      <td>0</td>\n",
              "      <td>0</td>\n",
              "      <td>250.0</td>\n",
              "      <td>121.0</td>\n",
              "      <td>81.0</td>\n",
              "      <td>28.73</td>\n",
              "      <td>95.0</td>\n",
              "      <td>76.0</td>\n",
              "      <td>0</td>\n",
              "      <td>1</td>\n",
              "      <td>0</td>\n",
              "      <td>0</td>\n",
              "    </tr>\n",
              "    <tr>\n",
              "      <th>2</th>\n",
              "      <td>1</td>\n",
              "      <td>48</td>\n",
              "      <td>1</td>\n",
              "      <td>20.0</td>\n",
              "      <td>0.0</td>\n",
              "      <td>0</td>\n",
              "      <td>0</td>\n",
              "      <td>0</td>\n",
              "      <td>245.0</td>\n",
              "      <td>127.5</td>\n",
              "      <td>80.0</td>\n",
              "      <td>25.34</td>\n",
              "      <td>75.0</td>\n",
              "      <td>70.0</td>\n",
              "      <td>0</td>\n",
              "      <td>0</td>\n",
              "      <td>0</td>\n",
              "      <td>0</td>\n",
              "    </tr>\n",
              "    <tr>\n",
              "      <th>3</th>\n",
              "      <td>0</td>\n",
              "      <td>61</td>\n",
              "      <td>1</td>\n",
              "      <td>30.0</td>\n",
              "      <td>0.0</td>\n",
              "      <td>0</td>\n",
              "      <td>1</td>\n",
              "      <td>0</td>\n",
              "      <td>225.0</td>\n",
              "      <td>150.0</td>\n",
              "      <td>95.0</td>\n",
              "      <td>28.58</td>\n",
              "      <td>65.0</td>\n",
              "      <td>103.0</td>\n",
              "      <td>1</td>\n",
              "      <td>0</td>\n",
              "      <td>1</td>\n",
              "      <td>0</td>\n",
              "    </tr>\n",
              "    <tr>\n",
              "      <th>4</th>\n",
              "      <td>0</td>\n",
              "      <td>46</td>\n",
              "      <td>1</td>\n",
              "      <td>23.0</td>\n",
              "      <td>0.0</td>\n",
              "      <td>0</td>\n",
              "      <td>0</td>\n",
              "      <td>0</td>\n",
              "      <td>285.0</td>\n",
              "      <td>130.0</td>\n",
              "      <td>84.0</td>\n",
              "      <td>23.10</td>\n",
              "      <td>85.0</td>\n",
              "      <td>85.0</td>\n",
              "      <td>0</td>\n",
              "      <td>0</td>\n",
              "      <td>1</td>\n",
              "      <td>0</td>\n",
              "    </tr>\n",
              "  </tbody>\n",
              "</table>\n",
              "</div>"
            ],
            "text/plain": [
              "   male  age  currentSmoker  ...  education_2.0  education_3.0  education_4.0\n",
              "0     1   39              0  ...              0              0              1\n",
              "1     0   46              0  ...              1              0              0\n",
              "2     1   48              1  ...              0              0              0\n",
              "3     0   61              1  ...              0              1              0\n",
              "4     0   46              1  ...              0              1              0\n",
              "\n",
              "[5 rows x 18 columns]"
            ]
          },
          "metadata": {},
          "execution_count": 98
        }
      ]
    },
    {
      "cell_type": "markdown",
      "metadata": {
        "id": "X-CXfjsK4dpC"
      },
      "source": [
        "### Deleting columns"
      ]
    },
    {
      "cell_type": "code",
      "metadata": {
        "colab": {
          "base_uri": "https://localhost:8080/"
        },
        "id": "LNcXN5Xs3sb9",
        "outputId": "54aeeaf7-2097-4ce3-a613-f04ad4bcb529"
      },
      "source": [
        "import matplotlib.pyplot as plt\n",
        "import seaborn as sns\n",
        "\n",
        "plt.figure(figsize=(16,12))\n",
        "sns.heatmap(df.corr(), annot=True, cmap=\"coolwarm\")"
      ],
      "execution_count": null,
      "outputs": [
        {
          "output_type": "execute_result",
          "data": {
            "text/plain": [
              "<matplotlib.axes._subplots.AxesSubplot at 0x7faf87880f10>"
            ]
          },
          "metadata": {},
          "execution_count": 99
        },
        {
          "output_type": "display_data",
          "data": {
            "image/png": "[encoded data removed]",
            "text/plain": [
              "<Figure size 1152x864 with 2 Axes>"
            ]
          },
          "metadata": {
            "needs_background": "light"
          }
        }
      ]
    },
    {
      "cell_type": "markdown",
      "metadata": {
        "id": "Ek0tXl1vLGfa"
      },
      "source": [
        "As you can see in the correlation chart here, all variables have absolute value of correlation greater than 0. In question 1, therefore, I will use all features for modeling and try selecting features in question 2."
      ]
    },
    {
      "cell_type": "markdown",
      "metadata": {
        "id": "Cnk7ijwPUutl"
      },
      "source": [
        "## Modeling"
      ]
    },
    {
      "cell_type": "markdown",
      "metadata": {
        "id": "BPyKWMdABqKM"
      },
      "source": [
        "### Feature matrix and Target array"
      ]
    },
    {
      "cell_type": "code",
      "metadata": {
        "id": "oWyDO09HBu2s"
      },
      "source": [
        "X = df.drop(\"TenYearCHD\", axis=1)\n",
        "y = df[\"TenYearCHD\"]"
      ],
      "execution_count": null,
      "outputs": []
    },
    {
      "cell_type": "code",
      "metadata": {
        "colab": {
          "base_uri": "https://localhost:8080/"
        },
        "id": "LRshe_UFCK6b",
        "outputId": "0479409e-2c29-4c43-d794-5d34aee83074"
      },
      "source": [
        "print(X.shape, y.shape)"
      ],
      "execution_count": null,
      "outputs": [
        {
          "output_type": "stream",
          "name": "stdout",
          "text": [
            "(4240, 17) (4240,)\n"
          ]
        }
      ]
    },
    {
      "cell_type": "markdown",
      "metadata": {
        "id": "3VMBRFa9CilQ"
      },
      "source": [
        "### Train - Test split"
      ]
    },
    {
      "cell_type": "code",
      "metadata": {
        "id": "1d3RNq_tCPe_"
      },
      "source": [
        "from sklearn.model_selection import train_test_split\n",
        "\n",
        "X_train, X_test, y_train, y_test = train_test_split(X, y, test_size=0.3, random_state=780)"
      ],
      "execution_count": null,
      "outputs": []
    },
    {
      "cell_type": "code",
      "metadata": {
        "colab": {
          "base_uri": "https://localhost:8080/"
        },
        "id": "odPye9A5DFQI",
        "outputId": "43c90aa7-b1b6-4280-edfb-3690cd57b06e"
      },
      "source": [
        "print(X_train.shape, y_train.shape)"
      ],
      "execution_count": null,
      "outputs": [
        {
          "output_type": "stream",
          "name": "stdout",
          "text": [
            "(2968, 17) (2968,)\n"
          ]
        }
      ]
    },
    {
      "cell_type": "code",
      "metadata": {
        "colab": {
          "base_uri": "https://localhost:8080/"
        },
        "id": "l6nDzP1zDXbp",
        "outputId": "2a690bfd-1891-4c71-f436-1b4b9f71644b"
      },
      "source": [
        "print(X_test.shape, y_test.shape)"
      ],
      "execution_count": null,
      "outputs": [
        {
          "output_type": "stream",
          "name": "stdout",
          "text": [
            "(1272, 17) (1272,)\n"
          ]
        }
      ]
    },
    {
      "cell_type": "markdown",
      "metadata": {
        "id": "8QEsent4Dcs9"
      },
      "source": [
        "### Initiate Logistic regression model"
      ]
    },
    {
      "cell_type": "code",
      "metadata": {
        "id": "-MZHlt8ZDZ76"
      },
      "source": [
        "from sklearn.linear_model import LogisticRegression\n",
        "\n",
        "logreg = LogisticRegression()"
      ],
      "execution_count": null,
      "outputs": []
    },
    {
      "cell_type": "code",
      "metadata": {
        "colab": {
          "base_uri": "https://localhost:8080/"
        },
        "id": "zZwcDmNxD876",
        "outputId": "4e864e9e-6e62-4b7f-9e20-2ef1eda661c7"
      },
      "source": [
        "# fit train data\n",
        "\n",
        "logreg.fit(X_train, y_train)"
      ],
      "execution_count": null,
      "outputs": [
        {
          "output_type": "stream",
          "name": "stderr",
          "text": [
            "/usr/local/lib/python3.7/dist-packages/sklearn/linear_model/_logistic.py:940: ConvergenceWarning: lbfgs failed to converge (status=1):\n",
            "STOP: TOTAL NO. of ITERATIONS REACHED LIMIT.\n",
            "\n",
            "Increase the number of iterations (max_iter) or scale the data as shown in:\n",
            "    https://scikit-learn.org/stable/modules/preprocessing.html\n",
            "Please also refer to the documentation for alternative solver options:\n",
            "    https://scikit-learn.org/stable/modules/linear_model.html#logistic-regression\n",
            "  extra_warning_msg=_LOGISTIC_SOLVER_CONVERGENCE_MSG)\n"
          ]
        },
        {
          "output_type": "execute_result",
          "data": {
            "text/plain": [
              "LogisticRegression(C=1.0, class_weight=None, dual=False, fit_intercept=True,\n",
              "                   intercept_scaling=1, l1_ratio=None, max_iter=100,\n",
              "                   multi_class='auto', n_jobs=None, penalty='l2',\n",
              "                   random_state=None, solver='lbfgs', tol=0.0001, verbose=0,\n",
              "                   warm_start=False)"
            ]
          },
          "metadata": {},
          "execution_count": 106
        }
      ]
    },
    {
      "cell_type": "markdown",
      "metadata": {
        "id": "nfqh8iH2U0Ab"
      },
      "source": [
        "## Predicting and Computing KPIs"
      ]
    },
    {
      "cell_type": "markdown",
      "metadata": {
        "id": "trv__jzhFFMj"
      },
      "source": [
        "### Predict and compute KPIs"
      ]
    },
    {
      "cell_type": "code",
      "metadata": {
        "id": "HauRUqCaEI42"
      },
      "source": [
        "y_pred = logreg.predict(X_test)"
      ],
      "execution_count": null,
      "outputs": []
    },
    {
      "cell_type": "code",
      "metadata": {
        "colab": {
          "base_uri": "https://localhost:8080/"
        },
        "id": "OPpr6mOYGbsh",
        "outputId": "36e54117-0571-42ed-bbe0-14b041febaec"
      },
      "source": [
        "from sklearn.metrics import accuracy_score\n",
        "\n",
        "accuracy = accuracy_score(y_test, y_pred)\n",
        "\n",
        "print(\"This model's accuracy score is {}\".format(accuracy))"
      ],
      "execution_count": null,
      "outputs": [
        {
          "output_type": "stream",
          "name": "stdout",
          "text": [
            "This model's accuracy score is 0.8474842767295597\n"
          ]
        }
      ]
    },
    {
      "cell_type": "code",
      "metadata": {
        "colab": {
          "base_uri": "https://localhost:8080/"
        },
        "id": "9KibNfECIGf0",
        "outputId": "57d365f1-dad9-4822-91ae-74dc71fa85e1"
      },
      "source": [
        "from sklearn.metrics import confusion_matrix\n",
        "\n",
        "confusion_matrix(y_test, y_pred)"
      ],
      "execution_count": null,
      "outputs": [
        {
          "output_type": "execute_result",
          "data": {
            "text/plain": [
              "array([[1068,    5],\n",
              "       [ 189,   10]])"
            ]
          },
          "metadata": {},
          "execution_count": 109
        }
      ]
    },
    {
      "cell_type": "code",
      "metadata": {
        "colab": {
          "base_uri": "https://localhost:8080/"
        },
        "id": "i_hXNwECah2I",
        "outputId": "49c67258-e803-41d3-f119-c10a7e970c2c"
      },
      "source": [
        "tn, fp, fn, tp = confusion_matrix(y_test, y_pred).ravel()\n",
        "print(tn, fp, fn, tp)"
      ],
      "execution_count": null,
      "outputs": [
        {
          "output_type": "stream",
          "name": "stdout",
          "text": [
            "1068 5 189 10\n"
          ]
        }
      ]
    },
    {
      "cell_type": "markdown",
      "metadata": {
        "id": "rcQlzosrJbG9"
      },
      "source": [
        "Sensitivity = True Positive / Positive\n"
      ]
    },
    {
      "cell_type": "markdown",
      "metadata": {
        "id": "Up8WvNu0KQUB"
      },
      "source": [
        "Specificity = True Negative / Negative"
      ]
    },
    {
      "cell_type": "code",
      "metadata": {
        "id": "WR6MP24lKhSa"
      },
      "source": [
        "sensitivity = tp/(tp+fn)\n",
        "specificity = tn/(tn+fp)"
      ],
      "execution_count": null,
      "outputs": []
    },
    {
      "cell_type": "code",
      "metadata": {
        "colab": {
          "base_uri": "https://localhost:8080/"
        },
        "id": "wwRjR9BEK69O",
        "outputId": "8bedbb91-b13c-4364-dffc-8112d4fb7fc1"
      },
      "source": [
        "print(\"The sensitivity of this model is {}\".format(sensitivity))\n",
        "print(\"The speficifity of this model is {}\".format(specificity))"
      ],
      "execution_count": null,
      "outputs": [
        {
          "output_type": "stream",
          "name": "stdout",
          "text": [
            "The sensitivity of this model is 0.05025125628140704\n",
            "The speficifity of this model is 0.9953401677539608\n"
          ]
        }
      ]
    },
    {
      "cell_type": "code",
      "metadata": {
        "colab": {
          "base_uri": "https://localhost:8080/"
        },
        "id": "HZ_-CkgNX0cW",
        "outputId": "1ca77039-53cc-43bc-d7e3-99dce09ac25a"
      },
      "source": [
        "from sklearn.metrics import roc_curve, roc_auc_score\n",
        "\n",
        "auc = roc_auc_score(y_test, y_pred)\n",
        "print(auc)"
      ],
      "execution_count": null,
      "outputs": [
        {
          "output_type": "stream",
          "name": "stdout",
          "text": [
            "0.5227957120176839\n"
          ]
        }
      ]
    },
    {
      "cell_type": "markdown",
      "metadata": {
        "id": "8jkoux7qHHk7"
      },
      "source": [
        "# Question 2.1 Feature Selection"
      ]
    },
    {
      "cell_type": "markdown",
      "metadata": {
        "id": "q0PE8vNFSaGv"
      },
      "source": [
        "In question 2 - part 1, I will use only the top 10 features in terms of chi-squared (chi²) statistical test scores. Then build a logistic regression model and compare KPIs with the model made in Question 1."
      ]
    },
    {
      "cell_type": "markdown",
      "metadata": {
        "id": "MeqcB7lWSVfg"
      },
      "source": [
        "## Feature Selection"
      ]
    },
    {
      "cell_type": "code",
      "metadata": {
        "id": "yBjqoUGYKH55"
      },
      "source": [
        "from sklearn.feature_selection import SelectKBest\n",
        "from sklearn.feature_selection import chi2\n",
        "\n",
        "bestfeatures = SelectKBest(score_func=chi2, k=10)\n",
        "fit = bestfeatures.fit(X,y)"
      ],
      "execution_count": null,
      "outputs": []
    },
    {
      "cell_type": "code",
      "metadata": {
        "colab": {
          "base_uri": "https://localhost:8080/"
        },
        "id": "u9DIIPMhNihg",
        "outputId": "7dc34e2d-06af-4655-f046-4223fe0449de"
      },
      "source": [
        "dfscores = pd.DataFrame(fit.scores_)\n",
        "dfcolumns = pd.DataFrame(X.columns)\n",
        "\n",
        "featureScores = pd.concat([dfcolumns,dfscores],axis=1)\n",
        "featureScores.columns = ['Features','Score']\n",
        "\n",
        "print(featureScores.nlargest(10,'Score'))"
      ],
      "execution_count": null,
      "outputs": [
        {
          "output_type": "stream",
          "name": "stdout",
          "text": [
            "        Features       Score\n",
            "9          sysBP  727.935535\n",
            "13       glucose  399.565953\n",
            "1            age  319.266019\n",
            "8        totChol  235.210225\n",
            "3     cigsPerDay  208.015062\n",
            "10         diaBP  152.748563\n",
            "6   prevalentHyp   92.048736\n",
            "7       diabetes   39.144944\n",
            "4         BPMeds   30.759595\n",
            "0           male   18.899930\n"
          ]
        }
      ]
    },
    {
      "cell_type": "markdown",
      "metadata": {
        "id": "9Y43jL5CU9LW"
      },
      "source": [
        "## Modeling"
      ]
    },
    {
      "cell_type": "markdown",
      "metadata": {
        "id": "SrxK28xZTnMr"
      },
      "source": [
        "### Feature matrix and Target array"
      ]
    },
    {
      "cell_type": "markdown",
      "metadata": {
        "id": "XEg2STIrUPa_"
      },
      "source": [
        "I made the new feature matrix called X2 with the top 10 features, and for Target array, I will use the one made in question 1."
      ]
    },
    {
      "cell_type": "code",
      "metadata": {
        "id": "JoZ9NHZ8Nvkx"
      },
      "source": [
        "X2 = df[[\"sysBP\", \"glucose\", \"age\", \"totChol\", \"cigsPerDay\", \"diaBP\", \"prevalentHyp\", \"diabetes\", \"BPMeds\", \"male\"]]"
      ],
      "execution_count": null,
      "outputs": []
    },
    {
      "cell_type": "markdown",
      "metadata": {
        "id": "zd0znV6xUfjD"
      },
      "source": [
        "### Train - Test split"
      ]
    },
    {
      "cell_type": "code",
      "metadata": {
        "id": "vcZmZPj1UGgn"
      },
      "source": [
        "X2_train, X2_test, y_train, y_test = train_test_split(X2, y, test_size=0.3, random_state=780)"
      ],
      "execution_count": null,
      "outputs": []
    },
    {
      "cell_type": "code",
      "metadata": {
        "colab": {
          "base_uri": "https://localhost:8080/"
        },
        "id": "2zOOiqAzVDl9",
        "outputId": "75d9ece7-c56d-4e3c-a2ea-21baf67f0fb7"
      },
      "source": [
        "print(X2_train.shape, y_train.shape)"
      ],
      "execution_count": null,
      "outputs": [
        {
          "output_type": "stream",
          "name": "stdout",
          "text": [
            "(2968, 10) (2968,)\n"
          ]
        }
      ]
    },
    {
      "cell_type": "code",
      "metadata": {
        "colab": {
          "base_uri": "https://localhost:8080/"
        },
        "id": "5yvNQ9-eVGXJ",
        "outputId": "a1b89f63-bfd6-408f-f747-2e3d29653b27"
      },
      "source": [
        "print(X2_test.shape, y_test.shape)"
      ],
      "execution_count": null,
      "outputs": [
        {
          "output_type": "stream",
          "name": "stdout",
          "text": [
            "(1272, 10) (1272,)\n"
          ]
        }
      ]
    },
    {
      "cell_type": "markdown",
      "metadata": {
        "id": "WwTK5XhYVJh7"
      },
      "source": [
        "### Initiate Logistic regression model"
      ]
    },
    {
      "cell_type": "code",
      "metadata": {
        "colab": {
          "base_uri": "https://localhost:8080/"
        },
        "id": "U6sWjsMfVIQ4",
        "outputId": "0ac603e9-2058-4a52-d6c8-d371b776fd68"
      },
      "source": [
        "logreg2 = LogisticRegression()\n",
        "logreg2.fit(X2_train, y_train)"
      ],
      "execution_count": null,
      "outputs": [
        {
          "output_type": "stream",
          "name": "stderr",
          "text": [
            "/usr/local/lib/python3.7/dist-packages/sklearn/linear_model/_logistic.py:940: ConvergenceWarning: lbfgs failed to converge (status=1):\n",
            "STOP: TOTAL NO. of ITERATIONS REACHED LIMIT.\n",
            "\n",
            "Increase the number of iterations (max_iter) or scale the data as shown in:\n",
            "    https://scikit-learn.org/stable/modules/preprocessing.html\n",
            "Please also refer to the documentation for alternative solver options:\n",
            "    https://scikit-learn.org/stable/modules/linear_model.html#logistic-regression\n",
            "  extra_warning_msg=_LOGISTIC_SOLVER_CONVERGENCE_MSG)\n"
          ]
        },
        {
          "output_type": "execute_result",
          "data": {
            "text/plain": [
              "LogisticRegression(C=1.0, class_weight=None, dual=False, fit_intercept=True,\n",
              "                   intercept_scaling=1, l1_ratio=None, max_iter=100,\n",
              "                   multi_class='auto', n_jobs=None, penalty='l2',\n",
              "                   random_state=None, solver='lbfgs', tol=0.0001, verbose=0,\n",
              "                   warm_start=False)"
            ]
          },
          "metadata": {},
          "execution_count": 120
        }
      ]
    },
    {
      "cell_type": "markdown",
      "metadata": {
        "id": "Cgtyaq8DWAd9"
      },
      "source": [
        "## Predicting and Computing KPIs"
      ]
    },
    {
      "cell_type": "code",
      "metadata": {
        "id": "r0LgArx9WDq8"
      },
      "source": [
        "y_pred2 = logreg2.predict(X2_test)"
      ],
      "execution_count": null,
      "outputs": []
    },
    {
      "cell_type": "code",
      "metadata": {
        "colab": {
          "base_uri": "https://localhost:8080/"
        },
        "id": "7pHa-_DNWJtB",
        "outputId": "ab69d790-54a4-401c-f4d3-90641efec6e3"
      },
      "source": [
        "accuracy2 = accuracy_score(y_test, y_pred2)\n",
        "\n",
        "print(\"This model's accuracy score is {}\".format(accuracy2))"
      ],
      "execution_count": null,
      "outputs": [
        {
          "output_type": "stream",
          "name": "stdout",
          "text": [
            "This model's accuracy score is 0.8482704402515723\n"
          ]
        }
      ]
    },
    {
      "cell_type": "code",
      "metadata": {
        "colab": {
          "base_uri": "https://localhost:8080/"
        },
        "id": "wssPdPjKWON7",
        "outputId": "a5b9ac71-f7f6-4674-e13c-f9964678eb68"
      },
      "source": [
        "confusion_matrix(y_test, y_pred2)"
      ],
      "execution_count": null,
      "outputs": [
        {
          "output_type": "execute_result",
          "data": {
            "text/plain": [
              "array([[1072,    1],\n",
              "       [ 192,    7]])"
            ]
          },
          "metadata": {},
          "execution_count": 123
        }
      ]
    },
    {
      "cell_type": "code",
      "metadata": {
        "colab": {
          "base_uri": "https://localhost:8080/"
        },
        "id": "ix9BywAJb8EJ",
        "outputId": "d99f5c35-56c8-4a7c-fa4c-290d91a92352"
      },
      "source": [
        "tn2, fp2, fn2, tp2 = confusion_matrix(y_test, y_pred2).ravel()\n",
        "print(tn2, fp2, fn2, tp2)"
      ],
      "execution_count": null,
      "outputs": [
        {
          "output_type": "stream",
          "name": "stdout",
          "text": [
            "1072 1 192 7\n"
          ]
        }
      ]
    },
    {
      "cell_type": "code",
      "metadata": {
        "colab": {
          "base_uri": "https://localhost:8080/"
        },
        "id": "xKW19V8nWYD2",
        "outputId": "b7bcb9ed-ee3c-4b24-ee77-3853ae4bcd80"
      },
      "source": [
        "sensitivity2 = tp2 / (tp2 + fn2)\n",
        "specificity2 = tn2 / (tn2 + fp2)\n",
        "\n",
        "print(\"The sensitivity of this model is {}\".format(sensitivity2))\n",
        "print(\"The speficifity of this model is {}\".format(specificity2))"
      ],
      "execution_count": null,
      "outputs": [
        {
          "output_type": "stream",
          "name": "stdout",
          "text": [
            "The sensitivity of this model is 0.035175879396984924\n",
            "The speficifity of this model is 0.9990680335507922\n"
          ]
        }
      ]
    },
    {
      "cell_type": "code",
      "metadata": {
        "id": "Dab92sGJW2GW"
      },
      "source": [
        "auc2 = roc_auc_score(y_test, y_pred2)"
      ],
      "execution_count": null,
      "outputs": []
    },
    {
      "cell_type": "code",
      "metadata": {
        "colab": {
          "base_uri": "https://localhost:8080/"
        },
        "id": "o5JMAQ9cZf_p",
        "outputId": "503dc2d0-0619-4698-d0b3-462a15a6b316"
      },
      "source": [
        "accuracy2 - accuracy"
      ],
      "execution_count": null,
      "outputs": [
        {
          "output_type": "execute_result",
          "data": {
            "text/plain": [
              "0.0007861635220125507"
            ]
          },
          "metadata": {},
          "execution_count": 127
        }
      ]
    },
    {
      "cell_type": "code",
      "metadata": {
        "colab": {
          "base_uri": "https://localhost:8080/"
        },
        "id": "26lPYs3fdqXQ",
        "outputId": "1e4dac74-2f1a-479c-e6f9-030ebf44ac28"
      },
      "source": [
        "sensitivity2 - sensitivity"
      ],
      "execution_count": null,
      "outputs": [
        {
          "output_type": "execute_result",
          "data": {
            "text/plain": [
              "-0.015075376884422113"
            ]
          },
          "metadata": {},
          "execution_count": 128
        }
      ]
    },
    {
      "cell_type": "code",
      "metadata": {
        "colab": {
          "base_uri": "https://localhost:8080/"
        },
        "id": "7I7ZNsMhdnpB",
        "outputId": "5a46ec72-48de-482e-b3a5-2dfab04e7dda"
      },
      "source": [
        "specificity2 - specificity"
      ],
      "execution_count": null,
      "outputs": [
        {
          "output_type": "execute_result",
          "data": {
            "text/plain": [
              "0.0037278657968313755"
            ]
          },
          "metadata": {},
          "execution_count": 129
        }
      ]
    },
    {
      "cell_type": "markdown",
      "metadata": {
        "id": "S5f8uIa3YwQh"
      },
      "source": [
        "Feature selection using chi2 score increased accuracy only by 0.0007. We can say that these two models are very similar in terms of accuracy.\n",
        "Feature selections, on the other hand, made big difference in sensitivity and specificity. Sensitivity decreased by 0.63 and specificity increased by 0.15. Considering the purpose of this model, which is to find people who are likely to have heart disease in 10 years, sensitivity is a more important KPI. Therefore the initial model from question 1 is the better model."
      ]
    },
    {
      "cell_type": "markdown",
      "metadata": {
        "id": "lLaXomGJZ3j8"
      },
      "source": [
        "# Question 2.2 Try Different Models"
      ]
    },
    {
      "cell_type": "markdown",
      "metadata": {
        "id": "bl-RyOLsgVGP"
      },
      "source": [
        "In question 2 - part 2, I will build several classification models and compare the KPIs with the model made in question 1. Here I plan to use all features."
      ]
    },
    {
      "cell_type": "markdown",
      "metadata": {
        "id": "fnKDJ6YWRQcW"
      },
      "source": [
        "### K nearest neighbors"
      ]
    },
    {
      "cell_type": "markdown",
      "metadata": {
        "id": "BBTtwnFXdfQi"
      },
      "source": [
        "Cross validation with GridSearch"
      ]
    },
    {
      "cell_type": "code",
      "metadata": {
        "id": "Aia_o7_kZ-ws",
        "colab": {
          "base_uri": "https://localhost:8080/"
        },
        "outputId": "2d4e20e8-1da7-426d-c52d-8f05620665f4"
      },
      "source": [
        "from sklearn.neighbors import KNeighborsClassifier\n",
        "from sklearn.model_selection import GridSearchCV\n",
        "\n",
        "param_grid = {'n_neighbors': list(range(1,51))}\n",
        "\n",
        "knn = KNeighborsClassifier()\n",
        "\n",
        "knn_cv = GridSearchCV(knn, param_grid, cv=5, scoring='accuracy')\n",
        "knn_cv.fit(X_train, y_train)\n",
        "\n",
        "knn_cv.best_params_\n"
      ],
      "execution_count": null,
      "outputs": [
        {
          "output_type": "execute_result",
          "data": {
            "text/plain": [
              "{'n_neighbors': 10}"
            ]
          },
          "metadata": {},
          "execution_count": 130
        }
      ]
    },
    {
      "cell_type": "markdown",
      "metadata": {
        "id": "Wjb1kQvWe4YE"
      },
      "source": [
        "Initiate the model & Fit"
      ]
    },
    {
      "cell_type": "code",
      "metadata": {
        "colab": {
          "base_uri": "https://localhost:8080/"
        },
        "id": "buR15rS9dZyY",
        "outputId": "d8c149c9-4d67-4d7e-9763-8aa9faaa9d4c"
      },
      "source": [
        "knn = KNeighborsClassifier(n_neighbors=10)\n",
        "knn.fit(X_train, y_train)"
      ],
      "execution_count": null,
      "outputs": [
        {
          "output_type": "execute_result",
          "data": {
            "text/plain": [
              "KNeighborsClassifier(algorithm='auto', leaf_size=30, metric='minkowski',\n",
              "                     metric_params=None, n_jobs=None, n_neighbors=10, p=2,\n",
              "                     weights='uniform')"
            ]
          },
          "metadata": {},
          "execution_count": 131
        }
      ]
    },
    {
      "cell_type": "markdown",
      "metadata": {
        "id": "IH4-L-z7gHVf"
      },
      "source": [
        "Predict and compute KPIs"
      ]
    },
    {
      "cell_type": "code",
      "metadata": {
        "id": "kUIIq3qafl8P"
      },
      "source": [
        "y_pred_knn = knn.predict(X_test)"
      ],
      "execution_count": null,
      "outputs": []
    },
    {
      "cell_type": "code",
      "metadata": {
        "colab": {
          "base_uri": "https://localhost:8080/"
        },
        "id": "jDjZ23sIgRnb",
        "outputId": "d9b4bb43-ec3d-4334-d905-52093681def9"
      },
      "source": [
        "accuracy_knn = accuracy_score(y_test, y_pred_knn)\n",
        "\n",
        "print(\"This model's accuracy score is {}\".format(accuracy_knn))"
      ],
      "execution_count": null,
      "outputs": [
        {
          "output_type": "stream",
          "name": "stdout",
          "text": [
            "This model's accuracy score is 0.8459119496855346\n"
          ]
        }
      ]
    },
    {
      "cell_type": "code",
      "metadata": {
        "colab": {
          "base_uri": "https://localhost:8080/"
        },
        "id": "a6IE-HI4gYbe",
        "outputId": "95f73281-07dd-44bc-f560-5ca86897de71"
      },
      "source": [
        "confusion_matrix(y_test, y_pred_knn)"
      ],
      "execution_count": null,
      "outputs": [
        {
          "output_type": "execute_result",
          "data": {
            "text/plain": [
              "array([[1067,    6],\n",
              "       [ 190,    9]])"
            ]
          },
          "metadata": {},
          "execution_count": 134
        }
      ]
    },
    {
      "cell_type": "code",
      "metadata": {
        "colab": {
          "base_uri": "https://localhost:8080/"
        },
        "id": "J_9q1-UdgdXa",
        "outputId": "274033bc-3318-4238-ec96-0e43805429a9"
      },
      "source": [
        "tn3, fp3, fn3, tp3 = confusion_matrix(y_test, y_pred_knn).ravel()\n",
        "print(tn3, fp3, fn3, tp3)"
      ],
      "execution_count": null,
      "outputs": [
        {
          "output_type": "stream",
          "name": "stdout",
          "text": [
            "1067 6 190 9\n"
          ]
        }
      ]
    },
    {
      "cell_type": "code",
      "metadata": {
        "colab": {
          "base_uri": "https://localhost:8080/"
        },
        "id": "XqP3GZ7egl0B",
        "outputId": "bf41f6e4-f136-46ef-c9fe-da7849d7b893"
      },
      "source": [
        "sensitivity_knn = tp3 / (tp3 + fn3)\n",
        "specificity_knn = tn3 / (tn3 + fp3)\n",
        "\n",
        "print(\"The sensitivity of this model is {}\".format(sensitivity_knn))\n",
        "print(\"The speficifity of this model is {}\".format(specificity_knn))"
      ],
      "execution_count": null,
      "outputs": [
        {
          "output_type": "stream",
          "name": "stdout",
          "text": [
            "The sensitivity of this model is 0.04522613065326633\n",
            "The speficifity of this model is 0.994408201304753\n"
          ]
        }
      ]
    },
    {
      "cell_type": "code",
      "metadata": {
        "id": "ZbXdW-bzg0kl"
      },
      "source": [
        "auc_knn = roc_auc_score(y_test, y_pred_knn)"
      ],
      "execution_count": null,
      "outputs": []
    },
    {
      "cell_type": "markdown",
      "metadata": {
        "id": "AuCwQLuihQ8g"
      },
      "source": [
        "### Random Forest Classifier"
      ]
    },
    {
      "cell_type": "markdown",
      "metadata": {
        "id": "wj7y5nBzjd3x"
      },
      "source": [
        "Cross validation with gridsearchCV"
      ]
    },
    {
      "cell_type": "code",
      "metadata": {
        "id": "ZOVRr_A7hOnb"
      },
      "source": [
        "from sklearn.ensemble import RandomForestClassifier\n",
        "rf = RandomForestClassifier()"
      ],
      "execution_count": null,
      "outputs": []
    },
    {
      "cell_type": "code",
      "metadata": {
        "id": "w8I5d0CXjdUP"
      },
      "source": [
        "rf_params = {'n_estimators': [5,10,20,30,50],\n",
        "               'max_features': [3,5,10,17],\n",
        "               'max_depth': [3,5,10,20],\n",
        "               'min_samples_split': [2,5,10],\n",
        "               'min_samples_leaf': [1,2,4],\n",
        "               'bootstrap': [True, False]}"
      ],
      "execution_count": null,
      "outputs": []
    },
    {
      "cell_type": "code",
      "metadata": {
        "colab": {
          "base_uri": "https://localhost:8080/"
        },
        "id": "GtinvncYkZ9-",
        "outputId": "62718fa8-9274-4fe1-bc38-b08391532252"
      },
      "source": [
        "rf_cv = GridSearchCV(rf, rf_params, cv=5, scoring='accuracy')\n",
        "rf_cv.fit(X_train, y_train)"
      ],
      "execution_count": null,
      "outputs": [
        {
          "output_type": "execute_result",
          "data": {
            "text/plain": [
              "GridSearchCV(cv=5, error_score=nan,\n",
              "             estimator=RandomForestClassifier(bootstrap=True, ccp_alpha=0.0,\n",
              "                                              class_weight=None,\n",
              "                                              criterion='gini', max_depth=None,\n",
              "                                              max_features='auto',\n",
              "                                              max_leaf_nodes=None,\n",
              "                                              max_samples=None,\n",
              "                                              min_impurity_decrease=0.0,\n",
              "                                              min_impurity_split=None,\n",
              "                                              min_samples_leaf=1,\n",
              "                                              min_samples_split=2,\n",
              "                                              min_weight_fraction_leaf=0.0,\n",
              "                                              n_estimators=100, n_jobs=None,\n",
              "                                              oob_score=False,\n",
              "                                              random_state=None, verbose=0,\n",
              "                                              warm_start=False),\n",
              "             iid='deprecated', n_jobs=None,\n",
              "             param_grid={'bootstrap': [True, False],\n",
              "                         'max_depth': [3, 5, 10, 20],\n",
              "                         'max_features': [3, 5, 10, 17],\n",
              "                         'min_samples_leaf': [1, 2, 4],\n",
              "                         'min_samples_split': [2, 5, 10],\n",
              "                         'n_estimators': [5, 10, 20, 30, 50]},\n",
              "             pre_dispatch='2*n_jobs', refit=True, return_train_score=False,\n",
              "             scoring='accuracy', verbose=0)"
            ]
          },
          "metadata": {},
          "execution_count": 140
        }
      ]
    },
    {
      "cell_type": "code",
      "metadata": {
        "colab": {
          "base_uri": "https://localhost:8080/"
        },
        "id": "q0f9Qf8Skn6K",
        "outputId": "70f0033a-9ed3-4ee4-c372-1c06dea749a8"
      },
      "source": [
        "rf_cv.best_params_"
      ],
      "execution_count": null,
      "outputs": [
        {
          "output_type": "execute_result",
          "data": {
            "text/plain": [
              "{'bootstrap': True,\n",
              " 'max_depth': 20,\n",
              " 'max_features': 3,\n",
              " 'min_samples_leaf': 2,\n",
              " 'min_samples_split': 5,\n",
              " 'n_estimators': 20}"
            ]
          },
          "metadata": {},
          "execution_count": 141
        }
      ]
    },
    {
      "cell_type": "markdown",
      "metadata": {
        "id": "-C8R4jv9rP_c"
      },
      "source": [
        "Initiate the model and fit train data"
      ]
    },
    {
      "cell_type": "code",
      "metadata": {
        "colab": {
          "base_uri": "https://localhost:8080/"
        },
        "id": "FuNEt4Ookp4b",
        "outputId": "f574aa73-fc53-4d5c-8b9b-5140ee6253ad"
      },
      "source": [
        "rf = RandomForestClassifier(n_estimators=30, max_depth=10, max_features=5, min_samples_leaf=4, min_samples_split=10, bootstrap=True)\n",
        "rf.fit(X_train, y_train)"
      ],
      "execution_count": null,
      "outputs": [
        {
          "output_type": "execute_result",
          "data": {
            "text/plain": [
              "RandomForestClassifier(bootstrap=True, ccp_alpha=0.0, class_weight=None,\n",
              "                       criterion='gini', max_depth=10, max_features=5,\n",
              "                       max_leaf_nodes=None, max_samples=None,\n",
              "                       min_impurity_decrease=0.0, min_impurity_split=None,\n",
              "                       min_samples_leaf=4, min_samples_split=10,\n",
              "                       min_weight_fraction_leaf=0.0, n_estimators=30,\n",
              "                       n_jobs=None, oob_score=False, random_state=None,\n",
              "                       verbose=0, warm_start=False)"
            ]
          },
          "metadata": {},
          "execution_count": 142
        }
      ]
    },
    {
      "cell_type": "markdown",
      "metadata": {
        "id": "82vkHMOOrmYs"
      },
      "source": [
        "Predict and compute KPIs"
      ]
    },
    {
      "cell_type": "code",
      "metadata": {
        "id": "jWpZFBfprgp3"
      },
      "source": [
        "y_pred_rf = rf.predict(X_test)"
      ],
      "execution_count": null,
      "outputs": []
    },
    {
      "cell_type": "code",
      "metadata": {
        "colab": {
          "base_uri": "https://localhost:8080/"
        },
        "id": "kCRY58oZrtPy",
        "outputId": "e09be9d7-0781-405a-84ad-25cefc5a1279"
      },
      "source": [
        "accuracy_rf = accuracy_score(y_test, y_pred_rf)\n",
        "\n",
        "print(\"This model's accuracy score is {}\".format(accuracy_rf))"
      ],
      "execution_count": null,
      "outputs": [
        {
          "output_type": "stream",
          "name": "stdout",
          "text": [
            "This model's accuracy score is 0.845125786163522\n"
          ]
        }
      ]
    },
    {
      "cell_type": "code",
      "metadata": {
        "colab": {
          "base_uri": "https://localhost:8080/"
        },
        "id": "PnZRgg9brx3v",
        "outputId": "e219d8df-7467-4d9c-b1a4-0cc1dccbf2f1"
      },
      "source": [
        "confusion_matrix(y_test, y_pred_knn)"
      ],
      "execution_count": null,
      "outputs": [
        {
          "output_type": "execute_result",
          "data": {
            "text/plain": [
              "array([[1067,    6],\n",
              "       [ 190,    9]])"
            ]
          },
          "metadata": {},
          "execution_count": 145
        }
      ]
    },
    {
      "cell_type": "code",
      "metadata": {
        "colab": {
          "base_uri": "https://localhost:8080/"
        },
        "id": "lIgSn4NLryq6",
        "outputId": "303e4a45-7a93-4852-d501-10f904c62f95"
      },
      "source": [
        "tn4, fp4, fn4, tp4 = confusion_matrix(y_test, y_pred_rf).ravel()\n",
        "print(tn4, fp4, fn4, tp4)"
      ],
      "execution_count": null,
      "outputs": [
        {
          "output_type": "stream",
          "name": "stdout",
          "text": [
            "1069 4 193 6\n"
          ]
        }
      ]
    },
    {
      "cell_type": "code",
      "metadata": {
        "colab": {
          "base_uri": "https://localhost:8080/"
        },
        "id": "SfeKYSOsr1M-",
        "outputId": "65d852bc-0469-455d-af35-8db7dcf12513"
      },
      "source": [
        "sensitivity_rf = tp4 / (tp4 + fn4)\n",
        "specificity_rf = tn4 / (tn4 + fp4)\n",
        "\n",
        "print(\"The sensitivity of this model is {}\".format(sensitivity_rf))\n",
        "print(\"The speficifity of this model is {}\".format(specificity_rf))"
      ],
      "execution_count": null,
      "outputs": [
        {
          "output_type": "stream",
          "name": "stdout",
          "text": [
            "The sensitivity of this model is 0.03015075376884422\n",
            "The speficifity of this model is 0.9962721342031687\n"
          ]
        }
      ]
    },
    {
      "cell_type": "code",
      "metadata": {
        "id": "e5WbTGCmr5PX"
      },
      "source": [
        "auc_rf = roc_auc_score(y_test, y_pred_rf)"
      ],
      "execution_count": null,
      "outputs": []
    },
    {
      "cell_type": "markdown",
      "metadata": {
        "id": "xRAr9dFutfJR"
      },
      "source": [
        "# Conclusion"
      ]
    },
    {
      "cell_type": "markdown",
      "metadata": {
        "id": "VoTxgiOBdG_z"
      },
      "source": [
        "In this assignment, I build 4 different classification models using multiple algorithms.\n",
        "\n",
        "*   Logistic regression with all features in my cleaned data\n",
        "*   Logistic regression with 10 selected features\n",
        "*   K nearest neighbor with all features\n",
        "*   Random forest with all features\n",
        "\n"
      ]
    },
    {
      "cell_type": "code",
      "metadata": {
        "colab": {
          "base_uri": "https://localhost:8080/",
          "height": 174
        },
        "id": "Y5EcQ6uWq9kG",
        "outputId": "4faab40a-5e6a-4f2b-c63f-801f4003b0a3"
      },
      "source": [
        "lst = [['Logistic regression (all features)', accuracy, sensitivity, specificity, auc],\n",
        "       ['Logistic regression (10 features)', accuracy2, sensitivity2, specificity2, auc2],\n",
        "       ['K nearest neighbor', accuracy_knn, sensitivity_knn, specificity_knn, auc_knn],\n",
        "       ['Random Forest', accuracy_rf, sensitivity_rf, specificity_rf, auc_rf]]\n",
        "\n",
        "kpis = pd.DataFrame(lst, columns =['Model', 'Accuracy', 'Sensitivity', 'Specificity', 'AUC'], dtype = float)\n",
        "\n",
        "kpis"
      ],
      "execution_count": null,
      "outputs": [
        {
          "output_type": "execute_result",
          "data": {
            "text/html": [
              "<div>\n",
              "<style scoped>\n",
              "    .dataframe tbody tr th:only-of-type {\n",
              "        vertical-align: middle;\n",
              "    }\n",
              "\n",
              "    .dataframe tbody tr th {\n",
              "        vertical-align: top;\n",
              "    }\n",
              "\n",
              "    .dataframe thead th {\n",
              "        text-align: right;\n",
              "    }\n",
              "</style>\n",
              "<table border=\"1\" class=\"dataframe\">\n",
              "  <thead>\n",
              "    <tr style=\"text-align: right;\">\n",
              "      <th></th>\n",
              "      <th>Model</th>\n",
              "      <th>Accuracy</th>\n",
              "      <th>Sensitivity</th>\n",
              "      <th>Specificity</th>\n",
              "      <th>AUC</th>\n",
              "    </tr>\n",
              "  </thead>\n",
              "  <tbody>\n",
              "    <tr>\n",
              "      <th>0</th>\n",
              "      <td>Logistic regression (all features)</td>\n",
              "      <td>0.847484</td>\n",
              "      <td>0.050251</td>\n",
              "      <td>0.995340</td>\n",
              "      <td>0.522796</td>\n",
              "    </tr>\n",
              "    <tr>\n",
              "      <th>1</th>\n",
              "      <td>Logistic regression (10 features)</td>\n",
              "      <td>0.848270</td>\n",
              "      <td>0.035176</td>\n",
              "      <td>0.999068</td>\n",
              "      <td>0.517122</td>\n",
              "    </tr>\n",
              "    <tr>\n",
              "      <th>2</th>\n",
              "      <td>K nearest neighbor</td>\n",
              "      <td>0.845912</td>\n",
              "      <td>0.045226</td>\n",
              "      <td>0.994408</td>\n",
              "      <td>0.519817</td>\n",
              "    </tr>\n",
              "    <tr>\n",
              "      <th>3</th>\n",
              "      <td>Random Forest</td>\n",
              "      <td>0.845126</td>\n",
              "      <td>0.030151</td>\n",
              "      <td>0.996272</td>\n",
              "      <td>0.513211</td>\n",
              "    </tr>\n",
              "  </tbody>\n",
              "</table>\n",
              "</div>"
            ],
            "text/plain": [
              "                                Model  Accuracy  ...  Specificity       AUC\n",
              "0  Logistic regression (all features)  0.847484  ...     0.995340  0.522796\n",
              "1   Logistic regression (10 features)  0.848270  ...     0.999068  0.517122\n",
              "2                  K nearest neighbor  0.845912  ...     0.994408  0.519817\n",
              "3                       Random Forest  0.845126  ...     0.996272  0.513211\n",
              "\n",
              "[4 rows x 5 columns]"
            ]
          },
          "metadata": {},
          "execution_count": 151
        }
      ]
    },
    {
      "cell_type": "markdown",
      "metadata": {
        "id": "_1aN2L7szyWQ"
      },
      "source": [
        "In terms of accuracy, the logistic regression using TOP 10 features performs best. However, the logistic regression with all features achieved the highest sensitivity."
      ]
    }
  ]
}